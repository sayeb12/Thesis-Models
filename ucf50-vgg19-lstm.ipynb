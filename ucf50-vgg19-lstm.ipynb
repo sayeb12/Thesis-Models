{
 "cells": [
  {
   "cell_type": "markdown",
   "id": "89dcb8e0",
   "metadata": {
    "papermill": {
     "duration": 0.011533,
     "end_time": "2025-07-07T14:50:43.137274",
     "exception": false,
     "start_time": "2025-07-07T14:50:43.125741",
     "status": "completed"
    },
    "tags": []
   },
   "source": [
    "# Initialization\n",
    "## Import Libraries"
   ]
  },
  {
   "cell_type": "code",
   "execution_count": 1,
   "id": "ad8e7275",
   "metadata": {
    "_cell_guid": "b1076dfc-b9ad-4769-8c92-a6c4dae69d19",
    "_uuid": "8f2839f25d086af736a60e9eeb907d3b93b6e0e5",
    "execution": {
     "iopub.execute_input": "2025-07-07T14:50:43.158626Z",
     "iopub.status.busy": "2025-07-07T14:50:43.158379Z",
     "iopub.status.idle": "2025-07-07T14:50:57.800943Z",
     "shell.execute_reply": "2025-07-07T14:50:57.800139Z"
    },
    "papermill": {
     "duration": 14.654971,
     "end_time": "2025-07-07T14:50:57.802492",
     "exception": false,
     "start_time": "2025-07-07T14:50:43.147521",
     "status": "completed"
    },
    "tags": []
   },
   "outputs": [
    {
     "name": "stderr",
     "output_type": "stream",
     "text": [
      "2025-07-07 14:50:44.700942: E external/local_xla/xla/stream_executor/cuda/cuda_fft.cc:477] Unable to register cuFFT factory: Attempting to register factory for plugin cuFFT when one has already been registered\n",
      "WARNING: All log messages before absl::InitializeLog() is called are written to STDERR\n",
      "E0000 00:00:1751899844.871994      19 cuda_dnn.cc:8310] Unable to register cuDNN factory: Attempting to register factory for plugin cuDNN when one has already been registered\n",
      "E0000 00:00:1751899844.923550      19 cuda_blas.cc:1418] Unable to register cuBLAS factory: Attempting to register factory for plugin cuBLAS when one has already been registered\n"
     ]
    }
   ],
   "source": [
    "# install librarires\n",
    "import os\n",
    "import tensorflow as tf\n",
    "import numpy as np\n",
    "import random"
   ]
  },
  {
   "cell_type": "markdown",
   "id": "db77e691",
   "metadata": {
    "papermill": {
     "duration": 0.009697,
     "end_time": "2025-07-07T14:50:57.822989",
     "exception": false,
     "start_time": "2025-07-07T14:50:57.813292",
     "status": "completed"
    },
    "tags": []
   },
   "source": [
    "## ℹ️ Set Global Constants"
   ]
  },
  {
   "cell_type": "code",
   "execution_count": 2,
   "id": "cdc523c7",
   "metadata": {
    "execution": {
     "iopub.execute_input": "2025-07-07T14:50:57.843584Z",
     "iopub.status.busy": "2025-07-07T14:50:57.843130Z",
     "iopub.status.idle": "2025-07-07T14:50:57.862869Z",
     "shell.execute_reply": "2025-07-07T14:50:57.861965Z"
    },
    "papermill": {
     "duration": 0.031665,
     "end_time": "2025-07-07T14:50:57.864351",
     "exception": false,
     "start_time": "2025-07-07T14:50:57.832686",
     "status": "completed"
    },
    "tags": []
   },
   "outputs": [
    {
     "name": "stdout",
     "output_type": "stream",
     "text": [
      "Ucf50\n",
      "There are total 50 classes, selected 50 classes\n",
      "Setting 20/class to train the model.\n",
      "Image size 128x128 with 5 sequence length\n",
      "Dropout rate: 0.5\n",
      "Train-Test split ratio 80/20\n",
      "Validation data from Train set 20.0%\n"
     ]
    }
   ],
   "source": [
    "# global variables\n",
    "# set dataset directories\n",
    "\n",
    "\n",
    "DATASET_DIR = \"/kaggle/input/ucf50/UCF50\"\n",
    "DATASET_NAME = DATASET_DIR.split(\"/\")[-1].replace(\"-\", \" \").title()\n",
    "\n",
    "print(DATASET_NAME)\n",
    "\n",
    "ALL_CLASS_NAMES = os.listdir(DATASET_DIR)\n",
    "\n",
    "# Global constant variables -> \n",
    "NO_OF_CLASSES = len(ALL_CLASS_NAMES)\n",
    "CLASSES_LIST = ALL_CLASS_NAMES[:NO_OF_CLASSES]\n",
    "\n",
    "# Model Configuration\n",
    "IMAGE_HEIGHT, IMAGE_WIDTH = 128, 128\n",
    "SEQUENCE_LENGTH = 5\n",
    "\n",
    "# set drop out rate\n",
    "DROPOUT_RATE = 0.5\n",
    "\n",
    "# set datas\n",
    "MAX_VIDEO_PER_CLASS = 20\n",
    "\n",
    "# split dataset\n",
    "TEST_SIZE = 0.20\n",
    "\n",
    "# model fit parameters\n",
    "EPOCHS = 30\n",
    "BATCH_SIZE = 24\n",
    "VALIDATION_SPLIT = 0.20\n",
    "\n",
    "# augmentation values\n",
    "NOISE_FACTOR = 0.02\n",
    "SHEAR_X= 1\n",
    "SHEAR_Y= 1\n",
    "\n",
    "# give a name of the model to save\n",
    "MODEL_NAME = \"Xception\"\n",
    "\n",
    "print(f\"There are total {len(ALL_CLASS_NAMES)} classes, selected {NO_OF_CLASSES} classes\")\n",
    "print(f\"Setting {MAX_VIDEO_PER_CLASS}/class to train the model.\")\n",
    "print(f\"Image size {IMAGE_HEIGHT}x{IMAGE_WIDTH} with {SEQUENCE_LENGTH} sequence length\")\n",
    "print(f\"Dropout rate: {DROPOUT_RATE}\")\n",
    "print(f\"Train-Test split ratio {int((1-TEST_SIZE)*100)}/{int(TEST_SIZE*100)}\")\n",
    "print(f\"Validation data from Train set {VALIDATION_SPLIT*100}%\")"
   ]
  },
  {
   "cell_type": "markdown",
   "id": "c0e2c991",
   "metadata": {
    "papermill": {
     "duration": 0.009651,
     "end_time": "2025-07-07T14:50:57.883974",
     "exception": false,
     "start_time": "2025-07-07T14:50:57.874323",
     "status": "completed"
    },
    "tags": []
   },
   "source": [
    "## Set `Seed` Values"
   ]
  },
  {
   "cell_type": "code",
   "execution_count": 3,
   "id": "53b05b9b",
   "metadata": {
    "execution": {
     "iopub.execute_input": "2025-07-07T14:50:57.904804Z",
     "iopub.status.busy": "2025-07-07T14:50:57.904240Z",
     "iopub.status.idle": "2025-07-07T14:50:57.908069Z",
     "shell.execute_reply": "2025-07-07T14:50:57.907385Z"
    },
    "papermill": {
     "duration": 0.015284,
     "end_time": "2025-07-07T14:50:57.909123",
     "exception": false,
     "start_time": "2025-07-07T14:50:57.893839",
     "status": "completed"
    },
    "tags": []
   },
   "outputs": [],
   "source": [
    "# set seeed to get similar values\n",
    "seed_constant = 27\n",
    "np.random.seed(seed_constant)\n",
    "random.seed(seed_constant)\n",
    "tf.random.set_seed(seed_constant)"
   ]
  },
  {
   "cell_type": "markdown",
   "id": "0365445f",
   "metadata": {
    "papermill": {
     "duration": 0.009559,
     "end_time": "2025-07-07T14:50:57.928534",
     "exception": false,
     "start_time": "2025-07-07T14:50:57.918975",
     "status": "completed"
    },
    "tags": []
   },
   "source": [
    "# 📌 Function Definition\n",
    "## Resize and Frame Extraction"
   ]
  },
  {
   "cell_type": "code",
   "execution_count": 4,
   "id": "80e8a4a0",
   "metadata": {
    "execution": {
     "iopub.execute_input": "2025-07-07T14:50:57.949280Z",
     "iopub.status.busy": "2025-07-07T14:50:57.949041Z",
     "iopub.status.idle": "2025-07-07T14:50:57.957444Z",
     "shell.execute_reply": "2025-07-07T14:50:57.956900Z"
    },
    "papermill": {
     "duration": 0.020235,
     "end_time": "2025-07-07T14:50:57.958554",
     "exception": false,
     "start_time": "2025-07-07T14:50:57.938319",
     "status": "completed"
    },
    "tags": []
   },
   "outputs": [],
   "source": [
    "import cv2\n",
    "from concurrent.futures import ThreadPoolExecutor\n",
    "\n",
    "def resize_and_normalize_frame(frame, image_height, image_width):\n",
    "    try:\n",
    "        resized_frame = cv2.resize(frame, (image_width, image_height), interpolation=cv2.INTER_LINEAR)\n",
    "        normalized_frame = resized_frame / 255.0\n",
    "        return normalized_frame\n",
    "    except Exception as e:\n",
    "        print(f\"Error processing frame: {e}\")\n",
    "        return None\n",
    "\n",
    "def frames_extraction(video_path, \n",
    "                      sequence_length=SEQUENCE_LENGTH, \n",
    "                      image_height=IMAGE_HEIGHT, \n",
    "                      image_width=IMAGE_WIDTH):\n",
    "    # Declare a list to store video frames\n",
    "    frames_list = []\n",
    "\n",
    "    # Check if video file exists\n",
    "    if not os.path.exists(video_path):\n",
    "        print(f\"Error: Video file not found at {video_path}\")\n",
    "        return None\n",
    "\n",
    "    # Read the video file using VideoCapture with optimized settings\n",
    "    video_reader = cv2.VideoCapture(video_path, cv2.CAP_FFMPEG)\n",
    "\n",
    "    # Check if the video was opened successfully\n",
    "    if not video_reader.isOpened():\n",
    "        print(f\"Error: Could not open video file {video_path}\")\n",
    "        video_reader.release()\n",
    "        return None\n",
    "\n",
    "    # Get the total number of frames in the video\n",
    "    video_frames_count = int(video_reader.get(cv2.CAP_PROP_FRAME_COUNT))\n",
    "\n",
    "    # Ensure the video has enough frames\n",
    "    if video_frames_count < sequence_length:\n",
    "        print(f\"Warning: Video {video_path} has only {video_frames_count} frames, less than required {sequence_length}\")\n",
    "        video_reader.release()\n",
    "        return None\n",
    "\n",
    "    # Calculate the interval after which frames will be sampled\n",
    "    skip_frames_window = max(int(video_frames_count / sequence_length), 1)\n",
    "\n",
    "    # Pre-allocate frame indices to extract\n",
    "    frame_indices = [i * skip_frames_window for i in range(sequence_length)]\n",
    "\n",
    "    # Read and process frames in parallel\n",
    "    frames = []\n",
    "    for idx in frame_indices:\n",
    "        video_reader.set(cv2.CAP_PROP_POS_FRAMES, idx)\n",
    "        success, frame = video_reader.read()\n",
    "        if not success or frame is None:\n",
    "            print(f\"Warning: Failed to read frame at index {idx} from {video_path}\")\n",
    "            break\n",
    "        frame = cv2.cvtColor(frame, cv2.COLOR_BGR2RGB)\n",
    "        frames.append(frame)\n",
    "\n",
    "    # Release the VideoCapture object early\n",
    "    video_reader.release()\n",
    "\n",
    "    # Ensure the correct number of frames is read\n",
    "    if len(frames) != sequence_length:\n",
    "        print(f\"Warning: Read {len(frames)} frames instead of {sequence_length} from {video_path}\")\n",
    "        return None\n",
    "\n",
    "    # Process frames in parallel using ThreadPoolExecutor\n",
    "    with ThreadPoolExecutor() as executor:\n",
    "        processed_frames = list(executor.map(\n",
    "            lambda f: resize_and_normalize_frame(f, image_height, image_width), \n",
    "            frames\n",
    "        ))\n",
    "\n",
    "    # Check for any failed frame processing\n",
    "    if any(f is None for f in processed_frames):\n",
    "        print(f\"Warning: Some frames failed to process in {video_path}\")\n",
    "        return None\n",
    "\n",
    "    # Convert to NumPy array\n",
    "    frames_array = np.array(processed_frames, dtype=np.float32)\n",
    "\n",
    "    return frames_array"
   ]
  },
  {
   "cell_type": "code",
   "execution_count": 5,
   "id": "3fa6f1fc",
   "metadata": {
    "execution": {
     "iopub.execute_input": "2025-07-07T14:50:57.979289Z",
     "iopub.status.busy": "2025-07-07T14:50:57.978695Z",
     "iopub.status.idle": "2025-07-07T14:50:57.982199Z",
     "shell.execute_reply": "2025-07-07T14:50:57.981512Z"
    },
    "papermill": {
     "duration": 0.014931,
     "end_time": "2025-07-07T14:50:57.983281",
     "exception": false,
     "start_time": "2025-07-07T14:50:57.968350",
     "status": "completed"
    },
    "tags": []
   },
   "outputs": [],
   "source": [
    " # # Iterate through all video files\n",
    " #        for file_name in files_list:\n",
    " #            video_file_path = os.path.join(class_path, file_name)\n",
    "\n",
    " #            # Extract frames using the updated frames_extraction function\n",
    " #            frames = frames_extraction(video_file_path, sequence_length, image_height, image_width)\n",
    "\n",
    " #            # Skip videos where frame extraction failed\n",
    " #            if frames is None:\n",
    " #                print(f\"Skipping video {video_file_path} due to frame extraction failure\")\n",
    " #                continue\n",
    "\n",
    " #            # Append the data to respective lists\n",
    " #            features.append(frames)\n",
    " #            labels.append(class_index)"
   ]
  },
  {
   "cell_type": "markdown",
   "id": "dfdc44f8",
   "metadata": {
    "papermill": {
     "duration": 0.00967,
     "end_time": "2025-07-07T14:50:58.002825",
     "exception": false,
     "start_time": "2025-07-07T14:50:57.993155",
     "status": "completed"
    },
    "tags": []
   },
   "source": [
    "## Create Dataset"
   ]
  },
  {
   "cell_type": "code",
   "execution_count": 6,
   "id": "2b887dcd",
   "metadata": {
    "execution": {
     "iopub.execute_input": "2025-07-07T14:50:58.023366Z",
     "iopub.status.busy": "2025-07-07T14:50:58.023134Z",
     "iopub.status.idle": "2025-07-07T14:50:58.029224Z",
     "shell.execute_reply": "2025-07-07T14:50:58.028676Z"
    },
    "papermill": {
     "duration": 0.017686,
     "end_time": "2025-07-07T14:50:58.030243",
     "exception": false,
     "start_time": "2025-07-07T14:50:58.012557",
     "status": "completed"
    },
    "tags": []
   },
   "outputs": [],
   "source": [
    "# RUN create dataset function definition\n",
    "def create_dataset(dataset_dir,\n",
    "                   classes_list, \n",
    "                   sequence_length=SEQUENCE_LENGTH, \n",
    "                   image_height=IMAGE_HEIGHT, \n",
    "                   image_width=IMAGE_WIDTH, \n",
    "                   max_videos_per_class=None,\n",
    "                   augmentations=False\n",
    "                  ):\n",
    "    \n",
    "    # Initialize lists to store features, labels, and video file paths\n",
    "    videos = []\n",
    "    labels = []\n",
    "\n",
    "    # Check if dataset directory exists\n",
    "    if not os.path.exists(dataset_dir):\n",
    "        raise FileNotFoundError(f\"Dataset directory not found: {dataset_dir}\")\n",
    "\n",
    "    # Iterate through all classes in the classes list\n",
    "    for class_index, class_name in enumerate(classes_list):\n",
    "        class_path = os.path.join(dataset_dir, class_name)\n",
    "        \n",
    "        # Check if class directory exists\n",
    "        if not os.path.exists(class_path):\n",
    "            print(f\"Warning: Class directory not found: {class_path}\")\n",
    "            continue\n",
    "\n",
    "        print(f'Extracting Data of Class: {class_name}')\n",
    "\n",
    "        # Get the list of video files in the class directory\n",
    "        files_list = os.listdir(class_path)\n",
    "\n",
    "        # Limit the number of videos if specified\n",
    "        if max_videos_per_class is not None:\n",
    "            files_list = files_list[:max_videos_per_class]\n",
    "\n",
    "        # Iterate through all video files\n",
    "        for file_name in files_list:\n",
    "            video_file_path = os.path.join(class_path, file_name)\n",
    "\n",
    "            # Extract frames using the updated frames_extraction function\n",
    "            frames = frames_extraction(video_file_path, \n",
    "                                       sequence_length, \n",
    "                                       image_height, \n",
    "                                       image_width)\n",
    "\n",
    "            # Skip videos where frame extraction failed\n",
    "            if frames is None:\n",
    "                print(f\"Skipping video {video_file_path} due to frame extraction failure\")\n",
    "                continue\n",
    "\n",
    "            # Append the data to respective lists\n",
    "            videos.append(frames)\n",
    "            labels.append(class_index)\n",
    "\n",
    "    # Convert lists to numpy arrays\n",
    "    if not videos:\n",
    "        raise ValueError(\"No valid videos were processed. Check dataset or parameters.\")\n",
    "    videos = np.asarray(videos)\n",
    "    labels = np.array(labels)\n",
    "\n",
    "    print(f\"Dataset created with {len(videos)} videos\")\n",
    "    print(f\"Features shape: {videos.shape}\")\n",
    "    print(f\"Labels shape: {labels.shape}\")\n",
    "\n",
    "    return videos, labels"
   ]
  },
  {
   "cell_type": "markdown",
   "id": "2ccedcbb",
   "metadata": {
    "papermill": {
     "duration": 0.009669,
     "end_time": "2025-07-07T14:50:58.049649",
     "exception": false,
     "start_time": "2025-07-07T14:50:58.039980",
     "status": "completed"
    },
    "tags": []
   },
   "source": [
    "## 🪄 Video Data Generator"
   ]
  },
  {
   "cell_type": "code",
   "execution_count": 7,
   "id": "beaefab7",
   "metadata": {
    "execution": {
     "iopub.execute_input": "2025-07-07T14:50:58.070094Z",
     "iopub.status.busy": "2025-07-07T14:50:58.069881Z",
     "iopub.status.idle": "2025-07-07T14:50:58.136351Z",
     "shell.execute_reply": "2025-07-07T14:50:58.135603Z"
    },
    "papermill": {
     "duration": 0.078242,
     "end_time": "2025-07-07T14:50:58.137586",
     "exception": false,
     "start_time": "2025-07-07T14:50:58.059344",
     "status": "completed"
    },
    "tags": []
   },
   "outputs": [],
   "source": [
    "from tensorflow.keras.utils import Sequence, to_categorical\n",
    "import tensorflow as tf\n",
    "import numpy as np\n",
    "import cv2\n",
    "\n",
    "\n",
    "\n",
    "\n",
    "class VideoDataGenerator(Sequence):\n",
    "    def __init__(self, videos, labels, batch_size, is_training=False):\n",
    "        self.videos = list(videos)  # List of video file paths\n",
    "        self.labels = list(labels)  # List or array of labels encoded\n",
    "        self.batch_size = batch_size\n",
    "        self.indices = np.arange(len(self.videos))  # For shuffling\n",
    "        self.is_training = is_training  # Flag to control whether augmentation is applied\n",
    "        self.temp_videos=[]\n",
    "        self.temp_labels=[]\n",
    "        \n",
    "        \n",
    "        print(f\"Total {len(videos)} videos and {len(labels)} classes\")\n",
    "\n",
    "    def __len__(self):\n",
    "        # Return the number of batches per epoch\n",
    "        return int(np.ceil(len(self.videos) / self.batch_size))\n",
    "\n",
    "    def __getitem__(self, idx):\n",
    "        # Get batch indices\n",
    "        batch_indices = self.indices[idx * self.batch_size:(idx + 1) * self.batch_size]\n",
    "        \n",
    "        # Handle case where batch_indices is empty\n",
    "        if len(batch_indices) == 0:\n",
    "            return np.array([], dtype=np.float32), np.array([], dtype=np.float32)\n",
    "        \n",
    "        # Initialize lists to store frames and labels\n",
    "        all_frames = []\n",
    "        all_labels = []\n",
    "        \n",
    "        # Process each video in the batch\n",
    "        for i, index in enumerate(batch_indices):\n",
    "            sequence = self.videos[index]\n",
    "            label = self.labels[index]\n",
    "            \n",
    "            # Load and process video\n",
    "            # sequence = frames_extraction(video_path)\n",
    "\n",
    "            # if sequence is not None:\n",
    "            #     # Apply augmentations: 1 original + 4 augmentations (horizontal flip, shear, rotation, noise)\n",
    "            #     augmented_sequences = [sequence]  # Add original sequence\n",
    "\n",
    "            #     if self.is_training:\n",
    "            #         # Apply augmentations\n",
    "            #         augmented_sequences.append(np.array(horizontal_flip(sequence)))  # Horizontal Flip\n",
    "            #         augmented_sequences.append(np.array(apply_shear_frames(sequence, shear_right=0)))  # Random Shear\n",
    "            #         augmented_sequences.append(np.array(apply_shear_frames(sequence, shear_right=1)))  # Random Rotation\n",
    "            #         augmented_sequences.append(np.array(noise_video(sequence)))  # Salt and Pepper Noise\n",
    "\n",
    "            #     # Add augmented sequences to the batch\n",
    "            #     all_frames.extend(augmented_sequences)\n",
    "            #     all_labels.extend([label] * len(augmented_sequences))  # Each augmentation has the same label\n",
    "\n",
    "            \n",
    "            # Append the sequence and label\n",
    "            all_frames.append(sequence)\n",
    "            all_labels.append(label)\n",
    "        \n",
    "        # Convert to numpy arrays\n",
    "        all_frames = np.array(all_frames, dtype=np.float32)\n",
    "        all_labels = np.array(all_labels)\n",
    "            \n",
    "        \n",
    "        return all_frames, all_labels\n",
    "    def add(self, new_videos, new_labels):\n",
    "        self.temp_videos.extend(new_videos)\n",
    "        self.temp_labels.extend(new_labels)\n",
    "    \n",
    "    def confirm(self):\n",
    "        print(f\"Adding {len(self.temp_videos)} videos with {len(self.temp_labels)} classes.\")\n",
    "        self.videos.extend(self.temp_videos)\n",
    "        self.labels.extend(self.temp_labels)\n",
    "        print(f\"Successfully added - {len(self.temp_videos)} videos and {len(self.temp_labels)} classes.\")\n",
    "        self.temp_videos=[]\n",
    "        self.temp_labels=[]\n",
    "        self.indices = np.arange(len(self.videos))\n",
    "        print(f\"Now Total - {len(self.videos)} videos and {len(self.labels)} classes.\")\n",
    "        print(f\"PENDING for Augmentations - {len(self.temp_videos)} videos and {len(self.temp_labels)} classes.\")\n",
    "    \n",
    "    def on_epoch_end(self):\n",
    "        # Shuffle indices at the end of each epoch\n",
    "        np.random.shuffle(self.indices)\n",
    "\n",
    "    def as_dataset(self):\n",
    "        def generator():\n",
    "            for idx in range(len(self)):\n",
    "                frames, labels = self[idx]\n",
    "                # Skip empty batches\n",
    "                if frames.size == 0:\n",
    "                    continue\n",
    "                yield frames, labels\n",
    "        self.labels=np.array(self.labels)\n",
    "    \n",
    "        # Create a tf.data.Dataset\n",
    "        dataset = tf.data.Dataset.from_generator(\n",
    "            generator,\n",
    "            output_types=(tf.float32, tf.float32),\n",
    "            output_shapes=(\n",
    "                (None, SEQUENCE_LENGTH, IMAGE_HEIGHT, IMAGE_WIDTH, 3),\n",
    "                (None, NO_OF_CLASSES)\n",
    "            )\n",
    "        )\n",
    "        dataset = dataset.prefetch(tf.data.AUTOTUNE)\n",
    "        return dataset"
   ]
  },
  {
   "cell_type": "markdown",
   "id": "ce5bac52",
   "metadata": {
    "papermill": {
     "duration": 0.051822,
     "end_time": "2025-07-07T14:50:58.199466",
     "exception": false,
     "start_time": "2025-07-07T14:50:58.147644",
     "status": "completed"
    },
    "tags": []
   },
   "source": [
    "## Debug and Helpers"
   ]
  },
  {
   "cell_type": "markdown",
   "id": "74429ee4",
   "metadata": {
    "papermill": {
     "duration": 0.009661,
     "end_time": "2025-07-07T14:50:58.219025",
     "exception": false,
     "start_time": "2025-07-07T14:50:58.209364",
     "status": "completed"
    },
    "tags": []
   },
   "source": [
    "## 💫 Augmentation Helper function"
   ]
  },
  {
   "cell_type": "code",
   "execution_count": 8,
   "id": "67504060",
   "metadata": {
    "execution": {
     "iopub.execute_input": "2025-07-07T14:50:58.240053Z",
     "iopub.status.busy": "2025-07-07T14:50:58.239777Z",
     "iopub.status.idle": "2025-07-07T14:50:58.244610Z",
     "shell.execute_reply": "2025-07-07T14:50:58.243871Z"
    },
    "papermill": {
     "duration": 0.016934,
     "end_time": "2025-07-07T14:50:58.245728",
     "exception": false,
     "start_time": "2025-07-07T14:50:58.228794",
     "status": "completed"
    },
    "tags": []
   },
   "outputs": [],
   "source": [
    "import time\n",
    "\n",
    "    \n",
    "\n",
    "def apply_augmentation(augmentation_function, generator, confirm=False, *args, **kwargs):\n",
    "    \n",
    "    for i in range(len(generator)):\n",
    "        batch_videos, batch_labels = generator[i]\n",
    "        augmented_videos=[]\n",
    "        for videos in batch_videos:\n",
    "            augmented_videos.append(augmentation_function(videos, *args, **kwargs))\n",
    "        generator.add(augmented_videos, batch_labels)\n",
    "        print(f\"Processing video {len(generator.temp_videos)}...\", end=\"\\r\", flush=True)\n",
    "        time.sleep(0.5)  # simulate work\n",
    "    if confirm:\n",
    "        generator.confirm()"
   ]
  },
  {
   "cell_type": "markdown",
   "id": "60043644",
   "metadata": {
    "papermill": {
     "duration": 0.009653,
     "end_time": "2025-07-07T14:50:58.265457",
     "exception": false,
     "start_time": "2025-07-07T14:50:58.255804",
     "status": "completed"
    },
    "tags": []
   },
   "source": [
    "### Show Frames"
   ]
  },
  {
   "cell_type": "code",
   "execution_count": 9,
   "id": "2d184174",
   "metadata": {
    "execution": {
     "iopub.execute_input": "2025-07-07T14:50:58.285729Z",
     "iopub.status.busy": "2025-07-07T14:50:58.285522Z",
     "iopub.status.idle": "2025-07-07T14:50:58.289341Z",
     "shell.execute_reply": "2025-07-07T14:50:58.288660Z"
    },
    "papermill": {
     "duration": 0.015382,
     "end_time": "2025-07-07T14:50:58.290464",
     "exception": false,
     "start_time": "2025-07-07T14:50:58.275082",
     "status": "completed"
    },
    "tags": []
   },
   "outputs": [],
   "source": [
    "# show frame def\n",
    "import matplotlib.pyplot as plt\n",
    "\n",
    "def show_frame(frame):\n",
    "    plt.figure(figsize=(3,3))\n",
    "    plt.imshow(frame)\n",
    "    plt.axis(\"off\")\n",
    "    plt.tight_layout()"
   ]
  },
  {
   "cell_type": "markdown",
   "id": "4966bdbf",
   "metadata": {
    "papermill": {
     "duration": 0.009651,
     "end_time": "2025-07-07T14:50:58.309816",
     "exception": false,
     "start_time": "2025-07-07T14:50:58.300165",
     "status": "completed"
    },
    "tags": []
   },
   "source": [
    "### Helper Function"
   ]
  },
  {
   "cell_type": "code",
   "execution_count": 10,
   "id": "e95c1560",
   "metadata": {
    "execution": {
     "iopub.execute_input": "2025-07-07T14:50:58.330558Z",
     "iopub.status.busy": "2025-07-07T14:50:58.330357Z",
     "iopub.status.idle": "2025-07-07T14:50:58.334542Z",
     "shell.execute_reply": "2025-07-07T14:50:58.333842Z"
    },
    "papermill": {
     "duration": 0.015585,
     "end_time": "2025-07-07T14:50:58.335590",
     "exception": false,
     "start_time": "2025-07-07T14:50:58.320005",
     "status": "completed"
    },
    "tags": []
   },
   "outputs": [],
   "source": [
    "def show_frame_vs(frame1, frame2, title1=\"Frame 1\", title2=\"Frame 2\"):\n",
    "    plt.figure(figsize=(10, 5))\n",
    "\n",
    "    # First frame\n",
    "    plt.subplot(1, 2, 1)\n",
    "    plt.imshow(frame1)\n",
    "    plt.title(title1)\n",
    "    plt.axis('off')\n",
    "\n",
    "    # Second frame\n",
    "    plt.subplot(1, 2, 2)\n",
    "    plt.imshow(frame2)\n",
    "    plt.title(title2)\n",
    "    plt.axis('off')\n",
    "\n",
    "    plt.tight_layout()\n",
    "    plt.show()"
   ]
  },
  {
   "cell_type": "code",
   "execution_count": 11,
   "id": "aa6246d9",
   "metadata": {
    "execution": {
     "iopub.execute_input": "2025-07-07T14:50:58.355947Z",
     "iopub.status.busy": "2025-07-07T14:50:58.355758Z",
     "iopub.status.idle": "2025-07-07T14:50:58.359515Z",
     "shell.execute_reply": "2025-07-07T14:50:58.358815Z"
    },
    "papermill": {
     "duration": 0.015315,
     "end_time": "2025-07-07T14:50:58.360632",
     "exception": false,
     "start_time": "2025-07-07T14:50:58.345317",
     "status": "completed"
    },
    "tags": []
   },
   "outputs": [],
   "source": [
    "# reusable video loop helper function\n",
    "def apply_function(function, videos, *arg, **kwargs):\n",
    "    new_videos=[]\n",
    "    \n",
    "    for video in videos:\n",
    "        new_videos.append(function(video, *arg, **kwargs))\n",
    "        \n",
    "    return new_videos"
   ]
  },
  {
   "cell_type": "code",
   "execution_count": 12,
   "id": "b58c66aa",
   "metadata": {
    "execution": {
     "iopub.execute_input": "2025-07-07T14:50:58.380707Z",
     "iopub.status.busy": "2025-07-07T14:50:58.380532Z",
     "iopub.status.idle": "2025-07-07T14:50:58.384417Z",
     "shell.execute_reply": "2025-07-07T14:50:58.383881Z"
    },
    "papermill": {
     "duration": 0.015185,
     "end_time": "2025-07-07T14:50:58.385508",
     "exception": false,
     "start_time": "2025-07-07T14:50:58.370323",
     "status": "completed"
    },
    "tags": []
   },
   "outputs": [],
   "source": [
    "# reusable video loop helper function\n",
    "def apply(function, videos, labels, *arg, **kwargs):\n",
    "    new_videos=[]\n",
    "    new_labels=[]\n",
    "    combined=zip(labels, videos)\n",
    "    \n",
    "    for label, video in combined:\n",
    "        new_videos.append(function(video, *arg, **kwargs))\n",
    "        new_labels.append(label)\n",
    "        \n",
    "    new_videos=np.asarray(new_videos)\n",
    "    new_labels=np.asarray(new_labels)\n",
    "    \n",
    "    return new_videos, new_labels"
   ]
  },
  {
   "cell_type": "markdown",
   "id": "ce260293",
   "metadata": {
    "papermill": {
     "duration": 0.009517,
     "end_time": "2025-07-07T14:50:58.404809",
     "exception": false,
     "start_time": "2025-07-07T14:50:58.395292",
     "status": "completed"
    },
    "tags": []
   },
   "source": [
    "## Salt and Pepper Noise "
   ]
  },
  {
   "cell_type": "code",
   "execution_count": 13,
   "id": "5419fc1e",
   "metadata": {
    "execution": {
     "iopub.execute_input": "2025-07-07T14:50:58.425338Z",
     "iopub.status.busy": "2025-07-07T14:50:58.424789Z",
     "iopub.status.idle": "2025-07-07T14:50:58.428852Z",
     "shell.execute_reply": "2025-07-07T14:50:58.428379Z"
    },
    "papermill": {
     "duration": 0.015377,
     "end_time": "2025-07-07T14:50:58.429850",
     "exception": false,
     "start_time": "2025-07-07T14:50:58.414473",
     "status": "completed"
    },
    "tags": []
   },
   "outputs": [],
   "source": [
    "# Noise function def\n",
    "\n",
    "def noise_video(video,noise_factor=NOISE_FACTOR):\n",
    "    noisy_video=[]\n",
    "    for frame in video:\n",
    "        # Generate random noise\n",
    "        noise = np.random.rand(*frame.shape)  # Generate random noise\n",
    "        salt_pepper_noise = np.random.choice([0, 1], size=frame.shape, p=[1-noise_factor, noise_factor])\n",
    "        noisy_frame = frame * (1 - salt_pepper_noise) + salt_pepper_noise * np.random.rand(*frame.shape)\n",
    "        noisy_video.append(noisy_frame)\n",
    "    return np.array(noisy_video)"
   ]
  },
  {
   "cell_type": "markdown",
   "id": "8b6ed86d",
   "metadata": {
    "papermill": {
     "duration": 0.009611,
     "end_time": "2025-07-07T14:50:58.449331",
     "exception": false,
     "start_time": "2025-07-07T14:50:58.439720",
     "status": "completed"
    },
    "tags": []
   },
   "source": [
    "## Horizontal Flip"
   ]
  },
  {
   "cell_type": "code",
   "execution_count": 14,
   "id": "af5bcfe9",
   "metadata": {
    "execution": {
     "iopub.execute_input": "2025-07-07T14:50:58.469549Z",
     "iopub.status.busy": "2025-07-07T14:50:58.469364Z",
     "iopub.status.idle": "2025-07-07T14:50:58.472610Z",
     "shell.execute_reply": "2025-07-07T14:50:58.472092Z"
    },
    "papermill": {
     "duration": 0.014569,
     "end_time": "2025-07-07T14:50:58.473606",
     "exception": false,
     "start_time": "2025-07-07T14:50:58.459037",
     "status": "completed"
    },
    "tags": []
   },
   "outputs": [],
   "source": [
    "# horizontal flip function def\n",
    "# Testing Flip feautes[0] -> first video\n",
    "def horizontal_flip(video):\n",
    "    return [tf.image.flip_left_right(frame) for frame in video]"
   ]
  },
  {
   "cell_type": "markdown",
   "id": "5e8b8f4f",
   "metadata": {
    "papermill": {
     "duration": 0.009616,
     "end_time": "2025-07-07T14:50:58.493134",
     "exception": false,
     "start_time": "2025-07-07T14:50:58.483518",
     "status": "completed"
    },
    "tags": []
   },
   "source": [
    "## Random Shear"
   ]
  },
  {
   "cell_type": "code",
   "execution_count": 15,
   "id": "01a4470d",
   "metadata": {
    "execution": {
     "iopub.execute_input": "2025-07-07T14:50:58.513870Z",
     "iopub.status.busy": "2025-07-07T14:50:58.513659Z",
     "iopub.status.idle": "2025-07-07T14:50:58.519281Z",
     "shell.execute_reply": "2025-07-07T14:50:58.518574Z"
    },
    "papermill": {
     "duration": 0.017418,
     "end_time": "2025-07-07T14:50:58.520474",
     "exception": false,
     "start_time": "2025-07-07T14:50:58.503056",
     "status": "completed"
    },
    "tags": []
   },
   "outputs": [],
   "source": [
    "# random shear function def\n",
    "import numpy as np\n",
    "import tensorflow as tf\n",
    "from scipy.ndimage import affine_transform\n",
    "\n",
    "def apply_shear_frames(frames, shear_right):\n",
    "    return [apply_shear(frame, shear_right) for frame in frames]\n",
    "\n",
    "def apply_shear(frame, shear_right=0):\n",
    "    frame_resized = tf.image.resize(frame, (IMAGE_HEIGHT, IMAGE_WIDTH)).numpy()\n",
    "    if shear_right:\n",
    "        shear_x = 0.09\n",
    "        shear_y = 0.1\n",
    "    else:\n",
    "        shear_x = -0.09\n",
    "        shear_y = 0.3\n",
    "    # Construct the affine matrix for scipy: inverse of the transformation matrix\n",
    "    # scipy applies the inverse transform matrix\n",
    "    shear_matrix = np.array([\n",
    "        [1, shear_x, 0],\n",
    "        [shear_y, 1, 0],\n",
    "        [0, 0, 1]\n",
    "    ], dtype=np.float32)\n",
    "\n",
    "    # Extract 2x2 part for affine_transform\n",
    "    matrix = shear_matrix[:2, :2]\n",
    "\n",
    "    # Offset (no translation)\n",
    "    offset = [0, 0]\n",
    "\n",
    "    # Apply affine transform on each channel separately\n",
    "    sheared = np.zeros_like(frame_resized)\n",
    "    for c in range(3):\n",
    "        sheared[..., c] = affine_transform(\n",
    "            frame_resized[..., c],\n",
    "            matrix=matrix,\n",
    "            offset=offset,\n",
    "            order=1,          # bilinear interpolation\n",
    "            mode='nearest'    # fill_mode\n",
    "        )\n",
    "    return sheared"
   ]
  },
  {
   "cell_type": "markdown",
   "id": "d10c57ca",
   "metadata": {
    "papermill": {
     "duration": 0.009748,
     "end_time": "2025-07-07T14:50:58.540196",
     "exception": false,
     "start_time": "2025-07-07T14:50:58.530448",
     "status": "completed"
    },
    "tags": []
   },
   "source": [
    "# 📌 Model Related\n",
    "## 🗼 Model Architecture `create_model`"
   ]
  },
  {
   "cell_type": "code",
   "execution_count": 16,
   "id": "184a0d6d",
   "metadata": {
    "execution": {
     "iopub.execute_input": "2025-07-07T14:50:58.561410Z",
     "iopub.status.busy": "2025-07-07T14:50:58.560767Z",
     "iopub.status.idle": "2025-07-07T14:50:58.573687Z",
     "shell.execute_reply": "2025-07-07T14:50:58.573191Z"
    },
    "papermill": {
     "duration": 0.024385,
     "end_time": "2025-07-07T14:50:58.574702",
     "exception": false,
     "start_time": "2025-07-07T14:50:58.550317",
     "status": "completed"
    },
    "tags": []
   },
   "outputs": [],
   "source": [
    "from tensorflow.keras.applications import Xception\n",
    "from tensorflow.keras.models import Sequential\n",
    "from tensorflow.keras.layers import GlobalAveragePooling2D, TimeDistributed, LSTM, Dropout, Dense\n",
    "from tensorflow.keras.regularizers import l2\n",
    "from tensorflow.keras.layers import BatchNormalization\n",
    "\n",
    "def create_xception_lstm_model(sequence_length, image_height, image_width, classes_list=None, dropout_rate=0.5):\n",
    "    if classes_list is None:\n",
    "        raise ValueError(\"classes_list must be provided to define the output layer size\")\n",
    "\n",
    "    try:\n",
    "        # Load Xception model with pre-trained ImageNet weights\n",
    "        print(\"Loading Xception base model...\")\n",
    "        xception = Xception(\n",
    "            weights='imagenet',\n",
    "            include_top=False,\n",
    "            input_shape=(image_height, image_width, 3),\n",
    "            name=\"Xception\"\n",
    "        )\n",
    "        # Freeze Xception layers\n",
    "        for layer in xception.layers[:-10]:  # Unfreeze last 10 layers\n",
    "            layer.trainable = False\n",
    "        for layer in xception.layers[-10:]:\n",
    "            layer.trainable = True\n",
    "\n",
    "        # Define the Sequential model\n",
    "        model = Sequential([\n",
    "            # InputLayer and TimeDistributed Xception\n",
    "            TimeDistributed(\n",
    "                xception,\n",
    "                input_shape=(sequence_length, image_height, image_width, 3),\n",
    "                name=\"time_distributed\"\n",
    "            ),\n",
    "            # TimeDistributed GlobalAveragePooling2D\n",
    "            TimeDistributed(GlobalAveragePooling2D(), name=\"time_distributed_1\"),\n",
    "            # LSTM layer with 128 units\n",
    "            LSTM(128, activation=\"tanh\", return_sequences=False, kernel_regularizer=l2(0.01), name=\"lstm\"),\n",
    "            \n",
    "            BatchNormalization(name=\"batch_normalization\"),\n",
    "            # Dropout after LSTM\n",
    "            Dropout(dropout_rate, name=\"dropout_lstm\"),\n",
    "            # Dense layer with 512 units\n",
    "            Dense(512, activation=\"relu\", kernel_regularizer=l2(0.01), name=\"dense\"),\n",
    "            # Dropout after Dense\n",
    "            Dropout(dropout_rate + 0.1, name=\"dropout_dense\"),\n",
    "            # Output Dense layer with softmax activation\n",
    "            Dense(len(classes_list), activation=\"softmax\", name=\"dense_1\")\n",
    "        ])\n",
    "        \n",
    "        # Print model summary\n",
    "        print(\"Model architecture created successfully!\")\n",
    "        model.summary()\n",
    "\n",
    "        return model\n",
    "\n",
    "    except Exception as e:\n",
    "        print(f\"Error creating model: {e}\")\n",
    "        return None"
   ]
  },
  {
   "cell_type": "code",
   "execution_count": 17,
   "id": "3c8f20c0",
   "metadata": {
    "execution": {
     "iopub.execute_input": "2025-07-07T14:50:58.595770Z",
     "iopub.status.busy": "2025-07-07T14:50:58.595093Z",
     "iopub.status.idle": "2025-07-07T14:51:02.715130Z",
     "shell.execute_reply": "2025-07-07T14:51:02.714216Z"
    },
    "papermill": {
     "duration": 4.131756,
     "end_time": "2025-07-07T14:51:02.716502",
     "exception": false,
     "start_time": "2025-07-07T14:50:58.584746",
     "status": "completed"
    },
    "tags": []
   },
   "outputs": [
    {
     "name": "stdout",
     "output_type": "stream",
     "text": [
      "Pre-loading Xception weights...\n"
     ]
    },
    {
     "name": "stderr",
     "output_type": "stream",
     "text": [
      "I0000 00:00:1751899859.884383      19 gpu_device.cc:2022] Created device /job:localhost/replica:0/task:0/device:GPU:0 with 13942 MB memory:  -> device: 0, name: Tesla T4, pci bus id: 0000:00:04.0, compute capability: 7.5\n",
      "I0000 00:00:1751899859.885039      19 gpu_device.cc:2022] Created device /job:localhost/replica:0/task:0/device:GPU:1 with 13942 MB memory:  -> device: 1, name: Tesla T4, pci bus id: 0000:00:05.0, compute capability: 7.5\n"
     ]
    },
    {
     "name": "stdout",
     "output_type": "stream",
     "text": [
      "Downloading data from https://storage.googleapis.com/tensorflow/keras-applications/xception/xception_weights_tf_dim_ordering_tf_kernels_notop.h5\n",
      "\u001b[1m83683744/83683744\u001b[0m \u001b[32m━━━━━━━━━━━━━━━━━━━━\u001b[0m\u001b[37m\u001b[0m \u001b[1m0s\u001b[0m 0us/step\n",
      "Weights loaded successfully!\n"
     ]
    }
   ],
   "source": [
    "# donwload model weights\n",
    "from tensorflow.keras.applications import Xception\n",
    "print(\"Pre-loading Xception weights...\")\n",
    "base_model = Xception(weights='imagenet', include_top=False, input_shape=(IMAGE_HEIGHT, IMAGE_WIDTH, 3))\n",
    "print(\"Weights loaded successfully!\")"
   ]
  },
  {
   "cell_type": "markdown",
   "id": "859164b6",
   "metadata": {
    "papermill": {
     "duration": 0.010182,
     "end_time": "2025-07-07T14:51:02.737966",
     "exception": false,
     "start_time": "2025-07-07T14:51:02.727784",
     "status": "completed"
    },
    "tags": []
   },
   "source": [
    "# 📌 Execution\n",
    "## Creating Dataset\n",
    "The following functions are executed\n",
    "- `frame extraction`\n",
    "- `resize`\n",
    "\n",
    "which returns:\n",
    "- `features` - `np.array` of all the videos\n",
    "- `labels` - `np.array` of all the class labels"
   ]
  },
  {
   "cell_type": "code",
   "execution_count": 18,
   "id": "632ae934",
   "metadata": {
    "execution": {
     "iopub.execute_input": "2025-07-07T14:51:02.759332Z",
     "iopub.status.busy": "2025-07-07T14:51:02.759082Z",
     "iopub.status.idle": "2025-07-07T14:51:34.052259Z",
     "shell.execute_reply": "2025-07-07T14:51:34.051560Z"
    },
    "papermill": {
     "duration": 31.30515,
     "end_time": "2025-07-07T14:51:34.053387",
     "exception": false,
     "start_time": "2025-07-07T14:51:02.748237",
     "status": "completed"
    },
    "tags": []
   },
   "outputs": [
    {
     "name": "stdout",
     "output_type": "stream",
     "text": [
      "Extracting Data of Class: HorseRace\n",
      "Extracting Data of Class: VolleyballSpiking\n",
      "Extracting Data of Class: Biking\n",
      "Extracting Data of Class: TaiChi\n",
      "Extracting Data of Class: Punch\n",
      "Extracting Data of Class: BreastStroke\n",
      "Extracting Data of Class: Billiards\n",
      "Extracting Data of Class: PoleVault\n",
      "Extracting Data of Class: ThrowDiscus\n",
      "Extracting Data of Class: BaseballPitch\n",
      "Extracting Data of Class: HorseRiding\n",
      "Extracting Data of Class: Mixing\n",
      "Extracting Data of Class: HighJump\n",
      "Extracting Data of Class: Skijet\n",
      "Extracting Data of Class: SkateBoarding\n",
      "Extracting Data of Class: MilitaryParade\n",
      "Extracting Data of Class: Fencing\n",
      "Extracting Data of Class: JugglingBalls\n",
      "Extracting Data of Class: Swing\n",
      "Extracting Data of Class: RockClimbingIndoor\n",
      "Extracting Data of Class: SalsaSpin\n",
      "Extracting Data of Class: PlayingTabla\n",
      "Extracting Data of Class: Rowing\n",
      "Extracting Data of Class: BenchPress\n",
      "Extracting Data of Class: PushUps\n",
      "Extracting Data of Class: Nunchucks\n",
      "Extracting Data of Class: PlayingViolin\n",
      "Extracting Data of Class: PullUps\n",
      "Extracting Data of Class: PlayingPiano\n",
      "Extracting Data of Class: HulaHoop\n",
      "Extracting Data of Class: RopeClimbing\n",
      "Extracting Data of Class: YoYo\n",
      "Extracting Data of Class: TrampolineJumping\n",
      "Extracting Data of Class: JumpingJack\n",
      "Extracting Data of Class: Drumming\n",
      "Extracting Data of Class: GolfSwing\n",
      "Extracting Data of Class: PlayingGuitar\n",
      "Extracting Data of Class: PizzaTossing\n",
      "Extracting Data of Class: Lunges\n",
      "Extracting Data of Class: TennisSwing\n",
      "Extracting Data of Class: WalkingWithDog\n",
      "Extracting Data of Class: Kayaking\n",
      "Extracting Data of Class: PommelHorse\n",
      "Extracting Data of Class: Basketball\n",
      "Extracting Data of Class: JumpRope\n",
      "Extracting Data of Class: CleanAndJerk\n",
      "Extracting Data of Class: Skiing\n",
      "Extracting Data of Class: Diving\n",
      "Extracting Data of Class: SoccerJuggling\n",
      "Extracting Data of Class: JavelinThrow\n",
      "Dataset created with 1000 videos\n",
      "Features shape: (1000, 5, 128, 128, 3)\n",
      "Labels shape: (1000,)\n"
     ]
    },
    {
     "data": {
      "text/plain": [
       "((1000, 5, 128, 128, 3), (1000,))"
      ]
     },
     "execution_count": 18,
     "metadata": {},
     "output_type": "execute_result"
    }
   ],
   "source": [
    "# RUN Create the dataset with explicit parameters\n",
    "try:\n",
    "    videos, labels = create_dataset(\n",
    "        dataset_dir=DATASET_DIR,\n",
    "        classes_list=CLASSES_LIST,\n",
    "        sequence_length=SEQUENCE_LENGTH,\n",
    "        image_height=IMAGE_HEIGHT,\n",
    "        image_width=IMAGE_WIDTH,\n",
    "        # Limit to 10 videos per class to manage memory\n",
    "        augmentations=True,\n",
    "        max_videos_per_class=MAX_VIDEO_PER_CLASS\n",
    "    )\n",
    "except FileNotFoundError as e:\n",
    "    print(f\"Error: {e}\")\n",
    "except ValueError as e:\n",
    "    print(f\"Error: {e}\")\n",
    "except Exception as e:\n",
    "    print(f\"Unexpected error: {e}\")\n",
    "\n",
    "videos.shape, labels.shape"
   ]
  },
  {
   "cell_type": "code",
   "execution_count": 19,
   "id": "7c7ff4ff",
   "metadata": {
    "execution": {
     "iopub.execute_input": "2025-07-07T14:51:34.079547Z",
     "iopub.status.busy": "2025-07-07T14:51:34.079319Z",
     "iopub.status.idle": "2025-07-07T14:51:34.083321Z",
     "shell.execute_reply": "2025-07-07T14:51:34.082651Z"
    },
    "papermill": {
     "duration": 0.018113,
     "end_time": "2025-07-07T14:51:34.084392",
     "exception": false,
     "start_time": "2025-07-07T14:51:34.066279",
     "status": "completed"
    },
    "tags": []
   },
   "outputs": [
    {
     "name": "stdout",
     "output_type": "stream",
     "text": [
      "Total 1000 videos and 1000 classes\n"
     ]
    }
   ],
   "source": [
    "video_generator = VideoDataGenerator(\n",
    "    videos=videos,\n",
    "    labels=labels,\n",
    "    batch_size=BATCH_SIZE\n",
    ")"
   ]
  },
  {
   "cell_type": "code",
   "execution_count": 20,
   "id": "154e11d0",
   "metadata": {
    "execution": {
     "iopub.execute_input": "2025-07-07T14:51:34.110090Z",
     "iopub.status.busy": "2025-07-07T14:51:34.109876Z",
     "iopub.status.idle": "2025-07-07T14:51:34.122388Z",
     "shell.execute_reply": "2025-07-07T14:51:34.121613Z"
    },
    "papermill": {
     "duration": 0.026651,
     "end_time": "2025-07-07T14:51:34.123490",
     "exception": false,
     "start_time": "2025-07-07T14:51:34.096839",
     "status": "completed"
    },
    "tags": []
   },
   "outputs": [
    {
     "data": {
      "text/plain": [
       "((24, 5, 128, 128, 3), (24,))"
      ]
     },
     "execution_count": 20,
     "metadata": {},
     "output_type": "execute_result"
    }
   ],
   "source": [
    "videos, labels = video_generator[3]\n",
    "\n",
    "videos.shape, labels.shape"
   ]
  },
  {
   "cell_type": "code",
   "execution_count": 21,
   "id": "d5cef55e",
   "metadata": {
    "execution": {
     "iopub.execute_input": "2025-07-07T14:51:34.149472Z",
     "iopub.status.busy": "2025-07-07T14:51:34.149261Z",
     "iopub.status.idle": "2025-07-07T14:51:34.153396Z",
     "shell.execute_reply": "2025-07-07T14:51:34.152863Z"
    },
    "papermill": {
     "duration": 0.018357,
     "end_time": "2025-07-07T14:51:34.154518",
     "exception": false,
     "start_time": "2025-07-07T14:51:34.136161",
     "status": "completed"
    },
    "tags": []
   },
   "outputs": [
    {
     "data": {
      "text/plain": [
       "1000"
      ]
     },
     "execution_count": 21,
     "metadata": {},
     "output_type": "execute_result"
    }
   ],
   "source": [
    "len(video_generator.videos) "
   ]
  },
  {
   "cell_type": "code",
   "execution_count": 22,
   "id": "258a1f3b",
   "metadata": {
    "execution": {
     "iopub.execute_input": "2025-07-07T14:51:34.180333Z",
     "iopub.status.busy": "2025-07-07T14:51:34.180109Z",
     "iopub.status.idle": "2025-07-07T14:51:34.183880Z",
     "shell.execute_reply": "2025-07-07T14:51:34.183398Z"
    },
    "papermill": {
     "duration": 0.017608,
     "end_time": "2025-07-07T14:51:34.184883",
     "exception": false,
     "start_time": "2025-07-07T14:51:34.167275",
     "status": "completed"
    },
    "tags": []
   },
   "outputs": [
    {
     "data": {
      "text/plain": [
       "42"
      ]
     },
     "execution_count": 22,
     "metadata": {},
     "output_type": "execute_result"
    }
   ],
   "source": [
    "len(video_generator)"
   ]
  },
  {
   "cell_type": "markdown",
   "id": "cab781a0",
   "metadata": {
    "papermill": {
     "duration": 0.012271,
     "end_time": "2025-07-07T14:51:34.209959",
     "exception": false,
     "start_time": "2025-07-07T14:51:34.197688",
     "status": "completed"
    },
    "tags": []
   },
   "source": [
    "## Apply ***horizontal flip*** (Augmentation)"
   ]
  },
  {
   "cell_type": "code",
   "execution_count": 23,
   "id": "db5f0f62",
   "metadata": {
    "execution": {
     "iopub.execute_input": "2025-07-07T14:51:34.235572Z",
     "iopub.status.busy": "2025-07-07T14:51:34.235370Z",
     "iopub.status.idle": "2025-07-07T14:51:58.249723Z",
     "shell.execute_reply": "2025-07-07T14:51:58.249139Z"
    },
    "papermill": {
     "duration": 24.028846,
     "end_time": "2025-07-07T14:51:58.251122",
     "exception": false,
     "start_time": "2025-07-07T14:51:34.222276",
     "status": "completed"
    },
    "tags": []
   },
   "outputs": [
    {
     "name": "stdout",
     "output_type": "stream",
     "text": [
      "Processing video 1000...\r"
     ]
    }
   ],
   "source": [
    "apply_augmentation(horizontal_flip, video_generator)"
   ]
  },
  {
   "cell_type": "code",
   "execution_count": 24,
   "id": "c6e88ffe",
   "metadata": {
    "execution": {
     "iopub.execute_input": "2025-07-07T14:51:58.281482Z",
     "iopub.status.busy": "2025-07-07T14:51:58.281250Z",
     "iopub.status.idle": "2025-07-07T14:51:58.285253Z",
     "shell.execute_reply": "2025-07-07T14:51:58.284644Z"
    },
    "papermill": {
     "duration": 0.019902,
     "end_time": "2025-07-07T14:51:58.286365",
     "exception": false,
     "start_time": "2025-07-07T14:51:58.266463",
     "status": "completed"
    },
    "tags": []
   },
   "outputs": [
    {
     "name": "stdout",
     "output_type": "stream",
     "text": [
      "Checking Total Videos and Class Count: 1000, 1000\n",
      "PENDING Total Videos and Class Count: 1000, 1000\n"
     ]
    }
   ],
   "source": [
    "print(f\"Checking Total Videos and Class Count: {len(video_generator.videos)}, {len(video_generator.labels)}\")\n",
    "print(f\"PENDING Total Videos and Class Count: {len(video_generator.temp_videos)}, {len(video_generator.temp_labels)}\")"
   ]
  },
  {
   "cell_type": "code",
   "execution_count": 25,
   "id": "bd250adc",
   "metadata": {
    "execution": {
     "iopub.execute_input": "2025-07-07T14:51:58.315618Z",
     "iopub.status.busy": "2025-07-07T14:51:58.314917Z",
     "iopub.status.idle": "2025-07-07T14:51:58.318720Z",
     "shell.execute_reply": "2025-07-07T14:51:58.318048Z"
    },
    "papermill": {
     "duration": 0.019192,
     "end_time": "2025-07-07T14:51:58.319690",
     "exception": false,
     "start_time": "2025-07-07T14:51:58.300498",
     "status": "completed"
    },
    "tags": []
   },
   "outputs": [
    {
     "name": "stdout",
     "output_type": "stream",
     "text": [
      "Adding 1000 videos with 1000 classes.\n",
      "Successfully added - 1000 videos and 1000 classes.\n",
      "Now Total - 2000 videos and 2000 classes.\n",
      "PENDING for Augmentations - 0 videos and 0 classes.\n"
     ]
    }
   ],
   "source": [
    "video_generator.confirm()"
   ]
  },
  {
   "cell_type": "markdown",
   "id": "06144afc",
   "metadata": {
    "papermill": {
     "duration": 0.014043,
     "end_time": "2025-07-07T14:51:58.347768",
     "exception": false,
     "start_time": "2025-07-07T14:51:58.333725",
     "status": "completed"
    },
    "tags": []
   },
   "source": [
    "## Apply ***Noise*** (Augmentation)"
   ]
  },
  {
   "cell_type": "code",
   "execution_count": 26,
   "id": "70e29fd1",
   "metadata": {
    "execution": {
     "iopub.execute_input": "2025-07-07T14:51:58.376912Z",
     "iopub.status.busy": "2025-07-07T14:51:58.376690Z",
     "iopub.status.idle": "2025-07-07T14:53:03.565079Z",
     "shell.execute_reply": "2025-07-07T14:53:03.564443Z"
    },
    "papermill": {
     "duration": 65.204671,
     "end_time": "2025-07-07T14:53:03.566465",
     "exception": false,
     "start_time": "2025-07-07T14:51:58.361794",
     "status": "completed"
    },
    "tags": []
   },
   "outputs": [
    {
     "name": "stdout",
     "output_type": "stream",
     "text": [
      "Processing video 2000...\r"
     ]
    }
   ],
   "source": [
    "apply_augmentation(noise_video, video_generator)"
   ]
  },
  {
   "cell_type": "code",
   "execution_count": 27,
   "id": "1a257f74",
   "metadata": {
    "execution": {
     "iopub.execute_input": "2025-07-07T14:53:03.603353Z",
     "iopub.status.busy": "2025-07-07T14:53:03.603106Z",
     "iopub.status.idle": "2025-07-07T14:53:03.607134Z",
     "shell.execute_reply": "2025-07-07T14:53:03.606494Z"
    },
    "papermill": {
     "duration": 0.02334,
     "end_time": "2025-07-07T14:53:03.608216",
     "exception": false,
     "start_time": "2025-07-07T14:53:03.584876",
     "status": "completed"
    },
    "tags": []
   },
   "outputs": [
    {
     "name": "stdout",
     "output_type": "stream",
     "text": [
      "Checking Total Videos and Class Count: 2000, 2000\n",
      "PENDING Total Videos and Class Count: 2000, 2000\n"
     ]
    }
   ],
   "source": [
    "print(f\"Checking Total Videos and Class Count: {len(video_generator.videos)}, {len(video_generator.labels)}\")\n",
    "print(f\"PENDING Total Videos and Class Count: {len(video_generator.temp_videos)}, {len(video_generator.temp_labels)}\")"
   ]
  },
  {
   "cell_type": "markdown",
   "id": "3eacd74b",
   "metadata": {
    "papermill": {
     "duration": 0.016932,
     "end_time": "2025-07-07T14:53:03.642230",
     "exception": false,
     "start_time": "2025-07-07T14:53:03.625298",
     "status": "completed"
    },
    "tags": []
   },
   "source": [
    "## Apply ***Random Shear x2*** (Augmentation)"
   ]
  },
  {
   "cell_type": "code",
   "execution_count": 28,
   "id": "c36ffc32",
   "metadata": {
    "execution": {
     "iopub.execute_input": "2025-07-07T14:53:03.676935Z",
     "iopub.status.busy": "2025-07-07T14:53:03.676710Z",
     "iopub.status.idle": "2025-07-07T14:55:43.236049Z",
     "shell.execute_reply": "2025-07-07T14:55:43.235435Z"
    },
    "papermill": {
     "duration": 159.578251,
     "end_time": "2025-07-07T14:55:43.237509",
     "exception": false,
     "start_time": "2025-07-07T14:53:03.659258",
     "status": "completed"
    },
    "tags": []
   },
   "outputs": [
    {
     "name": "stdout",
     "output_type": "stream",
     "text": [
      "Processing video 6000...\r"
     ]
    }
   ],
   "source": [
    "apply_augmentation(apply_shear_frames, video_generator, shear_right=0)\n",
    "apply_augmentation(apply_shear_frames, video_generator, shear_right=1)"
   ]
  },
  {
   "cell_type": "code",
   "execution_count": 29,
   "id": "38e6a0c4",
   "metadata": {
    "execution": {
     "iopub.execute_input": "2025-07-07T14:55:43.286727Z",
     "iopub.status.busy": "2025-07-07T14:55:43.286478Z",
     "iopub.status.idle": "2025-07-07T14:55:43.290548Z",
     "shell.execute_reply": "2025-07-07T14:55:43.289959Z"
    },
    "papermill": {
     "duration": 0.029516,
     "end_time": "2025-07-07T14:55:43.291577",
     "exception": false,
     "start_time": "2025-07-07T14:55:43.262061",
     "status": "completed"
    },
    "tags": []
   },
   "outputs": [
    {
     "name": "stdout",
     "output_type": "stream",
     "text": [
      "Checking Total Videos and Class Count: 2000, 2000\n",
      "PENDING Total Videos and Class Count: 6000, 6000\n"
     ]
    }
   ],
   "source": [
    "print(f\"Checking Total Videos and Class Count: {len(video_generator.videos)}, {len(video_generator.labels)}\")\n",
    "print(f\"PENDING Total Videos and Class Count: {len(video_generator.temp_videos)}, {len(video_generator.temp_labels)}\")"
   ]
  },
  {
   "cell_type": "code",
   "execution_count": 30,
   "id": "2155fc6b",
   "metadata": {
    "execution": {
     "iopub.execute_input": "2025-07-07T14:55:43.340139Z",
     "iopub.status.busy": "2025-07-07T14:55:43.339923Z",
     "iopub.status.idle": "2025-07-07T14:55:43.343823Z",
     "shell.execute_reply": "2025-07-07T14:55:43.343125Z"
    },
    "papermill": {
     "duration": 0.029308,
     "end_time": "2025-07-07T14:55:43.344806",
     "exception": false,
     "start_time": "2025-07-07T14:55:43.315498",
     "status": "completed"
    },
    "tags": []
   },
   "outputs": [
    {
     "name": "stdout",
     "output_type": "stream",
     "text": [
      "Adding 6000 videos with 6000 classes.\n",
      "Successfully added - 6000 videos and 6000 classes.\n",
      "Now Total - 8000 videos and 8000 classes.\n",
      "PENDING for Augmentations - 0 videos and 0 classes.\n"
     ]
    }
   ],
   "source": [
    "# confirm changes to generator\n",
    "video_generator.confirm()"
   ]
  },
  {
   "cell_type": "code",
   "execution_count": 31,
   "id": "07cbff93",
   "metadata": {
    "execution": {
     "iopub.execute_input": "2025-07-07T14:55:43.392702Z",
     "iopub.status.busy": "2025-07-07T14:55:43.392312Z",
     "iopub.status.idle": "2025-07-07T14:55:43.396118Z",
     "shell.execute_reply": "2025-07-07T14:55:43.395536Z"
    },
    "papermill": {
     "duration": 0.028812,
     "end_time": "2025-07-07T14:55:43.397135",
     "exception": false,
     "start_time": "2025-07-07T14:55:43.368323",
     "status": "completed"
    },
    "tags": []
   },
   "outputs": [
    {
     "name": "stdout",
     "output_type": "stream",
     "text": [
      "Checking Video Generator Total Videos and Class Count: 8000, 8000\n"
     ]
    }
   ],
   "source": [
    "print(f\"Checking Video Generator Total Videos and Class Count: {len(video_generator.videos)}, {len(video_generator.labels)}\")"
   ]
  },
  {
   "cell_type": "markdown",
   "id": "a113b639",
   "metadata": {
    "papermill": {
     "duration": 0.023542,
     "end_time": "2025-07-07T14:55:43.444618",
     "exception": false,
     "start_time": "2025-07-07T14:55:43.421076",
     "status": "completed"
    },
    "tags": []
   },
   "source": [
    "## Cheking (Output)"
   ]
  },
  {
   "cell_type": "code",
   "execution_count": 32,
   "id": "5dfc38a3",
   "metadata": {
    "execution": {
     "iopub.execute_input": "2025-07-07T14:55:43.493274Z",
     "iopub.status.busy": "2025-07-07T14:55:43.492803Z",
     "iopub.status.idle": "2025-07-07T14:55:43.746254Z",
     "shell.execute_reply": "2025-07-07T14:55:43.744585Z"
    },
    "papermill": {
     "duration": 0.279628,
     "end_time": "2025-07-07T14:55:43.748052",
     "exception": false,
     "start_time": "2025-07-07T14:55:43.468424",
     "status": "completed"
    },
    "tags": []
   },
   "outputs": [
    {
     "name": "stdout",
     "output_type": "stream",
     "text": [
      "(24, 5, 128, 128, 3) (24,)\n"
     ]
    },
    {
     "data": {
      "image/png": "[encoded data removed]",
      "text/plain": [
       "<Figure size 1000x500 with 2 Axes>"
      ]
     },
     "metadata": {},
     "output_type": "display_data"
    },
    {
     "name": "stdout",
     "output_type": "stream",
     "text": [
      "Might be two different action, but to check the flipping focus on the door behind.\n"
     ]
    }
   ],
   "source": [
    "# check horizontal flips\n",
    "videos, labels = video_generator[7]\n",
    "videos1, labels1 = video_generator[1]\n",
    "\n",
    "print(videos.shape, labels.shape)\n",
    "\n",
    "show_frame_vs(videos[0,0],videos1[1,0], title1=\"Flipped Frame 1\", title2=\"Non Flipped Frame 1\")\n",
    "print(\"Might be two different action, but to check the flipping focus on the door behind.\")"
   ]
  },
  {
   "cell_type": "markdown",
   "id": "c19c265e",
   "metadata": {
    "papermill": {
     "duration": 0.025828,
     "end_time": "2025-07-07T14:55:43.800469",
     "exception": false,
     "start_time": "2025-07-07T14:55:43.774641",
     "status": "completed"
    },
    "tags": []
   },
   "source": [
    "# 🧪 Test Augmentation (Output)\n",
    "## 🖼️ Horizontal Flip Output"
   ]
  },
  {
   "cell_type": "code",
   "execution_count": 33,
   "id": "fa25e2dd",
   "metadata": {
    "execution": {
     "iopub.execute_input": "2025-07-07T14:55:43.853350Z",
     "iopub.status.busy": "2025-07-07T14:55:43.852772Z",
     "iopub.status.idle": "2025-07-07T14:55:43.855729Z",
     "shell.execute_reply": "2025-07-07T14:55:43.855225Z"
    },
    "papermill": {
     "duration": 0.030825,
     "end_time": "2025-07-07T14:55:43.856872",
     "exception": false,
     "start_time": "2025-07-07T14:55:43.826047",
     "status": "completed"
    },
    "tags": []
   },
   "outputs": [],
   "source": [
    "# flipped_video_1 = horizontal_flip(features[0])\n",
    "\n",
    "# flipped_video_1=np.asarray(flipped_video_1)\n",
    "\n",
    "# show_frame(flipped_video_1[0])\n",
    "# flipped_video_1.shape"
   ]
  },
  {
   "cell_type": "markdown",
   "id": "f5a883c4",
   "metadata": {
    "papermill": {
     "duration": 0.025575,
     "end_time": "2025-07-07T14:55:43.908341",
     "exception": false,
     "start_time": "2025-07-07T14:55:43.882766",
     "status": "completed"
    },
    "tags": []
   },
   "source": [
    "## 🖼️ Salt and Pepper Noise Output"
   ]
  },
  {
   "cell_type": "code",
   "execution_count": 34,
   "id": "d717fc96",
   "metadata": {
    "execution": {
     "iopub.execute_input": "2025-07-07T14:55:43.959815Z",
     "iopub.status.busy": "2025-07-07T14:55:43.959575Z",
     "iopub.status.idle": "2025-07-07T14:55:43.962900Z",
     "shell.execute_reply": "2025-07-07T14:55:43.962210Z"
    },
    "papermill": {
     "duration": 0.030499,
     "end_time": "2025-07-07T14:55:43.964025",
     "exception": false,
     "start_time": "2025-07-07T14:55:43.933526",
     "status": "completed"
    },
    "tags": []
   },
   "outputs": [],
   "source": [
    "# noised_video = noise_video(features[0])\n",
    "\n",
    "# print(noised_video.shape)\n",
    "# show_frame(noised_video[0])"
   ]
  },
  {
   "cell_type": "markdown",
   "id": "4c652725",
   "metadata": {
    "papermill": {
     "duration": 0.025447,
     "end_time": "2025-07-07T14:55:44.015097",
     "exception": false,
     "start_time": "2025-07-07T14:55:43.989650",
     "status": "completed"
    },
    "tags": []
   },
   "source": [
    "## 🖼️ Random Shear Output"
   ]
  },
  {
   "cell_type": "code",
   "execution_count": 35,
   "id": "54f5e744",
   "metadata": {
    "execution": {
     "iopub.execute_input": "2025-07-07T14:55:44.067337Z",
     "iopub.status.busy": "2025-07-07T14:55:44.066824Z",
     "iopub.status.idle": "2025-07-07T14:55:44.070211Z",
     "shell.execute_reply": "2025-07-07T14:55:44.069515Z"
    },
    "papermill": {
     "duration": 0.030943,
     "end_time": "2025-07-07T14:55:44.071427",
     "exception": false,
     "start_time": "2025-07-07T14:55:44.040484",
     "status": "completed"
    },
    "tags": []
   },
   "outputs": [],
   "source": [
    "# print(features.shape)\n",
    "\n",
    "# sheared_1 = apply_shear_frames(features[0], shear_right=0)\n",
    "# sheared_2 = apply_shear_frames(features[0], shear_right=1)\n",
    "\n",
    "# sheared_1 = np.asarray(sheared_1)\n",
    "# sheared_2 = np.asarray(sheared_2)\n",
    "\n",
    "# print(sheared_1.shape)\n",
    "# show_frame(sheared_1[0])\n",
    "# show_frame(sheared_2[0])"
   ]
  },
  {
   "cell_type": "markdown",
   "id": "444eac4a",
   "metadata": {
    "papermill": {
     "duration": 0.02529,
     "end_time": "2025-07-07T14:55:44.122682",
     "exception": false,
     "start_time": "2025-07-07T14:55:44.097392",
     "status": "completed"
    },
    "tags": []
   },
   "source": [
    "# 📌 Preparing Data for Training"
   ]
  },
  {
   "cell_type": "code",
   "execution_count": 36,
   "id": "d433d851",
   "metadata": {
    "execution": {
     "iopub.execute_input": "2025-07-07T14:55:44.175382Z",
     "iopub.status.busy": "2025-07-07T14:55:44.174697Z",
     "iopub.status.idle": "2025-07-07T14:55:44.666076Z",
     "shell.execute_reply": "2025-07-07T14:55:44.665314Z"
    },
    "papermill": {
     "duration": 0.518889,
     "end_time": "2025-07-07T14:55:44.667287",
     "exception": false,
     "start_time": "2025-07-07T14:55:44.148398",
     "status": "completed"
    },
    "tags": []
   },
   "outputs": [],
   "source": [
    "# Clear previous session to free memory\n",
    "import gc\n",
    "\n",
    "gc.collect()\n",
    "tf.keras.backend.clear_session()"
   ]
  },
  {
   "cell_type": "markdown",
   "id": "cf5996fe",
   "metadata": {
    "papermill": {
     "duration": 0.025737,
     "end_time": "2025-07-07T14:55:44.719735",
     "exception": false,
     "start_time": "2025-07-07T14:55:44.693998",
     "status": "completed"
    },
    "tags": []
   },
   "source": [
    "## Splitting data for ***Trainig*** and ***Testing***"
   ]
  },
  {
   "cell_type": "code",
   "execution_count": 37,
   "id": "3e0eb328",
   "metadata": {
    "execution": {
     "iopub.execute_input": "2025-07-07T14:55:44.772114Z",
     "iopub.status.busy": "2025-07-07T14:55:44.771576Z",
     "iopub.status.idle": "2025-07-07T14:55:47.241916Z",
     "shell.execute_reply": "2025-07-07T14:55:47.241131Z"
    },
    "papermill": {
     "duration": 2.498095,
     "end_time": "2025-07-07T14:55:47.243259",
     "exception": false,
     "start_time": "2025-07-07T14:55:44.745164",
     "status": "completed"
    },
    "tags": []
   },
   "outputs": [
    {
     "data": {
      "text/plain": [
       "((8000, 5, 128, 128, 3), (8000,))"
      ]
     },
     "execution_count": 37,
     "metadata": {},
     "output_type": "execute_result"
    }
   ],
   "source": [
    "videos = video_generator.videos\n",
    "labels = video_generator.labels\n",
    "\n",
    "videos = np.array(videos, dtype='float32')\n",
    "labels = np.array(labels)\n",
    "\n",
    "videos.shape, labels.shape"
   ]
  },
  {
   "cell_type": "code",
   "execution_count": 38,
   "id": "af94842f",
   "metadata": {
    "execution": {
     "iopub.execute_input": "2025-07-07T14:55:47.297571Z",
     "iopub.status.busy": "2025-07-07T14:55:47.297318Z",
     "iopub.status.idle": "2025-07-07T14:55:47.302814Z",
     "shell.execute_reply": "2025-07-07T14:55:47.302275Z"
    },
    "papermill": {
     "duration": 0.033268,
     "end_time": "2025-07-07T14:55:47.303853",
     "exception": false,
     "start_time": "2025-07-07T14:55:47.270585",
     "status": "completed"
    },
    "tags": []
   },
   "outputs": [
    {
     "data": {
      "text/plain": [
       "(8000, 50)"
      ]
     },
     "execution_count": 38,
     "metadata": {},
     "output_type": "execute_result"
    }
   ],
   "source": [
    "from tensorflow.keras.utils import to_categorical\n",
    "\n",
    "one_hot_encoded_labels = to_categorical(labels)\n",
    "\n",
    "one_hot_encoded_labels.shape"
   ]
  },
  {
   "cell_type": "code",
   "execution_count": 39,
   "id": "5b7251b3",
   "metadata": {
    "execution": {
     "iopub.execute_input": "2025-07-07T14:55:47.356605Z",
     "iopub.status.busy": "2025-07-07T14:55:47.356360Z",
     "iopub.status.idle": "2025-07-07T14:55:47.598557Z",
     "shell.execute_reply": "2025-07-07T14:55:47.597945Z"
    },
    "papermill": {
     "duration": 0.269616,
     "end_time": "2025-07-07T14:55:47.599680",
     "exception": false,
     "start_time": "2025-07-07T14:55:47.330064",
     "status": "completed"
    },
    "tags": []
   },
   "outputs": [
    {
     "data": {
      "text/plain": [
       "0"
      ]
     },
     "execution_count": 39,
     "metadata": {},
     "output_type": "execute_result"
    }
   ],
   "source": [
    "gc.collect()"
   ]
  },
  {
   "cell_type": "code",
   "execution_count": 40,
   "id": "06ed3bb7",
   "metadata": {
    "execution": {
     "iopub.execute_input": "2025-07-07T14:55:47.653128Z",
     "iopub.status.busy": "2025-07-07T14:55:47.652870Z",
     "iopub.status.idle": "2025-07-07T14:55:51.969261Z",
     "shell.execute_reply": "2025-07-07T14:55:51.968504Z"
    },
    "papermill": {
     "duration": 4.344246,
     "end_time": "2025-07-07T14:55:51.970496",
     "exception": false,
     "start_time": "2025-07-07T14:55:47.626250",
     "status": "completed"
    },
    "tags": []
   },
   "outputs": [
    {
     "data": {
      "text/plain": [
       "((6400, 5, 128, 128, 3), (6400, 50), (1600, 5, 128, 128, 3), (1600, 50))"
      ]
     },
     "execution_count": 40,
     "metadata": {},
     "output_type": "execute_result"
    }
   ],
   "source": [
    "# RUN Split the Data into Train ( 75% ) and Test Set ( 25% ).\n",
    "from sklearn.model_selection import train_test_split\n",
    "features_train, features_test, labels_train, labels_test = train_test_split(videos,\n",
    "                                                                            one_hot_encoded_labels,\n",
    "                                                                            test_size = TEST_SIZE,\n",
    "                                                                            shuffle = True,\n",
    "                                                                            random_state = seed_constant)\n",
    "\n",
    "features_train.shape, labels_train.shape, features_test.shape, labels_test.shape"
   ]
  },
  {
   "cell_type": "markdown",
   "id": "d517f00d",
   "metadata": {
    "papermill": {
     "duration": 0.025692,
     "end_time": "2025-07-07T14:55:52.022666",
     "exception": false,
     "start_time": "2025-07-07T14:55:51.996974",
     "status": "completed"
    },
    "tags": []
   },
   "source": [
    "## Splitting data for ***Training Set*** and ***Validation Set***"
   ]
  },
  {
   "cell_type": "code",
   "execution_count": 41,
   "id": "f5998ac2",
   "metadata": {
    "execution": {
     "iopub.execute_input": "2025-07-07T14:55:52.074806Z",
     "iopub.status.busy": "2025-07-07T14:55:52.074572Z",
     "iopub.status.idle": "2025-07-07T14:55:52.080167Z",
     "shell.execute_reply": "2025-07-07T14:55:52.079512Z"
    },
    "papermill": {
     "duration": 0.033017,
     "end_time": "2025-07-07T14:55:52.081303",
     "exception": false,
     "start_time": "2025-07-07T14:55:52.048286",
     "status": "completed"
    },
    "tags": []
   },
   "outputs": [
    {
     "data": {
      "text/plain": [
       "((5120, 5, 128, 128, 3), (5120, 50), (1280, 5, 128, 128, 3), (1280, 50))"
      ]
     },
     "execution_count": 41,
     "metadata": {},
     "output_type": "execute_result"
    }
   ],
   "source": [
    "# Assuming features_train and labels_train are defined\n",
    "train_set = 1-VALIDATION_SPLIT\n",
    "\n",
    "train_video_frames, val_video_frames = features_train[:int(train_set * len(features_train))], features_train[int(train_set * len(features_train)):]\n",
    "train_labels, val_labels = labels_train[:int(train_set * len(labels_train))], labels_train[int(train_set * len(labels_train)):]\n",
    "\n",
    "train_video_frames.shape, train_labels.shape, val_video_frames.shape, val_labels.shape"
   ]
  },
  {
   "cell_type": "markdown",
   "id": "3f96fe49",
   "metadata": {
    "papermill": {
     "duration": 0.025395,
     "end_time": "2025-07-07T14:55:52.132317",
     "exception": false,
     "start_time": "2025-07-07T14:55:52.106922",
     "status": "completed"
    },
    "tags": []
   },
   "source": [
    "## Use Generator `Video Data Generator`"
   ]
  },
  {
   "cell_type": "code",
   "execution_count": 42,
   "id": "e301f8a3",
   "metadata": {
    "execution": {
     "iopub.execute_input": "2025-07-07T14:55:52.184630Z",
     "iopub.status.busy": "2025-07-07T14:55:52.184408Z",
     "iopub.status.idle": "2025-07-07T14:55:52.193202Z",
     "shell.execute_reply": "2025-07-07T14:55:52.192617Z"
    },
    "papermill": {
     "duration": 0.036485,
     "end_time": "2025-07-07T14:55:52.194315",
     "exception": false,
     "start_time": "2025-07-07T14:55:52.157830",
     "status": "completed"
    },
    "tags": []
   },
   "outputs": [
    {
     "name": "stdout",
     "output_type": "stream",
     "text": [
      "Total 5120 videos and 5120 classes\n",
      "Total 1280 videos and 1280 classes\n"
     ]
    },
    {
     "data": {
      "text/plain": [
       "(214, 54)"
      ]
     },
     "execution_count": 42,
     "metadata": {},
     "output_type": "execute_result"
    }
   ],
   "source": [
    "# Create the training and validation generators\n",
    "train_gen = VideoDataGenerator(\n",
    "    videos=train_video_frames, \n",
    "    labels=train_labels, \n",
    "    batch_size=BATCH_SIZE,\n",
    ")\n",
    "\n",
    "val_gen = VideoDataGenerator(\n",
    "    videos=val_video_frames, \n",
    "    labels=val_labels, \n",
    "    batch_size=BATCH_SIZE,\n",
    ")\n",
    "\n",
    "len(train_gen), len(val_gen)"
   ]
  },
  {
   "cell_type": "markdown",
   "id": "126129ee",
   "metadata": {
    "papermill": {
     "duration": 0.025712,
     "end_time": "2025-07-07T14:55:52.246136",
     "exception": false,
     "start_time": "2025-07-07T14:55:52.220424",
     "status": "completed"
    },
    "tags": []
   },
   "source": [
    "## Inspect ***Generator*** Data on Epochs"
   ]
  },
  {
   "cell_type": "code",
   "execution_count": 43,
   "id": "11a629c6",
   "metadata": {
    "execution": {
     "iopub.execute_input": "2025-07-07T14:55:52.300061Z",
     "iopub.status.busy": "2025-07-07T14:55:52.299832Z",
     "iopub.status.idle": "2025-07-07T14:55:52.310671Z",
     "shell.execute_reply": "2025-07-07T14:55:52.310087Z"
    },
    "papermill": {
     "duration": 0.039304,
     "end_time": "2025-07-07T14:55:52.311831",
     "exception": false,
     "start_time": "2025-07-07T14:55:52.272527",
     "status": "completed"
    },
    "tags": []
   },
   "outputs": [
    {
     "name": "stdout",
     "output_type": "stream",
     "text": [
      "[   0    1    2 ... 5117 5118 5119]\n",
      "[ 321  554 4164 ... 1303 2893 4996]\n"
     ]
    },
    {
     "data": {
      "text/plain": [
       "(24, (24, 5, 128, 128, 3), (24, 50))"
      ]
     },
     "execution_count": 43,
     "metadata": {},
     "output_type": "execute_result"
    }
   ],
   "source": [
    "features, labels = train_gen[1]\n",
    "\n",
    "print(train_gen.indices)\n",
    "\n",
    "train_gen.on_epoch_end()\n",
    "\n",
    "print(train_gen.indices)\n",
    "\n",
    "BATCH_SIZE, features.shape, labels.shape"
   ]
  },
  {
   "cell_type": "markdown",
   "id": "31310a68",
   "metadata": {
    "papermill": {
     "duration": 0.026492,
     "end_time": "2025-07-07T14:55:52.365313",
     "exception": false,
     "start_time": "2025-07-07T14:55:52.338821",
     "status": "completed"
    },
    "tags": []
   },
   "source": [
    "## Compute Class Weight"
   ]
  },
  {
   "cell_type": "code",
   "execution_count": 44,
   "id": "31657312",
   "metadata": {
    "execution": {
     "iopub.execute_input": "2025-07-07T14:55:52.418760Z",
     "iopub.status.busy": "2025-07-07T14:55:52.418532Z",
     "iopub.status.idle": "2025-07-07T14:55:52.426167Z",
     "shell.execute_reply": "2025-07-07T14:55:52.425431Z"
    },
    "papermill": {
     "duration": 0.036089,
     "end_time": "2025-07-07T14:55:52.427565",
     "exception": false,
     "start_time": "2025-07-07T14:55:52.391476",
     "status": "completed"
    },
    "tags": []
   },
   "outputs": [
    {
     "name": "stdout",
     "output_type": "stream",
     "text": [
      "Class weights: {0: 1.0, 1: 1.0, 2: 1.0, 3: 1.0, 4: 1.0, 5: 1.0, 6: 1.0, 7: 1.0, 8: 1.0, 9: 1.0, 10: 1.0, 11: 1.0, 12: 1.0, 13: 1.0, 14: 1.0, 15: 1.0, 16: 1.0, 17: 1.0, 18: 1.0, 19: 1.0, 20: 1.0, 21: 1.0, 22: 1.0, 23: 1.0, 24: 1.0, 25: 1.0, 26: 1.0, 27: 1.0, 28: 1.0, 29: 1.0, 30: 1.0, 31: 1.0, 32: 1.0, 33: 1.0, 34: 1.0, 35: 1.0, 36: 1.0, 37: 1.0, 38: 1.0, 39: 1.0, 40: 1.0, 41: 1.0, 42: 1.0, 43: 1.0, 44: 1.0, 45: 1.0, 46: 1.0, 47: 1.0, 48: 1.0, 49: 1.0}\n"
     ]
    }
   ],
   "source": [
    "from sklearn.utils.class_weight import compute_class_weight\n",
    "import numpy as np\n",
    "\n",
    "# Assuming y_int are integer labels (not one-hot)\n",
    "y_int = np.argmax(one_hot_encoded_labels, axis=1)  # or just integer labels if you have them\n",
    "\n",
    "classes = np.arange(NO_OF_CLASSES)  # e.g. np.arange(16)\n",
    "class_weights_values = compute_class_weight(class_weight='balanced', classes=classes, y=y_int)\n",
    "\n",
    "class_weights = dict(zip(classes, class_weights_values))\n",
    "\n",
    "print(\"Class weights:\", class_weights)\n"
   ]
  },
  {
   "cell_type": "code",
   "execution_count": 45,
   "id": "a1eaab6b",
   "metadata": {
    "execution": {
     "iopub.execute_input": "2025-07-07T14:55:52.487618Z",
     "iopub.status.busy": "2025-07-07T14:55:52.487353Z",
     "iopub.status.idle": "2025-07-07T14:55:52.762636Z",
     "shell.execute_reply": "2025-07-07T14:55:52.761947Z"
    },
    "papermill": {
     "duration": 0.307108,
     "end_time": "2025-07-07T14:55:52.763833",
     "exception": false,
     "start_time": "2025-07-07T14:55:52.456725",
     "status": "completed"
    },
    "tags": []
   },
   "outputs": [],
   "source": [
    "gc.collect()\n",
    "del videos, one_hot_encoded_labels, labels_train\n",
    "del features_train, val_labels, train_labels\n",
    "del val_video_frames, train_video_frames"
   ]
  },
  {
   "cell_type": "markdown",
   "id": "9ce3cce1",
   "metadata": {
    "papermill": {
     "duration": 0.028901,
     "end_time": "2025-07-07T14:55:52.820461",
     "exception": false,
     "start_time": "2025-07-07T14:55:52.791560",
     "status": "completed"
    },
    "tags": []
   },
   "source": [
    "# ✨ Model Execution\n",
    "## Creating Model"
   ]
  },
  {
   "cell_type": "code",
   "execution_count": 46,
   "id": "b77f506e",
   "metadata": {
    "execution": {
     "iopub.execute_input": "2025-07-07T14:55:52.880319Z",
     "iopub.status.busy": "2025-07-07T14:55:52.880048Z",
     "iopub.status.idle": "2025-07-07T14:55:54.186282Z",
     "shell.execute_reply": "2025-07-07T14:55:54.185665Z"
    },
    "papermill": {
     "duration": 1.340307,
     "end_time": "2025-07-07T14:55:54.187310",
     "exception": false,
     "start_time": "2025-07-07T14:55:52.847003",
     "status": "completed"
    },
    "tags": []
   },
   "outputs": [
    {
     "name": "stdout",
     "output_type": "stream",
     "text": [
      "Loading Xception base model...\n",
      "Model architecture created successfully!\n"
     ]
    },
    {
     "name": "stderr",
     "output_type": "stream",
     "text": [
      "/usr/local/lib/python3.11/dist-packages/keras/src/layers/core/wrapper.py:27: UserWarning: Do not pass an `input_shape`/`input_dim` argument to a layer. When using Sequential models, prefer using an `Input(shape)` object as the first layer in the model instead.\n",
      "  super().__init__(**kwargs)\n"
     ]
    },
    {
     "data": {
      "text/html": [
       "<pre style=\"white-space:pre;overflow-x:auto;line-height:normal;font-family:Menlo,'DejaVu Sans Mono',consolas,'Courier New',monospace\"><span style=\"font-weight: bold\">Model: \"sequential\"</span>\n",
       "</pre>\n"
      ],
      "text/plain": [
       "\u001b[1mModel: \"sequential\"\u001b[0m\n"
      ]
     },
     "metadata": {},
     "output_type": "display_data"
    },
    {
     "data": {
      "text/html": [
       "<pre style=\"white-space:pre;overflow-x:auto;line-height:normal;font-family:Menlo,'DejaVu Sans Mono',consolas,'Courier New',monospace\">┏━━━━━━━━━━━━━━━━━━━━━━━━━━━━━━━━━━━━━━┳━━━━━━━━━━━━━━━━━━━━━━━━━━━━━┳━━━━━━━━━━━━━━━━━┓\n",
       "┃<span style=\"font-weight: bold\"> Layer (type)                         </span>┃<span style=\"font-weight: bold\"> Output Shape                </span>┃<span style=\"font-weight: bold\">         Param # </span>┃\n",
       "┡━━━━━━━━━━━━━━━━━━━━━━━━━━━━━━━━━━━━━━╇━━━━━━━━━━━━━━━━━━━━━━━━━━━━━╇━━━━━━━━━━━━━━━━━┩\n",
       "│ time_distributed (<span style=\"color: #0087ff; text-decoration-color: #0087ff\">TimeDistributed</span>)   │ (<span style=\"color: #00d7ff; text-decoration-color: #00d7ff\">None</span>, <span style=\"color: #00af00; text-decoration-color: #00af00\">5</span>, <span style=\"color: #00af00; text-decoration-color: #00af00\">4</span>, <span style=\"color: #00af00; text-decoration-color: #00af00\">4</span>, <span style=\"color: #00af00; text-decoration-color: #00af00\">2048</span>)       │      <span style=\"color: #00af00; text-decoration-color: #00af00\">20,861,480</span> │\n",
       "├──────────────────────────────────────┼─────────────────────────────┼─────────────────┤\n",
       "│ time_distributed_1 (<span style=\"color: #0087ff; text-decoration-color: #0087ff\">TimeDistributed</span>) │ (<span style=\"color: #00d7ff; text-decoration-color: #00d7ff\">None</span>, <span style=\"color: #00af00; text-decoration-color: #00af00\">5</span>, <span style=\"color: #00af00; text-decoration-color: #00af00\">2048</span>)             │               <span style=\"color: #00af00; text-decoration-color: #00af00\">0</span> │\n",
       "├──────────────────────────────────────┼─────────────────────────────┼─────────────────┤\n",
       "│ lstm (<span style=\"color: #0087ff; text-decoration-color: #0087ff\">LSTM</span>)                          │ (<span style=\"color: #00d7ff; text-decoration-color: #00d7ff\">None</span>, <span style=\"color: #00af00; text-decoration-color: #00af00\">128</span>)                 │       <span style=\"color: #00af00; text-decoration-color: #00af00\">1,114,624</span> │\n",
       "├──────────────────────────────────────┼─────────────────────────────┼─────────────────┤\n",
       "│ batch_normalization                  │ (<span style=\"color: #00d7ff; text-decoration-color: #00d7ff\">None</span>, <span style=\"color: #00af00; text-decoration-color: #00af00\">128</span>)                 │             <span style=\"color: #00af00; text-decoration-color: #00af00\">512</span> │\n",
       "│ (<span style=\"color: #0087ff; text-decoration-color: #0087ff\">BatchNormalization</span>)                 │                             │                 │\n",
       "├──────────────────────────────────────┼─────────────────────────────┼─────────────────┤\n",
       "│ dropout_lstm (<span style=\"color: #0087ff; text-decoration-color: #0087ff\">Dropout</span>)               │ (<span style=\"color: #00d7ff; text-decoration-color: #00d7ff\">None</span>, <span style=\"color: #00af00; text-decoration-color: #00af00\">128</span>)                 │               <span style=\"color: #00af00; text-decoration-color: #00af00\">0</span> │\n",
       "├──────────────────────────────────────┼─────────────────────────────┼─────────────────┤\n",
       "│ dense (<span style=\"color: #0087ff; text-decoration-color: #0087ff\">Dense</span>)                        │ (<span style=\"color: #00d7ff; text-decoration-color: #00d7ff\">None</span>, <span style=\"color: #00af00; text-decoration-color: #00af00\">512</span>)                 │          <span style=\"color: #00af00; text-decoration-color: #00af00\">66,048</span> │\n",
       "├──────────────────────────────────────┼─────────────────────────────┼─────────────────┤\n",
       "│ dropout_dense (<span style=\"color: #0087ff; text-decoration-color: #0087ff\">Dropout</span>)              │ (<span style=\"color: #00d7ff; text-decoration-color: #00d7ff\">None</span>, <span style=\"color: #00af00; text-decoration-color: #00af00\">512</span>)                 │               <span style=\"color: #00af00; text-decoration-color: #00af00\">0</span> │\n",
       "├──────────────────────────────────────┼─────────────────────────────┼─────────────────┤\n",
       "│ dense_1 (<span style=\"color: #0087ff; text-decoration-color: #0087ff\">Dense</span>)                      │ (<span style=\"color: #00d7ff; text-decoration-color: #00d7ff\">None</span>, <span style=\"color: #00af00; text-decoration-color: #00af00\">50</span>)                  │          <span style=\"color: #00af00; text-decoration-color: #00af00\">25,650</span> │\n",
       "└──────────────────────────────────────┴─────────────────────────────┴─────────────────┘\n",
       "</pre>\n"
      ],
      "text/plain": [
       "┏━━━━━━━━━━━━━━━━━━━━━━━━━━━━━━━━━━━━━━┳━━━━━━━━━━━━━━━━━━━━━━━━━━━━━┳━━━━━━━━━━━━━━━━━┓\n",
       "┃\u001b[1m \u001b[0m\u001b[1mLayer (type)                        \u001b[0m\u001b[1m \u001b[0m┃\u001b[1m \u001b[0m\u001b[1mOutput Shape               \u001b[0m\u001b[1m \u001b[0m┃\u001b[1m \u001b[0m\u001b[1m        Param #\u001b[0m\u001b[1m \u001b[0m┃\n",
       "┡━━━━━━━━━━━━━━━━━━━━━━━━━━━━━━━━━━━━━━╇━━━━━━━━━━━━━━━━━━━━━━━━━━━━━╇━━━━━━━━━━━━━━━━━┩\n",
       "│ time_distributed (\u001b[38;5;33mTimeDistributed\u001b[0m)   │ (\u001b[38;5;45mNone\u001b[0m, \u001b[38;5;34m5\u001b[0m, \u001b[38;5;34m4\u001b[0m, \u001b[38;5;34m4\u001b[0m, \u001b[38;5;34m2048\u001b[0m)       │      \u001b[38;5;34m20,861,480\u001b[0m │\n",
       "├──────────────────────────────────────┼─────────────────────────────┼─────────────────┤\n",
       "│ time_distributed_1 (\u001b[38;5;33mTimeDistributed\u001b[0m) │ (\u001b[38;5;45mNone\u001b[0m, \u001b[38;5;34m5\u001b[0m, \u001b[38;5;34m2048\u001b[0m)             │               \u001b[38;5;34m0\u001b[0m │\n",
       "├──────────────────────────────────────┼─────────────────────────────┼─────────────────┤\n",
       "│ lstm (\u001b[38;5;33mLSTM\u001b[0m)                          │ (\u001b[38;5;45mNone\u001b[0m, \u001b[38;5;34m128\u001b[0m)                 │       \u001b[38;5;34m1,114,624\u001b[0m │\n",
       "├──────────────────────────────────────┼─────────────────────────────┼─────────────────┤\n",
       "│ batch_normalization                  │ (\u001b[38;5;45mNone\u001b[0m, \u001b[38;5;34m128\u001b[0m)                 │             \u001b[38;5;34m512\u001b[0m │\n",
       "│ (\u001b[38;5;33mBatchNormalization\u001b[0m)                 │                             │                 │\n",
       "├──────────────────────────────────────┼─────────────────────────────┼─────────────────┤\n",
       "│ dropout_lstm (\u001b[38;5;33mDropout\u001b[0m)               │ (\u001b[38;5;45mNone\u001b[0m, \u001b[38;5;34m128\u001b[0m)                 │               \u001b[38;5;34m0\u001b[0m │\n",
       "├──────────────────────────────────────┼─────────────────────────────┼─────────────────┤\n",
       "│ dense (\u001b[38;5;33mDense\u001b[0m)                        │ (\u001b[38;5;45mNone\u001b[0m, \u001b[38;5;34m512\u001b[0m)                 │          \u001b[38;5;34m66,048\u001b[0m │\n",
       "├──────────────────────────────────────┼─────────────────────────────┼─────────────────┤\n",
       "│ dropout_dense (\u001b[38;5;33mDropout\u001b[0m)              │ (\u001b[38;5;45mNone\u001b[0m, \u001b[38;5;34m512\u001b[0m)                 │               \u001b[38;5;34m0\u001b[0m │\n",
       "├──────────────────────────────────────┼─────────────────────────────┼─────────────────┤\n",
       "│ dense_1 (\u001b[38;5;33mDense\u001b[0m)                      │ (\u001b[38;5;45mNone\u001b[0m, \u001b[38;5;34m50\u001b[0m)                  │          \u001b[38;5;34m25,650\u001b[0m │\n",
       "└──────────────────────────────────────┴─────────────────────────────┴─────────────────┘\n"
      ]
     },
     "metadata": {},
     "output_type": "display_data"
    },
    {
     "data": {
      "text/html": [
       "<pre style=\"white-space:pre;overflow-x:auto;line-height:normal;font-family:Menlo,'DejaVu Sans Mono',consolas,'Courier New',monospace\"><span style=\"font-weight: bold\"> Total params: </span><span style=\"color: #00af00; text-decoration-color: #00af00\">22,068,314</span> (84.18 MB)\n",
       "</pre>\n"
      ],
      "text/plain": [
       "\u001b[1m Total params: \u001b[0m\u001b[38;5;34m22,068,314\u001b[0m (84.18 MB)\n"
      ]
     },
     "metadata": {},
     "output_type": "display_data"
    },
    {
     "data": {
      "text/html": [
       "<pre style=\"white-space:pre;overflow-x:auto;line-height:normal;font-family:Menlo,'DejaVu Sans Mono',consolas,'Courier New',monospace\"><span style=\"font-weight: bold\"> Trainable params: </span><span style=\"color: #00af00; text-decoration-color: #00af00\">6,702,898</span> (25.57 MB)\n",
       "</pre>\n"
      ],
      "text/plain": [
       "\u001b[1m Trainable params: \u001b[0m\u001b[38;5;34m6,702,898\u001b[0m (25.57 MB)\n"
      ]
     },
     "metadata": {},
     "output_type": "display_data"
    },
    {
     "data": {
      "text/html": [
       "<pre style=\"white-space:pre;overflow-x:auto;line-height:normal;font-family:Menlo,'DejaVu Sans Mono',consolas,'Courier New',monospace\"><span style=\"font-weight: bold\"> Non-trainable params: </span><span style=\"color: #00af00; text-decoration-color: #00af00\">15,365,416</span> (58.61 MB)\n",
       "</pre>\n"
      ],
      "text/plain": [
       "\u001b[1m Non-trainable params: \u001b[0m\u001b[38;5;34m15,365,416\u001b[0m (58.61 MB)\n"
      ]
     },
     "metadata": {},
     "output_type": "display_data"
    },
    {
     "name": "stdout",
     "output_type": "stream",
     "text": [
      "Model Created Successfully!\n"
     ]
    }
   ],
   "source": [
    "# Create the model\n",
    "xlstm_model = create_xception_lstm_model(\n",
    "    sequence_length=SEQUENCE_LENGTH,\n",
    "    image_height=IMAGE_HEIGHT,\n",
    "    image_width=IMAGE_WIDTH,\n",
    "    classes_list=CLASSES_LIST,\n",
    "    dropout_rate=DROPOUT_RATE\n",
    ")\n",
    "\n",
    "# Check if model was created successfully\n",
    "if xlstm_model is None:\n",
    "    print(\"Failed to create model. Check error messages above.\")\n",
    "else:\n",
    "    print(\"Model Created Successfully!\")"
   ]
  },
  {
   "cell_type": "markdown",
   "id": "3a5a18dd",
   "metadata": {
    "papermill": {
     "duration": 0.026796,
     "end_time": "2025-07-07T14:55:54.241766",
     "exception": false,
     "start_time": "2025-07-07T14:55:54.214970",
     "status": "completed"
    },
    "tags": []
   },
   "source": [
    "## Plot Model Structure"
   ]
  },
  {
   "cell_type": "code",
   "execution_count": 47,
   "id": "957d26af",
   "metadata": {
    "execution": {
     "iopub.execute_input": "2025-07-07T14:55:54.295830Z",
     "iopub.status.busy": "2025-07-07T14:55:54.295595Z",
     "iopub.status.idle": "2025-07-07T14:55:54.686475Z",
     "shell.execute_reply": "2025-07-07T14:55:54.685772Z"
    },
    "papermill": {
     "duration": 0.419381,
     "end_time": "2025-07-07T14:55:54.687648",
     "exception": false,
     "start_time": "2025-07-07T14:55:54.268267",
     "status": "completed"
    },
    "tags": []
   },
   "outputs": [
    {
     "name": "stdout",
     "output_type": "stream",
     "text": [
      "Xception Model Plot saved successfully...\n"
     ]
    }
   ],
   "source": [
    "# Plot the structure of the contructed model.\n",
    "from tensorflow.keras.utils import plot_model\n",
    "\n",
    "plot_model(xlstm_model, to_file = f'{MODEL_NAME}_model_Plot.png', show_shapes = True, show_layer_names = True)\n",
    "\n",
    "print(f\"{MODEL_NAME} Model Plot saved successfully...\")"
   ]
  },
  {
   "cell_type": "markdown",
   "id": "b3957c68",
   "metadata": {
    "papermill": {
     "duration": 0.026514,
     "end_time": "2025-07-07T14:55:54.742197",
     "exception": false,
     "start_time": "2025-07-07T14:55:54.715683",
     "status": "completed"
    },
    "tags": []
   },
   "source": [
    "## Model Compile"
   ]
  },
  {
   "cell_type": "code",
   "execution_count": 48,
   "id": "9c3f300f",
   "metadata": {
    "execution": {
     "iopub.execute_input": "2025-07-07T14:55:54.796217Z",
     "iopub.status.busy": "2025-07-07T14:55:54.795967Z",
     "iopub.status.idle": "2025-07-07T14:55:54.813512Z",
     "shell.execute_reply": "2025-07-07T14:55:54.812963Z"
    },
    "papermill": {
     "duration": 0.04584,
     "end_time": "2025-07-07T14:55:54.814573",
     "exception": false,
     "start_time": "2025-07-07T14:55:54.768733",
     "status": "completed"
    },
    "tags": []
   },
   "outputs": [],
   "source": [
    "# Create an Instance of Early Stopping Callback\n",
    "from tensorflow.keras.callbacks import EarlyStopping\n",
    "\n",
    "early_stopping_callback = EarlyStopping(monitor = 'val_loss', \n",
    "                                        patience = 7, \n",
    "                                        mode = 'min', \n",
    "                                        restore_best_weights = True)\n",
    "\n",
    "# Compile the model and specify loss function, optimizer and metrics values to the model\n",
    "xlstm_model.compile(loss = 'categorical_crossentropy', \n",
    "                    optimizer=tf.keras.optimizers.Adam(learning_rate=0.0001),\n",
    "                    metrics = [\"accuracy\"])\n"
   ]
  },
  {
   "cell_type": "markdown",
   "id": "d318db6e",
   "metadata": {
    "papermill": {
     "duration": 0.026376,
     "end_time": "2025-07-07T14:55:54.868248",
     "exception": false,
     "start_time": "2025-07-07T14:55:54.841872",
     "status": "completed"
    },
    "tags": []
   },
   "source": [
    "## 💪 Model Fit"
   ]
  },
  {
   "cell_type": "code",
   "execution_count": 49,
   "id": "4b6f5b00",
   "metadata": {
    "execution": {
     "iopub.execute_input": "2025-07-07T14:55:54.922583Z",
     "iopub.status.busy": "2025-07-07T14:55:54.922375Z",
     "iopub.status.idle": "2025-07-07T14:55:54.930957Z",
     "shell.execute_reply": "2025-07-07T14:55:54.930335Z"
    },
    "papermill": {
     "duration": 0.03678,
     "end_time": "2025-07-07T14:55:54.932044",
     "exception": false,
     "start_time": "2025-07-07T14:55:54.895264",
     "status": "completed"
    },
    "tags": []
   },
   "outputs": [
    {
     "name": "stdout",
     "output_type": "stream",
     "text": [
      "Unique labels: [ 0  1  2  3  4  5  6  7  8  9 10 11 12 13 14 15 16 17 18 19 20 21 22 23\n",
      " 24 25 26 27 28 29 30 31 32 33 34 35 36 37 38 39 40 41 42 43 44 45 46 47\n",
      " 48 49]\n",
      "NO_OF_CLASSES: 50\n"
     ]
    }
   ],
   "source": [
    "labels = np.argmax(train_gen.labels, axis=1)  # assuming one-hot encoded\n",
    "print(\"Unique labels:\", np.unique(labels))\n",
    "print(\"NO_OF_CLASSES:\", NO_OF_CLASSES)\n"
   ]
  },
  {
   "cell_type": "code",
   "execution_count": 50,
   "id": "467367f7",
   "metadata": {
    "execution": {
     "iopub.execute_input": "2025-07-07T14:55:54.998350Z",
     "iopub.status.busy": "2025-07-07T14:55:54.997900Z",
     "iopub.status.idle": "2025-07-07T14:55:55.006520Z",
     "shell.execute_reply": "2025-07-07T14:55:55.005756Z"
    },
    "papermill": {
     "duration": 0.041589,
     "end_time": "2025-07-07T14:55:55.007640",
     "exception": false,
     "start_time": "2025-07-07T14:55:54.966051",
     "status": "completed"
    },
    "tags": []
   },
   "outputs": [
    {
     "name": "stdout",
     "output_type": "stream",
     "text": [
      "Train label shape: (5120, 50)\n",
      "Val label shape: (1280, 50)\n"
     ]
    }
   ],
   "source": [
    "print(\"Train label shape:\", np.shape(train_gen.labels))\n",
    "print(\"Val label shape:\", np.shape(val_gen.labels))\n"
   ]
  },
  {
   "cell_type": "code",
   "execution_count": 51,
   "id": "def88e10",
   "metadata": {
    "execution": {
     "iopub.execute_input": "2025-07-07T14:55:55.076717Z",
     "iopub.status.busy": "2025-07-07T14:55:55.076388Z",
     "iopub.status.idle": "2025-07-07T15:29:23.762672Z",
     "shell.execute_reply": "2025-07-07T15:29:23.761846Z"
    },
    "papermill": {
     "duration": 2008.91585,
     "end_time": "2025-07-07T15:29:23.953257",
     "exception": false,
     "start_time": "2025-07-07T14:55:55.037407",
     "status": "completed"
    },
    "tags": []
   },
   "outputs": [
    {
     "name": "stdout",
     "output_type": "stream",
     "text": [
      "Dataset - Ucf50\n",
      "There are total 50 classes, selected 50 classes\n",
      "Setting 20 videos/class to train the model.\n",
      "Image size 128x128 with 5 sequence length\n",
      "Dropout rate: 0.5\n",
      "Train-Test split ratio 80/20\n",
      "Validation data from Train set 20.0%\n",
      "\n",
      "\n",
      "Training started for 5120 videos of 50 classes with 1280 videos for validation...\n",
      "Epoch 1/30\n"
     ]
    },
    {
     "name": "stderr",
     "output_type": "stream",
     "text": [
      "I0000 00:00:1751900185.407871      63 cuda_dnn.cc:529] Loaded cuDNN version 90300\n"
     ]
    },
    {
     "name": "stdout",
     "output_type": "stream",
     "text": [
      "    214/Unknown \u001b[1m87s\u001b[0m 250ms/step - accuracy: 0.0551 - loss: 13.8508"
     ]
    },
    {
     "name": "stderr",
     "output_type": "stream",
     "text": [
      "/usr/local/lib/python3.11/dist-packages/keras/src/trainers/epoch_iterator.py:151: UserWarning: Your input ran out of data; interrupting training. Make sure that your dataset or generator can generate at least `steps_per_epoch * epochs` batches. You may need to use the `.repeat()` function when building your dataset.\n",
      "  self._interrupted_warning()\n"
     ]
    },
    {
     "name": "stdout",
     "output_type": "stream",
     "text": [
      "\u001b[1m214/214\u001b[0m \u001b[32m━━━━━━━━━━━━━━━━━━━━\u001b[0m\u001b[37m\u001b[0m \u001b[1m105s\u001b[0m 335ms/step - accuracy: 0.0553 - loss: 13.8462 - val_accuracy: 0.5484 - val_loss: 11.2080 - learning_rate: 1.0000e-04\n",
      "Epoch 2/30\n",
      "\u001b[1m214/214\u001b[0m \u001b[32m━━━━━━━━━━━━━━━━━━━━\u001b[0m\u001b[37m\u001b[0m \u001b[1m66s\u001b[0m 308ms/step - accuracy: 0.2869 - loss: 10.3186 - val_accuracy: 0.7203 - val_loss: 8.3203 - learning_rate: 1.0000e-04\n",
      "Epoch 3/30\n",
      "\u001b[1m214/214\u001b[0m \u001b[32m━━━━━━━━━━━━━━━━━━━━\u001b[0m\u001b[37m\u001b[0m \u001b[1m66s\u001b[0m 308ms/step - accuracy: 0.4893 - loss: 8.0863 - val_accuracy: 0.8313 - val_loss: 6.3516 - learning_rate: 1.0000e-04\n",
      "Epoch 4/30\n",
      "\u001b[1m214/214\u001b[0m \u001b[32m━━━━━━━━━━━━━━━━━━━━\u001b[0m\u001b[37m\u001b[0m \u001b[1m66s\u001b[0m 306ms/step - accuracy: 0.6417 - loss: 6.4677 - val_accuracy: 0.8938 - val_loss: 5.1600 - learning_rate: 1.0000e-04\n",
      "Epoch 5/30\n",
      "\u001b[1m214/214\u001b[0m \u001b[32m━━━━━━━━━━━━━━━━━━━━\u001b[0m\u001b[37m\u001b[0m \u001b[1m66s\u001b[0m 307ms/step - accuracy: 0.7637 - loss: 5.3294 - val_accuracy: 0.9242 - val_loss: 4.3162 - learning_rate: 1.0000e-04\n",
      "Epoch 6/30\n",
      "\u001b[1m214/214\u001b[0m \u001b[32m━━━━━━━━━━━━━━━━━━━━\u001b[0m\u001b[37m\u001b[0m \u001b[1m66s\u001b[0m 307ms/step - accuracy: 0.8471 - loss: 4.4905 - val_accuracy: 0.9492 - val_loss: 3.7192 - learning_rate: 1.0000e-04\n",
      "Epoch 7/30\n",
      "\u001b[1m214/214\u001b[0m \u001b[32m━━━━━━━━━━━━━━━━━━━━\u001b[0m\u001b[37m\u001b[0m \u001b[1m66s\u001b[0m 307ms/step - accuracy: 0.9199 - loss: 3.8242 - val_accuracy: 0.9648 - val_loss: 3.2629 - learning_rate: 1.0000e-04\n",
      "Epoch 8/30\n",
      "\u001b[1m214/214\u001b[0m \u001b[32m━━━━━━━━━━━━━━━━━━━━\u001b[0m\u001b[37m\u001b[0m \u001b[1m66s\u001b[0m 307ms/step - accuracy: 0.9539 - loss: 3.3315 - val_accuracy: 0.9703 - val_loss: 2.9111 - learning_rate: 1.0000e-04\n",
      "Epoch 9/30\n",
      "\u001b[1m214/214\u001b[0m \u001b[32m━━━━━━━━━━━━━━━━━━━━\u001b[0m\u001b[37m\u001b[0m \u001b[1m66s\u001b[0m 307ms/step - accuracy: 0.9658 - loss: 2.9605 - val_accuracy: 0.9805 - val_loss: 2.6104 - learning_rate: 1.0000e-04\n",
      "Epoch 10/30\n",
      "\u001b[1m214/214\u001b[0m \u001b[32m━━━━━━━━━━━━━━━━━━━━\u001b[0m\u001b[37m\u001b[0m \u001b[1m66s\u001b[0m 307ms/step - accuracy: 0.9847 - loss: 2.6384 - val_accuracy: 0.9875 - val_loss: 2.3541 - learning_rate: 1.0000e-04\n",
      "Epoch 11/30\n",
      "\u001b[1m214/214\u001b[0m \u001b[32m━━━━━━━━━━━━━━━━━━━━\u001b[0m\u001b[37m\u001b[0m \u001b[1m66s\u001b[0m 307ms/step - accuracy: 0.9907 - loss: 2.3513 - val_accuracy: 0.9898 - val_loss: 2.1153 - learning_rate: 1.0000e-04\n",
      "Epoch 12/30\n",
      "\u001b[1m214/214\u001b[0m \u001b[32m━━━━━━━━━━━━━━━━━━━━\u001b[0m\u001b[37m\u001b[0m \u001b[1m66s\u001b[0m 307ms/step - accuracy: 0.9934 - loss: 2.1141 - val_accuracy: 0.9922 - val_loss: 1.8966 - learning_rate: 1.0000e-04\n",
      "Epoch 13/30\n",
      "\u001b[1m214/214\u001b[0m \u001b[32m━━━━━━━━━━━━━━━━━━━━\u001b[0m\u001b[37m\u001b[0m \u001b[1m65s\u001b[0m 306ms/step - accuracy: 0.9971 - loss: 1.8883 - val_accuracy: 0.9914 - val_loss: 1.6940 - learning_rate: 1.0000e-04\n",
      "Epoch 14/30\n",
      "\u001b[1m214/214\u001b[0m \u001b[32m━━━━━━━━━━━━━━━━━━━━\u001b[0m\u001b[37m\u001b[0m \u001b[1m66s\u001b[0m 307ms/step - accuracy: 0.9969 - loss: 1.6780 - val_accuracy: 0.9930 - val_loss: 1.5021 - learning_rate: 1.0000e-04\n",
      "Epoch 15/30\n",
      "\u001b[1m214/214\u001b[0m \u001b[32m━━━━━━━━━━━━━━━━━━━━\u001b[0m\u001b[37m\u001b[0m \u001b[1m65s\u001b[0m 306ms/step - accuracy: 0.9972 - loss: 1.4889 - val_accuracy: 0.9914 - val_loss: 1.3382 - learning_rate: 1.0000e-04\n",
      "Epoch 16/30\n",
      "\u001b[1m214/214\u001b[0m \u001b[32m━━━━━━━━━━━━━━━━━━━━\u001b[0m\u001b[37m\u001b[0m \u001b[1m65s\u001b[0m 306ms/step - accuracy: 0.9971 - loss: 1.3137 - val_accuracy: 0.9945 - val_loss: 1.1808 - learning_rate: 1.0000e-04\n",
      "Epoch 17/30\n",
      "\u001b[1m214/214\u001b[0m \u001b[32m━━━━━━━━━━━━━━━━━━━━\u001b[0m\u001b[37m\u001b[0m \u001b[1m66s\u001b[0m 306ms/step - accuracy: 0.9987 - loss: 1.1538 - val_accuracy: 0.9945 - val_loss: 1.0259 - learning_rate: 1.0000e-04\n",
      "Epoch 18/30\n",
      "\u001b[1m214/214\u001b[0m \u001b[32m━━━━━━━━━━━━━━━━━━━━\u001b[0m\u001b[37m\u001b[0m \u001b[1m66s\u001b[0m 307ms/step - accuracy: 0.9990 - loss: 1.0038 - val_accuracy: 0.9945 - val_loss: 0.8944 - learning_rate: 1.0000e-04\n",
      "Epoch 19/30\n",
      "\u001b[1m214/214\u001b[0m \u001b[32m━━━━━━━━━━━━━━━━━━━━\u001b[0m\u001b[37m\u001b[0m \u001b[1m65s\u001b[0m 306ms/step - accuracy: 0.9996 - loss: 0.8842 - val_accuracy: 0.9937 - val_loss: 0.7792 - learning_rate: 1.0000e-04\n",
      "Epoch 20/30\n",
      "\u001b[1m214/214\u001b[0m \u001b[32m━━━━━━━━━━━━━━━━━━━━\u001b[0m\u001b[37m\u001b[0m \u001b[1m66s\u001b[0m 307ms/step - accuracy: 1.0000 - loss: 0.7618 - val_accuracy: 0.9937 - val_loss: 0.6805 - learning_rate: 1.0000e-04\n",
      "Epoch 21/30\n",
      "\u001b[1m214/214\u001b[0m \u001b[32m━━━━━━━━━━━━━━━━━━━━\u001b[0m\u001b[37m\u001b[0m \u001b[1m65s\u001b[0m 306ms/step - accuracy: 0.9994 - loss: 0.6608 - val_accuracy: 0.9937 - val_loss: 0.5970 - learning_rate: 1.0000e-04\n",
      "Epoch 22/30\n",
      "\u001b[1m214/214\u001b[0m \u001b[32m━━━━━━━━━━━━━━━━━━━━\u001b[0m\u001b[37m\u001b[0m \u001b[1m66s\u001b[0m 306ms/step - accuracy: 1.0000 - loss: 0.5826 - val_accuracy: 0.9961 - val_loss: 0.5136 - learning_rate: 1.0000e-04\n",
      "Epoch 23/30\n",
      "\u001b[1m214/214\u001b[0m \u001b[32m━━━━━━━━━━━━━━━━━━━━\u001b[0m\u001b[37m\u001b[0m \u001b[1m65s\u001b[0m 306ms/step - accuracy: 0.9999 - loss: 0.5039 - val_accuracy: 0.9937 - val_loss: 0.4560 - learning_rate: 1.0000e-04\n",
      "Epoch 24/30\n",
      "\u001b[1m214/214\u001b[0m \u001b[32m━━━━━━━━━━━━━━━━━━━━\u001b[0m\u001b[37m\u001b[0m \u001b[1m66s\u001b[0m 306ms/step - accuracy: 1.0000 - loss: 0.4434 - val_accuracy: 0.9953 - val_loss: 0.4000 - learning_rate: 1.0000e-04\n",
      "Epoch 25/30\n",
      "\u001b[1m214/214\u001b[0m \u001b[32m━━━━━━━━━━━━━━━━━━━━\u001b[0m\u001b[37m\u001b[0m \u001b[1m66s\u001b[0m 307ms/step - accuracy: 1.0000 - loss: 0.3916 - val_accuracy: 0.9961 - val_loss: 0.3553 - learning_rate: 1.0000e-04\n",
      "Epoch 26/30\n",
      "\u001b[1m214/214\u001b[0m \u001b[32m━━━━━━━━━━━━━━━━━━━━\u001b[0m\u001b[37m\u001b[0m \u001b[1m66s\u001b[0m 306ms/step - accuracy: 0.9998 - loss: 0.3550 - val_accuracy: 0.9953 - val_loss: 0.3245 - learning_rate: 1.0000e-04\n",
      "Epoch 27/30\n",
      "\u001b[1m214/214\u001b[0m \u001b[32m━━━━━━━━━━━━━━━━━━━━\u001b[0m\u001b[37m\u001b[0m \u001b[1m66s\u001b[0m 306ms/step - accuracy: 1.0000 - loss: 0.3159 - val_accuracy: 0.9953 - val_loss: 0.3007 - learning_rate: 1.0000e-04\n",
      "Epoch 28/30\n",
      "\u001b[1m214/214\u001b[0m \u001b[32m━━━━━━━━━━━━━━━━━━━━\u001b[0m\u001b[37m\u001b[0m \u001b[1m66s\u001b[0m 307ms/step - accuracy: 1.0000 - loss: 0.2884 - val_accuracy: 0.9969 - val_loss: 0.2681 - learning_rate: 1.0000e-04\n",
      "Epoch 29/30\n",
      "\u001b[1m214/214\u001b[0m \u001b[32m━━━━━━━━━━━━━━━━━━━━\u001b[0m\u001b[37m\u001b[0m \u001b[1m66s\u001b[0m 307ms/step - accuracy: 1.0000 - loss: 0.2608 - val_accuracy: 0.9937 - val_loss: 0.2522 - learning_rate: 1.0000e-04\n",
      "Epoch 30/30\n",
      "\u001b[1m214/214\u001b[0m \u001b[32m━━━━━━━━━━━━━━━━━━━━\u001b[0m\u001b[37m\u001b[0m \u001b[1m66s\u001b[0m 307ms/step - accuracy: 1.0000 - loss: 0.2416 - val_accuracy: 0.9945 - val_loss: 0.2305 - learning_rate: 1.0000e-04\n"
     ]
    }
   ],
   "source": [
    "from tensorflow.keras.callbacks import ReduceLROnPlateau\n",
    "\n",
    "lr_scheduler = ReduceLROnPlateau(monitor='val_loss', \n",
    "                                 factor=0.5, \n",
    "                                 patience=3, \n",
    "                                 min_lr=1e-6)\n",
    "\n",
    "\n",
    "\n",
    "print(f\"Dataset - {DATASET_NAME}\")\n",
    "print(f\"There are total {len(ALL_CLASS_NAMES)} classes, selected {NO_OF_CLASSES} classes\")\n",
    "print(f\"Setting {MAX_VIDEO_PER_CLASS} videos/class to train the model.\")\n",
    "print(f\"Image size {IMAGE_HEIGHT}x{IMAGE_WIDTH} with {SEQUENCE_LENGTH} sequence length\")\n",
    "print(f\"Dropout rate: {DROPOUT_RATE}\")\n",
    "print(f\"Train-Test split ratio {int((1-TEST_SIZE)*100)}/{int(TEST_SIZE*100)}\")\n",
    "print(f\"Validation data from Train set {VALIDATION_SPLIT*100}%\")\n",
    "\n",
    "print(\"\\n\")\n",
    "\n",
    "print(f\"Training started for {len(train_gen.videos)} videos of {NO_OF_CLASSES} classes with {len(val_gen.videos)} videos for validation...\")\n",
    "\n",
    "model_history = xlstm_model.fit(\n",
    "    train_gen.as_dataset(),\n",
    "    validation_data=val_gen.as_dataset(),\n",
    "    epochs=EPOCHS,\n",
    "    # class_weight=class_weight_dict,\n",
    "    callbacks=[early_stopping_callback, lr_scheduler]\n",
    ")"
   ]
  },
  {
   "cell_type": "markdown",
   "id": "6e96d231",
   "metadata": {
    "papermill": {
     "duration": 0.318879,
     "end_time": "2025-07-07T15:29:24.634325",
     "exception": false,
     "start_time": "2025-07-07T15:29:24.315446",
     "status": "completed"
    },
    "tags": []
   },
   "source": [
    "# Evaluation"
   ]
  },
  {
   "cell_type": "markdown",
   "id": "4b02ff5f",
   "metadata": {
    "papermill": {
     "duration": 0.327545,
     "end_time": "2025-07-07T15:29:25.270836",
     "exception": false,
     "start_time": "2025-07-07T15:29:24.943291",
     "status": "completed"
    },
    "tags": []
   },
   "source": [
    "## ⚡ Model Evaluate"
   ]
  },
  {
   "cell_type": "code",
   "execution_count": 52,
   "id": "c3092dda",
   "metadata": {
    "execution": {
     "iopub.execute_input": "2025-07-07T15:29:25.922114Z",
     "iopub.status.busy": "2025-07-07T15:29:25.921836Z",
     "iopub.status.idle": "2025-07-07T15:29:43.796650Z",
     "shell.execute_reply": "2025-07-07T15:29:43.796023Z"
    },
    "papermill": {
     "duration": 18.175671,
     "end_time": "2025-07-07T15:29:43.797955",
     "exception": false,
     "start_time": "2025-07-07T15:29:25.622284",
     "status": "completed"
    },
    "tags": []
   },
   "outputs": [
    {
     "name": "stdout",
     "output_type": "stream",
     "text": [
      "\u001b[1m50/50\u001b[0m \u001b[32m━━━━━━━━━━━━━━━━━━━━\u001b[0m\u001b[37m\u001b[0m \u001b[1m14s\u001b[0m 266ms/step - accuracy: 0.9943 - loss: 0.2335\n"
     ]
    }
   ],
   "source": [
    "# previous code\n",
    "model_evaluation_history = xlstm_model.evaluate(features_test, labels_test)"
   ]
  },
  {
   "cell_type": "code",
   "execution_count": 53,
   "id": "b0bcc4c6",
   "metadata": {
    "execution": {
     "iopub.execute_input": "2025-07-07T15:29:44.405914Z",
     "iopub.status.busy": "2025-07-07T15:29:44.405638Z",
     "iopub.status.idle": "2025-07-07T15:29:44.763964Z",
     "shell.execute_reply": "2025-07-07T15:29:44.763040Z"
    },
    "papermill": {
     "duration": 0.66202,
     "end_time": "2025-07-07T15:29:44.765271",
     "exception": false,
     "start_time": "2025-07-07T15:29:44.103251",
     "status": "completed"
    },
    "tags": []
   },
   "outputs": [
    {
     "data": {
      "image/png": "[encoded data removed]",
      "text/plain": [
       "<Figure size 1200x500 with 2 Axes>"
      ]
     },
     "metadata": {},
     "output_type": "display_data"
    }
   ],
   "source": [
    "import matplotlib.pyplot as plt\n",
    "\n",
    "# Accuracy\n",
    "plt.figure(figsize=(12, 5))\n",
    "\n",
    "plt.subplot(1, 2, 1)\n",
    "plt.plot(model_history.history['accuracy'], label='Train Accuracy')\n",
    "plt.plot(model_history.history['val_accuracy'], label='Validation Accuracy')\n",
    "plt.title('Model Accuracy')\n",
    "plt.xlabel('Epoch')\n",
    "plt.ylabel('Accuracy')\n",
    "plt.legend()\n",
    "\n",
    "# Loss\n",
    "plt.subplot(1, 2, 2)\n",
    "plt.plot(model_history.history['loss'], label='Train Loss')\n",
    "plt.plot(model_history.history['val_loss'], label='Validation Loss')\n",
    "plt.title('Model Loss')\n",
    "plt.xlabel('Epoch')\n",
    "plt.ylabel('Loss')\n",
    "plt.legend()\n",
    "\n",
    "plt.tight_layout()\n",
    "plt.show()\n"
   ]
  },
  {
   "cell_type": "markdown",
   "id": "68178d04",
   "metadata": {
    "papermill": {
     "duration": 0.301163,
     "end_time": "2025-07-07T15:29:45.453086",
     "exception": false,
     "start_time": "2025-07-07T15:29:45.151923",
     "status": "completed"
    },
    "tags": []
   },
   "source": [
    "## 📈 Confusion Matrix"
   ]
  },
  {
   "cell_type": "code",
   "execution_count": 54,
   "id": "250306f6",
   "metadata": {
    "execution": {
     "iopub.execute_input": "2025-07-07T15:29:46.063660Z",
     "iopub.status.busy": "2025-07-07T15:29:46.063385Z",
     "iopub.status.idle": "2025-07-07T15:30:17.364363Z",
     "shell.execute_reply": "2025-07-07T15:30:17.363631Z"
    },
    "papermill": {
     "duration": 31.979684,
     "end_time": "2025-07-07T15:30:17.737156",
     "exception": false,
     "start_time": "2025-07-07T15:29:45.757472",
     "status": "completed"
    },
    "tags": []
   },
   "outputs": [
    {
     "name": "stdout",
     "output_type": "stream",
     "text": [
      "Total 1600 videos and 1600 classes\n",
      "\u001b[1m400/400\u001b[0m \u001b[32m━━━━━━━━━━━━━━━━━━━━\u001b[0m\u001b[37m\u001b[0m \u001b[1m28s\u001b[0m 51ms/step\n"
     ]
    },
    {
     "name": "stderr",
     "output_type": "stream",
     "text": [
      "/usr/local/lib/python3.11/dist-packages/keras/src/trainers/epoch_iterator.py:151: UserWarning: Your input ran out of data; interrupting training. Make sure that your dataset or generator can generate at least `steps_per_epoch * epochs` batches. You may need to use the `.repeat()` function when building your dataset.\n",
      "  self._interrupted_warning()\n"
     ]
    },
    {
     "name": "stdout",
     "output_type": "stream",
     "text": [
      "True classes shape: (1600,)\n",
      "Predicted classes shape: (1600,)\n",
      "Classification Report:\n",
      "                    precision    recall  f1-score   support\n",
      "\n",
      "         HorseRace       1.00      1.00      1.00        41\n",
      " VolleyballSpiking       1.00      0.97      0.99        37\n",
      "            Biking       1.00      1.00      1.00        43\n",
      "            TaiChi       0.97      1.00      0.98        32\n",
      "             Punch       1.00      1.00      1.00        27\n",
      "      BreastStroke       1.00      1.00      1.00        38\n",
      "         Billiards       1.00      1.00      1.00        34\n",
      "         PoleVault       0.97      1.00      0.99        36\n",
      "       ThrowDiscus       1.00      1.00      1.00        25\n",
      "     BaseballPitch       1.00      1.00      1.00        27\n",
      "       HorseRiding       1.00      1.00      1.00        29\n",
      "            Mixing       1.00      1.00      1.00        31\n",
      "          HighJump       1.00      1.00      1.00        35\n",
      "            Skijet       1.00      1.00      1.00        30\n",
      "     SkateBoarding       1.00      1.00      1.00        34\n",
      "    MilitaryParade       1.00      1.00      1.00        39\n",
      "           Fencing       1.00      1.00      1.00        31\n",
      "     JugglingBalls       1.00      0.97      0.98        33\n",
      "             Swing       0.92      1.00      0.96        24\n",
      "RockClimbingIndoor       1.00      1.00      1.00        28\n",
      "         SalsaSpin       1.00      0.97      0.99        37\n",
      "      PlayingTabla       1.00      1.00      1.00        31\n",
      "            Rowing       1.00      1.00      1.00        25\n",
      "        BenchPress       1.00      1.00      1.00        31\n",
      "           PushUps       1.00      1.00      1.00        33\n",
      "         Nunchucks       1.00      1.00      1.00        26\n",
      "     PlayingViolin       1.00      1.00      1.00        28\n",
      "           PullUps       0.97      1.00      0.98        31\n",
      "      PlayingPiano       1.00      1.00      1.00        31\n",
      "          HulaHoop       0.97      0.97      0.97        33\n",
      "      RopeClimbing       0.97      1.00      0.98        32\n",
      "              YoYo       1.00      1.00      1.00        34\n",
      " TrampolineJumping       1.00      1.00      1.00        28\n",
      "       JumpingJack       1.00      0.97      0.99        37\n",
      "          Drumming       1.00      1.00      1.00        26\n",
      "         GolfSwing       1.00      0.97      0.98        32\n",
      "     PlayingGuitar       1.00      1.00      1.00        35\n",
      "      PizzaTossing       1.00      1.00      1.00        29\n",
      "            Lunges       1.00      1.00      1.00        30\n",
      "       TennisSwing       1.00      1.00      1.00        29\n",
      "    WalkingWithDog       1.00      1.00      1.00        33\n",
      "          Kayaking       1.00      1.00      1.00        39\n",
      "       PommelHorse       1.00      1.00      1.00        30\n",
      "        Basketball       0.96      0.96      0.96        28\n",
      "          JumpRope       1.00      1.00      1.00        31\n",
      "      CleanAndJerk       1.00      0.97      0.98        31\n",
      "            Skiing       0.97      1.00      0.99        36\n",
      "            Diving       1.00      1.00      1.00        34\n",
      "    SoccerJuggling       1.00      0.95      0.98        22\n",
      "      JavelinThrow       1.00      1.00      1.00        44\n",
      "\n",
      "          accuracy                           0.99      1600\n",
      "         macro avg       0.99      0.99      0.99      1600\n",
      "      weighted avg       0.99      0.99      0.99      1600\n",
      "\n"
     ]
    },
    {
     "data": {
      "image/png": "[encoded data removed]",
      "text/plain": [
       "<Figure size 800x600 with 2 Axes>"
      ]
     },
     "metadata": {},
     "output_type": "display_data"
    }
   ],
   "source": [
    "from sklearn.metrics import classification_report, confusion_matrix\n",
    "import seaborn as sns\n",
    "import matplotlib.pyplot as plt\n",
    "\n",
    "# Create test generator with batch_size matching test set size\n",
    "test_gen = VideoDataGenerator(\n",
    "    videos=features_test,\n",
    "    labels=labels_test,\n",
    "    batch_size=4,  # Process all test samples at once\n",
    ")\n",
    "\n",
    "# Get predictions\n",
    "predictions = xlstm_model.predict(test_gen.as_dataset())\n",
    "predicted_classes = np.argmax(predictions, axis=1)\n",
    "true_classes = np.argmax(labels_test, axis=1)\n",
    "\n",
    "# Verify shapes\n",
    "print(f\"True classes shape: {true_classes.shape}\")\n",
    "print(f\"Predicted classes shape: {predicted_classes.shape}\")\n",
    "assert len(true_classes) == len(predicted_classes), \"Sample counts do not match!\"\n",
    "\n",
    "# Generate classification report\n",
    "print(\"Classification Report:\")\n",
    "print(classification_report(true_classes, predicted_classes, target_names=CLASSES_LIST))\n",
    "\n",
    "# Plot confusion matrix\n",
    "cm = confusion_matrix(true_classes, predicted_classes)\n",
    "plt.figure(figsize=(8, 6))\n",
    "sns.heatmap(cm, annot=True, fmt='d', cmap='Blues', xticklabels=CLASSES_LIST, yticklabels=CLASSES_LIST[-1])\n",
    "plt.xlabel('Predicted')\n",
    "plt.ylabel('True')\n",
    "plt.title('Confusion Matrix')\n",
    "plt.show()"
   ]
  },
  {
   "cell_type": "code",
   "execution_count": 55,
   "id": "64b0cbf3",
   "metadata": {
    "execution": {
     "iopub.execute_input": "2025-07-07T15:30:18.370676Z",
     "iopub.status.busy": "2025-07-07T15:30:18.370154Z",
     "iopub.status.idle": "2025-07-07T16:52:42.357648Z",
     "shell.execute_reply": "2025-07-07T16:52:42.356950Z"
    },
    "papermill": {
     "duration": 4944.309487,
     "end_time": "2025-07-07T16:52:42.360999",
     "exception": false,
     "start_time": "2025-07-07T15:30:18.051512",
     "status": "completed"
    },
    "tags": []
   },
   "outputs": [
    {
     "name": "stdout",
     "output_type": "stream",
     "text": [
      "Memory cleared before creating VGG19+LSTM model\n",
      "TensorFlow version: 2.18.0\n",
      "Pre-loading VGG19 weights...\n",
      "Downloading data from https://storage.googleapis.com/tensorflow/keras-applications/vgg19/vgg19_weights_tf_dim_ordering_tf_kernels_notop.h5\n",
      "\u001b[1m80134624/80134624\u001b[0m \u001b[32m━━━━━━━━━━━━━━━━━━━━\u001b[0m\u001b[37m\u001b[0m \u001b[1m0s\u001b[0m 0us/step\n",
      "VGG19 weights loaded successfully!\n",
      "Creating VGG19+LSTM model with parameters:\n",
      "sequence_length: 5, image_height: 128, image_width: 128, classes_list length: 50, dropout_rate: 0.5\n",
      "VGG19+LSTM model architecture created successfully!\n"
     ]
    },
    {
     "name": "stderr",
     "output_type": "stream",
     "text": [
      "/usr/local/lib/python3.11/dist-packages/keras/src/layers/core/wrapper.py:27: UserWarning: Do not pass an `input_shape`/`input_dim` argument to a layer. When using Sequential models, prefer using an `Input(shape)` object as the first layer in the model instead.\n",
      "  super().__init__(**kwargs)\n"
     ]
    },
    {
     "data": {
      "text/html": [
       "<pre style=\"white-space:pre;overflow-x:auto;line-height:normal;font-family:Menlo,'DejaVu Sans Mono',consolas,'Courier New',monospace\"><span style=\"font-weight: bold\">Model: \"sequential\"</span>\n",
       "</pre>\n"
      ],
      "text/plain": [
       "\u001b[1mModel: \"sequential\"\u001b[0m\n"
      ]
     },
     "metadata": {},
     "output_type": "display_data"
    },
    {
     "data": {
      "text/html": [
       "<pre style=\"white-space:pre;overflow-x:auto;line-height:normal;font-family:Menlo,'DejaVu Sans Mono',consolas,'Courier New',monospace\">┏━━━━━━━━━━━━━━━━━━━━━━━━━━━━━━━━━━━━━━┳━━━━━━━━━━━━━━━━━━━━━━━━━━━━━┳━━━━━━━━━━━━━━━━━┓\n",
       "┃<span style=\"font-weight: bold\"> Layer (type)                         </span>┃<span style=\"font-weight: bold\"> Output Shape                </span>┃<span style=\"font-weight: bold\">         Param # </span>┃\n",
       "┡━━━━━━━━━━━━━━━━━━━━━━━━━━━━━━━━━━━━━━╇━━━━━━━━━━━━━━━━━━━━━━━━━━━━━╇━━━━━━━━━━━━━━━━━┩\n",
       "│ time_distributed_vgg19               │ (<span style=\"color: #00d7ff; text-decoration-color: #00d7ff\">None</span>, <span style=\"color: #00af00; text-decoration-color: #00af00\">5</span>, <span style=\"color: #00af00; text-decoration-color: #00af00\">4</span>, <span style=\"color: #00af00; text-decoration-color: #00af00\">4</span>, <span style=\"color: #00af00; text-decoration-color: #00af00\">512</span>)        │      <span style=\"color: #00af00; text-decoration-color: #00af00\">20,024,384</span> │\n",
       "│ (<span style=\"color: #0087ff; text-decoration-color: #0087ff\">TimeDistributed</span>)                    │                             │                 │\n",
       "├──────────────────────────────────────┼─────────────────────────────┼─────────────────┤\n",
       "│ time_distributed_pooling             │ (<span style=\"color: #00d7ff; text-decoration-color: #00d7ff\">None</span>, <span style=\"color: #00af00; text-decoration-color: #00af00\">5</span>, <span style=\"color: #00af00; text-decoration-color: #00af00\">512</span>)              │               <span style=\"color: #00af00; text-decoration-color: #00af00\">0</span> │\n",
       "│ (<span style=\"color: #0087ff; text-decoration-color: #0087ff\">TimeDistributed</span>)                    │                             │                 │\n",
       "├──────────────────────────────────────┼─────────────────────────────┼─────────────────┤\n",
       "│ lstm_vgg19 (<span style=\"color: #0087ff; text-decoration-color: #0087ff\">LSTM</span>)                    │ (<span style=\"color: #00d7ff; text-decoration-color: #00d7ff\">None</span>, <span style=\"color: #00af00; text-decoration-color: #00af00\">512</span>)                 │       <span style=\"color: #00af00; text-decoration-color: #00af00\">2,099,200</span> │\n",
       "├──────────────────────────────────────┼─────────────────────────────┼─────────────────┤\n",
       "│ batch_normalization_vgg19            │ (<span style=\"color: #00d7ff; text-decoration-color: #00d7ff\">None</span>, <span style=\"color: #00af00; text-decoration-color: #00af00\">512</span>)                 │           <span style=\"color: #00af00; text-decoration-color: #00af00\">2,048</span> │\n",
       "│ (<span style=\"color: #0087ff; text-decoration-color: #0087ff\">BatchNormalization</span>)                 │                             │                 │\n",
       "├──────────────────────────────────────┼─────────────────────────────┼─────────────────┤\n",
       "│ dropout_lstm_vgg19 (<span style=\"color: #0087ff; text-decoration-color: #0087ff\">Dropout</span>)         │ (<span style=\"color: #00d7ff; text-decoration-color: #00d7ff\">None</span>, <span style=\"color: #00af00; text-decoration-color: #00af00\">512</span>)                 │               <span style=\"color: #00af00; text-decoration-color: #00af00\">0</span> │\n",
       "├──────────────────────────────────────┼─────────────────────────────┼─────────────────┤\n",
       "│ dense_vgg19_1 (<span style=\"color: #0087ff; text-decoration-color: #0087ff\">Dense</span>)                │ (<span style=\"color: #00d7ff; text-decoration-color: #00d7ff\">None</span>, <span style=\"color: #00af00; text-decoration-color: #00af00\">512</span>)                 │         <span style=\"color: #00af00; text-decoration-color: #00af00\">262,656</span> │\n",
       "├──────────────────────────────────────┼─────────────────────────────┼─────────────────┤\n",
       "│ dropout_dense_vgg19_1 (<span style=\"color: #0087ff; text-decoration-color: #0087ff\">Dropout</span>)      │ (<span style=\"color: #00d7ff; text-decoration-color: #00d7ff\">None</span>, <span style=\"color: #00af00; text-decoration-color: #00af00\">512</span>)                 │               <span style=\"color: #00af00; text-decoration-color: #00af00\">0</span> │\n",
       "├──────────────────────────────────────┼─────────────────────────────┼─────────────────┤\n",
       "│ dense_vgg19_2 (<span style=\"color: #0087ff; text-decoration-color: #0087ff\">Dense</span>)                │ (<span style=\"color: #00d7ff; text-decoration-color: #00d7ff\">None</span>, <span style=\"color: #00af00; text-decoration-color: #00af00\">128</span>)                 │          <span style=\"color: #00af00; text-decoration-color: #00af00\">65,664</span> │\n",
       "├──────────────────────────────────────┼─────────────────────────────┼─────────────────┤\n",
       "│ dropout_dense_vgg19_2 (<span style=\"color: #0087ff; text-decoration-color: #0087ff\">Dropout</span>)      │ (<span style=\"color: #00d7ff; text-decoration-color: #00d7ff\">None</span>, <span style=\"color: #00af00; text-decoration-color: #00af00\">128</span>)                 │               <span style=\"color: #00af00; text-decoration-color: #00af00\">0</span> │\n",
       "├──────────────────────────────────────┼─────────────────────────────┼─────────────────┤\n",
       "│ output_vgg19 (<span style=\"color: #0087ff; text-decoration-color: #0087ff\">Dense</span>)                 │ (<span style=\"color: #00d7ff; text-decoration-color: #00d7ff\">None</span>, <span style=\"color: #00af00; text-decoration-color: #00af00\">50</span>)                  │           <span style=\"color: #00af00; text-decoration-color: #00af00\">6,450</span> │\n",
       "└──────────────────────────────────────┴─────────────────────────────┴─────────────────┘\n",
       "</pre>\n"
      ],
      "text/plain": [
       "┏━━━━━━━━━━━━━━━━━━━━━━━━━━━━━━━━━━━━━━┳━━━━━━━━━━━━━━━━━━━━━━━━━━━━━┳━━━━━━━━━━━━━━━━━┓\n",
       "┃\u001b[1m \u001b[0m\u001b[1mLayer (type)                        \u001b[0m\u001b[1m \u001b[0m┃\u001b[1m \u001b[0m\u001b[1mOutput Shape               \u001b[0m\u001b[1m \u001b[0m┃\u001b[1m \u001b[0m\u001b[1m        Param #\u001b[0m\u001b[1m \u001b[0m┃\n",
       "┡━━━━━━━━━━━━━━━━━━━━━━━━━━━━━━━━━━━━━━╇━━━━━━━━━━━━━━━━━━━━━━━━━━━━━╇━━━━━━━━━━━━━━━━━┩\n",
       "│ time_distributed_vgg19               │ (\u001b[38;5;45mNone\u001b[0m, \u001b[38;5;34m5\u001b[0m, \u001b[38;5;34m4\u001b[0m, \u001b[38;5;34m4\u001b[0m, \u001b[38;5;34m512\u001b[0m)        │      \u001b[38;5;34m20,024,384\u001b[0m │\n",
       "│ (\u001b[38;5;33mTimeDistributed\u001b[0m)                    │                             │                 │\n",
       "├──────────────────────────────────────┼─────────────────────────────┼─────────────────┤\n",
       "│ time_distributed_pooling             │ (\u001b[38;5;45mNone\u001b[0m, \u001b[38;5;34m5\u001b[0m, \u001b[38;5;34m512\u001b[0m)              │               \u001b[38;5;34m0\u001b[0m │\n",
       "│ (\u001b[38;5;33mTimeDistributed\u001b[0m)                    │                             │                 │\n",
       "├──────────────────────────────────────┼─────────────────────────────┼─────────────────┤\n",
       "│ lstm_vgg19 (\u001b[38;5;33mLSTM\u001b[0m)                    │ (\u001b[38;5;45mNone\u001b[0m, \u001b[38;5;34m512\u001b[0m)                 │       \u001b[38;5;34m2,099,200\u001b[0m │\n",
       "├──────────────────────────────────────┼─────────────────────────────┼─────────────────┤\n",
       "│ batch_normalization_vgg19            │ (\u001b[38;5;45mNone\u001b[0m, \u001b[38;5;34m512\u001b[0m)                 │           \u001b[38;5;34m2,048\u001b[0m │\n",
       "│ (\u001b[38;5;33mBatchNormalization\u001b[0m)                 │                             │                 │\n",
       "├──────────────────────────────────────┼─────────────────────────────┼─────────────────┤\n",
       "│ dropout_lstm_vgg19 (\u001b[38;5;33mDropout\u001b[0m)         │ (\u001b[38;5;45mNone\u001b[0m, \u001b[38;5;34m512\u001b[0m)                 │               \u001b[38;5;34m0\u001b[0m │\n",
       "├──────────────────────────────────────┼─────────────────────────────┼─────────────────┤\n",
       "│ dense_vgg19_1 (\u001b[38;5;33mDense\u001b[0m)                │ (\u001b[38;5;45mNone\u001b[0m, \u001b[38;5;34m512\u001b[0m)                 │         \u001b[38;5;34m262,656\u001b[0m │\n",
       "├──────────────────────────────────────┼─────────────────────────────┼─────────────────┤\n",
       "│ dropout_dense_vgg19_1 (\u001b[38;5;33mDropout\u001b[0m)      │ (\u001b[38;5;45mNone\u001b[0m, \u001b[38;5;34m512\u001b[0m)                 │               \u001b[38;5;34m0\u001b[0m │\n",
       "├──────────────────────────────────────┼─────────────────────────────┼─────────────────┤\n",
       "│ dense_vgg19_2 (\u001b[38;5;33mDense\u001b[0m)                │ (\u001b[38;5;45mNone\u001b[0m, \u001b[38;5;34m128\u001b[0m)                 │          \u001b[38;5;34m65,664\u001b[0m │\n",
       "├──────────────────────────────────────┼─────────────────────────────┼─────────────────┤\n",
       "│ dropout_dense_vgg19_2 (\u001b[38;5;33mDropout\u001b[0m)      │ (\u001b[38;5;45mNone\u001b[0m, \u001b[38;5;34m128\u001b[0m)                 │               \u001b[38;5;34m0\u001b[0m │\n",
       "├──────────────────────────────────────┼─────────────────────────────┼─────────────────┤\n",
       "│ output_vgg19 (\u001b[38;5;33mDense\u001b[0m)                 │ (\u001b[38;5;45mNone\u001b[0m, \u001b[38;5;34m50\u001b[0m)                  │           \u001b[38;5;34m6,450\u001b[0m │\n",
       "└──────────────────────────────────────┴─────────────────────────────┴─────────────────┘\n"
      ]
     },
     "metadata": {},
     "output_type": "display_data"
    },
    {
     "data": {
      "text/html": [
       "<pre style=\"white-space:pre;overflow-x:auto;line-height:normal;font-family:Menlo,'DejaVu Sans Mono',consolas,'Courier New',monospace\"><span style=\"font-weight: bold\"> Total params: </span><span style=\"color: #00af00; text-decoration-color: #00af00\">22,460,402</span> (85.68 MB)\n",
       "</pre>\n"
      ],
      "text/plain": [
       "\u001b[1m Total params: \u001b[0m\u001b[38;5;34m22,460,402\u001b[0m (85.68 MB)\n"
      ]
     },
     "metadata": {},
     "output_type": "display_data"
    },
    {
     "data": {
      "text/html": [
       "<pre style=\"white-space:pre;overflow-x:auto;line-height:normal;font-family:Menlo,'DejaVu Sans Mono',consolas,'Courier New',monospace\"><span style=\"font-weight: bold\"> Trainable params: </span><span style=\"color: #00af00; text-decoration-color: #00af00\">2,434,994</span> (9.29 MB)\n",
       "</pre>\n"
      ],
      "text/plain": [
       "\u001b[1m Trainable params: \u001b[0m\u001b[38;5;34m2,434,994\u001b[0m (9.29 MB)\n"
      ]
     },
     "metadata": {},
     "output_type": "display_data"
    },
    {
     "data": {
      "text/html": [
       "<pre style=\"white-space:pre;overflow-x:auto;line-height:normal;font-family:Menlo,'DejaVu Sans Mono',consolas,'Courier New',monospace\"><span style=\"font-weight: bold\"> Non-trainable params: </span><span style=\"color: #00af00; text-decoration-color: #00af00\">20,025,408</span> (76.39 MB)\n",
       "</pre>\n"
      ],
      "text/plain": [
       "\u001b[1m Non-trainable params: \u001b[0m\u001b[38;5;34m20,025,408\u001b[0m (76.39 MB)\n"
      ]
     },
     "metadata": {},
     "output_type": "display_data"
    },
    {
     "name": "stdout",
     "output_type": "stream",
     "text": [
      "VGG19+LSTM Model Created Successfully!\n",
      "Xception_VGG19_LSTM Model Plot saved successfully...\n",
      "train_gen.videos shape: (5120, 5, 128, 128, 3)\n",
      "train_gen.labels shape: (5120, 50)\n",
      "val_gen.videos shape: (1280, 5, 128, 128, 3)\n",
      "val_gen.labels shape: (1280, 50)\n",
      "features_test shape: (1600, 5, 128, 128, 3)\n",
      "labels_test shape: (1600, 50)\n",
      "train_gen batch videos shape: (24, 5, 128, 128, 3)\n",
      "train_gen batch labels shape: (24, 50)\n",
      "val_gen batch videos shape: (24, 5, 128, 128, 3)\n",
      "val_gen batch labels shape: (24, 50)\n",
      "Dataset - Ucf50\n",
      "There are total 50 classes, selected 50 classes\n",
      "Setting 20 videos/class to train the model.\n",
      "Image size 128x128 with 5 sequence length\n",
      "Dropout rate: 0.5\n",
      "Train-Test split ratio 80/20\n",
      "Validation data from Train set 20.0%\n",
      "\n",
      "\n",
      "Initial training started for VGG19+LSTM model with 5120 videos of 50 classes with 1280 videos for validation...\n",
      "Epoch 1/30\n",
      "    214/Unknown \u001b[1m63s\u001b[0m 252ms/step - accuracy: 0.0718 - loss: 14.4938"
     ]
    },
    {
     "name": "stderr",
     "output_type": "stream",
     "text": [
      "/usr/local/lib/python3.11/dist-packages/keras/src/trainers/epoch_iterator.py:151: UserWarning: Your input ran out of data; interrupting training. Make sure that your dataset or generator can generate at least `steps_per_epoch * epochs` batches. You may need to use the `.repeat()` function when building your dataset.\n",
      "  self._interrupted_warning()\n"
     ]
    },
    {
     "name": "stdout",
     "output_type": "stream",
     "text": [
      "\u001b[1m214/214\u001b[0m \u001b[32m━━━━━━━━━━━━━━━━━━━━\u001b[0m\u001b[37m\u001b[0m \u001b[1m77s\u001b[0m 319ms/step - accuracy: 0.0719 - loss: 14.4800 - val_accuracy: 0.2102 - val_loss: 8.1895 - learning_rate: 0.0010\n",
      "Epoch 2/30\n",
      "\u001b[1m214/214\u001b[0m \u001b[32m━━━━━━━━━━━━━━━━━━━━\u001b[0m\u001b[37m\u001b[0m \u001b[1m65s\u001b[0m 305ms/step - accuracy: 0.2074 - loss: 6.8621 - val_accuracy: 0.2398 - val_loss: 5.3286 - learning_rate: 0.0010\n",
      "Epoch 3/30\n",
      "\u001b[1m214/214\u001b[0m \u001b[32m━━━━━━━━━━━━━━━━━━━━\u001b[0m\u001b[37m\u001b[0m \u001b[1m65s\u001b[0m 304ms/step - accuracy: 0.3224 - loss: 4.6168 - val_accuracy: 0.3195 - val_loss: 4.2366 - learning_rate: 0.0010\n",
      "Epoch 4/30\n",
      "\u001b[1m214/214\u001b[0m \u001b[32m━━━━━━━━━━━━━━━━━━━━\u001b[0m\u001b[37m\u001b[0m \u001b[1m65s\u001b[0m 305ms/step - accuracy: 0.3781 - loss: 3.7820 - val_accuracy: 0.2547 - val_loss: 4.5830 - learning_rate: 0.0010\n",
      "Epoch 5/30\n",
      "\u001b[1m214/214\u001b[0m \u001b[32m━━━━━━━━━━━━━━━━━━━━\u001b[0m\u001b[37m\u001b[0m \u001b[1m65s\u001b[0m 306ms/step - accuracy: 0.4310 - loss: 3.3140 - val_accuracy: 0.4227 - val_loss: 3.3897 - learning_rate: 0.0010\n",
      "Epoch 6/30\n",
      "\u001b[1m214/214\u001b[0m \u001b[32m━━━━━━━━━━━━━━━━━━━━\u001b[0m\u001b[37m\u001b[0m \u001b[1m65s\u001b[0m 305ms/step - accuracy: 0.4727 - loss: 3.1117 - val_accuracy: 0.1906 - val_loss: 5.2493 - learning_rate: 0.0010\n",
      "Epoch 7/30\n",
      "\u001b[1m214/214\u001b[0m \u001b[32m━━━━━━━━━━━━━━━━━━━━\u001b[0m\u001b[37m\u001b[0m \u001b[1m65s\u001b[0m 305ms/step - accuracy: 0.4875 - loss: 3.0255 - val_accuracy: 0.3141 - val_loss: 4.1169 - learning_rate: 0.0010\n",
      "Epoch 8/30\n",
      "\u001b[1m214/214\u001b[0m \u001b[32m━━━━━━━━━━━━━━━━━━━━\u001b[0m\u001b[37m\u001b[0m \u001b[1m65s\u001b[0m 306ms/step - accuracy: 0.4962 - loss: 2.9496 - val_accuracy: 0.3898 - val_loss: 3.4855 - learning_rate: 0.0010\n",
      "Epoch 9/30\n",
      "\u001b[1m214/214\u001b[0m \u001b[32m━━━━━━━━━━━━━━━━━━━━\u001b[0m\u001b[37m\u001b[0m \u001b[1m65s\u001b[0m 305ms/step - accuracy: 0.5769 - loss: 2.6102 - val_accuracy: 0.6305 - val_loss: 2.2992 - learning_rate: 5.0000e-04\n",
      "Epoch 10/30\n",
      "\u001b[1m214/214\u001b[0m \u001b[32m━━━━━━━━━━━━━━━━━━━━\u001b[0m\u001b[37m\u001b[0m \u001b[1m65s\u001b[0m 304ms/step - accuracy: 0.6366 - loss: 2.2633 - val_accuracy: 0.5609 - val_loss: 2.5625 - learning_rate: 5.0000e-04\n",
      "Epoch 11/30\n",
      "\u001b[1m214/214\u001b[0m \u001b[32m━━━━━━━━━━━━━━━━━━━━\u001b[0m\u001b[37m\u001b[0m \u001b[1m65s\u001b[0m 303ms/step - accuracy: 0.6465 - loss: 2.1427 - val_accuracy: 0.5648 - val_loss: 2.4152 - learning_rate: 5.0000e-04\n",
      "Epoch 12/30\n",
      "\u001b[1m214/214\u001b[0m \u001b[32m━━━━━━━━━━━━━━━━━━━━\u001b[0m\u001b[37m\u001b[0m \u001b[1m65s\u001b[0m 304ms/step - accuracy: 0.6630 - loss: 2.0346 - val_accuracy: 0.5703 - val_loss: 2.4201 - learning_rate: 5.0000e-04\n",
      "Epoch 13/30\n",
      "\u001b[1m214/214\u001b[0m \u001b[32m━━━━━━━━━━━━━━━━━━━━\u001b[0m\u001b[37m\u001b[0m \u001b[1m65s\u001b[0m 305ms/step - accuracy: 0.7020 - loss: 1.8544 - val_accuracy: 0.6773 - val_loss: 1.9193 - learning_rate: 2.5000e-04\n",
      "Epoch 14/30\n",
      "\u001b[1m214/214\u001b[0m \u001b[32m━━━━━━━━━━━━━━━━━━━━\u001b[0m\u001b[37m\u001b[0m \u001b[1m65s\u001b[0m 305ms/step - accuracy: 0.7507 - loss: 1.6603 - val_accuracy: 0.6867 - val_loss: 1.7720 - learning_rate: 2.5000e-04\n",
      "Epoch 15/30\n",
      "\u001b[1m214/214\u001b[0m \u001b[32m━━━━━━━━━━━━━━━━━━━━\u001b[0m\u001b[37m\u001b[0m \u001b[1m65s\u001b[0m 306ms/step - accuracy: 0.7576 - loss: 1.6087 - val_accuracy: 0.6641 - val_loss: 1.9096 - learning_rate: 2.5000e-04\n",
      "Epoch 16/30\n",
      "\u001b[1m214/214\u001b[0m \u001b[32m━━━━━━━━━━━━━━━━━━━━\u001b[0m\u001b[37m\u001b[0m \u001b[1m65s\u001b[0m 306ms/step - accuracy: 0.7603 - loss: 1.5489 - val_accuracy: 0.7188 - val_loss: 1.6684 - learning_rate: 2.5000e-04\n",
      "Epoch 17/30\n",
      "\u001b[1m214/214\u001b[0m \u001b[32m━━━━━━━━━━━━━━━━━━━━\u001b[0m\u001b[37m\u001b[0m \u001b[1m65s\u001b[0m 306ms/step - accuracy: 0.7627 - loss: 1.5131 - val_accuracy: 0.6961 - val_loss: 1.7884 - learning_rate: 2.5000e-04\n",
      "Epoch 18/30\n",
      "\u001b[1m214/214\u001b[0m \u001b[32m━━━━━━━━━━━━━━━━━━━━\u001b[0m\u001b[37m\u001b[0m \u001b[1m65s\u001b[0m 306ms/step - accuracy: 0.7847 - loss: 1.4397 - val_accuracy: 0.7211 - val_loss: 1.5943 - learning_rate: 2.5000e-04\n",
      "Epoch 19/30\n",
      "\u001b[1m214/214\u001b[0m \u001b[32m━━━━━━━━━━━━━━━━━━━━\u001b[0m\u001b[37m\u001b[0m \u001b[1m65s\u001b[0m 306ms/step - accuracy: 0.7975 - loss: 1.4026 - val_accuracy: 0.6117 - val_loss: 2.0373 - learning_rate: 2.5000e-04\n",
      "Epoch 20/30\n",
      "\u001b[1m214/214\u001b[0m \u001b[32m━━━━━━━━━━━━━━━━━━━━\u001b[0m\u001b[37m\u001b[0m \u001b[1m65s\u001b[0m 306ms/step - accuracy: 0.7948 - loss: 1.3894 - val_accuracy: 0.6617 - val_loss: 1.7805 - learning_rate: 2.5000e-04\n",
      "Epoch 21/30\n",
      "\u001b[1m214/214\u001b[0m \u001b[32m━━━━━━━━━━━━━━━━━━━━\u001b[0m\u001b[37m\u001b[0m \u001b[1m65s\u001b[0m 306ms/step - accuracy: 0.8066 - loss: 1.3423 - val_accuracy: 0.6930 - val_loss: 1.6878 - learning_rate: 2.5000e-04\n",
      "Epoch 22/30\n",
      "\u001b[1m214/214\u001b[0m \u001b[32m━━━━━━━━━━━━━━━━━━━━\u001b[0m\u001b[37m\u001b[0m \u001b[1m65s\u001b[0m 306ms/step - accuracy: 0.8209 - loss: 1.2908 - val_accuracy: 0.7742 - val_loss: 1.4054 - learning_rate: 1.2500e-04\n",
      "Epoch 23/30\n",
      "\u001b[1m214/214\u001b[0m \u001b[32m━━━━━━━━━━━━━━━━━━━━\u001b[0m\u001b[37m\u001b[0m \u001b[1m65s\u001b[0m 306ms/step - accuracy: 0.8314 - loss: 1.2135 - val_accuracy: 0.7828 - val_loss: 1.3384 - learning_rate: 1.2500e-04\n",
      "Epoch 24/30\n",
      "\u001b[1m214/214\u001b[0m \u001b[32m━━━━━━━━━━━━━━━━━━━━\u001b[0m\u001b[37m\u001b[0m \u001b[1m65s\u001b[0m 306ms/step - accuracy: 0.8535 - loss: 1.1356 - val_accuracy: 0.8125 - val_loss: 1.2783 - learning_rate: 1.2500e-04\n",
      "Epoch 25/30\n",
      "\u001b[1m214/214\u001b[0m \u001b[32m━━━━━━━━━━━━━━━━━━━━\u001b[0m\u001b[37m\u001b[0m \u001b[1m65s\u001b[0m 304ms/step - accuracy: 0.8495 - loss: 1.1244 - val_accuracy: 0.7344 - val_loss: 1.4596 - learning_rate: 1.2500e-04\n",
      "Epoch 26/30\n",
      "\u001b[1m214/214\u001b[0m \u001b[32m━━━━━━━━━━━━━━━━━━━━\u001b[0m\u001b[37m\u001b[0m \u001b[1m65s\u001b[0m 305ms/step - accuracy: 0.8540 - loss: 1.1118 - val_accuracy: 0.7266 - val_loss: 1.4543 - learning_rate: 1.2500e-04\n",
      "Epoch 27/30\n",
      "\u001b[1m214/214\u001b[0m \u001b[32m━━━━━━━━━━━━━━━━━━━━\u001b[0m\u001b[37m\u001b[0m \u001b[1m65s\u001b[0m 306ms/step - accuracy: 0.8632 - loss: 1.0817 - val_accuracy: 0.8250 - val_loss: 1.1464 - learning_rate: 1.2500e-04\n",
      "Epoch 28/30\n",
      "\u001b[1m214/214\u001b[0m \u001b[32m━━━━━━━━━━━━━━━━━━━━\u001b[0m\u001b[37m\u001b[0m \u001b[1m65s\u001b[0m 305ms/step - accuracy: 0.8616 - loss: 1.0757 - val_accuracy: 0.8039 - val_loss: 1.2119 - learning_rate: 1.2500e-04\n",
      "Epoch 29/30\n",
      "\u001b[1m214/214\u001b[0m \u001b[32m━━━━━━━━━━━━━━━━━━━━\u001b[0m\u001b[37m\u001b[0m \u001b[1m65s\u001b[0m 304ms/step - accuracy: 0.8632 - loss: 1.0382 - val_accuracy: 0.8070 - val_loss: 1.2188 - learning_rate: 1.2500e-04\n",
      "Epoch 30/30\n",
      "\u001b[1m214/214\u001b[0m \u001b[32m━━━━━━━━━━━━━━━━━━━━\u001b[0m\u001b[37m\u001b[0m \u001b[1m65s\u001b[0m 305ms/step - accuracy: 0.8640 - loss: 1.0269 - val_accuracy: 0.8195 - val_loss: 1.1333 - learning_rate: 1.2500e-04\n",
      "\n",
      "Fine-tuning started for VGG19+LSTM model with 5120 videos of 50 classes with 1280 videos for validation...\n",
      "Epoch 1/30\n",
      "\u001b[1m214/214\u001b[0m \u001b[32m━━━━━━━━━━━━━━━━━━━━\u001b[0m\u001b[37m\u001b[0m \u001b[1m110s\u001b[0m 464ms/step - accuracy: 0.5161 - loss: 2.4989 - val_accuracy: 0.7578 - val_loss: 1.3603 - learning_rate: 1.0000e-04\n",
      "Epoch 2/30\n",
      "\u001b[1m214/214\u001b[0m \u001b[32m━━━━━━━━━━━━━━━━━━━━\u001b[0m\u001b[37m\u001b[0m \u001b[1m97s\u001b[0m 454ms/step - accuracy: 0.8265 - loss: 1.1209 - val_accuracy: 0.9453 - val_loss: 0.7267 - learning_rate: 1.0000e-04\n",
      "Epoch 3/30\n",
      "\u001b[1m214/214\u001b[0m \u001b[32m━━━━━━━━━━━━━━━━━━━━\u001b[0m\u001b[37m\u001b[0m \u001b[1m97s\u001b[0m 455ms/step - accuracy: 0.9203 - loss: 0.8145 - val_accuracy: 0.9406 - val_loss: 0.6915 - learning_rate: 1.0000e-04\n",
      "Epoch 4/30\n",
      "\u001b[1m214/214\u001b[0m \u001b[32m━━━━━━━━━━━━━━━━━━━━\u001b[0m\u001b[37m\u001b[0m \u001b[1m97s\u001b[0m 455ms/step - accuracy: 0.9609 - loss: 0.6689 - val_accuracy: 0.9445 - val_loss: 0.6671 - learning_rate: 1.0000e-04\n",
      "Epoch 5/30\n",
      "\u001b[1m214/214\u001b[0m \u001b[32m━━━━━━━━━━━━━━━━━━━━\u001b[0m\u001b[37m\u001b[0m \u001b[1m97s\u001b[0m 455ms/step - accuracy: 0.9847 - loss: 0.5779 - val_accuracy: 0.9781 - val_loss: 0.5295 - learning_rate: 1.0000e-04\n",
      "Epoch 6/30\n",
      "\u001b[1m214/214\u001b[0m \u001b[32m━━━━━━━━━━━━━━━━━━━━\u001b[0m\u001b[37m\u001b[0m \u001b[1m97s\u001b[0m 455ms/step - accuracy: 0.9770 - loss: 0.5647 - val_accuracy: 0.9758 - val_loss: 0.5197 - learning_rate: 1.0000e-04\n",
      "Epoch 7/30\n",
      "\u001b[1m214/214\u001b[0m \u001b[32m━━━━━━━━━━━━━━━━━━━━\u001b[0m\u001b[37m\u001b[0m \u001b[1m97s\u001b[0m 453ms/step - accuracy: 0.9580 - loss: 0.6081 - val_accuracy: 0.9391 - val_loss: 0.6463 - learning_rate: 1.0000e-04\n",
      "Epoch 8/30\n",
      "\u001b[1m214/214\u001b[0m \u001b[32m━━━━━━━━━━━━━━━━━━━━\u001b[0m\u001b[37m\u001b[0m \u001b[1m97s\u001b[0m 454ms/step - accuracy: 0.9789 - loss: 0.5449 - val_accuracy: 0.9914 - val_loss: 0.4336 - learning_rate: 1.0000e-04\n",
      "Epoch 9/30\n",
      "\u001b[1m214/214\u001b[0m \u001b[32m━━━━━━━━━━━━━━━━━━━━\u001b[0m\u001b[37m\u001b[0m \u001b[1m97s\u001b[0m 455ms/step - accuracy: 0.9945 - loss: 0.4503 - val_accuracy: 0.9969 - val_loss: 0.3981 - learning_rate: 1.0000e-04\n",
      "Epoch 10/30\n",
      "\u001b[1m214/214\u001b[0m \u001b[32m━━━━━━━━━━━━━━━━━━━━\u001b[0m\u001b[37m\u001b[0m \u001b[1m97s\u001b[0m 455ms/step - accuracy: 0.9951 - loss: 0.4299 - val_accuracy: 0.9945 - val_loss: 0.3771 - learning_rate: 1.0000e-04\n",
      "Epoch 11/30\n",
      "\u001b[1m214/214\u001b[0m \u001b[32m━━━━━━━━━━━━━━━━━━━━\u001b[0m\u001b[37m\u001b[0m \u001b[1m97s\u001b[0m 455ms/step - accuracy: 0.9968 - loss: 0.3962 - val_accuracy: 0.9977 - val_loss: 0.3433 - learning_rate: 1.0000e-04\n",
      "Epoch 12/30\n",
      "\u001b[1m214/214\u001b[0m \u001b[32m━━━━━━━━━━━━━━━━━━━━\u001b[0m\u001b[37m\u001b[0m \u001b[1m97s\u001b[0m 455ms/step - accuracy: 0.9973 - loss: 0.3803 - val_accuracy: 0.9953 - val_loss: 0.3378 - learning_rate: 1.0000e-04\n",
      "Epoch 13/30\n",
      "\u001b[1m214/214\u001b[0m \u001b[32m━━━━━━━━━━━━━━━━━━━━\u001b[0m\u001b[37m\u001b[0m \u001b[1m97s\u001b[0m 454ms/step - accuracy: 0.9976 - loss: 0.3613 - val_accuracy: 0.9984 - val_loss: 0.3174 - learning_rate: 1.0000e-04\n",
      "Epoch 14/30\n",
      "\u001b[1m214/214\u001b[0m \u001b[32m━━━━━━━━━━━━━━━━━━━━\u001b[0m\u001b[37m\u001b[0m \u001b[1m97s\u001b[0m 454ms/step - accuracy: 0.9917 - loss: 0.3661 - val_accuracy: 0.9523 - val_loss: 0.4647 - learning_rate: 1.0000e-04\n",
      "Epoch 15/30\n",
      "\u001b[1m214/214\u001b[0m \u001b[32m━━━━━━━━━━━━━━━━━━━━\u001b[0m\u001b[37m\u001b[0m \u001b[1m97s\u001b[0m 454ms/step - accuracy: 0.8935 - loss: 0.6928 - val_accuracy: 0.9094 - val_loss: 0.6144 - learning_rate: 1.0000e-04\n",
      "Epoch 16/30\n",
      "\u001b[1m214/214\u001b[0m \u001b[32m━━━━━━━━━━━━━━━━━━━━\u001b[0m\u001b[37m\u001b[0m \u001b[1m97s\u001b[0m 453ms/step - accuracy: 0.9537 - loss: 0.5263 - val_accuracy: 0.9977 - val_loss: 0.3240 - learning_rate: 1.0000e-04\n",
      "Epoch 17/30\n",
      "\u001b[1m214/214\u001b[0m \u001b[32m━━━━━━━━━━━━━━━━━━━━\u001b[0m\u001b[37m\u001b[0m \u001b[1m97s\u001b[0m 454ms/step - accuracy: 0.9988 - loss: 0.3535 - val_accuracy: 0.9984 - val_loss: 0.3084 - learning_rate: 5.0000e-05\n",
      "Epoch 18/30\n",
      "\u001b[1m214/214\u001b[0m \u001b[32m━━━━━━━━━━━━━━━━━━━━\u001b[0m\u001b[37m\u001b[0m \u001b[1m97s\u001b[0m 454ms/step - accuracy: 0.9990 - loss: 0.3364 - val_accuracy: 0.9984 - val_loss: 0.2934 - learning_rate: 5.0000e-05\n",
      "Epoch 19/30\n",
      "\u001b[1m214/214\u001b[0m \u001b[32m━━━━━━━━━━━━━━━━━━━━\u001b[0m\u001b[37m\u001b[0m \u001b[1m97s\u001b[0m 454ms/step - accuracy: 0.9993 - loss: 0.3199 - val_accuracy: 0.9977 - val_loss: 0.2843 - learning_rate: 5.0000e-05\n",
      "Epoch 20/30\n",
      "\u001b[1m214/214\u001b[0m \u001b[32m━━━━━━━━━━━━━━━━━━━━\u001b[0m\u001b[37m\u001b[0m \u001b[1m97s\u001b[0m 455ms/step - accuracy: 0.9997 - loss: 0.3111 - val_accuracy: 0.9992 - val_loss: 0.2710 - learning_rate: 5.0000e-05\n",
      "Epoch 21/30\n",
      "\u001b[1m214/214\u001b[0m \u001b[32m━━━━━━━━━━━━━━━━━━━━\u001b[0m\u001b[37m\u001b[0m \u001b[1m97s\u001b[0m 454ms/step - accuracy: 0.9993 - loss: 0.2984 - val_accuracy: 0.9992 - val_loss: 0.2588 - learning_rate: 5.0000e-05\n",
      "Epoch 22/30\n",
      "\u001b[1m214/214\u001b[0m \u001b[32m━━━━━━━━━━━━━━━━━━━━\u001b[0m\u001b[37m\u001b[0m \u001b[1m97s\u001b[0m 454ms/step - accuracy: 0.9983 - loss: 0.2927 - val_accuracy: 0.9992 - val_loss: 0.2494 - learning_rate: 5.0000e-05\n",
      "Epoch 23/30\n",
      "\u001b[1m214/214\u001b[0m \u001b[32m━━━━━━━━━━━━━━━━━━━━\u001b[0m\u001b[37m\u001b[0m \u001b[1m97s\u001b[0m 454ms/step - accuracy: 0.9992 - loss: 0.2843 - val_accuracy: 0.9992 - val_loss: 0.2437 - learning_rate: 5.0000e-05\n",
      "Epoch 24/30\n",
      "\u001b[1m214/214\u001b[0m \u001b[32m━━━━━━━━━━━━━━━━━━━━\u001b[0m\u001b[37m\u001b[0m \u001b[1m97s\u001b[0m 454ms/step - accuracy: 0.9997 - loss: 0.2774 - val_accuracy: 0.9992 - val_loss: 0.2353 - learning_rate: 5.0000e-05\n",
      "Epoch 25/30\n",
      "\u001b[1m214/214\u001b[0m \u001b[32m━━━━━━━━━━━━━━━━━━━━\u001b[0m\u001b[37m\u001b[0m \u001b[1m97s\u001b[0m 453ms/step - accuracy: 0.9982 - loss: 0.2694 - val_accuracy: 0.9992 - val_loss: 0.2289 - learning_rate: 5.0000e-05\n",
      "Epoch 26/30\n",
      "\u001b[1m214/214\u001b[0m \u001b[32m━━━━━━━━━━━━━━━━━━━━\u001b[0m\u001b[37m\u001b[0m \u001b[1m97s\u001b[0m 454ms/step - accuracy: 0.9989 - loss: 0.2602 - val_accuracy: 0.9969 - val_loss: 0.2269 - learning_rate: 5.0000e-05\n",
      "Epoch 27/30\n",
      "\u001b[1m214/214\u001b[0m \u001b[32m━━━━━━━━━━━━━━━━━━━━\u001b[0m\u001b[37m\u001b[0m \u001b[1m97s\u001b[0m 454ms/step - accuracy: 0.9988 - loss: 0.2586 - val_accuracy: 0.9992 - val_loss: 0.2176 - learning_rate: 5.0000e-05\n",
      "Epoch 28/30\n",
      "\u001b[1m214/214\u001b[0m \u001b[32m━━━━━━━━━━━━━━━━━━━━\u001b[0m\u001b[37m\u001b[0m \u001b[1m97s\u001b[0m 454ms/step - accuracy: 0.9996 - loss: 0.2504 - val_accuracy: 0.9992 - val_loss: 0.2110 - learning_rate: 5.0000e-05\n",
      "Epoch 29/30\n",
      "\u001b[1m214/214\u001b[0m \u001b[32m━━━━━━━━━━━━━━━━━━━━\u001b[0m\u001b[37m\u001b[0m \u001b[1m97s\u001b[0m 454ms/step - accuracy: 0.9995 - loss: 0.2432 - val_accuracy: 0.9992 - val_loss: 0.2041 - learning_rate: 5.0000e-05\n",
      "Epoch 30/30\n",
      "\u001b[1m214/214\u001b[0m \u001b[32m━━━━━━━━━━━━━━━━━━━━\u001b[0m\u001b[37m\u001b[0m \u001b[1m97s\u001b[0m 454ms/step - accuracy: 0.9988 - loss: 0.2388 - val_accuracy: 0.9969 - val_loss: 0.2114 - learning_rate: 5.0000e-05\n",
      "\n",
      "Evaluating VGG19+LSTM model on test set...\n",
      "Total 1600 videos and 1600 classes\n",
      "test_gen batch videos shape: (24, 5, 128, 128, 3)\n",
      "test_gen batch labels shape: (24, 50)\n",
      "\u001b[1m67/67\u001b[0m \u001b[32m━━━━━━━━━━━━━━━━━━━━\u001b[0m\u001b[37m\u001b[0m \u001b[1m17s\u001b[0m 253ms/step - accuracy: 1.0000 - loss: 0.2038\n",
      "VGG19+LSTM Test Loss: 0.2036\n",
      "VGG19+LSTM Test Accuracy: 100.00%\n"
     ]
    },
    {
     "data": {
      "image/png": "[encoded data removed]",
      "text/plain": [
       "<Figure size 1200x500 with 2 Axes>"
      ]
     },
     "metadata": {},
     "output_type": "display_data"
    },
    {
     "name": "stdout",
     "output_type": "stream",
     "text": [
      "\u001b[1m67/67\u001b[0m \u001b[32m━━━━━━━━━━━━━━━━━━━━\u001b[0m\u001b[37m\u001b[0m \u001b[1m19s\u001b[0m 254ms/step\n",
      "True classes shape: (1600,)\n",
      "Predicted classes shape: (1600,)\n",
      "\n",
      "VGG19+LSTM Classification Report:\n",
      "                    precision    recall  f1-score   support\n",
      "\n",
      "         HorseRace       1.00      1.00      1.00        41\n",
      " VolleyballSpiking       1.00      1.00      1.00        37\n",
      "            Biking       1.00      1.00      1.00        43\n",
      "            TaiChi       1.00      1.00      1.00        32\n",
      "             Punch       1.00      1.00      1.00        27\n",
      "      BreastStroke       1.00      1.00      1.00        38\n",
      "         Billiards       1.00      1.00      1.00        34\n",
      "         PoleVault       1.00      1.00      1.00        36\n",
      "       ThrowDiscus       1.00      1.00      1.00        25\n",
      "     BaseballPitch       1.00      1.00      1.00        27\n",
      "       HorseRiding       1.00      1.00      1.00        29\n",
      "            Mixing       1.00      1.00      1.00        31\n",
      "          HighJump       1.00      1.00      1.00        35\n",
      "            Skijet       1.00      1.00      1.00        30\n",
      "     SkateBoarding       1.00      1.00      1.00        34\n",
      "    MilitaryParade       1.00      1.00      1.00        39\n",
      "           Fencing       1.00      1.00      1.00        31\n",
      "     JugglingBalls       1.00      1.00      1.00        33\n",
      "             Swing       1.00      1.00      1.00        24\n",
      "RockClimbingIndoor       1.00      1.00      1.00        28\n",
      "         SalsaSpin       1.00      1.00      1.00        37\n",
      "      PlayingTabla       1.00      1.00      1.00        31\n",
      "            Rowing       1.00      1.00      1.00        25\n",
      "        BenchPress       1.00      1.00      1.00        31\n",
      "           PushUps       1.00      1.00      1.00        33\n",
      "         Nunchucks       1.00      1.00      1.00        26\n",
      "     PlayingViolin       1.00      1.00      1.00        28\n",
      "           PullUps       1.00      1.00      1.00        31\n",
      "      PlayingPiano       1.00      1.00      1.00        31\n",
      "          HulaHoop       1.00      1.00      1.00        33\n",
      "      RopeClimbing       1.00      1.00      1.00        32\n",
      "              YoYo       1.00      1.00      1.00        34\n",
      " TrampolineJumping       1.00      1.00      1.00        28\n",
      "       JumpingJack       1.00      1.00      1.00        37\n",
      "          Drumming       1.00      1.00      1.00        26\n",
      "         GolfSwing       1.00      1.00      1.00        32\n",
      "     PlayingGuitar       1.00      1.00      1.00        35\n",
      "      PizzaTossing       1.00      1.00      1.00        29\n",
      "            Lunges       1.00      1.00      1.00        30\n",
      "       TennisSwing       1.00      1.00      1.00        29\n",
      "    WalkingWithDog       1.00      1.00      1.00        33\n",
      "          Kayaking       1.00      1.00      1.00        39\n",
      "       PommelHorse       1.00      1.00      1.00        30\n",
      "        Basketball       1.00      1.00      1.00        28\n",
      "          JumpRope       1.00      1.00      1.00        31\n",
      "      CleanAndJerk       1.00      1.00      1.00        31\n",
      "            Skiing       1.00      1.00      1.00        36\n",
      "            Diving       1.00      1.00      1.00        34\n",
      "    SoccerJuggling       1.00      1.00      1.00        22\n",
      "      JavelinThrow       1.00      1.00      1.00        44\n",
      "\n",
      "          accuracy                           1.00      1600\n",
      "         macro avg       1.00      1.00      1.00      1600\n",
      "      weighted avg       1.00      1.00      1.00      1600\n",
      "\n"
     ]
    },
    {
     "data": {
      "image/png": "[encoded data removed]",
      "text/plain": [
       "<Figure size 800x600 with 2 Axes>"
      ]
     },
     "metadata": {},
     "output_type": "display_data"
    }
   ],
   "source": [
    "# Import necessary libraries\n",
    "from tensorflow.keras.applications import VGG19\n",
    "from tensorflow.keras.models import Sequential\n",
    "from tensorflow.keras.layers import TimeDistributed, GlobalAveragePooling2D, LSTM, Dropout, Dense, BatchNormalization\n",
    "from tensorflow.keras.regularizers import l2\n",
    "from tensorflow.keras.callbacks import EarlyStopping, ReduceLROnPlateau\n",
    "from tensorflow.keras.utils import to_categorical\n",
    "import tensorflow as tf\n",
    "import numpy as np\n",
    "import gc\n",
    "\n",
    "# Clear memory before creating the new model\n",
    "gc.collect()\n",
    "tf.keras.backend.clear_session()\n",
    "print(\"Memory cleared before creating VGG19+LSTM model\")\n",
    "\n",
    "# Print TensorFlow version\n",
    "print(f\"TensorFlow version: {tf.__version__}\")\n",
    "\n",
    "# Pre-load VGG19 weights\n",
    "print(\"Pre-loading VGG19 weights...\")\n",
    "try:\n",
    "    base_model = VGG19(weights='imagenet', include_top=False, input_shape=(IMAGE_HEIGHT, IMAGE_WIDTH, 3))\n",
    "    print(\"VGG19 weights loaded successfully!\")\n",
    "except Exception as e:\n",
    "    print(f\"Failed to load VGG19 weights: {str(e)}\")\n",
    "    print(\"Falling back to initializing VGG19 without pre-trained weights...\")\n",
    "    base_model = VGG19(weights=None, include_top=False, input_shape=(IMAGE_HEIGHT, IMAGE_WIDTH, 3))\n",
    "\n",
    "# Define function to create VGG19+LSTM model\n",
    "def create_vgg19_lstm_model(sequence_length, image_height, image_width, classes_list=None, dropout_rate=0.5, base_model=None):\n",
    "    print(\"Creating VGG19+LSTM model with parameters:\")\n",
    "    print(f\"sequence_length: {sequence_length}, image_height: {image_height}, image_width: {image_width}, classes_list length: {len(classes_list) if classes_list is not None else None}, dropout_rate: {dropout_rate}\")\n",
    "    \n",
    "    if classes_list is None:\n",
    "        raise ValueError(\"classes_list must be provided to define the output layer size\")\n",
    "    if base_model is None:\n",
    "        raise ValueError(\"base_model must be provided to avoid re-downloading weights\")\n",
    "\n",
    "    try:\n",
    "        # Use the pre-loaded base model\n",
    "        vgg19 = base_model\n",
    "        # Freeze the base model for initial training\n",
    "        vgg19.trainable = False\n",
    "\n",
    "        # Define the Sequential model\n",
    "        model = Sequential([\n",
    "            # TimeDistributed VGG19 model\n",
    "            TimeDistributed(\n",
    "                vgg19,\n",
    "                input_shape=(sequence_length, image_height, image_width, 3),\n",
    "                name=\"time_distributed_vgg19\"\n",
    "            ),\n",
    "            # TimeDistributed GlobalAveragePooling2D\n",
    "            TimeDistributed(GlobalAveragePooling2D(), name=\"time_distributed_pooling\"),\n",
    "            # LSTM layer with 512 units\n",
    "            LSTM(512, activation=\"tanh\", return_sequences=False, kernel_regularizer=l2(0.01), name=\"lstm_vgg19\"),\n",
    "            BatchNormalization(name=\"batch_normalization_vgg19\"),\n",
    "            # Dropout after LSTM\n",
    "            Dropout(dropout_rate, name=\"dropout_lstm_vgg19\"),\n",
    "            # Dense layer with 512 units\n",
    "            Dense(512, activation=\"relu\", kernel_regularizer=l2(0.01), name=\"dense_vgg19_1\"),\n",
    "            # Dropout after first Dense\n",
    "            Dropout(dropout_rate, name=\"dropout_dense_vgg19_1\"),\n",
    "            # Dense layer with 128 units\n",
    "            Dense(128, activation=\"relu\", kernel_regularizer=l2(0.01), name=\"dense_vgg19_2\"),\n",
    "            # Dropout after second Dense\n",
    "            Dropout(dropout_rate, name=\"dropout_dense_vgg19_2\"),\n",
    "            # Output Dense layer with softmax activation\n",
    "            Dense(len(classes_list), activation=\"softmax\", name=\"output_vgg19\")\n",
    "        ])\n",
    "\n",
    "        # Print model summary\n",
    "        print(\"VGG19+LSTM model architecture created successfully!\")\n",
    "        model.summary()\n",
    "\n",
    "        return model\n",
    "\n",
    "    except Exception as e:\n",
    "        print(f\"Error creating VGG19+LSTM model: {str(e)}\")\n",
    "        import traceback\n",
    "        traceback.print_exc()\n",
    "        return None\n",
    "\n",
    "# Create the VGG19+LSTM model using the pre-loaded base model\n",
    "vgg19_lstm_model = create_vgg19_lstm_model(\n",
    "    sequence_length=SEQUENCE_LENGTH,\n",
    "    image_height=IMAGE_HEIGHT,\n",
    "    image_width=IMAGE_WIDTH,\n",
    "    classes_list=CLASSES_LIST,\n",
    "    dropout_rate=DROPOUT_RATE,\n",
    "    base_model=base_model\n",
    ")\n",
    "\n",
    "# Check if model was created successfully\n",
    "if vgg19_lstm_model is None:\n",
    "    raise ValueError(\"Failed to create VGG19+LSTM model. Check error messages above.\")\n",
    "else:\n",
    "    print(\"VGG19+LSTM Model Created Successfully!\")\n",
    "\n",
    "# Plot the model structure\n",
    "from tensorflow.keras.utils import plot_model\n",
    "try:\n",
    "    plot_model(vgg19_lstm_model, to_file=f'{MODEL_NAME}_VGG19_LSTM_model_Plot.png', show_shapes=True, show_layer_names=True)\n",
    "    print(f\"{MODEL_NAME}_VGG19_LSTM Model Plot saved successfully...\")\n",
    "except Exception as e:\n",
    "    print(f\"Failed to plot model: {str(e)}\")\n",
    "\n",
    "# Verify data shapes\n",
    "print(f\"train_gen.videos shape: {np.shape(train_gen.videos)}\")\n",
    "print(f\"train_gen.labels shape: {np.shape(train_gen.labels)}\")\n",
    "print(f\"val_gen.videos shape: {np.shape(val_gen.videos)}\")\n",
    "print(f\"val_gen.labels shape: {np.shape(val_gen.labels)}\")\n",
    "print(f\"features_test shape: {np.shape(features_test)}\")\n",
    "print(f\"labels_test shape: {np.shape(labels_test)}\")\n",
    "\n",
    "# Ensure labels_test is one-hot encoded\n",
    "if len(labels_test.shape) == 1:\n",
    "    print(\"Converting labels_test to one-hot encoded format...\")\n",
    "    labels_test = to_categorical(labels_test, num_classes=NO_OF_CLASSES)\n",
    "    print(f\"New labels_test shape: {labels_test.shape}\")\n",
    "\n",
    "# Verify generator batch shapes\n",
    "try:\n",
    "    videos, labels = train_gen[0]\n",
    "    print(f\"train_gen batch videos shape: {videos.shape}\")\n",
    "    print(f\"train_gen batch labels shape: {labels.shape}\")\n",
    "    videos, labels = val_gen[0]\n",
    "    print(f\"val_gen batch videos shape: {videos.shape}\")\n",
    "    print(f\"val_gen batch labels shape: {labels.shape}\")\n",
    "except Exception as e:\n",
    "    print(f\"Error accessing generator data: {str(e)}\")\n",
    "\n",
    "# Compile the model for initial training\n",
    "early_stopping_callback = EarlyStopping(monitor='val_loss', patience=7, mode='min', restore_best_weights=True)\n",
    "lr_scheduler = ReduceLROnPlateau(monitor='val_loss', factor=0.5, patience=3, min_lr=1e-6)\n",
    "\n",
    "vgg19_lstm_model.compile(\n",
    "    loss='categorical_crossentropy',\n",
    "    optimizer=tf.keras.optimizers.Adam(learning_rate=0.001),  # Higher learning rate for initial training\n",
    "    metrics=['accuracy']\n",
    ")\n",
    "\n",
    "# Print dataset summary\n",
    "print(f\"Dataset - {DATASET_NAME}\")\n",
    "print(f\"There are total {len(ALL_CLASS_NAMES)} classes, selected {NO_OF_CLASSES} classes\")\n",
    "print(f\"Setting {MAX_VIDEO_PER_CLASS} videos/class to train the model.\")\n",
    "print(f\"Image size {IMAGE_HEIGHT}x{IMAGE_WIDTH} with {SEQUENCE_LENGTH} sequence length\")\n",
    "print(f\"Dropout rate: {DROPOUT_RATE}\")\n",
    "print(f\"Train-Test split ratio {int((1-TEST_SIZE)*100)}/{int(TEST_SIZE*100)}\")\n",
    "print(f\"Validation data from Train set {VALIDATION_SPLIT*100}%\")\n",
    "print(\"\\n\")\n",
    "\n",
    "# Initial training with frozen base model\n",
    "print(f\"Initial training started for VGG19+LSTM model with {len(train_gen.videos)} videos of {NO_OF_CLASSES} classes with {len(val_gen.videos)} videos for validation...\")\n",
    "try:\n",
    "    vgg19_history_initial = vgg19_lstm_model.fit(\n",
    "        train_gen.as_dataset(),\n",
    "        validation_data=val_gen.as_dataset(),\n",
    "        epochs=EPOCHS,\n",
    "        class_weight=class_weights,\n",
    "        callbacks=[early_stopping_callback, lr_scheduler]\n",
    "    )\n",
    "except Exception as e:\n",
    "    print(f\"Error during initial model training: {str(e)}\")\n",
    "    import traceback\n",
    "    traceback.print_exc()\n",
    "\n",
    "# Unfreeze some layers for fine-tuning\n",
    "base_model.trainable = True\n",
    "# Freeze all layers except the last 8 layers (consistent with previous VGG19 code)\n",
    "for layer in base_model.layers[:-8]:\n",
    "    layer.trainable = False\n",
    "\n",
    "# Recompile the model with a lower learning rate for fine-tuning\n",
    "vgg19_lstm_model.compile(\n",
    "    loss='categorical_crossentropy',\n",
    "    optimizer=tf.keras.optimizers.Adam(learning_rate=0.0001),  # Lower learning rate for fine-tuning\n",
    "    metrics=['accuracy']\n",
    ")\n",
    "\n",
    "# Fine-tune the model\n",
    "print(f\"\\nFine-tuning started for VGG19+LSTM model with {len(train_gen.videos)} videos of {NO_OF_CLASSES} classes with {len(val_gen.videos)} videos for validation...\")\n",
    "try:\n",
    "    vgg19_history_fine = vgg19_lstm_model.fit(\n",
    "        train_gen.as_dataset(),\n",
    "        validation_data=val_gen.as_dataset(),\n",
    "        epochs=EPOCHS,\n",
    "        class_weight=class_weights,\n",
    "        callbacks=[early_stopping_callback, lr_scheduler]\n",
    "    )\n",
    "except Exception as e:\n",
    "    print(f\"Error during fine-tuning: {str(e)}\")\n",
    "    import traceback\n",
    "    traceback.print_exc()\n",
    "\n",
    "# Evaluate the model on the test set\n",
    "print(\"\\nEvaluating VGG19+LSTM model on test set...\")\n",
    "test_gen = VideoDataGenerator(\n",
    "    videos=features_test,\n",
    "    labels=labels_test,\n",
    "    batch_size=BATCH_SIZE\n",
    ")\n",
    "try:\n",
    "    videos, labels = test_gen[0]\n",
    "    print(f\"test_gen batch videos shape: {videos.shape}\")\n",
    "    print(f\"test_gen batch labels shape: {labels.shape}\")\n",
    "    loss, accuracy = vgg19_lstm_model.evaluate(test_gen.as_dataset())\n",
    "    print(f'VGG19+LSTM Test Loss: {loss:.4f}')\n",
    "    print(f'VGG19+LSTM Test Accuracy: {accuracy * 100:.2f}%')\n",
    "except Exception as e:\n",
    "    print(f\"Error during model evaluation: {str(e)}\")\n",
    "    import traceback\n",
    "    traceback.print_exc()\n",
    "\n",
    "# Plot training history (combine initial and fine-tuning)\n",
    "import matplotlib.pyplot as plt\n",
    "\n",
    "try:\n",
    "    # Combine histories\n",
    "    history_accuracy = vgg19_history_initial.history['accuracy'] + vgg19_history_fine.history['accuracy']\n",
    "    history_val_accuracy = vgg19_history_initial.history['val_accuracy'] + vgg19_history_fine.history['val_accuracy']\n",
    "    history_loss = vgg19_history_initial.history['loss'] + vgg19_history_fine.history['loss']\n",
    "    history_val_loss = vgg19_history_initial.history['val_loss'] + vgg19_history_fine.history['val_loss']\n",
    "\n",
    "    plt.figure(figsize=(12, 5))\n",
    "\n",
    "    # Accuracy\n",
    "    plt.subplot(1, 2, 1)\n",
    "    plt.plot(history_accuracy, label='Train Accuracy')\n",
    "    plt.plot(history_val_accuracy, label='Validation Accuracy')\n",
    "    plt.axvline(x=len(vgg19_history_initial.history['accuracy']), color='r', linestyle='--', label='Start Fine-Tuning')\n",
    "    plt.title('VGG19+LSTM Model Accuracy')\n",
    "    plt.xlabel('Epoch')\n",
    "    plt.ylabel('Accuracy')\n",
    "    plt.legend()\n",
    "\n",
    "    # Loss\n",
    "    plt.subplot(1, 2, 2)\n",
    "    plt.plot(history_loss, label='Train Loss')\n",
    "    plt.plot(history_val_loss, label='Validation Loss')\n",
    "    plt.axvline(x=len(vgg19_history_initial.history['loss']), color='r', linestyle='--', label='Start Fine-Tuning')\n",
    "    plt.title('VGG19+LSTM Model Loss')\n",
    "    plt.xlabel('Epoch')\n",
    "    plt.ylabel('Loss')\n",
    "    plt.legend()\n",
    "\n",
    "    plt.tight_layout()\n",
    "    plt.show()\n",
    "except Exception as e:\n",
    "    print(f\"Error plotting training history: {str(e)}\")\n",
    "\n",
    "# Generate confusion matrix and classification report\n",
    "from sklearn.metrics import classification_report, confusion_matrix\n",
    "import seaborn as sns\n",
    "\n",
    "# Get predictions\n",
    "try:\n",
    "    predictions = vgg19_lstm_model.predict(test_gen.as_dataset())\n",
    "    predicted_classes = np.argmax(predictions, axis=1)\n",
    "    true_classes = np.argmax(labels_test, axis=1)\n",
    "\n",
    "    # Verify shapes\n",
    "    print(f\"True classes shape: {true_classes.shape}\")\n",
    "    print(f\"Predicted classes shape: {predicted_classes.shape}\")\n",
    "    assert len(true_classes) == len(predicted_classes), \"Sample counts do not match!\"\n",
    "\n",
    "    # Generate classification report\n",
    "    print(\"\\nVGG19+LSTM Classification Report:\")\n",
    "    print(classification_report(true_classes, predicted_classes, target_names=CLASSES_LIST))\n",
    "\n",
    "    # Plot confusion matrix\n",
    "    cm = confusion_matrix(true_classes, predicted_classes)\n",
    "    plt.figure(figsize=(8, 6))\n",
    "    sns.heatmap(cm, annot=True, fmt='d', cmap='Blues', xticklabels=CLASSES_LIST, yticklabels=CLASSES_LIST)\n",
    "    plt.xlabel('Predicted')\n",
    "    plt.ylabel('True')\n",
    "    plt.title('VGG19+LSTM Confusion Matrix')\n",
    "    plt.show()\n",
    "except Exception as e:\n",
    "    print(f\"Error during prediction or plotting: {str(e)}\")\n",
    "    import traceback\n",
    "    traceback.print_exc()"
   ]
  },
  {
   "cell_type": "code",
   "execution_count": 56,
   "id": "394f3869",
   "metadata": {
    "execution": {
     "iopub.execute_input": "2025-07-07T16:52:44.210385Z",
     "iopub.status.busy": "2025-07-07T16:52:44.209682Z",
     "iopub.status.idle": "2025-07-07T16:53:02.864185Z",
     "shell.execute_reply": "2025-07-07T16:53:02.863562Z"
    },
    "papermill": {
     "duration": 19.620036,
     "end_time": "2025-07-07T16:53:02.865524",
     "exception": false,
     "start_time": "2025-07-07T16:52:43.245488",
     "status": "completed"
    },
    "tags": []
   },
   "outputs": [
    {
     "name": "stdout",
     "output_type": "stream",
     "text": [
      "\u001b[1m50/50\u001b[0m \u001b[32m━━━━━━━━━━━━━━━━━━━━\u001b[0m\u001b[37m\u001b[0m \u001b[1m15s\u001b[0m 268ms/step - accuracy: 1.0000 - loss: 0.2038\n"
     ]
    }
   ],
   "source": [
    "# previous code\n",
    "model_evaluation_history = vgg19_lstm_model.evaluate(features_test, labels_test)"
   ]
  }
 ],
 "metadata": {
  "kaggle": {
   "accelerator": "nvidiaTeslaT4",
   "dataSources": [
    {
     "datasetId": 1357563,
     "sourceId": 2256095,
     "sourceType": "datasetVersion"
    },
    {
     "datasetId": 7763484,
     "sourceId": 12338519,
     "sourceType": "datasetVersion"
    },
    {
     "datasetId": 7801555,
     "sourceId": 12373067,
     "sourceType": "datasetVersion"
    },
    {
     "datasetId": 7801884,
     "sourceId": 12373562,
     "sourceType": "datasetVersion"
    }
   ],
   "dockerImageVersionId": 31041,
   "isGpuEnabled": true,
   "isInternetEnabled": true,
   "language": "python",
   "sourceType": "notebook"
  },
  "kernelspec": {
   "display_name": "Python 3",
   "language": "python",
   "name": "python3"
  },
  "language_info": {
   "codemirror_mode": {
    "name": "ipython",
    "version": 3
   },
   "file_extension": ".py",
   "mimetype": "text/x-python",
   "name": "python",
   "nbconvert_exporter": "python",
   "pygments_lexer": "ipython3",
   "version": "3.11.11"
  },
  "papermill": {
   "default_parameters": {},
   "duration": 7348.3231,
   "end_time": "2025-07-07T16:53:07.370404",
   "environment_variables": {},
   "exception": null,
   "input_path": "__notebook__.ipynb",
   "output_path": "__notebook__.ipynb",
   "parameters": {},
   "start_time": "2025-07-07T14:50:39.047304",
   "version": "2.6.0"
  }
 },
 "nbformat": 4,
 "nbformat_minor": 5
}
