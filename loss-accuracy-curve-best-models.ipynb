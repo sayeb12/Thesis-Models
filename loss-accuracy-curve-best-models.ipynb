{
 "cells": [
  {
   "cell_type": "markdown",
   "id": "20b387ae",
   "metadata": {
    "papermill": {
     "duration": 0.012097,
     "end_time": "2025-07-14T05:05:05.895181",
     "exception": false,
     "start_time": "2025-07-14T05:05:05.883084",
     "status": "completed"
    },
    "tags": []
   },
   "source": [
    "# Initialization\n",
    "## Import Libraries"
   ]
  },
  {
   "cell_type": "code",
   "execution_count": 1,
   "id": "e46163a0",
   "metadata": {
    "_cell_guid": "b1076dfc-b9ad-4769-8c92-a6c4dae69d19",
    "_uuid": "8f2839f25d086af736a60e9eeb907d3b93b6e0e5",
    "execution": {
     "iopub.execute_input": "2025-07-14T05:05:05.917584Z",
     "iopub.status.busy": "2025-07-14T05:05:05.917355Z",
     "iopub.status.idle": "2025-07-14T05:05:27.869347Z",
     "shell.execute_reply": "2025-07-14T05:05:27.868776Z"
    },
    "papermill": {
     "duration": 21.965033,
     "end_time": "2025-07-14T05:05:27.870607",
     "exception": false,
     "start_time": "2025-07-14T05:05:05.905574",
     "status": "completed"
    },
    "tags": []
   },
   "outputs": [
    {
     "name": "stderr",
     "output_type": "stream",
     "text": [
      "2025-07-14 05:05:09.075560: E external/local_xla/xla/stream_executor/cuda/cuda_fft.cc:477] Unable to register cuFFT factory: Attempting to register factory for plugin cuFFT when one has already been registered\n",
      "WARNING: All log messages before absl::InitializeLog() is called are written to STDERR\n",
      "E0000 00:00:1752469509.444823      19 cuda_dnn.cc:8310] Unable to register cuDNN factory: Attempting to register factory for plugin cuDNN when one has already been registered\n",
      "E0000 00:00:1752469509.545089      19 cuda_blas.cc:1418] Unable to register cuBLAS factory: Attempting to register factory for plugin cuBLAS when one has already been registered\n"
     ]
    }
   ],
   "source": [
    "# install librarires\n",
    "import os\n",
    "import tensorflow as tf\n",
    "import numpy as np\n",
    "import random"
   ]
  },
  {
   "cell_type": "markdown",
   "id": "40b16331",
   "metadata": {
    "papermill": {
     "duration": 0.009694,
     "end_time": "2025-07-14T05:05:27.890629",
     "exception": false,
     "start_time": "2025-07-14T05:05:27.880935",
     "status": "completed"
    },
    "tags": []
   },
   "source": [
    "## ℹ️ Set Global Constants"
   ]
  },
  {
   "cell_type": "code",
   "execution_count": 2,
   "id": "3c9682ce",
   "metadata": {
    "execution": {
     "iopub.execute_input": "2025-07-14T05:05:27.911400Z",
     "iopub.status.busy": "2025-07-14T05:05:27.910965Z",
     "iopub.status.idle": "2025-07-14T05:05:27.921951Z",
     "shell.execute_reply": "2025-07-14T05:05:27.921139Z"
    },
    "papermill": {
     "duration": 0.022829,
     "end_time": "2025-07-14T05:05:27.923187",
     "exception": false,
     "start_time": "2025-07-14T05:05:27.900358",
     "status": "completed"
    },
    "tags": []
   },
   "outputs": [
    {
     "name": "stdout",
     "output_type": "stream",
     "text": [
      "Msrdailyactivity3D Rgb Videos Only\n",
      "There are total 16 classes, selected 16 classes\n",
      "Setting None/class to train the model.\n",
      "Image size 128x128 with 5 sequence length\n",
      "Dropout rate: 0.5\n",
      "Train-Test split ratio 80/20\n",
      "Validation data from Train set 20.0%\n"
     ]
    }
   ],
   "source": [
    "# global variables\n",
    "# set dataset directories\n",
    "\n",
    "\n",
    "DATASET_DIR = \"/kaggle/input/msrdailyactivity3d-rgb-videos-only\"\n",
    "DATASET_NAME = DATASET_DIR.split(\"/\")[-1].replace(\"-\", \" \").title()\n",
    "\n",
    "print(DATASET_NAME)\n",
    "\n",
    "ALL_CLASS_NAMES = os.listdir(DATASET_DIR)\n",
    "\n",
    "# Global constant variables -> \n",
    "NO_OF_CLASSES = len(ALL_CLASS_NAMES)\n",
    "CLASSES_LIST = ALL_CLASS_NAMES[:NO_OF_CLASSES]\n",
    "\n",
    "# Model Configuration\n",
    "IMAGE_HEIGHT, IMAGE_WIDTH = 128, 128\n",
    "SEQUENCE_LENGTH = 5\n",
    "\n",
    "# set drop out rate\n",
    "DROPOUT_RATE = 0.5\n",
    "\n",
    "# set datas\n",
    "MAX_VIDEO_PER_CLASS = None\n",
    "\n",
    "# split dataset\n",
    "TEST_SIZE = 0.20\n",
    "\n",
    "# model fit parameters\n",
    "EPOCHS = 30\n",
    "BATCH_SIZE = 24\n",
    "VALIDATION_SPLIT = 0.20\n",
    "\n",
    "# augmentation values\n",
    "NOISE_FACTOR = 0.02\n",
    "SHEAR_X= 1\n",
    "SHEAR_Y= 1\n",
    "\n",
    "# give a name of the model to save\n",
    "MODEL_NAME = \"Xception\"\n",
    "\n",
    "print(f\"There are total {len(ALL_CLASS_NAMES)} classes, selected {NO_OF_CLASSES} classes\")\n",
    "print(f\"Setting {MAX_VIDEO_PER_CLASS}/class to train the model.\")\n",
    "print(f\"Image size {IMAGE_HEIGHT}x{IMAGE_WIDTH} with {SEQUENCE_LENGTH} sequence length\")\n",
    "print(f\"Dropout rate: {DROPOUT_RATE}\")\n",
    "print(f\"Train-Test split ratio {int((1-TEST_SIZE)*100)}/{int(TEST_SIZE*100)}\")\n",
    "print(f\"Validation data from Train set {VALIDATION_SPLIT*100}%\")"
   ]
  },
  {
   "cell_type": "markdown",
   "id": "386d2424",
   "metadata": {
    "papermill": {
     "duration": 0.010366,
     "end_time": "2025-07-14T05:05:27.943795",
     "exception": false,
     "start_time": "2025-07-14T05:05:27.933429",
     "status": "completed"
    },
    "tags": []
   },
   "source": [
    "## Set `Seed` Values"
   ]
  },
  {
   "cell_type": "code",
   "execution_count": 3,
   "id": "068f1008",
   "metadata": {
    "execution": {
     "iopub.execute_input": "2025-07-14T05:05:27.964676Z",
     "iopub.status.busy": "2025-07-14T05:05:27.964460Z",
     "iopub.status.idle": "2025-07-14T05:05:27.968153Z",
     "shell.execute_reply": "2025-07-14T05:05:27.967626Z"
    },
    "papermill": {
     "duration": 0.015436,
     "end_time": "2025-07-14T05:05:27.969274",
     "exception": false,
     "start_time": "2025-07-14T05:05:27.953838",
     "status": "completed"
    },
    "tags": []
   },
   "outputs": [],
   "source": [
    "# set seeed to get similar values\n",
    "seed_constant = 27\n",
    "np.random.seed(seed_constant)\n",
    "random.seed(seed_constant)\n",
    "tf.random.set_seed(seed_constant)"
   ]
  },
  {
   "cell_type": "markdown",
   "id": "818cee07",
   "metadata": {
    "papermill": {
     "duration": 0.009676,
     "end_time": "2025-07-14T05:05:27.988693",
     "exception": false,
     "start_time": "2025-07-14T05:05:27.979017",
     "status": "completed"
    },
    "tags": []
   },
   "source": [
    "# 📌 Function Definition\n",
    "## Resize and Frame Extraction"
   ]
  },
  {
   "cell_type": "code",
   "execution_count": 4,
   "id": "252f22cc",
   "metadata": {
    "execution": {
     "iopub.execute_input": "2025-07-14T05:05:28.009238Z",
     "iopub.status.busy": "2025-07-14T05:05:28.009036Z",
     "iopub.status.idle": "2025-07-14T05:05:28.016923Z",
     "shell.execute_reply": "2025-07-14T05:05:28.016438Z"
    },
    "papermill": {
     "duration": 0.01954,
     "end_time": "2025-07-14T05:05:28.017989",
     "exception": false,
     "start_time": "2025-07-14T05:05:27.998449",
     "status": "completed"
    },
    "tags": []
   },
   "outputs": [],
   "source": [
    "import cv2\n",
    "from concurrent.futures import ThreadPoolExecutor\n",
    "\n",
    "def resize_and_normalize_frame(frame, image_height, image_width):\n",
    "    try:\n",
    "        resized_frame = cv2.resize(frame, (image_width, image_height), interpolation=cv2.INTER_LINEAR)\n",
    "        normalized_frame = resized_frame / 255.0\n",
    "        return normalized_frame\n",
    "    except Exception as e:\n",
    "        print(f\"Error processing frame: {e}\")\n",
    "        return None\n",
    "\n",
    "def frames_extraction(video_path, \n",
    "                      sequence_length=SEQUENCE_LENGTH, \n",
    "                      image_height=IMAGE_HEIGHT, \n",
    "                      image_width=IMAGE_WIDTH):\n",
    "    # Declare a list to store video frames\n",
    "    frames_list = []\n",
    "\n",
    "    # Check if video file exists\n",
    "    if not os.path.exists(video_path):\n",
    "        print(f\"Error: Video file not found at {video_path}\")\n",
    "        return None\n",
    "\n",
    "    # Read the video file using VideoCapture with optimized settings\n",
    "    video_reader = cv2.VideoCapture(video_path, cv2.CAP_FFMPEG)\n",
    "\n",
    "    # Check if the video was opened successfully\n",
    "    if not video_reader.isOpened():\n",
    "        print(f\"Error: Could not open video file {video_path}\")\n",
    "        video_reader.release()\n",
    "        return None\n",
    "\n",
    "    # Get the total number of frames in the video\n",
    "    video_frames_count = int(video_reader.get(cv2.CAP_PROP_FRAME_COUNT))\n",
    "\n",
    "    # Ensure the video has enough frames\n",
    "    if video_frames_count < sequence_length:\n",
    "        print(f\"Warning: Video {video_path} has only {video_frames_count} frames, less than required {sequence_length}\")\n",
    "        video_reader.release()\n",
    "        return None\n",
    "\n",
    "    # Calculate the interval after which frames will be sampled\n",
    "    skip_frames_window = max(int(video_frames_count / sequence_length), 1)\n",
    "\n",
    "    # Pre-allocate frame indices to extract\n",
    "    frame_indices = [i * skip_frames_window for i in range(sequence_length)]\n",
    "\n",
    "    # Read and process frames in parallel\n",
    "    frames = []\n",
    "    for idx in frame_indices:\n",
    "        video_reader.set(cv2.CAP_PROP_POS_FRAMES, idx)\n",
    "        success, frame = video_reader.read()\n",
    "        if not success or frame is None:\n",
    "            print(f\"Warning: Failed to read frame at index {idx} from {video_path}\")\n",
    "            break\n",
    "        frame = cv2.cvtColor(frame, cv2.COLOR_BGR2RGB)\n",
    "        frames.append(frame)\n",
    "\n",
    "    # Release the VideoCapture object early\n",
    "    video_reader.release()\n",
    "\n",
    "    # Ensure the correct number of frames is read\n",
    "    if len(frames) != sequence_length:\n",
    "        print(f\"Warning: Read {len(frames)} frames instead of {sequence_length} from {video_path}\")\n",
    "        return None\n",
    "\n",
    "    # Process frames in parallel using ThreadPoolExecutor\n",
    "    with ThreadPoolExecutor() as executor:\n",
    "        processed_frames = list(executor.map(\n",
    "            lambda f: resize_and_normalize_frame(f, image_height, image_width), \n",
    "            frames\n",
    "        ))\n",
    "\n",
    "    # Check for any failed frame processing\n",
    "    if any(f is None for f in processed_frames):\n",
    "        print(f\"Warning: Some frames failed to process in {video_path}\")\n",
    "        return None\n",
    "\n",
    "    # Convert to NumPy array\n",
    "    frames_array = np.array(processed_frames, dtype=np.float32)\n",
    "\n",
    "    return frames_array"
   ]
  },
  {
   "cell_type": "code",
   "execution_count": 5,
   "id": "a56cbe8b",
   "metadata": {
    "execution": {
     "iopub.execute_input": "2025-07-14T05:05:28.038238Z",
     "iopub.status.busy": "2025-07-14T05:05:28.038050Z",
     "iopub.status.idle": "2025-07-14T05:05:28.041364Z",
     "shell.execute_reply": "2025-07-14T05:05:28.040707Z"
    },
    "papermill": {
     "duration": 0.014804,
     "end_time": "2025-07-14T05:05:28.042529",
     "exception": false,
     "start_time": "2025-07-14T05:05:28.027725",
     "status": "completed"
    },
    "tags": []
   },
   "outputs": [],
   "source": [
    " # # Iterate through all video files\n",
    " #        for file_name in files_list:\n",
    " #            video_file_path = os.path.join(class_path, file_name)\n",
    "\n",
    " #            # Extract frames using the updated frames_extraction function\n",
    " #            frames = frames_extraction(video_file_path, sequence_length, image_height, image_width)\n",
    "\n",
    " #            # Skip videos where frame extraction failed\n",
    " #            if frames is None:\n",
    " #                print(f\"Skipping video {video_file_path} due to frame extraction failure\")\n",
    " #                continue\n",
    "\n",
    " #            # Append the data to respective lists\n",
    " #            features.append(frames)\n",
    " #            labels.append(class_index)"
   ]
  },
  {
   "cell_type": "markdown",
   "id": "530cbd7a",
   "metadata": {
    "papermill": {
     "duration": 0.009805,
     "end_time": "2025-07-14T05:05:28.063065",
     "exception": false,
     "start_time": "2025-07-14T05:05:28.053260",
     "status": "completed"
    },
    "tags": []
   },
   "source": [
    "## Create Dataset"
   ]
  },
  {
   "cell_type": "code",
   "execution_count": 6,
   "id": "0a8052c7",
   "metadata": {
    "execution": {
     "iopub.execute_input": "2025-07-14T05:05:28.083321Z",
     "iopub.status.busy": "2025-07-14T05:05:28.083066Z",
     "iopub.status.idle": "2025-07-14T05:05:28.089155Z",
     "shell.execute_reply": "2025-07-14T05:05:28.088465Z"
    },
    "papermill": {
     "duration": 0.017506,
     "end_time": "2025-07-14T05:05:28.090180",
     "exception": false,
     "start_time": "2025-07-14T05:05:28.072674",
     "status": "completed"
    },
    "tags": []
   },
   "outputs": [],
   "source": [
    "# RUN create dataset function definition\n",
    "def create_dataset(dataset_dir,\n",
    "                   classes_list, \n",
    "                   sequence_length=SEQUENCE_LENGTH, \n",
    "                   image_height=IMAGE_HEIGHT, \n",
    "                   image_width=IMAGE_WIDTH, \n",
    "                   max_videos_per_class=None,\n",
    "                   augmentations=False\n",
    "                  ):\n",
    "    \n",
    "    # Initialize lists to store features, labels, and video file paths\n",
    "    videos = []\n",
    "    labels = []\n",
    "\n",
    "    # Check if dataset directory exists\n",
    "    if not os.path.exists(dataset_dir):\n",
    "        raise FileNotFoundError(f\"Dataset directory not found: {dataset_dir}\")\n",
    "\n",
    "    # Iterate through all classes in the classes list\n",
    "    for class_index, class_name in enumerate(classes_list):\n",
    "        class_path = os.path.join(dataset_dir, class_name)\n",
    "        \n",
    "        # Check if class directory exists\n",
    "        if not os.path.exists(class_path):\n",
    "            print(f\"Warning: Class directory not found: {class_path}\")\n",
    "            continue\n",
    "\n",
    "        print(f'Extracting Data of Class: {class_name}')\n",
    "\n",
    "        # Get the list of video files in the class directory\n",
    "        files_list = os.listdir(class_path)\n",
    "\n",
    "        # Limit the number of videos if specified\n",
    "        if max_videos_per_class is not None:\n",
    "            files_list = files_list[:max_videos_per_class]\n",
    "\n",
    "        # Iterate through all video files\n",
    "        for file_name in files_list:\n",
    "            video_file_path = os.path.join(class_path, file_name)\n",
    "\n",
    "            # Extract frames using the updated frames_extraction function\n",
    "            frames = frames_extraction(video_file_path, \n",
    "                                       sequence_length, \n",
    "                                       image_height, \n",
    "                                       image_width)\n",
    "\n",
    "            # Skip videos where frame extraction failed\n",
    "            if frames is None:\n",
    "                print(f\"Skipping video {video_file_path} due to frame extraction failure\")\n",
    "                continue\n",
    "\n",
    "            # Append the data to respective lists\n",
    "            videos.append(frames)\n",
    "            labels.append(class_index)\n",
    "\n",
    "    # Convert lists to numpy arrays\n",
    "    if not videos:\n",
    "        raise ValueError(\"No valid videos were processed. Check dataset or parameters.\")\n",
    "    videos = np.asarray(videos)\n",
    "    labels = np.array(labels)\n",
    "\n",
    "    print(f\"Dataset created with {len(videos)} videos\")\n",
    "    print(f\"Features shape: {videos.shape}\")\n",
    "    print(f\"Labels shape: {labels.shape}\")\n",
    "\n",
    "    return videos, labels"
   ]
  },
  {
   "cell_type": "markdown",
   "id": "9875d6ea",
   "metadata": {
    "papermill": {
     "duration": 0.00955,
     "end_time": "2025-07-14T05:05:28.109477",
     "exception": false,
     "start_time": "2025-07-14T05:05:28.099927",
     "status": "completed"
    },
    "tags": []
   },
   "source": [
    "## 🪄 Video Data Generator"
   ]
  },
  {
   "cell_type": "code",
   "execution_count": 7,
   "id": "dd1b11bd",
   "metadata": {
    "execution": {
     "iopub.execute_input": "2025-07-14T05:05:28.174299Z",
     "iopub.status.busy": "2025-07-14T05:05:28.173794Z",
     "iopub.status.idle": "2025-07-14T05:05:28.264577Z",
     "shell.execute_reply": "2025-07-14T05:05:28.263782Z"
    },
    "papermill": {
     "duration": 0.10291,
     "end_time": "2025-07-14T05:05:28.265912",
     "exception": false,
     "start_time": "2025-07-14T05:05:28.163002",
     "status": "completed"
    },
    "tags": []
   },
   "outputs": [],
   "source": [
    "from tensorflow.keras.utils import Sequence, to_categorical\n",
    "import tensorflow as tf\n",
    "import numpy as np\n",
    "import cv2\n",
    "\n",
    "\n",
    "\n",
    "\n",
    "class VideoDataGenerator(Sequence):\n",
    "    def __init__(self, videos, labels, batch_size, is_training=False):\n",
    "        self.videos = list(videos)  # List of video file paths\n",
    "        self.labels = list(labels)  # List or array of labels encoded\n",
    "        self.batch_size = batch_size\n",
    "        self.indices = np.arange(len(self.videos))  # For shuffling\n",
    "        self.is_training = is_training  # Flag to control whether augmentation is applied\n",
    "        self.temp_videos=[]\n",
    "        self.temp_labels=[]\n",
    "        \n",
    "        \n",
    "        print(f\"Total {len(videos)} videos and {len(labels)} classes\")\n",
    "\n",
    "    def __len__(self):\n",
    "        # Return the number of batches per epoch\n",
    "        return int(np.ceil(len(self.videos) / self.batch_size))\n",
    "\n",
    "    def __getitem__(self, idx):\n",
    "        # Get batch indices\n",
    "        batch_indices = self.indices[idx * self.batch_size:(idx + 1) * self.batch_size]\n",
    "        \n",
    "        # Handle case where batch_indices is empty\n",
    "        if len(batch_indices) == 0:\n",
    "            return np.array([], dtype=np.float32), np.array([], dtype=np.float32)\n",
    "        \n",
    "        # Initialize lists to store frames and labels\n",
    "        all_frames = []\n",
    "        all_labels = []\n",
    "        \n",
    "        # Process each video in the batch\n",
    "        for i, index in enumerate(batch_indices):\n",
    "            sequence = self.videos[index]\n",
    "            label = self.labels[index]\n",
    "            \n",
    "            # Load and process video\n",
    "            # sequence = frames_extraction(video_path)\n",
    "\n",
    "            # if sequence is not None:\n",
    "            #     # Apply augmentations: 1 original + 4 augmentations (horizontal flip, shear, rotation, noise)\n",
    "            #     augmented_sequences = [sequence]  # Add original sequence\n",
    "\n",
    "            #     if self.is_training:\n",
    "            #         # Apply augmentations\n",
    "            #         augmented_sequences.append(np.array(horizontal_flip(sequence)))  # Horizontal Flip\n",
    "            #         augmented_sequences.append(np.array(apply_shear_frames(sequence, shear_right=0)))  # Random Shear\n",
    "            #         augmented_sequences.append(np.array(apply_shear_frames(sequence, shear_right=1)))  # Random Rotation\n",
    "            #         augmented_sequences.append(np.array(noise_video(sequence)))  # Salt and Pepper Noise\n",
    "\n",
    "            #     # Add augmented sequences to the batch\n",
    "            #     all_frames.extend(augmented_sequences)\n",
    "            #     all_labels.extend([label] * len(augmented_sequences))  # Each augmentation has the same label\n",
    "\n",
    "            \n",
    "            # Append the sequence and label\n",
    "            all_frames.append(sequence)\n",
    "            all_labels.append(label)\n",
    "        \n",
    "        # Convert to numpy arrays\n",
    "        all_frames = np.array(all_frames, dtype=np.float32)\n",
    "        all_labels = np.array(all_labels)\n",
    "            \n",
    "        \n",
    "        return all_frames, all_labels\n",
    "    def add(self, new_videos, new_labels):\n",
    "        self.temp_videos.extend(new_videos)\n",
    "        self.temp_labels.extend(new_labels)\n",
    "    \n",
    "    def confirm(self):\n",
    "        print(f\"Adding {len(self.temp_videos)} videos with {len(self.temp_labels)} classes.\")\n",
    "        self.videos.extend(self.temp_videos)\n",
    "        self.labels.extend(self.temp_labels)\n",
    "        print(f\"Successfully added - {len(self.temp_videos)} videos and {len(self.temp_labels)} classes.\")\n",
    "        self.temp_videos=[]\n",
    "        self.temp_labels=[]\n",
    "        self.indices = np.arange(len(self.videos))\n",
    "        print(f\"Now Total - {len(self.videos)} videos and {len(self.labels)} classes.\")\n",
    "        print(f\"PENDING for Augmentations - {len(self.temp_videos)} videos and {len(self.temp_labels)} classes.\")\n",
    "    \n",
    "    def on_epoch_end(self):\n",
    "        # Shuffle indices at the end of each epoch\n",
    "        np.random.shuffle(self.indices)\n",
    "\n",
    "    def as_dataset(self):\n",
    "        def generator():\n",
    "            for idx in range(len(self)):\n",
    "                frames, labels = self[idx]\n",
    "                # Skip empty batches\n",
    "                if frames.size == 0:\n",
    "                    continue\n",
    "                yield frames, labels\n",
    "        self.labels=np.array(self.labels)\n",
    "    \n",
    "        # Create a tf.data.Dataset\n",
    "        dataset = tf.data.Dataset.from_generator(\n",
    "            generator,\n",
    "            output_types=(tf.float32, tf.float32),\n",
    "            output_shapes=(\n",
    "                (None, SEQUENCE_LENGTH, IMAGE_HEIGHT, IMAGE_WIDTH, 3),\n",
    "                (None, NO_OF_CLASSES)\n",
    "            )\n",
    "        )\n",
    "        dataset = dataset.prefetch(tf.data.AUTOTUNE)\n",
    "        return dataset"
   ]
  },
  {
   "cell_type": "markdown",
   "id": "f531b9bd",
   "metadata": {
    "papermill": {
     "duration": 0.010078,
     "end_time": "2025-07-14T05:05:28.287158",
     "exception": false,
     "start_time": "2025-07-14T05:05:28.277080",
     "status": "completed"
    },
    "tags": []
   },
   "source": [
    "## Debug and Helpers"
   ]
  },
  {
   "cell_type": "markdown",
   "id": "19db6a05",
   "metadata": {
    "papermill": {
     "duration": 0.009993,
     "end_time": "2025-07-14T05:05:28.307326",
     "exception": false,
     "start_time": "2025-07-14T05:05:28.297333",
     "status": "completed"
    },
    "tags": []
   },
   "source": [
    "## 💫 Augmentation Helper function"
   ]
  },
  {
   "cell_type": "code",
   "execution_count": 8,
   "id": "cb182ccb",
   "metadata": {
    "execution": {
     "iopub.execute_input": "2025-07-14T05:05:28.328800Z",
     "iopub.status.busy": "2025-07-14T05:05:28.328312Z",
     "iopub.status.idle": "2025-07-14T05:05:28.333267Z",
     "shell.execute_reply": "2025-07-14T05:05:28.332525Z"
    },
    "papermill": {
     "duration": 0.016977,
     "end_time": "2025-07-14T05:05:28.334487",
     "exception": false,
     "start_time": "2025-07-14T05:05:28.317510",
     "status": "completed"
    },
    "tags": []
   },
   "outputs": [],
   "source": [
    "import time\n",
    "\n",
    "    \n",
    "\n",
    "def apply_augmentation(augmentation_function, generator, confirm=False, *args, **kwargs):\n",
    "    \n",
    "    for i in range(len(generator)):\n",
    "        batch_videos, batch_labels = generator[i]\n",
    "        augmented_videos=[]\n",
    "        for videos in batch_videos:\n",
    "            augmented_videos.append(augmentation_function(videos, *args, **kwargs))\n",
    "        generator.add(augmented_videos, batch_labels)\n",
    "        print(f\"Processing video {len(generator.temp_videos)}...\", end=\"\\r\", flush=True)\n",
    "        time.sleep(0.5)  # simulate work\n",
    "    if confirm:\n",
    "        generator.confirm()"
   ]
  },
  {
   "cell_type": "markdown",
   "id": "20ddd29c",
   "metadata": {
    "papermill": {
     "duration": 0.010146,
     "end_time": "2025-07-14T05:05:28.354576",
     "exception": false,
     "start_time": "2025-07-14T05:05:28.344430",
     "status": "completed"
    },
    "tags": []
   },
   "source": [
    "### Show Frames"
   ]
  },
  {
   "cell_type": "code",
   "execution_count": 9,
   "id": "0ba0e3bd",
   "metadata": {
    "execution": {
     "iopub.execute_input": "2025-07-14T05:05:28.375394Z",
     "iopub.status.busy": "2025-07-14T05:05:28.375161Z",
     "iopub.status.idle": "2025-07-14T05:05:28.379102Z",
     "shell.execute_reply": "2025-07-14T05:05:28.378278Z"
    },
    "papermill": {
     "duration": 0.015918,
     "end_time": "2025-07-14T05:05:28.380288",
     "exception": false,
     "start_time": "2025-07-14T05:05:28.364370",
     "status": "completed"
    },
    "tags": []
   },
   "outputs": [],
   "source": [
    "# show frame def\n",
    "import matplotlib.pyplot as plt\n",
    "\n",
    "def show_frame(frame):\n",
    "    plt.figure(figsize=(3,3))\n",
    "    plt.imshow(frame)\n",
    "    plt.axis(\"off\")\n",
    "    plt.tight_layout()"
   ]
  },
  {
   "cell_type": "markdown",
   "id": "267297b9",
   "metadata": {
    "papermill": {
     "duration": 0.009951,
     "end_time": "2025-07-14T05:05:28.400503",
     "exception": false,
     "start_time": "2025-07-14T05:05:28.390552",
     "status": "completed"
    },
    "tags": []
   },
   "source": [
    "### Helper Function"
   ]
  },
  {
   "cell_type": "code",
   "execution_count": 10,
   "id": "8336ecad",
   "metadata": {
    "execution": {
     "iopub.execute_input": "2025-07-14T05:05:28.421639Z",
     "iopub.status.busy": "2025-07-14T05:05:28.421227Z",
     "iopub.status.idle": "2025-07-14T05:05:28.425451Z",
     "shell.execute_reply": "2025-07-14T05:05:28.424762Z"
    },
    "papermill": {
     "duration": 0.015848,
     "end_time": "2025-07-14T05:05:28.426525",
     "exception": false,
     "start_time": "2025-07-14T05:05:28.410677",
     "status": "completed"
    },
    "tags": []
   },
   "outputs": [],
   "source": [
    "def show_frame_vs(frame1, frame2, title1=\"Frame 1\", title2=\"Frame 2\"):\n",
    "    plt.figure(figsize=(10, 5))\n",
    "\n",
    "    # First frame\n",
    "    plt.subplot(1, 2, 1)\n",
    "    plt.imshow(frame1)\n",
    "    plt.title(title1)\n",
    "    plt.axis('off')\n",
    "\n",
    "    # Second frame\n",
    "    plt.subplot(1, 2, 2)\n",
    "    plt.imshow(frame2)\n",
    "    plt.title(title2)\n",
    "    plt.axis('off')\n",
    "\n",
    "    plt.tight_layout()\n",
    "    plt.show()"
   ]
  },
  {
   "cell_type": "code",
   "execution_count": 11,
   "id": "75ef2d66",
   "metadata": {
    "execution": {
     "iopub.execute_input": "2025-07-14T05:05:28.447573Z",
     "iopub.status.busy": "2025-07-14T05:05:28.447166Z",
     "iopub.status.idle": "2025-07-14T05:05:28.450872Z",
     "shell.execute_reply": "2025-07-14T05:05:28.450202Z"
    },
    "papermill": {
     "duration": 0.015299,
     "end_time": "2025-07-14T05:05:28.451938",
     "exception": false,
     "start_time": "2025-07-14T05:05:28.436639",
     "status": "completed"
    },
    "tags": []
   },
   "outputs": [],
   "source": [
    "# reusable video loop helper function\n",
    "def apply_function(function, videos, *arg, **kwargs):\n",
    "    new_videos=[]\n",
    "    \n",
    "    for video in videos:\n",
    "        new_videos.append(function(video, *arg, **kwargs))\n",
    "        \n",
    "    return new_videos"
   ]
  },
  {
   "cell_type": "code",
   "execution_count": 12,
   "id": "69a260ff",
   "metadata": {
    "execution": {
     "iopub.execute_input": "2025-07-14T05:05:28.472477Z",
     "iopub.status.busy": "2025-07-14T05:05:28.472280Z",
     "iopub.status.idle": "2025-07-14T05:05:28.476315Z",
     "shell.execute_reply": "2025-07-14T05:05:28.475609Z"
    },
    "papermill": {
     "duration": 0.015601,
     "end_time": "2025-07-14T05:05:28.477360",
     "exception": false,
     "start_time": "2025-07-14T05:05:28.461759",
     "status": "completed"
    },
    "tags": []
   },
   "outputs": [],
   "source": [
    "# reusable video loop helper function\n",
    "def apply(function, videos, labels, *arg, **kwargs):\n",
    "    new_videos=[]\n",
    "    new_labels=[]\n",
    "    combined=zip(labels, videos)\n",
    "    \n",
    "    for label, video in combined:\n",
    "        new_videos.append(function(video, *arg, **kwargs))\n",
    "        new_labels.append(label)\n",
    "        \n",
    "    new_videos=np.asarray(new_videos)\n",
    "    new_labels=np.asarray(new_labels)\n",
    "    \n",
    "    return new_videos, new_labels"
   ]
  },
  {
   "cell_type": "markdown",
   "id": "f2bed0f4",
   "metadata": {
    "papermill": {
     "duration": 0.010196,
     "end_time": "2025-07-14T05:05:28.497715",
     "exception": false,
     "start_time": "2025-07-14T05:05:28.487519",
     "status": "completed"
    },
    "tags": []
   },
   "source": [
    "## Salt and Pepper Noise "
   ]
  },
  {
   "cell_type": "code",
   "execution_count": 13,
   "id": "9c5bfaa6",
   "metadata": {
    "execution": {
     "iopub.execute_input": "2025-07-14T05:05:28.518413Z",
     "iopub.status.busy": "2025-07-14T05:05:28.518013Z",
     "iopub.status.idle": "2025-07-14T05:05:28.522045Z",
     "shell.execute_reply": "2025-07-14T05:05:28.521374Z"
    },
    "papermill": {
     "duration": 0.015565,
     "end_time": "2025-07-14T05:05:28.523061",
     "exception": false,
     "start_time": "2025-07-14T05:05:28.507496",
     "status": "completed"
    },
    "tags": []
   },
   "outputs": [],
   "source": [
    "# Noise function def\n",
    "\n",
    "def noise_video(video,noise_factor=NOISE_FACTOR):\n",
    "    noisy_video=[]\n",
    "    for frame in video:\n",
    "        # Generate random noise\n",
    "        noise = np.random.rand(*frame.shape)  # Generate random noise\n",
    "        salt_pepper_noise = np.random.choice([0, 1], size=frame.shape, p=[1-noise_factor, noise_factor])\n",
    "        noisy_frame = frame * (1 - salt_pepper_noise) + salt_pepper_noise * np.random.rand(*frame.shape)\n",
    "        noisy_video.append(noisy_frame)\n",
    "    return np.array(noisy_video)"
   ]
  },
  {
   "cell_type": "markdown",
   "id": "8c57eadf",
   "metadata": {
    "papermill": {
     "duration": 0.009807,
     "end_time": "2025-07-14T05:05:28.542799",
     "exception": false,
     "start_time": "2025-07-14T05:05:28.532992",
     "status": "completed"
    },
    "tags": []
   },
   "source": [
    "## Horizontal Flip"
   ]
  },
  {
   "cell_type": "code",
   "execution_count": 14,
   "id": "63e890a7",
   "metadata": {
    "execution": {
     "iopub.execute_input": "2025-07-14T05:05:28.563420Z",
     "iopub.status.busy": "2025-07-14T05:05:28.563225Z",
     "iopub.status.idle": "2025-07-14T05:05:28.566682Z",
     "shell.execute_reply": "2025-07-14T05:05:28.566031Z"
    },
    "papermill": {
     "duration": 0.014862,
     "end_time": "2025-07-14T05:05:28.567733",
     "exception": false,
     "start_time": "2025-07-14T05:05:28.552871",
     "status": "completed"
    },
    "tags": []
   },
   "outputs": [],
   "source": [
    "# horizontal flip function def\n",
    "# Testing Flip feautes[0] -> first video\n",
    "def horizontal_flip(video):\n",
    "    return [tf.image.flip_left_right(frame) for frame in video]"
   ]
  },
  {
   "cell_type": "markdown",
   "id": "1388060f",
   "metadata": {
    "papermill": {
     "duration": 0.010331,
     "end_time": "2025-07-14T05:05:28.587974",
     "exception": false,
     "start_time": "2025-07-14T05:05:28.577643",
     "status": "completed"
    },
    "tags": []
   },
   "source": [
    "## Random Shear"
   ]
  },
  {
   "cell_type": "code",
   "execution_count": 15,
   "id": "ac77d329",
   "metadata": {
    "execution": {
     "iopub.execute_input": "2025-07-14T05:05:28.608286Z",
     "iopub.status.busy": "2025-07-14T05:05:28.608105Z",
     "iopub.status.idle": "2025-07-14T05:05:28.613753Z",
     "shell.execute_reply": "2025-07-14T05:05:28.613077Z"
    },
    "papermill": {
     "duration": 0.017132,
     "end_time": "2025-07-14T05:05:28.614857",
     "exception": false,
     "start_time": "2025-07-14T05:05:28.597725",
     "status": "completed"
    },
    "tags": []
   },
   "outputs": [],
   "source": [
    "# random shear function def\n",
    "import numpy as np\n",
    "import tensorflow as tf\n",
    "from scipy.ndimage import affine_transform\n",
    "\n",
    "def apply_shear_frames(frames, shear_right):\n",
    "    return [apply_shear(frame, shear_right) for frame in frames]\n",
    "\n",
    "def apply_shear(frame, shear_right=0):\n",
    "    frame_resized = tf.image.resize(frame, (IMAGE_HEIGHT, IMAGE_WIDTH)).numpy()\n",
    "    if shear_right:\n",
    "        shear_x = 0.09\n",
    "        shear_y = 0.1\n",
    "    else:\n",
    "        shear_x = -0.09\n",
    "        shear_y = 0.3\n",
    "    # Construct the affine matrix for scipy: inverse of the transformation matrix\n",
    "    # scipy applies the inverse transform matrix\n",
    "    shear_matrix = np.array([\n",
    "        [1, shear_x, 0],\n",
    "        [shear_y, 1, 0],\n",
    "        [0, 0, 1]\n",
    "    ], dtype=np.float32)\n",
    "\n",
    "    # Extract 2x2 part for affine_transform\n",
    "    matrix = shear_matrix[:2, :2]\n",
    "\n",
    "    # Offset (no translation)\n",
    "    offset = [0, 0]\n",
    "\n",
    "    # Apply affine transform on each channel separately\n",
    "    sheared = np.zeros_like(frame_resized)\n",
    "    for c in range(3):\n",
    "        sheared[..., c] = affine_transform(\n",
    "            frame_resized[..., c],\n",
    "            matrix=matrix,\n",
    "            offset=offset,\n",
    "            order=1,          # bilinear interpolation\n",
    "            mode='nearest'    # fill_mode\n",
    "        )\n",
    "    return sheared"
   ]
  },
  {
   "cell_type": "markdown",
   "id": "ceb6795d",
   "metadata": {
    "papermill": {
     "duration": 0.009652,
     "end_time": "2025-07-14T05:05:28.634265",
     "exception": false,
     "start_time": "2025-07-14T05:05:28.624613",
     "status": "completed"
    },
    "tags": []
   },
   "source": [
    "# 📌 Execution\n",
    "## Creating Dataset\n",
    "The following functions are executed\n",
    "- `frame extraction`\n",
    "- `resize`\n",
    "\n",
    "which returns:\n",
    "- `features` - `np.array` of all the videos\n",
    "- `labels` - `np.array` of all the class labels"
   ]
  },
  {
   "cell_type": "code",
   "execution_count": 16,
   "id": "559ecc40",
   "metadata": {
    "execution": {
     "iopub.execute_input": "2025-07-14T05:05:28.655149Z",
     "iopub.status.busy": "2025-07-14T05:05:28.654486Z",
     "iopub.status.idle": "2025-07-14T05:06:02.926997Z",
     "shell.execute_reply": "2025-07-14T05:06:02.926273Z"
    },
    "papermill": {
     "duration": 34.284072,
     "end_time": "2025-07-14T05:06:02.928136",
     "exception": false,
     "start_time": "2025-07-14T05:05:28.644064",
     "status": "completed"
    },
    "tags": []
   },
   "outputs": [
    {
     "name": "stdout",
     "output_type": "stream",
     "text": [
      "Extracting Data of Class: write on a paper\n",
      "Extracting Data of Class: use laptop\n",
      "Extracting Data of Class: read book\n",
      "Extracting Data of Class: sit still\n",
      "Extracting Data of Class: drink\n",
      "Extracting Data of Class: sit down\n",
      "Extracting Data of Class: use vacuum cleaner\n",
      "Extracting Data of Class: eat\n",
      "Extracting Data of Class: play guitar\n",
      "Extracting Data of Class: lie down on sofa\n",
      "Extracting Data of Class: stand up\n",
      "Extracting Data of Class: toss paper\n",
      "Extracting Data of Class: walk\n",
      "Extracting Data of Class: play game\n",
      "Extracting Data of Class: cheer up\n",
      "Extracting Data of Class: call cellphone\n",
      "Dataset created with 320 videos\n",
      "Features shape: (320, 5, 128, 128, 3)\n",
      "Labels shape: (320,)\n"
     ]
    },
    {
     "data": {
      "text/plain": [
       "((320, 5, 128, 128, 3), (320,))"
      ]
     },
     "execution_count": 16,
     "metadata": {},
     "output_type": "execute_result"
    }
   ],
   "source": [
    "# RUN Create the dataset with explicit parameters\n",
    "try:\n",
    "    videos, labels = create_dataset(\n",
    "        dataset_dir=DATASET_DIR,\n",
    "        classes_list=CLASSES_LIST,\n",
    "        sequence_length=SEQUENCE_LENGTH,\n",
    "        image_height=IMAGE_HEIGHT,\n",
    "        image_width=IMAGE_WIDTH,\n",
    "        # Limit to 10 videos per class to manage memory\n",
    "        augmentations=True,\n",
    "        max_videos_per_class=MAX_VIDEO_PER_CLASS\n",
    "    )\n",
    "except FileNotFoundError as e:\n",
    "    print(f\"Error: {e}\")\n",
    "except ValueError as e:\n",
    "    print(f\"Error: {e}\")\n",
    "except Exception as e:\n",
    "    print(f\"Unexpected error: {e}\")\n",
    "\n",
    "videos.shape, labels.shape"
   ]
  },
  {
   "cell_type": "code",
   "execution_count": 17,
   "id": "1fa58995",
   "metadata": {
    "execution": {
     "iopub.execute_input": "2025-07-14T05:06:02.952107Z",
     "iopub.status.busy": "2025-07-14T05:06:02.951859Z",
     "iopub.status.idle": "2025-07-14T05:06:02.955726Z",
     "shell.execute_reply": "2025-07-14T05:06:02.955181Z"
    },
    "papermill": {
     "duration": 0.016686,
     "end_time": "2025-07-14T05:06:02.956728",
     "exception": false,
     "start_time": "2025-07-14T05:06:02.940042",
     "status": "completed"
    },
    "tags": []
   },
   "outputs": [
    {
     "name": "stdout",
     "output_type": "stream",
     "text": [
      "Total 320 videos and 320 classes\n"
     ]
    }
   ],
   "source": [
    "video_generator = VideoDataGenerator(\n",
    "    videos=videos,\n",
    "    labels=labels,\n",
    "    batch_size=BATCH_SIZE\n",
    ")"
   ]
  },
  {
   "cell_type": "code",
   "execution_count": 18,
   "id": "3e8c60fd",
   "metadata": {
    "execution": {
     "iopub.execute_input": "2025-07-14T05:06:02.979094Z",
     "iopub.status.busy": "2025-07-14T05:06:02.978864Z",
     "iopub.status.idle": "2025-07-14T05:06:02.991312Z",
     "shell.execute_reply": "2025-07-14T05:06:02.990587Z"
    },
    "papermill": {
     "duration": 0.0249,
     "end_time": "2025-07-14T05:06:02.992496",
     "exception": false,
     "start_time": "2025-07-14T05:06:02.967596",
     "status": "completed"
    },
    "tags": []
   },
   "outputs": [
    {
     "data": {
      "text/plain": [
       "((24, 5, 128, 128, 3), (24,))"
      ]
     },
     "execution_count": 18,
     "metadata": {},
     "output_type": "execute_result"
    }
   ],
   "source": [
    "videos, labels = video_generator[3]\n",
    "\n",
    "videos.shape, labels.shape"
   ]
  },
  {
   "cell_type": "code",
   "execution_count": 19,
   "id": "eabf5c2a",
   "metadata": {
    "execution": {
     "iopub.execute_input": "2025-07-14T05:06:03.015302Z",
     "iopub.status.busy": "2025-07-14T05:06:03.015100Z",
     "iopub.status.idle": "2025-07-14T05:06:03.019290Z",
     "shell.execute_reply": "2025-07-14T05:06:03.018592Z"
    },
    "papermill": {
     "duration": 0.016723,
     "end_time": "2025-07-14T05:06:03.020363",
     "exception": false,
     "start_time": "2025-07-14T05:06:03.003640",
     "status": "completed"
    },
    "tags": []
   },
   "outputs": [
    {
     "data": {
      "text/plain": [
       "320"
      ]
     },
     "execution_count": 19,
     "metadata": {},
     "output_type": "execute_result"
    }
   ],
   "source": [
    "len(video_generator.videos) "
   ]
  },
  {
   "cell_type": "code",
   "execution_count": 20,
   "id": "99d358db",
   "metadata": {
    "execution": {
     "iopub.execute_input": "2025-07-14T05:06:03.043741Z",
     "iopub.status.busy": "2025-07-14T05:06:03.043213Z",
     "iopub.status.idle": "2025-07-14T05:06:03.047384Z",
     "shell.execute_reply": "2025-07-14T05:06:03.046797Z"
    },
    "papermill": {
     "duration": 0.016856,
     "end_time": "2025-07-14T05:06:03.048525",
     "exception": false,
     "start_time": "2025-07-14T05:06:03.031669",
     "status": "completed"
    },
    "tags": []
   },
   "outputs": [
    {
     "data": {
      "text/plain": [
       "14"
      ]
     },
     "execution_count": 20,
     "metadata": {},
     "output_type": "execute_result"
    }
   ],
   "source": [
    "len(video_generator)"
   ]
  },
  {
   "cell_type": "markdown",
   "id": "5c11b875",
   "metadata": {
    "papermill": {
     "duration": 0.011208,
     "end_time": "2025-07-14T05:06:03.071457",
     "exception": false,
     "start_time": "2025-07-14T05:06:03.060249",
     "status": "completed"
    },
    "tags": []
   },
   "source": [
    "## Apply ***horizontal flip*** (Augmentation)"
   ]
  },
  {
   "cell_type": "code",
   "execution_count": 21,
   "id": "2a10edb7",
   "metadata": {
    "execution": {
     "iopub.execute_input": "2025-07-14T05:06:03.095626Z",
     "iopub.status.busy": "2025-07-14T05:06:03.095417Z",
     "iopub.status.idle": "2025-07-14T05:06:12.724950Z",
     "shell.execute_reply": "2025-07-14T05:06:12.724342Z"
    },
    "papermill": {
     "duration": 9.643251,
     "end_time": "2025-07-14T05:06:12.726291",
     "exception": false,
     "start_time": "2025-07-14T05:06:03.083040",
     "status": "completed"
    },
    "tags": []
   },
   "outputs": [
    {
     "name": "stdout",
     "output_type": "stream",
     "text": [
      "Processing video 24...\r"
     ]
    },
    {
     "name": "stderr",
     "output_type": "stream",
     "text": [
      "I0000 00:00:1752469564.652067      19 gpu_device.cc:2022] Created device /job:localhost/replica:0/task:0/device:GPU:0 with 13942 MB memory:  -> device: 0, name: Tesla T4, pci bus id: 0000:00:04.0, compute capability: 7.5\n",
      "I0000 00:00:1752469564.652785      19 gpu_device.cc:2022] Created device /job:localhost/replica:0/task:0/device:GPU:1 with 13942 MB memory:  -> device: 1, name: Tesla T4, pci bus id: 0000:00:05.0, compute capability: 7.5\n"
     ]
    },
    {
     "name": "stdout",
     "output_type": "stream",
     "text": [
      "Processing video 320...\r"
     ]
    }
   ],
   "source": [
    "apply_augmentation(horizontal_flip, video_generator)"
   ]
  },
  {
   "cell_type": "code",
   "execution_count": 22,
   "id": "da7efec4",
   "metadata": {
    "execution": {
     "iopub.execute_input": "2025-07-14T05:06:12.751425Z",
     "iopub.status.busy": "2025-07-14T05:06:12.751175Z",
     "iopub.status.idle": "2025-07-14T05:06:12.755451Z",
     "shell.execute_reply": "2025-07-14T05:06:12.754520Z"
    },
    "papermill": {
     "duration": 0.017928,
     "end_time": "2025-07-14T05:06:12.756504",
     "exception": false,
     "start_time": "2025-07-14T05:06:12.738576",
     "status": "completed"
    },
    "tags": []
   },
   "outputs": [
    {
     "name": "stdout",
     "output_type": "stream",
     "text": [
      "Checking Total Videos and Class Count: 320, 320\n",
      "PENDING Total Videos and Class Count: 320, 320\n"
     ]
    }
   ],
   "source": [
    "print(f\"Checking Total Videos and Class Count: {len(video_generator.videos)}, {len(video_generator.labels)}\")\n",
    "print(f\"PENDING Total Videos and Class Count: {len(video_generator.temp_videos)}, {len(video_generator.temp_labels)}\")"
   ]
  },
  {
   "cell_type": "code",
   "execution_count": 23,
   "id": "886f0c71",
   "metadata": {
    "execution": {
     "iopub.execute_input": "2025-07-14T05:06:12.781381Z",
     "iopub.status.busy": "2025-07-14T05:06:12.781175Z",
     "iopub.status.idle": "2025-07-14T05:06:12.785859Z",
     "shell.execute_reply": "2025-07-14T05:06:12.784858Z"
    },
    "papermill": {
     "duration": 0.019102,
     "end_time": "2025-07-14T05:06:12.787279",
     "exception": false,
     "start_time": "2025-07-14T05:06:12.768177",
     "status": "completed"
    },
    "tags": []
   },
   "outputs": [
    {
     "name": "stdout",
     "output_type": "stream",
     "text": [
      "Adding 320 videos with 320 classes.\n",
      "Successfully added - 320 videos and 320 classes.\n",
      "Now Total - 640 videos and 640 classes.\n",
      "PENDING for Augmentations - 0 videos and 0 classes.\n"
     ]
    }
   ],
   "source": [
    "video_generator.confirm()"
   ]
  },
  {
   "cell_type": "markdown",
   "id": "e8cb07f1",
   "metadata": {
    "papermill": {
     "duration": 0.017683,
     "end_time": "2025-07-14T05:06:12.822806",
     "exception": false,
     "start_time": "2025-07-14T05:06:12.805123",
     "status": "completed"
    },
    "tags": []
   },
   "source": [
    "## Apply ***Noise*** (Augmentation)"
   ]
  },
  {
   "cell_type": "code",
   "execution_count": 24,
   "id": "778ab747",
   "metadata": {
    "execution": {
     "iopub.execute_input": "2025-07-14T05:06:12.857280Z",
     "iopub.status.busy": "2025-07-14T05:06:12.856987Z",
     "iopub.status.idle": "2025-07-14T05:06:33.969725Z",
     "shell.execute_reply": "2025-07-14T05:06:33.969145Z"
    },
    "papermill": {
     "duration": 21.130798,
     "end_time": "2025-07-14T05:06:33.971029",
     "exception": false,
     "start_time": "2025-07-14T05:06:12.840231",
     "status": "completed"
    },
    "tags": []
   },
   "outputs": [
    {
     "name": "stdout",
     "output_type": "stream",
     "text": [
      "Processing video 640...\r"
     ]
    }
   ],
   "source": [
    "apply_augmentation(noise_video, video_generator)"
   ]
  },
  {
   "cell_type": "code",
   "execution_count": 25,
   "id": "bbc11ebc",
   "metadata": {
    "execution": {
     "iopub.execute_input": "2025-07-14T05:06:33.998346Z",
     "iopub.status.busy": "2025-07-14T05:06:33.998117Z",
     "iopub.status.idle": "2025-07-14T05:06:34.002319Z",
     "shell.execute_reply": "2025-07-14T05:06:34.001489Z"
    },
    "papermill": {
     "duration": 0.018819,
     "end_time": "2025-07-14T05:06:34.003489",
     "exception": false,
     "start_time": "2025-07-14T05:06:33.984670",
     "status": "completed"
    },
    "tags": []
   },
   "outputs": [
    {
     "name": "stdout",
     "output_type": "stream",
     "text": [
      "Checking Total Videos and Class Count: 640, 640\n",
      "PENDING Total Videos and Class Count: 640, 640\n"
     ]
    }
   ],
   "source": [
    "print(f\"Checking Total Videos and Class Count: {len(video_generator.videos)}, {len(video_generator.labels)}\")\n",
    "print(f\"PENDING Total Videos and Class Count: {len(video_generator.temp_videos)}, {len(video_generator.temp_labels)}\")"
   ]
  },
  {
   "cell_type": "markdown",
   "id": "aed8a8fb",
   "metadata": {
    "papermill": {
     "duration": 0.012657,
     "end_time": "2025-07-14T05:06:34.030090",
     "exception": false,
     "start_time": "2025-07-14T05:06:34.017433",
     "status": "completed"
    },
    "tags": []
   },
   "source": [
    "## Apply ***Random Shear x2*** (Augmentation)"
   ]
  },
  {
   "cell_type": "code",
   "execution_count": 26,
   "id": "7c304dc4",
   "metadata": {
    "execution": {
     "iopub.execute_input": "2025-07-14T05:06:34.056139Z",
     "iopub.status.busy": "2025-07-14T05:06:34.055950Z",
     "iopub.status.idle": "2025-07-14T05:07:25.645960Z",
     "shell.execute_reply": "2025-07-14T05:07:25.645358Z"
    },
    "papermill": {
     "duration": 51.604646,
     "end_time": "2025-07-14T05:07:25.647237",
     "exception": false,
     "start_time": "2025-07-14T05:06:34.042591",
     "status": "completed"
    },
    "tags": []
   },
   "outputs": [
    {
     "name": "stdout",
     "output_type": "stream",
     "text": [
      "Processing video 1920...\r"
     ]
    }
   ],
   "source": [
    "apply_augmentation(apply_shear_frames, video_generator, shear_right=0)\n",
    "apply_augmentation(apply_shear_frames, video_generator, shear_right=1)"
   ]
  },
  {
   "cell_type": "code",
   "execution_count": 27,
   "id": "03fbe8a2",
   "metadata": {
    "execution": {
     "iopub.execute_input": "2025-07-14T05:07:25.679270Z",
     "iopub.status.busy": "2025-07-14T05:07:25.679066Z",
     "iopub.status.idle": "2025-07-14T05:07:25.683116Z",
     "shell.execute_reply": "2025-07-14T05:07:25.682376Z"
    },
    "papermill": {
     "duration": 0.02092,
     "end_time": "2025-07-14T05:07:25.684295",
     "exception": false,
     "start_time": "2025-07-14T05:07:25.663375",
     "status": "completed"
    },
    "tags": []
   },
   "outputs": [
    {
     "name": "stdout",
     "output_type": "stream",
     "text": [
      "Checking Total Videos and Class Count: 640, 640\n",
      "PENDING Total Videos and Class Count: 1920, 1920\n"
     ]
    }
   ],
   "source": [
    "print(f\"Checking Total Videos and Class Count: {len(video_generator.videos)}, {len(video_generator.labels)}\")\n",
    "print(f\"PENDING Total Videos and Class Count: {len(video_generator.temp_videos)}, {len(video_generator.temp_labels)}\")"
   ]
  },
  {
   "cell_type": "code",
   "execution_count": 28,
   "id": "c9a70f2b",
   "metadata": {
    "execution": {
     "iopub.execute_input": "2025-07-14T05:07:25.714259Z",
     "iopub.status.busy": "2025-07-14T05:07:25.714054Z",
     "iopub.status.idle": "2025-07-14T05:07:25.717540Z",
     "shell.execute_reply": "2025-07-14T05:07:25.716917Z"
    },
    "papermill": {
     "duration": 0.01962,
     "end_time": "2025-07-14T05:07:25.718493",
     "exception": false,
     "start_time": "2025-07-14T05:07:25.698873",
     "status": "completed"
    },
    "tags": []
   },
   "outputs": [
    {
     "name": "stdout",
     "output_type": "stream",
     "text": [
      "Adding 1920 videos with 1920 classes.\n",
      "Successfully added - 1920 videos and 1920 classes.\n",
      "Now Total - 2560 videos and 2560 classes.\n",
      "PENDING for Augmentations - 0 videos and 0 classes.\n"
     ]
    }
   ],
   "source": [
    "# confirm changes to generator\n",
    "video_generator.confirm()"
   ]
  },
  {
   "cell_type": "code",
   "execution_count": 29,
   "id": "e096b9b1",
   "metadata": {
    "execution": {
     "iopub.execute_input": "2025-07-14T05:07:25.748651Z",
     "iopub.status.busy": "2025-07-14T05:07:25.748459Z",
     "iopub.status.idle": "2025-07-14T05:07:25.752091Z",
     "shell.execute_reply": "2025-07-14T05:07:25.751531Z"
    },
    "papermill": {
     "duration": 0.019744,
     "end_time": "2025-07-14T05:07:25.753108",
     "exception": false,
     "start_time": "2025-07-14T05:07:25.733364",
     "status": "completed"
    },
    "tags": []
   },
   "outputs": [
    {
     "name": "stdout",
     "output_type": "stream",
     "text": [
      "Checking Video Generator Total Videos and Class Count: 2560, 2560\n"
     ]
    }
   ],
   "source": [
    "print(f\"Checking Video Generator Total Videos and Class Count: {len(video_generator.videos)}, {len(video_generator.labels)}\")"
   ]
  },
  {
   "cell_type": "markdown",
   "id": "17be11cf",
   "metadata": {
    "papermill": {
     "duration": 0.014815,
     "end_time": "2025-07-14T05:07:25.783342",
     "exception": false,
     "start_time": "2025-07-14T05:07:25.768527",
     "status": "completed"
    },
    "tags": []
   },
   "source": [
    "## Cheking (Output)"
   ]
  },
  {
   "cell_type": "code",
   "execution_count": 30,
   "id": "2d5702d9",
   "metadata": {
    "execution": {
     "iopub.execute_input": "2025-07-14T05:07:25.814190Z",
     "iopub.status.busy": "2025-07-14T05:07:25.813983Z",
     "iopub.status.idle": "2025-07-14T05:07:25.816706Z",
     "shell.execute_reply": "2025-07-14T05:07:25.816214Z"
    },
    "papermill": {
     "duration": 0.019235,
     "end_time": "2025-07-14T05:07:25.817626",
     "exception": false,
     "start_time": "2025-07-14T05:07:25.798391",
     "status": "completed"
    },
    "tags": []
   },
   "outputs": [],
   "source": [
    "# # check horizontal flips\n",
    "# videos, labels = video_generator[7]\n",
    "# videos1, labels1 = video_generator[1]\n",
    "\n",
    "# print(videos.shape, labels.shape)\n",
    "\n",
    "# show_frame_vs(videos[0,0],videos1[1,0], title1=\"Flipped Frame 1\", title2=\"Non Flipped Frame 1\")\n",
    "# print(\"Might be two different action, but to check the flipping focus on the door behind.\")"
   ]
  },
  {
   "cell_type": "markdown",
   "id": "04de585f",
   "metadata": {
    "papermill": {
     "duration": 0.01477,
     "end_time": "2025-07-14T05:07:25.847239",
     "exception": false,
     "start_time": "2025-07-14T05:07:25.832469",
     "status": "completed"
    },
    "tags": []
   },
   "source": [
    "# 📌 Preparing Data for Training"
   ]
  },
  {
   "cell_type": "code",
   "execution_count": 31,
   "id": "06d918b2",
   "metadata": {
    "execution": {
     "iopub.execute_input": "2025-07-14T05:07:25.877712Z",
     "iopub.status.busy": "2025-07-14T05:07:25.877512Z",
     "iopub.status.idle": "2025-07-14T05:07:26.291041Z",
     "shell.execute_reply": "2025-07-14T05:07:26.290413Z"
    },
    "papermill": {
     "duration": 0.430065,
     "end_time": "2025-07-14T05:07:26.292092",
     "exception": false,
     "start_time": "2025-07-14T05:07:25.862027",
     "status": "completed"
    },
    "tags": []
   },
   "outputs": [],
   "source": [
    "# Clear previous session to free memory\n",
    "import gc\n",
    "\n",
    "gc.collect()\n",
    "tf.keras.backend.clear_session()"
   ]
  },
  {
   "cell_type": "markdown",
   "id": "5667c674",
   "metadata": {
    "papermill": {
     "duration": 0.015074,
     "end_time": "2025-07-14T05:07:26.323075",
     "exception": false,
     "start_time": "2025-07-14T05:07:26.308001",
     "status": "completed"
    },
    "tags": []
   },
   "source": [
    "## Splitting data for ***Trainig*** and ***Testing***"
   ]
  },
  {
   "cell_type": "code",
   "execution_count": 32,
   "id": "0eaa63ba",
   "metadata": {
    "execution": {
     "iopub.execute_input": "2025-07-14T05:07:26.353989Z",
     "iopub.status.busy": "2025-07-14T05:07:26.353766Z",
     "iopub.status.idle": "2025-07-14T05:07:27.144138Z",
     "shell.execute_reply": "2025-07-14T05:07:27.143377Z"
    },
    "papermill": {
     "duration": 0.806865,
     "end_time": "2025-07-14T05:07:27.145317",
     "exception": false,
     "start_time": "2025-07-14T05:07:26.338452",
     "status": "completed"
    },
    "tags": []
   },
   "outputs": [
    {
     "data": {
      "text/plain": [
       "((2560, 5, 128, 128, 3), (2560,))"
      ]
     },
     "execution_count": 32,
     "metadata": {},
     "output_type": "execute_result"
    }
   ],
   "source": [
    "videos = video_generator.videos\n",
    "labels = video_generator.labels\n",
    "\n",
    "videos = np.array(videos, dtype='float32')\n",
    "labels = np.array(labels)\n",
    "\n",
    "videos.shape, labels.shape"
   ]
  },
  {
   "cell_type": "code",
   "execution_count": 33,
   "id": "e21713aa",
   "metadata": {
    "execution": {
     "iopub.execute_input": "2025-07-14T05:07:27.178335Z",
     "iopub.status.busy": "2025-07-14T05:07:27.177830Z",
     "iopub.status.idle": "2025-07-14T05:07:27.182987Z",
     "shell.execute_reply": "2025-07-14T05:07:27.182296Z"
    },
    "papermill": {
     "duration": 0.023428,
     "end_time": "2025-07-14T05:07:27.184123",
     "exception": false,
     "start_time": "2025-07-14T05:07:27.160695",
     "status": "completed"
    },
    "tags": []
   },
   "outputs": [
    {
     "data": {
      "text/plain": [
       "(2560, 16)"
      ]
     },
     "execution_count": 33,
     "metadata": {},
     "output_type": "execute_result"
    }
   ],
   "source": [
    "from tensorflow.keras.utils import to_categorical\n",
    "\n",
    "one_hot_encoded_labels = to_categorical(labels)\n",
    "\n",
    "one_hot_encoded_labels.shape"
   ]
  },
  {
   "cell_type": "code",
   "execution_count": 34,
   "id": "f704d9c3",
   "metadata": {
    "execution": {
     "iopub.execute_input": "2025-07-14T05:07:27.219521Z",
     "iopub.status.busy": "2025-07-14T05:07:27.219311Z",
     "iopub.status.idle": "2025-07-14T05:07:27.432334Z",
     "shell.execute_reply": "2025-07-14T05:07:27.431611Z"
    },
    "papermill": {
     "duration": 0.232293,
     "end_time": "2025-07-14T05:07:27.433545",
     "exception": false,
     "start_time": "2025-07-14T05:07:27.201252",
     "status": "completed"
    },
    "tags": []
   },
   "outputs": [
    {
     "data": {
      "text/plain": [
       "0"
      ]
     },
     "execution_count": 34,
     "metadata": {},
     "output_type": "execute_result"
    }
   ],
   "source": [
    "gc.collect()"
   ]
  },
  {
   "cell_type": "code",
   "execution_count": 35,
   "id": "3288e9a3",
   "metadata": {
    "execution": {
     "iopub.execute_input": "2025-07-14T05:07:27.466459Z",
     "iopub.status.busy": "2025-07-14T05:07:27.466246Z",
     "iopub.status.idle": "2025-07-14T05:07:28.396922Z",
     "shell.execute_reply": "2025-07-14T05:07:28.396146Z"
    },
    "papermill": {
     "duration": 0.947989,
     "end_time": "2025-07-14T05:07:28.398235",
     "exception": false,
     "start_time": "2025-07-14T05:07:27.450246",
     "status": "completed"
    },
    "tags": []
   },
   "outputs": [
    {
     "data": {
      "text/plain": [
       "((2048, 5, 128, 128, 3), (2048, 16), (512, 5, 128, 128, 3), (512, 16))"
      ]
     },
     "execution_count": 35,
     "metadata": {},
     "output_type": "execute_result"
    }
   ],
   "source": [
    "# RUN Split the Data into Train ( 75% ) and Test Set ( 25% ).\n",
    "from sklearn.model_selection import train_test_split\n",
    "features_train, features_test, labels_train, labels_test = train_test_split(videos,\n",
    "                                                                            one_hot_encoded_labels,\n",
    "                                                                            test_size = TEST_SIZE,\n",
    "                                                                            shuffle = True,\n",
    "                                                                            random_state = seed_constant)\n",
    "\n",
    "features_train.shape, labels_train.shape, features_test.shape, labels_test.shape"
   ]
  },
  {
   "cell_type": "markdown",
   "id": "69356b52",
   "metadata": {
    "papermill": {
     "duration": 0.015398,
     "end_time": "2025-07-14T05:07:28.430329",
     "exception": false,
     "start_time": "2025-07-14T05:07:28.414931",
     "status": "completed"
    },
    "tags": []
   },
   "source": [
    "## Splitting data for ***Training Set*** and ***Validation Set***"
   ]
  },
  {
   "cell_type": "code",
   "execution_count": 36,
   "id": "7e8634c2",
   "metadata": {
    "execution": {
     "iopub.execute_input": "2025-07-14T05:07:28.462294Z",
     "iopub.status.busy": "2025-07-14T05:07:28.462068Z",
     "iopub.status.idle": "2025-07-14T05:07:28.467759Z",
     "shell.execute_reply": "2025-07-14T05:07:28.467256Z"
    },
    "papermill": {
     "duration": 0.022676,
     "end_time": "2025-07-14T05:07:28.468682",
     "exception": false,
     "start_time": "2025-07-14T05:07:28.446006",
     "status": "completed"
    },
    "tags": []
   },
   "outputs": [
    {
     "data": {
      "text/plain": [
       "((1638, 5, 128, 128, 3), (1638, 16), (410, 5, 128, 128, 3), (410, 16))"
      ]
     },
     "execution_count": 36,
     "metadata": {},
     "output_type": "execute_result"
    }
   ],
   "source": [
    "# Assuming features_train and labels_train are defined\n",
    "train_set = 1-VALIDATION_SPLIT\n",
    "\n",
    "train_video_frames, val_video_frames = features_train[:int(train_set * len(features_train))], features_train[int(train_set * len(features_train)):]\n",
    "train_labels, val_labels = labels_train[:int(train_set * len(labels_train))], labels_train[int(train_set * len(labels_train)):]\n",
    "\n",
    "train_video_frames.shape, train_labels.shape, val_video_frames.shape, val_labels.shape"
   ]
  },
  {
   "cell_type": "markdown",
   "id": "0cd3bd8c",
   "metadata": {
    "papermill": {
     "duration": 0.015213,
     "end_time": "2025-07-14T05:07:28.499249",
     "exception": false,
     "start_time": "2025-07-14T05:07:28.484036",
     "status": "completed"
    },
    "tags": []
   },
   "source": [
    "## Use Generator `Video Data Generator`"
   ]
  },
  {
   "cell_type": "code",
   "execution_count": 37,
   "id": "48f4da9e",
   "metadata": {
    "execution": {
     "iopub.execute_input": "2025-07-14T05:07:28.530986Z",
     "iopub.status.busy": "2025-07-14T05:07:28.530312Z",
     "iopub.status.idle": "2025-07-14T05:07:28.537028Z",
     "shell.execute_reply": "2025-07-14T05:07:28.536272Z"
    },
    "papermill": {
     "duration": 0.023675,
     "end_time": "2025-07-14T05:07:28.538225",
     "exception": false,
     "start_time": "2025-07-14T05:07:28.514550",
     "status": "completed"
    },
    "tags": []
   },
   "outputs": [
    {
     "name": "stdout",
     "output_type": "stream",
     "text": [
      "Total 1638 videos and 1638 classes\n",
      "Total 410 videos and 410 classes\n"
     ]
    },
    {
     "data": {
      "text/plain": [
       "(69, 18)"
      ]
     },
     "execution_count": 37,
     "metadata": {},
     "output_type": "execute_result"
    }
   ],
   "source": [
    "# Create the training and validation generators\n",
    "train_gen = VideoDataGenerator(\n",
    "    videos=train_video_frames, \n",
    "    labels=train_labels, \n",
    "    batch_size=BATCH_SIZE,\n",
    ")\n",
    "\n",
    "val_gen = VideoDataGenerator(\n",
    "    videos=val_video_frames, \n",
    "    labels=val_labels, \n",
    "    batch_size=BATCH_SIZE,\n",
    ")\n",
    "\n",
    "len(train_gen), len(val_gen)"
   ]
  },
  {
   "cell_type": "markdown",
   "id": "c53b330a",
   "metadata": {
    "papermill": {
     "duration": 0.015321,
     "end_time": "2025-07-14T05:07:28.569918",
     "exception": false,
     "start_time": "2025-07-14T05:07:28.554597",
     "status": "completed"
    },
    "tags": []
   },
   "source": [
    "## Inspect ***Generator*** Data on Epochs"
   ]
  },
  {
   "cell_type": "code",
   "execution_count": 38,
   "id": "e51ecaa4",
   "metadata": {
    "execution": {
     "iopub.execute_input": "2025-07-14T05:07:28.601675Z",
     "iopub.status.busy": "2025-07-14T05:07:28.601478Z",
     "iopub.status.idle": "2025-07-14T05:07:28.613972Z",
     "shell.execute_reply": "2025-07-14T05:07:28.613206Z"
    },
    "papermill": {
     "duration": 0.029656,
     "end_time": "2025-07-14T05:07:28.615108",
     "exception": false,
     "start_time": "2025-07-14T05:07:28.585452",
     "status": "completed"
    },
    "tags": []
   },
   "outputs": [
    {
     "name": "stdout",
     "output_type": "stream",
     "text": [
      "[   0    1    2 ... 1635 1636 1637]\n",
      "[ 658 1561 1395 ...  691  912  158]\n"
     ]
    },
    {
     "data": {
      "text/plain": [
       "(24, (24, 5, 128, 128, 3), (24, 16))"
      ]
     },
     "execution_count": 38,
     "metadata": {},
     "output_type": "execute_result"
    }
   ],
   "source": [
    "features, labels = train_gen[1]\n",
    "\n",
    "print(train_gen.indices)\n",
    "\n",
    "train_gen.on_epoch_end()\n",
    "\n",
    "print(train_gen.indices)\n",
    "\n",
    "BATCH_SIZE, features.shape, labels.shape"
   ]
  },
  {
   "cell_type": "markdown",
   "id": "0aa32076",
   "metadata": {
    "papermill": {
     "duration": 0.015708,
     "end_time": "2025-07-14T05:07:28.646310",
     "exception": false,
     "start_time": "2025-07-14T05:07:28.630602",
     "status": "completed"
    },
    "tags": []
   },
   "source": [
    "## Compute Class Weight"
   ]
  },
  {
   "cell_type": "code",
   "execution_count": 39,
   "id": "2e0c97bb",
   "metadata": {
    "execution": {
     "iopub.execute_input": "2025-07-14T05:07:28.679025Z",
     "iopub.status.busy": "2025-07-14T05:07:28.678569Z",
     "iopub.status.idle": "2025-07-14T05:07:28.684189Z",
     "shell.execute_reply": "2025-07-14T05:07:28.683581Z"
    },
    "papermill": {
     "duration": 0.023094,
     "end_time": "2025-07-14T05:07:28.685284",
     "exception": false,
     "start_time": "2025-07-14T05:07:28.662190",
     "status": "completed"
    },
    "tags": []
   },
   "outputs": [
    {
     "name": "stdout",
     "output_type": "stream",
     "text": [
      "Class weights: {0: 1.0, 1: 1.0, 2: 1.0, 3: 1.0, 4: 1.0, 5: 1.0, 6: 1.0, 7: 1.0, 8: 1.0, 9: 1.0, 10: 1.0, 11: 1.0, 12: 1.0, 13: 1.0, 14: 1.0, 15: 1.0}\n"
     ]
    }
   ],
   "source": [
    "from sklearn.utils.class_weight import compute_class_weight\n",
    "import numpy as np\n",
    "\n",
    "# Assuming y_int are integer labels (not one-hot)\n",
    "y_int = np.argmax(one_hot_encoded_labels, axis=1)  # or just integer labels if you have them\n",
    "\n",
    "classes = np.arange(NO_OF_CLASSES)  # e.g. np.arange(16)\n",
    "class_weights_values = compute_class_weight(class_weight='balanced', classes=classes, y=y_int)\n",
    "\n",
    "class_weights = dict(zip(classes, class_weights_values))\n",
    "\n",
    "print(\"Class weights:\", class_weights)\n"
   ]
  },
  {
   "cell_type": "code",
   "execution_count": 40,
   "id": "6d06b185",
   "metadata": {
    "execution": {
     "iopub.execute_input": "2025-07-14T05:07:28.719231Z",
     "iopub.status.busy": "2025-07-14T05:07:28.718765Z",
     "iopub.status.idle": "2025-07-14T05:07:28.939779Z",
     "shell.execute_reply": "2025-07-14T05:07:28.939146Z"
    },
    "papermill": {
     "duration": 0.239633,
     "end_time": "2025-07-14T05:07:28.940953",
     "exception": false,
     "start_time": "2025-07-14T05:07:28.701320",
     "status": "completed"
    },
    "tags": []
   },
   "outputs": [],
   "source": [
    "gc.collect()\n",
    "del videos, one_hot_encoded_labels, labels_train\n",
    "del features_train, val_labels, train_labels\n",
    "del val_video_frames, train_video_frames"
   ]
  },
  {
   "cell_type": "markdown",
   "id": "ace6912f",
   "metadata": {
    "papermill": {
     "duration": 0.015957,
     "end_time": "2025-07-14T05:07:28.974161",
     "exception": false,
     "start_time": "2025-07-14T05:07:28.958204",
     "status": "completed"
    },
    "tags": []
   },
   "source": [
    "# ✨ Model Execution\n",
    "## Creating Model"
   ]
  },
  {
   "cell_type": "markdown",
   "id": "0604e8ab",
   "metadata": {
    "papermill": {
     "duration": 0.01631,
     "end_time": "2025-07-14T05:07:29.006782",
     "exception": false,
     "start_time": "2025-07-14T05:07:28.990472",
     "status": "completed"
    },
    "tags": []
   },
   "source": [
    "## Plot Model Structure"
   ]
  },
  {
   "cell_type": "code",
   "execution_count": 41,
   "id": "724d864a",
   "metadata": {
    "execution": {
     "iopub.execute_input": "2025-07-14T05:07:29.039826Z",
     "iopub.status.busy": "2025-07-14T05:07:29.039619Z",
     "iopub.status.idle": "2025-07-14T05:07:29.043876Z",
     "shell.execute_reply": "2025-07-14T05:07:29.043185Z"
    },
    "papermill": {
     "duration": 0.022134,
     "end_time": "2025-07-14T05:07:29.045000",
     "exception": false,
     "start_time": "2025-07-14T05:07:29.022866",
     "status": "completed"
    },
    "tags": []
   },
   "outputs": [
    {
     "name": "stdout",
     "output_type": "stream",
     "text": [
      "\n",
      "Evaluating VGG19+LSTM model on test set...\n",
      "Total 512 videos and 512 classes\n"
     ]
    }
   ],
   "source": [
    "# Evaluate the model on the test set\n",
    "print(\"\\nEvaluating VGG19+LSTM model on test set...\")\n",
    "test_gen = VideoDataGenerator(\n",
    "    videos=features_test,\n",
    "    labels=labels_test,\n",
    "    batch_size=BATCH_SIZE\n",
    ")"
   ]
  },
  {
   "cell_type": "markdown",
   "id": "7c7bb245",
   "metadata": {
    "papermill": {
     "duration": 0.01612,
     "end_time": "2025-07-14T05:07:29.079367",
     "exception": false,
     "start_time": "2025-07-14T05:07:29.063247",
     "status": "completed"
    },
    "tags": []
   },
   "source": [
    "# 📈 Model Training"
   ]
  },
  {
   "cell_type": "markdown",
   "id": "e6f7c73b",
   "metadata": {
    "papermill": {
     "duration": 0.018039,
     "end_time": "2025-07-14T05:07:29.113675",
     "exception": false,
     "start_time": "2025-07-14T05:07:29.095636",
     "status": "completed"
    },
    "tags": []
   },
   "source": [
    "# Model Architecture"
   ]
  },
  {
   "cell_type": "code",
   "execution_count": 42,
   "id": "e2bff304",
   "metadata": {
    "execution": {
     "iopub.execute_input": "2025-07-14T05:07:29.153074Z",
     "iopub.status.busy": "2025-07-14T05:07:29.152814Z",
     "iopub.status.idle": "2025-07-14T05:07:29.170523Z",
     "shell.execute_reply": "2025-07-14T05:07:29.170002Z"
    },
    "papermill": {
     "duration": 0.038047,
     "end_time": "2025-07-14T05:07:29.171603",
     "exception": false,
     "start_time": "2025-07-14T05:07:29.133556",
     "status": "completed"
    },
    "tags": []
   },
   "outputs": [],
   "source": [
    "###### Import necessary libraries\n",
    "from tensorflow.keras.applications import VGG16, VGG19, InceptionV3, InceptionResNetV2, MobileNetV2, Xception, ResNet50\n",
    "from tensorflow.keras.models import Sequential\n",
    "from tensorflow.keras.layers import TimeDistributed, GlobalAveragePooling2D, GRU, Dropout, Dense, BatchNormalization, LSTM, Bidirectional\n",
    "from tensorflow.keras.regularizers import l2\n",
    "from tensorflow.keras.callbacks import EarlyStopping, ReduceLROnPlateau\n",
    "from tensorflow.keras.utils import to_categorical\n",
    "import tensorflow as tf\n",
    "import numpy as np\n",
    "import gc"
   ]
  },
  {
   "cell_type": "markdown",
   "id": "0de39ca7",
   "metadata": {
    "papermill": {
     "duration": 0.018562,
     "end_time": "2025-07-14T05:07:29.208624",
     "exception": false,
     "start_time": "2025-07-14T05:07:29.190062",
     "status": "completed"
    },
    "tags": []
   },
   "source": [
    "## VGG16 + GRU"
   ]
  },
  {
   "cell_type": "code",
   "execution_count": 43,
   "id": "3705b38b",
   "metadata": {
    "execution": {
     "iopub.execute_input": "2025-07-14T05:07:29.244949Z",
     "iopub.status.busy": "2025-07-14T05:07:29.244743Z",
     "iopub.status.idle": "2025-07-14T05:32:38.383800Z",
     "shell.execute_reply": "2025-07-14T05:32:38.383009Z"
    },
    "papermill": {
     "duration": 1509.158726,
     "end_time": "2025-07-14T05:32:38.384959",
     "exception": false,
     "start_time": "2025-07-14T05:07:29.226233",
     "status": "completed"
    },
    "tags": []
   },
   "outputs": [
    {
     "name": "stdout",
     "output_type": "stream",
     "text": [
      "Memory cleared before creating VGG19+LSTM model\n",
      "TensorFlow version: 2.18.0\n",
      "Pre-loading VGG19 weights...\n",
      "Downloading data from https://storage.googleapis.com/tensorflow/keras-applications/vgg16/vgg16_weights_tf_dim_ordering_tf_kernels_notop.h5\n",
      "\u001b[1m58889256/58889256\u001b[0m \u001b[32m━━━━━━━━━━━━━━━━━━━━\u001b[0m\u001b[37m\u001b[0m \u001b[1m0s\u001b[0m 0us/step\n",
      "VGG19 weights loaded successfully!\n",
      "Creating VGG19+LSTM model with parameters:\n",
      "sequence_length: 5, image_height: 128, image_width: 128, classes_list length: 16, dropout_rate: 0.5\n",
      "VGG19+LSTM model architecture created successfully!\n"
     ]
    },
    {
     "name": "stderr",
     "output_type": "stream",
     "text": [
      "/usr/local/lib/python3.11/dist-packages/keras/src/layers/core/wrapper.py:27: UserWarning: Do not pass an `input_shape`/`input_dim` argument to a layer. When using Sequential models, prefer using an `Input(shape)` object as the first layer in the model instead.\n",
      "  super().__init__(**kwargs)\n"
     ]
    },
    {
     "data": {
      "text/html": [
       "<pre style=\"white-space:pre;overflow-x:auto;line-height:normal;font-family:Menlo,'DejaVu Sans Mono',consolas,'Courier New',monospace\"><span style=\"font-weight: bold\">Model: \"sequential\"</span>\n",
       "</pre>\n"
      ],
      "text/plain": [
       "\u001b[1mModel: \"sequential\"\u001b[0m\n"
      ]
     },
     "metadata": {},
     "output_type": "display_data"
    },
    {
     "data": {
      "text/html": [
       "<pre style=\"white-space:pre;overflow-x:auto;line-height:normal;font-family:Menlo,'DejaVu Sans Mono',consolas,'Courier New',monospace\">┏━━━━━━━━━━━━━━━━━━━━━━━━━━━━━━━━━┳━━━━━━━━━━━━━━━━━━━━━━━━┳━━━━━━━━━━━━━━━┓\n",
       "┃<span style=\"font-weight: bold\"> Layer (type)                    </span>┃<span style=\"font-weight: bold\"> Output Shape           </span>┃<span style=\"font-weight: bold\">       Param # </span>┃\n",
       "┡━━━━━━━━━━━━━━━━━━━━━━━━━━━━━━━━━╇━━━━━━━━━━━━━━━━━━━━━━━━╇━━━━━━━━━━━━━━━┩\n",
       "│ time_distributed_vgg19          │ (<span style=\"color: #00d7ff; text-decoration-color: #00d7ff\">None</span>, <span style=\"color: #00af00; text-decoration-color: #00af00\">5</span>, <span style=\"color: #00af00; text-decoration-color: #00af00\">4</span>, <span style=\"color: #00af00; text-decoration-color: #00af00\">4</span>, <span style=\"color: #00af00; text-decoration-color: #00af00\">512</span>)   │    <span style=\"color: #00af00; text-decoration-color: #00af00\">14,714,688</span> │\n",
       "│ (<span style=\"color: #0087ff; text-decoration-color: #0087ff\">TimeDistributed</span>)               │                        │               │\n",
       "├─────────────────────────────────┼────────────────────────┼───────────────┤\n",
       "│ time_distributed_pooling        │ (<span style=\"color: #00d7ff; text-decoration-color: #00d7ff\">None</span>, <span style=\"color: #00af00; text-decoration-color: #00af00\">5</span>, <span style=\"color: #00af00; text-decoration-color: #00af00\">512</span>)         │             <span style=\"color: #00af00; text-decoration-color: #00af00\">0</span> │\n",
       "│ (<span style=\"color: #0087ff; text-decoration-color: #0087ff\">TimeDistributed</span>)               │                        │               │\n",
       "├─────────────────────────────────┼────────────────────────┼───────────────┤\n",
       "│ lstm_vgg19 (<span style=\"color: #0087ff; text-decoration-color: #0087ff\">GRU</span>)                │ (<span style=\"color: #00d7ff; text-decoration-color: #00d7ff\">None</span>, <span style=\"color: #00af00; text-decoration-color: #00af00\">256</span>)            │       <span style=\"color: #00af00; text-decoration-color: #00af00\">591,360</span> │\n",
       "├─────────────────────────────────┼────────────────────────┼───────────────┤\n",
       "│ batch_normalization_vgg19       │ (<span style=\"color: #00d7ff; text-decoration-color: #00d7ff\">None</span>, <span style=\"color: #00af00; text-decoration-color: #00af00\">256</span>)            │         <span style=\"color: #00af00; text-decoration-color: #00af00\">1,024</span> │\n",
       "│ (<span style=\"color: #0087ff; text-decoration-color: #0087ff\">BatchNormalization</span>)            │                        │               │\n",
       "├─────────────────────────────────┼────────────────────────┼───────────────┤\n",
       "│ dropout_lstm_vgg19 (<span style=\"color: #0087ff; text-decoration-color: #0087ff\">Dropout</span>)    │ (<span style=\"color: #00d7ff; text-decoration-color: #00d7ff\">None</span>, <span style=\"color: #00af00; text-decoration-color: #00af00\">256</span>)            │             <span style=\"color: #00af00; text-decoration-color: #00af00\">0</span> │\n",
       "├─────────────────────────────────┼────────────────────────┼───────────────┤\n",
       "│ dense_vgg19_1 (<span style=\"color: #0087ff; text-decoration-color: #0087ff\">Dense</span>)           │ (<span style=\"color: #00d7ff; text-decoration-color: #00d7ff\">None</span>, <span style=\"color: #00af00; text-decoration-color: #00af00\">512</span>)            │       <span style=\"color: #00af00; text-decoration-color: #00af00\">131,584</span> │\n",
       "├─────────────────────────────────┼────────────────────────┼───────────────┤\n",
       "│ dropout_dense_vgg19_1 (<span style=\"color: #0087ff; text-decoration-color: #0087ff\">Dropout</span>) │ (<span style=\"color: #00d7ff; text-decoration-color: #00d7ff\">None</span>, <span style=\"color: #00af00; text-decoration-color: #00af00\">512</span>)            │             <span style=\"color: #00af00; text-decoration-color: #00af00\">0</span> │\n",
       "├─────────────────────────────────┼────────────────────────┼───────────────┤\n",
       "│ dense_vgg19_2 (<span style=\"color: #0087ff; text-decoration-color: #0087ff\">Dense</span>)           │ (<span style=\"color: #00d7ff; text-decoration-color: #00d7ff\">None</span>, <span style=\"color: #00af00; text-decoration-color: #00af00\">128</span>)            │        <span style=\"color: #00af00; text-decoration-color: #00af00\">65,664</span> │\n",
       "├─────────────────────────────────┼────────────────────────┼───────────────┤\n",
       "│ dropout_dense_vgg19_2 (<span style=\"color: #0087ff; text-decoration-color: #0087ff\">Dropout</span>) │ (<span style=\"color: #00d7ff; text-decoration-color: #00d7ff\">None</span>, <span style=\"color: #00af00; text-decoration-color: #00af00\">128</span>)            │             <span style=\"color: #00af00; text-decoration-color: #00af00\">0</span> │\n",
       "├─────────────────────────────────┼────────────────────────┼───────────────┤\n",
       "│ output_vgg19 (<span style=\"color: #0087ff; text-decoration-color: #0087ff\">Dense</span>)            │ (<span style=\"color: #00d7ff; text-decoration-color: #00d7ff\">None</span>, <span style=\"color: #00af00; text-decoration-color: #00af00\">16</span>)             │         <span style=\"color: #00af00; text-decoration-color: #00af00\">2,064</span> │\n",
       "└─────────────────────────────────┴────────────────────────┴───────────────┘\n",
       "</pre>\n"
      ],
      "text/plain": [
       "┏━━━━━━━━━━━━━━━━━━━━━━━━━━━━━━━━━┳━━━━━━━━━━━━━━━━━━━━━━━━┳━━━━━━━━━━━━━━━┓\n",
       "┃\u001b[1m \u001b[0m\u001b[1mLayer (type)                   \u001b[0m\u001b[1m \u001b[0m┃\u001b[1m \u001b[0m\u001b[1mOutput Shape          \u001b[0m\u001b[1m \u001b[0m┃\u001b[1m \u001b[0m\u001b[1m      Param #\u001b[0m\u001b[1m \u001b[0m┃\n",
       "┡━━━━━━━━━━━━━━━━━━━━━━━━━━━━━━━━━╇━━━━━━━━━━━━━━━━━━━━━━━━╇━━━━━━━━━━━━━━━┩\n",
       "│ time_distributed_vgg19          │ (\u001b[38;5;45mNone\u001b[0m, \u001b[38;5;34m5\u001b[0m, \u001b[38;5;34m4\u001b[0m, \u001b[38;5;34m4\u001b[0m, \u001b[38;5;34m512\u001b[0m)   │    \u001b[38;5;34m14,714,688\u001b[0m │\n",
       "│ (\u001b[38;5;33mTimeDistributed\u001b[0m)               │                        │               │\n",
       "├─────────────────────────────────┼────────────────────────┼───────────────┤\n",
       "│ time_distributed_pooling        │ (\u001b[38;5;45mNone\u001b[0m, \u001b[38;5;34m5\u001b[0m, \u001b[38;5;34m512\u001b[0m)         │             \u001b[38;5;34m0\u001b[0m │\n",
       "│ (\u001b[38;5;33mTimeDistributed\u001b[0m)               │                        │               │\n",
       "├─────────────────────────────────┼────────────────────────┼───────────────┤\n",
       "│ lstm_vgg19 (\u001b[38;5;33mGRU\u001b[0m)                │ (\u001b[38;5;45mNone\u001b[0m, \u001b[38;5;34m256\u001b[0m)            │       \u001b[38;5;34m591,360\u001b[0m │\n",
       "├─────────────────────────────────┼────────────────────────┼───────────────┤\n",
       "│ batch_normalization_vgg19       │ (\u001b[38;5;45mNone\u001b[0m, \u001b[38;5;34m256\u001b[0m)            │         \u001b[38;5;34m1,024\u001b[0m │\n",
       "│ (\u001b[38;5;33mBatchNormalization\u001b[0m)            │                        │               │\n",
       "├─────────────────────────────────┼────────────────────────┼───────────────┤\n",
       "│ dropout_lstm_vgg19 (\u001b[38;5;33mDropout\u001b[0m)    │ (\u001b[38;5;45mNone\u001b[0m, \u001b[38;5;34m256\u001b[0m)            │             \u001b[38;5;34m0\u001b[0m │\n",
       "├─────────────────────────────────┼────────────────────────┼───────────────┤\n",
       "│ dense_vgg19_1 (\u001b[38;5;33mDense\u001b[0m)           │ (\u001b[38;5;45mNone\u001b[0m, \u001b[38;5;34m512\u001b[0m)            │       \u001b[38;5;34m131,584\u001b[0m │\n",
       "├─────────────────────────────────┼────────────────────────┼───────────────┤\n",
       "│ dropout_dense_vgg19_1 (\u001b[38;5;33mDropout\u001b[0m) │ (\u001b[38;5;45mNone\u001b[0m, \u001b[38;5;34m512\u001b[0m)            │             \u001b[38;5;34m0\u001b[0m │\n",
       "├─────────────────────────────────┼────────────────────────┼───────────────┤\n",
       "│ dense_vgg19_2 (\u001b[38;5;33mDense\u001b[0m)           │ (\u001b[38;5;45mNone\u001b[0m, \u001b[38;5;34m128\u001b[0m)            │        \u001b[38;5;34m65,664\u001b[0m │\n",
       "├─────────────────────────────────┼────────────────────────┼───────────────┤\n",
       "│ dropout_dense_vgg19_2 (\u001b[38;5;33mDropout\u001b[0m) │ (\u001b[38;5;45mNone\u001b[0m, \u001b[38;5;34m128\u001b[0m)            │             \u001b[38;5;34m0\u001b[0m │\n",
       "├─────────────────────────────────┼────────────────────────┼───────────────┤\n",
       "│ output_vgg19 (\u001b[38;5;33mDense\u001b[0m)            │ (\u001b[38;5;45mNone\u001b[0m, \u001b[38;5;34m16\u001b[0m)             │         \u001b[38;5;34m2,064\u001b[0m │\n",
       "└─────────────────────────────────┴────────────────────────┴───────────────┘\n"
      ]
     },
     "metadata": {},
     "output_type": "display_data"
    },
    {
     "data": {
      "text/html": [
       "<pre style=\"white-space:pre;overflow-x:auto;line-height:normal;font-family:Menlo,'DejaVu Sans Mono',consolas,'Courier New',monospace\"><span style=\"font-weight: bold\"> Total params: </span><span style=\"color: #00af00; text-decoration-color: #00af00\">15,506,384</span> (59.15 MB)\n",
       "</pre>\n"
      ],
      "text/plain": [
       "\u001b[1m Total params: \u001b[0m\u001b[38;5;34m15,506,384\u001b[0m (59.15 MB)\n"
      ]
     },
     "metadata": {},
     "output_type": "display_data"
    },
    {
     "data": {
      "text/html": [
       "<pre style=\"white-space:pre;overflow-x:auto;line-height:normal;font-family:Menlo,'DejaVu Sans Mono',consolas,'Courier New',monospace\"><span style=\"font-weight: bold\"> Trainable params: </span><span style=\"color: #00af00; text-decoration-color: #00af00\">791,184</span> (3.02 MB)\n",
       "</pre>\n"
      ],
      "text/plain": [
       "\u001b[1m Trainable params: \u001b[0m\u001b[38;5;34m791,184\u001b[0m (3.02 MB)\n"
      ]
     },
     "metadata": {},
     "output_type": "display_data"
    },
    {
     "data": {
      "text/html": [
       "<pre style=\"white-space:pre;overflow-x:auto;line-height:normal;font-family:Menlo,'DejaVu Sans Mono',consolas,'Courier New',monospace\"><span style=\"font-weight: bold\"> Non-trainable params: </span><span style=\"color: #00af00; text-decoration-color: #00af00\">14,715,200</span> (56.13 MB)\n",
       "</pre>\n"
      ],
      "text/plain": [
       "\u001b[1m Non-trainable params: \u001b[0m\u001b[38;5;34m14,715,200\u001b[0m (56.13 MB)\n"
      ]
     },
     "metadata": {},
     "output_type": "display_data"
    },
    {
     "name": "stdout",
     "output_type": "stream",
     "text": [
      "VGG19+LSTM Model Created Successfully!\n",
      "Initial training started for VGG19+LSTM model with 1638 videos of 16 classes with 410 videos for validation...\n",
      "Epoch 1/30\n"
     ]
    },
    {
     "name": "stderr",
     "output_type": "stream",
     "text": [
      "I0000 00:00:1752469659.898551    2498 cuda_dnn.cc:529] Loaded cuDNN version 90300\n"
     ]
    },
    {
     "name": "stdout",
     "output_type": "stream",
     "text": [
      "     69/Unknown \u001b[1m24s\u001b[0m 187ms/step - accuracy: 0.0711 - loss: 12.9374"
     ]
    },
    {
     "name": "stderr",
     "output_type": "stream",
     "text": [
      "/usr/local/lib/python3.11/dist-packages/keras/src/trainers/epoch_iterator.py:151: UserWarning: Your input ran out of data; interrupting training. Make sure that your dataset or generator can generate at least `steps_per_epoch * epochs` batches. You may need to use the `.repeat()` function when building your dataset.\n",
      "  self._interrupted_warning()\n"
     ]
    },
    {
     "name": "stdout",
     "output_type": "stream",
     "text": [
      "\u001b[1m69/69\u001b[0m \u001b[32m━━━━━━━━━━━━━━━━━━━━\u001b[0m\u001b[37m\u001b[0m \u001b[1m30s\u001b[0m 262ms/step - accuracy: 0.0712 - loss: 12.9137 - val_accuracy: 0.0512 - val_loss: 8.9322 - learning_rate: 0.0010\n",
      "Epoch 2/30\n",
      "\u001b[1m69/69\u001b[0m \u001b[32m━━━━━━━━━━━━━━━━━━━━\u001b[0m\u001b[37m\u001b[0m \u001b[1m16s\u001b[0m 234ms/step - accuracy: 0.1045 - loss: 8.5342 - val_accuracy: 0.1195 - val_loss: 7.4331 - learning_rate: 0.0010\n",
      "Epoch 3/30\n",
      "\u001b[1m69/69\u001b[0m \u001b[32m━━━━━━━━━━━━━━━━━━━━\u001b[0m\u001b[37m\u001b[0m \u001b[1m17s\u001b[0m 241ms/step - accuracy: 0.1435 - loss: 7.0598 - val_accuracy: 0.1561 - val_loss: 6.3594 - learning_rate: 0.0010\n",
      "Epoch 4/30\n",
      "\u001b[1m69/69\u001b[0m \u001b[32m━━━━━━━━━━━━━━━━━━━━\u001b[0m\u001b[37m\u001b[0m \u001b[1m17s\u001b[0m 250ms/step - accuracy: 0.1874 - loss: 5.9629 - val_accuracy: 0.1561 - val_loss: 5.5005 - learning_rate: 0.0010\n",
      "Epoch 5/30\n",
      "\u001b[1m69/69\u001b[0m \u001b[32m━━━━━━━━━━━━━━━━━━━━\u001b[0m\u001b[37m\u001b[0m \u001b[1m18s\u001b[0m 256ms/step - accuracy: 0.2168 - loss: 5.0725 - val_accuracy: 0.1512 - val_loss: 4.7817 - learning_rate: 0.0010\n",
      "Epoch 6/30\n",
      "\u001b[1m69/69\u001b[0m \u001b[32m━━━━━━━━━━━━━━━━━━━━\u001b[0m\u001b[37m\u001b[0m \u001b[1m18s\u001b[0m 268ms/step - accuracy: 0.2825 - loss: 4.3767 - val_accuracy: 0.2073 - val_loss: 4.2346 - learning_rate: 0.0010\n",
      "Epoch 7/30\n",
      "\u001b[1m69/69\u001b[0m \u001b[32m━━━━━━━━━━━━━━━━━━━━\u001b[0m\u001b[37m\u001b[0m \u001b[1m19s\u001b[0m 281ms/step - accuracy: 0.3197 - loss: 3.8051 - val_accuracy: 0.1683 - val_loss: 4.0659 - learning_rate: 0.0010\n",
      "Epoch 8/30\n",
      "\u001b[1m69/69\u001b[0m \u001b[32m━━━━━━━━━━━━━━━━━━━━\u001b[0m\u001b[37m\u001b[0m \u001b[1m20s\u001b[0m 287ms/step - accuracy: 0.3463 - loss: 3.3769 - val_accuracy: 0.1927 - val_loss: 3.8947 - learning_rate: 0.0010\n",
      "Epoch 9/30\n",
      "\u001b[1m69/69\u001b[0m \u001b[32m━━━━━━━━━━━━━━━━━━━━\u001b[0m\u001b[37m\u001b[0m \u001b[1m19s\u001b[0m 276ms/step - accuracy: 0.4004 - loss: 3.0861 - val_accuracy: 0.1146 - val_loss: 4.6206 - learning_rate: 0.0010\n",
      "Epoch 10/30\n",
      "\u001b[1m69/69\u001b[0m \u001b[32m━━━━━━━━━━━━━━━━━━━━\u001b[0m\u001b[37m\u001b[0m \u001b[1m19s\u001b[0m 275ms/step - accuracy: 0.4298 - loss: 2.7475 - val_accuracy: 0.3293 - val_loss: 3.0320 - learning_rate: 0.0010\n",
      "Epoch 11/30\n",
      "\u001b[1m69/69\u001b[0m \u001b[32m━━━━━━━━━━━━━━━━━━━━\u001b[0m\u001b[37m\u001b[0m \u001b[1m19s\u001b[0m 279ms/step - accuracy: 0.4874 - loss: 2.4903 - val_accuracy: 0.3366 - val_loss: 2.9142 - learning_rate: 0.0010\n",
      "Epoch 12/30\n",
      "\u001b[1m69/69\u001b[0m \u001b[32m━━━━━━━━━━━━━━━━━━━━\u001b[0m\u001b[37m\u001b[0m \u001b[1m19s\u001b[0m 280ms/step - accuracy: 0.4534 - loss: 2.4328 - val_accuracy: 0.1951 - val_loss: 4.8813 - learning_rate: 0.0010\n",
      "Epoch 13/30\n",
      "\u001b[1m69/69\u001b[0m \u001b[32m━━━━━━━━━━━━━━━━━━━━\u001b[0m\u001b[37m\u001b[0m \u001b[1m19s\u001b[0m 278ms/step - accuracy: 0.4640 - loss: 2.3313 - val_accuracy: 0.4439 - val_loss: 2.6365 - learning_rate: 0.0010\n",
      "Epoch 14/30\n",
      "\u001b[1m69/69\u001b[0m \u001b[32m━━━━━━━━━━━━━━━━━━━━\u001b[0m\u001b[37m\u001b[0m \u001b[1m19s\u001b[0m 277ms/step - accuracy: 0.5230 - loss: 2.2311 - val_accuracy: 0.2439 - val_loss: 4.1780 - learning_rate: 0.0010\n",
      "Epoch 15/30\n",
      "\u001b[1m69/69\u001b[0m \u001b[32m━━━━━━━━━━━━━━━━━━━━\u001b[0m\u001b[37m\u001b[0m \u001b[1m19s\u001b[0m 277ms/step - accuracy: 0.5182 - loss: 2.1569 - val_accuracy: 0.3000 - val_loss: 3.2967 - learning_rate: 0.0010\n",
      "Epoch 16/30\n",
      "\u001b[1m69/69\u001b[0m \u001b[32m━━━━━━━━━━━━━━━━━━━━\u001b[0m\u001b[37m\u001b[0m \u001b[1m19s\u001b[0m 277ms/step - accuracy: 0.5302 - loss: 2.0942 - val_accuracy: 0.2927 - val_loss: 4.5429 - learning_rate: 0.0010\n",
      "Epoch 17/30\n",
      "\u001b[1m69/69\u001b[0m \u001b[32m━━━━━━━━━━━━━━━━━━━━\u001b[0m\u001b[37m\u001b[0m \u001b[1m19s\u001b[0m 277ms/step - accuracy: 0.5777 - loss: 1.9650 - val_accuracy: 0.4829 - val_loss: 2.2392 - learning_rate: 5.0000e-04\n",
      "Epoch 18/30\n",
      "\u001b[1m69/69\u001b[0m \u001b[32m━━━━━━━━━━━━━━━━━━━━\u001b[0m\u001b[37m\u001b[0m \u001b[1m19s\u001b[0m 277ms/step - accuracy: 0.6105 - loss: 1.8102 - val_accuracy: 0.3244 - val_loss: 3.2662 - learning_rate: 5.0000e-04\n",
      "Epoch 19/30\n",
      "\u001b[1m69/69\u001b[0m \u001b[32m━━━━━━━━━━━━━━━━━━━━\u001b[0m\u001b[37m\u001b[0m \u001b[1m19s\u001b[0m 277ms/step - accuracy: 0.6225 - loss: 1.7281 - val_accuracy: 0.4805 - val_loss: 2.1794 - learning_rate: 5.0000e-04\n",
      "Epoch 20/30\n",
      "\u001b[1m69/69\u001b[0m \u001b[32m━━━━━━━━━━━━━━━━━━━━\u001b[0m\u001b[37m\u001b[0m \u001b[1m19s\u001b[0m 277ms/step - accuracy: 0.6272 - loss: 1.6567 - val_accuracy: 0.4415 - val_loss: 2.4547 - learning_rate: 5.0000e-04\n",
      "Epoch 21/30\n",
      "\u001b[1m69/69\u001b[0m \u001b[32m━━━━━━━━━━━━━━━━━━━━\u001b[0m\u001b[37m\u001b[0m \u001b[1m19s\u001b[0m 277ms/step - accuracy: 0.6377 - loss: 1.6253 - val_accuracy: 0.4098 - val_loss: 2.7436 - learning_rate: 5.0000e-04\n",
      "Epoch 22/30\n",
      "\u001b[1m69/69\u001b[0m \u001b[32m━━━━━━━━━━━━━━━━━━━━\u001b[0m\u001b[37m\u001b[0m \u001b[1m19s\u001b[0m 277ms/step - accuracy: 0.6704 - loss: 1.5678 - val_accuracy: 0.3902 - val_loss: 2.8077 - learning_rate: 5.0000e-04\n",
      "Epoch 23/30\n",
      "\u001b[1m69/69\u001b[0m \u001b[32m━━━━━━━━━━━━━━━━━━━━\u001b[0m\u001b[37m\u001b[0m \u001b[1m19s\u001b[0m 278ms/step - accuracy: 0.7008 - loss: 1.4568 - val_accuracy: 0.5220 - val_loss: 2.0140 - learning_rate: 2.5000e-04\n",
      "Epoch 24/30\n",
      "\u001b[1m69/69\u001b[0m \u001b[32m━━━━━━━━━━━━━━━━━━━━\u001b[0m\u001b[37m\u001b[0m \u001b[1m19s\u001b[0m 278ms/step - accuracy: 0.6924 - loss: 1.4350 - val_accuracy: 0.5439 - val_loss: 1.9080 - learning_rate: 2.5000e-04\n",
      "Epoch 25/30\n",
      "\u001b[1m69/69\u001b[0m \u001b[32m━━━━━━━━━━━━━━━━━━━━\u001b[0m\u001b[37m\u001b[0m \u001b[1m19s\u001b[0m 278ms/step - accuracy: 0.7113 - loss: 1.3724 - val_accuracy: 0.4390 - val_loss: 2.5101 - learning_rate: 2.5000e-04\n",
      "Epoch 26/30\n",
      "\u001b[1m69/69\u001b[0m \u001b[32m━━━━━━━━━━━━━━━━━━━━\u001b[0m\u001b[37m\u001b[0m \u001b[1m19s\u001b[0m 279ms/step - accuracy: 0.7366 - loss: 1.3719 - val_accuracy: 0.4659 - val_loss: 2.2536 - learning_rate: 2.5000e-04\n",
      "Epoch 27/30\n",
      "\u001b[1m69/69\u001b[0m \u001b[32m━━━━━━━━━━━━━━━━━━━━\u001b[0m\u001b[37m\u001b[0m \u001b[1m19s\u001b[0m 279ms/step - accuracy: 0.7470 - loss: 1.3066 - val_accuracy: 0.4439 - val_loss: 2.5678 - learning_rate: 2.5000e-04\n",
      "Epoch 28/30\n",
      "\u001b[1m69/69\u001b[0m \u001b[32m━━━━━━━━━━━━━━━━━━━━\u001b[0m\u001b[37m\u001b[0m \u001b[1m19s\u001b[0m 280ms/step - accuracy: 0.7402 - loss: 1.2594 - val_accuracy: 0.6512 - val_loss: 1.6067 - learning_rate: 1.2500e-04\n",
      "Epoch 29/30\n",
      "\u001b[1m69/69\u001b[0m \u001b[32m━━━━━━━━━━━━━━━━━━━━\u001b[0m\u001b[37m\u001b[0m \u001b[1m19s\u001b[0m 280ms/step - accuracy: 0.7786 - loss: 1.2069 - val_accuracy: 0.6707 - val_loss: 1.4777 - learning_rate: 1.2500e-04\n",
      "Epoch 30/30\n",
      "\u001b[1m69/69\u001b[0m \u001b[32m━━━━━━━━━━━━━━━━━━━━\u001b[0m\u001b[37m\u001b[0m \u001b[1m19s\u001b[0m 278ms/step - accuracy: 0.7752 - loss: 1.1831 - val_accuracy: 0.6439 - val_loss: 1.6424 - learning_rate: 1.2500e-04\n",
      "\n",
      "Fine-tuning started for VGG19+LSTM model with 1638 videos of 16 classes with 410 videos for validation...\n",
      "Epoch 1/30\n",
      "\u001b[1m69/69\u001b[0m \u001b[32m━━━━━━━━━━━━━━━━━━━━\u001b[0m\u001b[37m\u001b[0m \u001b[1m42s\u001b[0m 471ms/step - accuracy: 0.3889 - loss: 3.0661 - val_accuracy: 0.2732 - val_loss: 7.5645 - learning_rate: 1.0000e-04\n",
      "Epoch 2/30\n",
      "\u001b[1m69/69\u001b[0m \u001b[32m━━━━━━━━━━━━━━━━━━━━\u001b[0m\u001b[37m\u001b[0m \u001b[1m31s\u001b[0m 445ms/step - accuracy: 0.6665 - loss: 1.4620 - val_accuracy: 0.6610 - val_loss: 1.4295 - learning_rate: 1.0000e-04\n",
      "Epoch 3/30\n",
      "\u001b[1m69/69\u001b[0m \u001b[32m━━━━━━━━━━━━━━━━━━━━\u001b[0m\u001b[37m\u001b[0m \u001b[1m30s\u001b[0m 436ms/step - accuracy: 0.7621 - loss: 1.1563 - val_accuracy: 0.8122 - val_loss: 1.1073 - learning_rate: 1.0000e-04\n",
      "Epoch 4/30\n",
      "\u001b[1m69/69\u001b[0m \u001b[32m━━━━━━━━━━━━━━━━━━━━\u001b[0m\u001b[37m\u001b[0m \u001b[1m31s\u001b[0m 444ms/step - accuracy: 0.8353 - loss: 0.9899 - val_accuracy: 0.7732 - val_loss: 1.0846 - learning_rate: 1.0000e-04\n",
      "Epoch 5/30\n",
      "\u001b[1m69/69\u001b[0m \u001b[32m━━━━━━━━━━━━━━━━━━━━\u001b[0m\u001b[37m\u001b[0m \u001b[1m30s\u001b[0m 440ms/step - accuracy: 0.8856 - loss: 0.8335 - val_accuracy: 0.8049 - val_loss: 1.0055 - learning_rate: 1.0000e-04\n",
      "Epoch 6/30\n",
      "\u001b[1m69/69\u001b[0m \u001b[32m━━━━━━━━━━━━━━━━━━━━\u001b[0m\u001b[37m\u001b[0m \u001b[1m30s\u001b[0m 440ms/step - accuracy: 0.9202 - loss: 0.7463 - val_accuracy: 0.8732 - val_loss: 0.8181 - learning_rate: 1.0000e-04\n",
      "Epoch 7/30\n",
      "\u001b[1m69/69\u001b[0m \u001b[32m━━━━━━━━━━━━━━━━━━━━\u001b[0m\u001b[37m\u001b[0m \u001b[1m30s\u001b[0m 440ms/step - accuracy: 0.9359 - loss: 0.6664 - val_accuracy: 0.8268 - val_loss: 0.9169 - learning_rate: 1.0000e-04\n",
      "Epoch 8/30\n",
      "\u001b[1m69/69\u001b[0m \u001b[32m━━━━━━━━━━━━━━━━━━━━\u001b[0m\u001b[37m\u001b[0m \u001b[1m31s\u001b[0m 443ms/step - accuracy: 0.9456 - loss: 0.6207 - val_accuracy: 0.9024 - val_loss: 0.7834 - learning_rate: 1.0000e-04\n",
      "Epoch 9/30\n",
      "\u001b[1m69/69\u001b[0m \u001b[32m━━━━━━━━━━━━━━━━━━━━\u001b[0m\u001b[37m\u001b[0m \u001b[1m31s\u001b[0m 443ms/step - accuracy: 0.9730 - loss: 0.5833 - val_accuracy: 0.8049 - val_loss: 0.9070 - learning_rate: 1.0000e-04\n",
      "Epoch 10/30\n",
      "\u001b[1m69/69\u001b[0m \u001b[32m━━━━━━━━━━━━━━━━━━━━\u001b[0m\u001b[37m\u001b[0m \u001b[1m31s\u001b[0m 442ms/step - accuracy: 0.9649 - loss: 0.5563 - val_accuracy: 0.9341 - val_loss: 0.5857 - learning_rate: 1.0000e-04\n",
      "Epoch 11/30\n",
      "\u001b[1m69/69\u001b[0m \u001b[32m━━━━━━━━━━━━━━━━━━━━\u001b[0m\u001b[37m\u001b[0m \u001b[1m30s\u001b[0m 442ms/step - accuracy: 0.9796 - loss: 0.5224 - val_accuracy: 0.8878 - val_loss: 0.7218 - learning_rate: 1.0000e-04\n",
      "Epoch 12/30\n",
      "\u001b[1m69/69\u001b[0m \u001b[32m━━━━━━━━━━━━━━━━━━━━\u001b[0m\u001b[37m\u001b[0m \u001b[1m30s\u001b[0m 441ms/step - accuracy: 0.9848 - loss: 0.4881 - val_accuracy: 0.9439 - val_loss: 0.5784 - learning_rate: 1.0000e-04\n",
      "Epoch 13/30\n",
      "\u001b[1m69/69\u001b[0m \u001b[32m━━━━━━━━━━━━━━━━━━━━\u001b[0m\u001b[37m\u001b[0m \u001b[1m30s\u001b[0m 440ms/step - accuracy: 0.9874 - loss: 0.4619 - val_accuracy: 0.9415 - val_loss: 0.5289 - learning_rate: 1.0000e-04\n",
      "Epoch 14/30\n",
      "\u001b[1m69/69\u001b[0m \u001b[32m━━━━━━━━━━━━━━━━━━━━\u001b[0m\u001b[37m\u001b[0m \u001b[1m30s\u001b[0m 440ms/step - accuracy: 0.9827 - loss: 0.4513 - val_accuracy: 0.9463 - val_loss: 0.5682 - learning_rate: 1.0000e-04\n",
      "Epoch 15/30\n",
      "\u001b[1m69/69\u001b[0m \u001b[32m━━━━━━━━━━━━━━━━━━━━\u001b[0m\u001b[37m\u001b[0m \u001b[1m30s\u001b[0m 441ms/step - accuracy: 0.9926 - loss: 0.4308 - val_accuracy: 0.9805 - val_loss: 0.4209 - learning_rate: 1.0000e-04\n",
      "Epoch 16/30\n",
      "\u001b[1m69/69\u001b[0m \u001b[32m━━━━━━━━━━━━━━━━━━━━\u001b[0m\u001b[37m\u001b[0m \u001b[1m30s\u001b[0m 439ms/step - accuracy: 0.9954 - loss: 0.4037 - val_accuracy: 0.9220 - val_loss: 0.5976 - learning_rate: 1.0000e-04\n",
      "Epoch 17/30\n",
      "\u001b[1m69/69\u001b[0m \u001b[32m━━━━━━━━━━━━━━━━━━━━\u001b[0m\u001b[37m\u001b[0m \u001b[1m30s\u001b[0m 438ms/step - accuracy: 0.9822 - loss: 0.4246 - val_accuracy: 0.9366 - val_loss: 0.5368 - learning_rate: 1.0000e-04\n",
      "Epoch 18/30\n",
      "\u001b[1m69/69\u001b[0m \u001b[32m━━━━━━━━━━━━━━━━━━━━\u001b[0m\u001b[37m\u001b[0m \u001b[1m30s\u001b[0m 439ms/step - accuracy: 0.9928 - loss: 0.3899 - val_accuracy: 0.9683 - val_loss: 0.4355 - learning_rate: 1.0000e-04\n",
      "Epoch 19/30\n",
      "\u001b[1m69/69\u001b[0m \u001b[32m━━━━━━━━━━━━━━━━━━━━\u001b[0m\u001b[37m\u001b[0m \u001b[1m30s\u001b[0m 439ms/step - accuracy: 0.9987 - loss: 0.3647 - val_accuracy: 0.9878 - val_loss: 0.3701 - learning_rate: 5.0000e-05\n",
      "Epoch 20/30\n",
      "\u001b[1m69/69\u001b[0m \u001b[32m━━━━━━━━━━━━━━━━━━━━\u001b[0m\u001b[37m\u001b[0m \u001b[1m30s\u001b[0m 440ms/step - accuracy: 1.0000 - loss: 0.3503 - val_accuracy: 0.9878 - val_loss: 0.3588 - learning_rate: 5.0000e-05\n",
      "Epoch 21/30\n",
      "\u001b[1m69/69\u001b[0m \u001b[32m━━━━━━━━━━━━━━━━━━━━\u001b[0m\u001b[37m\u001b[0m \u001b[1m30s\u001b[0m 439ms/step - accuracy: 0.9978 - loss: 0.3414 - val_accuracy: 0.9927 - val_loss: 0.3442 - learning_rate: 5.0000e-05\n",
      "Epoch 22/30\n",
      "\u001b[1m69/69\u001b[0m \u001b[32m━━━━━━━━━━━━━━━━━━━━\u001b[0m\u001b[37m\u001b[0m \u001b[1m30s\u001b[0m 439ms/step - accuracy: 1.0000 - loss: 0.3392 - val_accuracy: 0.9829 - val_loss: 0.3529 - learning_rate: 5.0000e-05\n",
      "Epoch 23/30\n",
      "\u001b[1m69/69\u001b[0m \u001b[32m━━━━━━━━━━━━━━━━━━━━\u001b[0m\u001b[37m\u001b[0m \u001b[1m30s\u001b[0m 442ms/step - accuracy: 0.9976 - loss: 0.3333 - val_accuracy: 0.9854 - val_loss: 0.3432 - learning_rate: 5.0000e-05\n",
      "Epoch 24/30\n",
      "\u001b[1m69/69\u001b[0m \u001b[32m━━━━━━━━━━━━━━━━━━━━\u001b[0m\u001b[37m\u001b[0m \u001b[1m30s\u001b[0m 442ms/step - accuracy: 1.0000 - loss: 0.3235 - val_accuracy: 0.9927 - val_loss: 0.3250 - learning_rate: 5.0000e-05\n",
      "Epoch 25/30\n",
      "\u001b[1m69/69\u001b[0m \u001b[32m━━━━━━━━━━━━━━━━━━━━\u001b[0m\u001b[37m\u001b[0m \u001b[1m31s\u001b[0m 443ms/step - accuracy: 0.9995 - loss: 0.3187 - val_accuracy: 0.9976 - val_loss: 0.3199 - learning_rate: 5.0000e-05\n",
      "Epoch 26/30\n",
      "\u001b[1m69/69\u001b[0m \u001b[32m━━━━━━━━━━━━━━━━━━━━\u001b[0m\u001b[37m\u001b[0m \u001b[1m31s\u001b[0m 443ms/step - accuracy: 0.9998 - loss: 0.3138 - val_accuracy: 0.9854 - val_loss: 0.3265 - learning_rate: 5.0000e-05\n",
      "Epoch 27/30\n",
      "\u001b[1m69/69\u001b[0m \u001b[32m━━━━━━━━━━━━━━━━━━━━\u001b[0m\u001b[37m\u001b[0m \u001b[1m31s\u001b[0m 443ms/step - accuracy: 1.0000 - loss: 0.3057 - val_accuracy: 1.0000 - val_loss: 0.2991 - learning_rate: 5.0000e-05\n",
      "Epoch 28/30\n",
      "\u001b[1m69/69\u001b[0m \u001b[32m━━━━━━━━━━━━━━━━━━━━\u001b[0m\u001b[37m\u001b[0m \u001b[1m30s\u001b[0m 442ms/step - accuracy: 1.0000 - loss: 0.3014 - val_accuracy: 0.9951 - val_loss: 0.2959 - learning_rate: 5.0000e-05\n",
      "Epoch 29/30\n",
      "\u001b[1m69/69\u001b[0m \u001b[32m━━━━━━━━━━━━━━━━━━━━\u001b[0m\u001b[37m\u001b[0m \u001b[1m30s\u001b[0m 441ms/step - accuracy: 1.0000 - loss: 0.2916 - val_accuracy: 0.9902 - val_loss: 0.2914 - learning_rate: 5.0000e-05\n",
      "Epoch 30/30\n",
      "\u001b[1m69/69\u001b[0m \u001b[32m━━━━━━━━━━━━━━━━━━━━\u001b[0m\u001b[37m\u001b[0m \u001b[1m30s\u001b[0m 441ms/step - accuracy: 0.9999 - loss: 0.2863 - val_accuracy: 0.9976 - val_loss: 0.2842 - learning_rate: 5.0000e-05\n",
      "test_gen batch videos shape: (24, 5, 128, 128, 3)\n",
      "test_gen batch labels shape: (24, 16)\n",
      "\u001b[1m22/22\u001b[0m \u001b[32m━━━━━━━━━━━━━━━━━━━━\u001b[0m\u001b[37m\u001b[0m \u001b[1m5s\u001b[0m 246ms/step - accuracy: 0.9990 - loss: 0.2725\n",
      "VGG19+LSTM Test Loss: 0.2759\n",
      "VGG19+LSTM Test Accuracy: 99.80%\n"
     ]
    }
   ],
   "source": [
    "# Clear memory before creating the new model\n",
    "gc.collect()\n",
    "tf.keras.backend.clear_session()\n",
    "print(\"Memory cleared before creating VGG19+LSTM model\")\n",
    "\n",
    "# Print TensorFlow version\n",
    "print(f\"TensorFlow version: {tf.__version__}\")\n",
    "\n",
    "\n",
    "# Pre-load VGG19 weights\n",
    "print(\"Pre-loading VGG19 weights...\")\n",
    "try:\n",
    "    base_model = VGG16(weights='imagenet', include_top=False, input_shape=(IMAGE_HEIGHT, IMAGE_WIDTH, 3))\n",
    "    print(\"VGG19 weights loaded successfully!\")\n",
    "except Exception as e:\n",
    "    print(f\"Failed to load VGG19 weights: {str(e)}\")\n",
    "\n",
    "\n",
    "# Define function to create VGG19+LSTM model\n",
    "def create_vgg16_gru_model(sequence_length, image_height, image_width, classes_list=None, dropout_rate=0.5, base_model=None):\n",
    "   \n",
    "    \n",
    "    print(\"Creating VGG19+LSTM model with parameters:\")\n",
    "    print(f\"sequence_length: {sequence_length}, image_height: {image_height}, image_width: {image_width}, classes_list length: {len(classes_list) if classes_list is not None else None}, dropout_rate: {dropout_rate}\")\n",
    "    \n",
    "    if classes_list is None:\n",
    "        raise ValueError(\"classes_list must be provided to define the output layer size\")\n",
    "    if base_model is None:\n",
    "        raise ValueError(\"base_model must be provided to avoid re-downloading weights\")\n",
    "\n",
    "    try:\n",
    "        # Use the pre-loaded base model\n",
    "        # Freeze the base model for initial training\n",
    "        base_model.trainable = False\n",
    "\n",
    "        # Define the Sequential model\n",
    "        model = Sequential([\n",
    "            # TimeDistributed VGG19 model\n",
    "            TimeDistributed(\n",
    "                base_model,\n",
    "                input_shape=(sequence_length, image_height, image_width, 3),\n",
    "                name=\"time_distributed_vgg19\"\n",
    "            ),\n",
    "            # TimeDistributed GlobalAveragePooling2D\n",
    "            TimeDistributed(GlobalAveragePooling2D(), name=\"time_distributed_pooling\"),\n",
    "            # LSTM layer with 512 units\n",
    "            GRU(256, activation=\"tanh\", return_sequences=False, kernel_regularizer=l2(0.01), name=\"lstm_vgg19\"),\n",
    "            BatchNormalization(name=\"batch_normalization_vgg19\"),\n",
    "            # Dropout after LSTM\n",
    "            Dropout(dropout_rate, name=\"dropout_lstm_vgg19\"),\n",
    "            # Dense layer with 512 units\n",
    "            Dense(512, activation=\"relu\", kernel_regularizer=l2(0.01), name=\"dense_vgg19_1\"),\n",
    "            # Dropout after first Dense\n",
    "            Dropout(dropout_rate, name=\"dropout_dense_vgg19_1\"),\n",
    "            # Dense layer with 128 units\n",
    "            Dense(128, activation=\"relu\", kernel_regularizer=l2(0.01), name=\"dense_vgg19_2\"),\n",
    "            # Dropout after second Dense\n",
    "            Dropout(dropout_rate, name=\"dropout_dense_vgg19_2\"),\n",
    "            # Output Dense layer with softmax activation\n",
    "            Dense(len(classes_list), activation=\"softmax\", name=\"output_vgg19\")\n",
    "        ])\n",
    "\n",
    "        # Print model summary\n",
    "        print(\"VGG19+LSTM model architecture created successfully!\")\n",
    "        model.summary()\n",
    "\n",
    "        return model\n",
    "\n",
    "    except Exception as e:\n",
    "        print(f\"Error creating VGG19+LSTM model: {str(e)}\")\n",
    "        import traceback\n",
    "        traceback.print_exc()\n",
    "        return None\n",
    "\n",
    "\n",
    "# Create the VGG19+LSTM model using the pre-loaded base model\n",
    "vgg16_gru_model = create_vgg16_gru_model(\n",
    "    sequence_length=SEQUENCE_LENGTH,\n",
    "    image_height=IMAGE_HEIGHT,\n",
    "    image_width=IMAGE_WIDTH,\n",
    "    classes_list=CLASSES_LIST,\n",
    "    dropout_rate=DROPOUT_RATE,\n",
    "    base_model=base_model\n",
    ")\n",
    "\n",
    "# Check if vgg16_gru_model was created successfully\n",
    "if vgg16_gru_model is None:\n",
    "    raise ValueError(\"Failed to create VGG19+LSTM model. Check error messages above.\")\n",
    "else:\n",
    "    print(\"VGG19+LSTM Model Created Successfully!\")\n",
    "\n",
    "# Ensure labels_test is one-hot encoded\n",
    "if len(labels_test.shape) == 1:\n",
    "    print(\"Converting labels_test to one-hot encoded format...\")\n",
    "    labels_test = to_categorical(labels_test, num_classes=NO_OF_CLASSES)\n",
    "    print(f\"New labels_test shape: {labels_test.shape}\")\n",
    "\n",
    "# Compile the model for initial training\n",
    "early_stopping_callback = EarlyStopping(monitor='val_loss', patience=7, mode='min', restore_best_weights=True)\n",
    "lr_scheduler = ReduceLROnPlateau(monitor='val_loss', factor=0.5, patience=3, min_lr=1e-6)\n",
    "\n",
    "vgg16_gru_model.compile(\n",
    "    loss='categorical_crossentropy',\n",
    "    optimizer=tf.keras.optimizers.Adam(learning_rate=0.001),  # Higher learning rate for initial training\n",
    "    metrics=['accuracy']\n",
    ")\n",
    "\n",
    "# Initial training with frozen base model\n",
    "print(f\"Initial training started for VGG19+LSTM model with {len(train_gen.videos)} videos of {NO_OF_CLASSES} classes with {len(val_gen.videos)} videos for validation...\")\n",
    "try:\n",
    "    initial_vgg16_gru_model_history = vgg16_gru_model.fit(\n",
    "        train_gen.as_dataset(),\n",
    "        validation_data=val_gen.as_dataset(),\n",
    "        epochs=EPOCHS,\n",
    "        class_weight=class_weights,\n",
    "        callbacks=[early_stopping_callback, lr_scheduler]\n",
    "    )\n",
    "except Exception as e:\n",
    "    print(f\"Error during initial model training: {str(e)}\")\n",
    "    import traceback\n",
    "    traceback.print_exc()\n",
    "\n",
    "# Unfreeze some layers for fine-tuning\n",
    "base_model.trainable = True\n",
    "# Freeze all layers except the last 8 layers (consistent with previous VGG19 code)\n",
    "for layer in base_model.layers[:-8]:\n",
    "    layer.trainable = False\n",
    "\n",
    "# Recompile the model with a lower learning rate for fine-tuning\n",
    "vgg16_gru_model.compile(\n",
    "    loss='categorical_crossentropy',\n",
    "    optimizer=tf.keras.optimizers.Adam(learning_rate=0.0001),  # Lower learning rate for fine-tuning\n",
    "    metrics=['accuracy']\n",
    ")\n",
    "\n",
    "# Fine-tune the model\n",
    "print(f\"\\nFine-tuning started for VGG19+LSTM model with {len(train_gen.videos)} videos of {NO_OF_CLASSES} classes with {len(val_gen.videos)} videos for validation...\")\n",
    "try:\n",
    "    fine_tune_vgg16_gru_model_history = vgg16_gru_model.fit(\n",
    "        train_gen.as_dataset(),\n",
    "        validation_data=val_gen.as_dataset(),\n",
    "        epochs=EPOCHS,\n",
    "        class_weight=class_weights,\n",
    "        callbacks=[early_stopping_callback, lr_scheduler]\n",
    "    )\n",
    "except Exception as e:\n",
    "    print(f\"Error during fine-tuning: {str(e)}\")\n",
    "    import traceback\n",
    "    traceback.print_exc()\n",
    "\n",
    "\n",
    "\n",
    "videos, labels = test_gen[0]\n",
    "print(f\"test_gen batch videos shape: {videos.shape}\")\n",
    "print(f\"test_gen batch labels shape: {labels.shape}\")\n",
    "loss, accuracy = vgg16_gru_model.evaluate(test_gen.as_dataset())\n",
    "print(f'VGG19+LSTM Test Loss: {loss:.4f}')\n",
    "print(f'VGG19+LSTM Test Accuracy: {accuracy * 100:.2f}%')"
   ]
  },
  {
   "cell_type": "markdown",
   "id": "2ef99faf",
   "metadata": {
    "papermill": {
     "duration": 0.189909,
     "end_time": "2025-07-14T05:32:38.773317",
     "exception": false,
     "start_time": "2025-07-14T05:32:38.583408",
     "status": "completed"
    },
    "tags": []
   },
   "source": [
    "## VGG19 + GRU"
   ]
  },
  {
   "cell_type": "code",
   "execution_count": 44,
   "id": "d3520d6f",
   "metadata": {
    "execution": {
     "iopub.execute_input": "2025-07-14T05:32:39.277006Z",
     "iopub.status.busy": "2025-07-14T05:32:39.276703Z",
     "iopub.status.idle": "2025-07-14T05:57:49.748204Z",
     "shell.execute_reply": "2025-07-14T05:57:49.747502Z"
    },
    "papermill": {
     "duration": 1510.739142,
     "end_time": "2025-07-14T05:57:49.749368",
     "exception": false,
     "start_time": "2025-07-14T05:32:39.010226",
     "status": "completed"
    },
    "tags": []
   },
   "outputs": [
    {
     "name": "stdout",
     "output_type": "stream",
     "text": [
      "Memory cleared before creating VGG19+LSTM model\n",
      "TensorFlow version: 2.18.0\n",
      "Pre-loading VGG19 weights...\n",
      "VGG19 weights loaded successfully!\n",
      "Creating VGG19+LSTM model with parameters:\n",
      "sequence_length: 5, image_height: 128, image_width: 128, classes_list length: 16, dropout_rate: 0.5\n",
      "VGG19+LSTM model architecture created successfully!\n"
     ]
    },
    {
     "data": {
      "text/html": [
       "<pre style=\"white-space:pre;overflow-x:auto;line-height:normal;font-family:Menlo,'DejaVu Sans Mono',consolas,'Courier New',monospace\"><span style=\"font-weight: bold\">Model: \"sequential\"</span>\n",
       "</pre>\n"
      ],
      "text/plain": [
       "\u001b[1mModel: \"sequential\"\u001b[0m\n"
      ]
     },
     "metadata": {},
     "output_type": "display_data"
    },
    {
     "data": {
      "text/html": [
       "<pre style=\"white-space:pre;overflow-x:auto;line-height:normal;font-family:Menlo,'DejaVu Sans Mono',consolas,'Courier New',monospace\">┏━━━━━━━━━━━━━━━━━━━━━━━━━━━━━━━━━┳━━━━━━━━━━━━━━━━━━━━━━━━┳━━━━━━━━━━━━━━━┓\n",
       "┃<span style=\"font-weight: bold\"> Layer (type)                    </span>┃<span style=\"font-weight: bold\"> Output Shape           </span>┃<span style=\"font-weight: bold\">       Param # </span>┃\n",
       "┡━━━━━━━━━━━━━━━━━━━━━━━━━━━━━━━━━╇━━━━━━━━━━━━━━━━━━━━━━━━╇━━━━━━━━━━━━━━━┩\n",
       "│ time_distributed_vgg19          │ (<span style=\"color: #00d7ff; text-decoration-color: #00d7ff\">None</span>, <span style=\"color: #00af00; text-decoration-color: #00af00\">5</span>, <span style=\"color: #00af00; text-decoration-color: #00af00\">4</span>, <span style=\"color: #00af00; text-decoration-color: #00af00\">4</span>, <span style=\"color: #00af00; text-decoration-color: #00af00\">512</span>)   │    <span style=\"color: #00af00; text-decoration-color: #00af00\">14,714,688</span> │\n",
       "│ (<span style=\"color: #0087ff; text-decoration-color: #0087ff\">TimeDistributed</span>)               │                        │               │\n",
       "├─────────────────────────────────┼────────────────────────┼───────────────┤\n",
       "│ time_distributed_pooling        │ (<span style=\"color: #00d7ff; text-decoration-color: #00d7ff\">None</span>, <span style=\"color: #00af00; text-decoration-color: #00af00\">5</span>, <span style=\"color: #00af00; text-decoration-color: #00af00\">512</span>)         │             <span style=\"color: #00af00; text-decoration-color: #00af00\">0</span> │\n",
       "│ (<span style=\"color: #0087ff; text-decoration-color: #0087ff\">TimeDistributed</span>)               │                        │               │\n",
       "├─────────────────────────────────┼────────────────────────┼───────────────┤\n",
       "│ lstm_vgg19 (<span style=\"color: #0087ff; text-decoration-color: #0087ff\">GRU</span>)                │ (<span style=\"color: #00d7ff; text-decoration-color: #00d7ff\">None</span>, <span style=\"color: #00af00; text-decoration-color: #00af00\">256</span>)            │       <span style=\"color: #00af00; text-decoration-color: #00af00\">591,360</span> │\n",
       "├─────────────────────────────────┼────────────────────────┼───────────────┤\n",
       "│ batch_normalization_vgg19       │ (<span style=\"color: #00d7ff; text-decoration-color: #00d7ff\">None</span>, <span style=\"color: #00af00; text-decoration-color: #00af00\">256</span>)            │         <span style=\"color: #00af00; text-decoration-color: #00af00\">1,024</span> │\n",
       "│ (<span style=\"color: #0087ff; text-decoration-color: #0087ff\">BatchNormalization</span>)            │                        │               │\n",
       "├─────────────────────────────────┼────────────────────────┼───────────────┤\n",
       "│ dropout_lstm_vgg19 (<span style=\"color: #0087ff; text-decoration-color: #0087ff\">Dropout</span>)    │ (<span style=\"color: #00d7ff; text-decoration-color: #00d7ff\">None</span>, <span style=\"color: #00af00; text-decoration-color: #00af00\">256</span>)            │             <span style=\"color: #00af00; text-decoration-color: #00af00\">0</span> │\n",
       "├─────────────────────────────────┼────────────────────────┼───────────────┤\n",
       "│ dense_vgg19_1 (<span style=\"color: #0087ff; text-decoration-color: #0087ff\">Dense</span>)           │ (<span style=\"color: #00d7ff; text-decoration-color: #00d7ff\">None</span>, <span style=\"color: #00af00; text-decoration-color: #00af00\">512</span>)            │       <span style=\"color: #00af00; text-decoration-color: #00af00\">131,584</span> │\n",
       "├─────────────────────────────────┼────────────────────────┼───────────────┤\n",
       "│ dropout_dense_vgg19_1 (<span style=\"color: #0087ff; text-decoration-color: #0087ff\">Dropout</span>) │ (<span style=\"color: #00d7ff; text-decoration-color: #00d7ff\">None</span>, <span style=\"color: #00af00; text-decoration-color: #00af00\">512</span>)            │             <span style=\"color: #00af00; text-decoration-color: #00af00\">0</span> │\n",
       "├─────────────────────────────────┼────────────────────────┼───────────────┤\n",
       "│ dense_vgg19_2 (<span style=\"color: #0087ff; text-decoration-color: #0087ff\">Dense</span>)           │ (<span style=\"color: #00d7ff; text-decoration-color: #00d7ff\">None</span>, <span style=\"color: #00af00; text-decoration-color: #00af00\">128</span>)            │        <span style=\"color: #00af00; text-decoration-color: #00af00\">65,664</span> │\n",
       "├─────────────────────────────────┼────────────────────────┼───────────────┤\n",
       "│ dropout_dense_vgg19_2 (<span style=\"color: #0087ff; text-decoration-color: #0087ff\">Dropout</span>) │ (<span style=\"color: #00d7ff; text-decoration-color: #00d7ff\">None</span>, <span style=\"color: #00af00; text-decoration-color: #00af00\">128</span>)            │             <span style=\"color: #00af00; text-decoration-color: #00af00\">0</span> │\n",
       "├─────────────────────────────────┼────────────────────────┼───────────────┤\n",
       "│ output_vgg19 (<span style=\"color: #0087ff; text-decoration-color: #0087ff\">Dense</span>)            │ (<span style=\"color: #00d7ff; text-decoration-color: #00d7ff\">None</span>, <span style=\"color: #00af00; text-decoration-color: #00af00\">16</span>)             │         <span style=\"color: #00af00; text-decoration-color: #00af00\">2,064</span> │\n",
       "└─────────────────────────────────┴────────────────────────┴───────────────┘\n",
       "</pre>\n"
      ],
      "text/plain": [
       "┏━━━━━━━━━━━━━━━━━━━━━━━━━━━━━━━━━┳━━━━━━━━━━━━━━━━━━━━━━━━┳━━━━━━━━━━━━━━━┓\n",
       "┃\u001b[1m \u001b[0m\u001b[1mLayer (type)                   \u001b[0m\u001b[1m \u001b[0m┃\u001b[1m \u001b[0m\u001b[1mOutput Shape          \u001b[0m\u001b[1m \u001b[0m┃\u001b[1m \u001b[0m\u001b[1m      Param #\u001b[0m\u001b[1m \u001b[0m┃\n",
       "┡━━━━━━━━━━━━━━━━━━━━━━━━━━━━━━━━━╇━━━━━━━━━━━━━━━━━━━━━━━━╇━━━━━━━━━━━━━━━┩\n",
       "│ time_distributed_vgg19          │ (\u001b[38;5;45mNone\u001b[0m, \u001b[38;5;34m5\u001b[0m, \u001b[38;5;34m4\u001b[0m, \u001b[38;5;34m4\u001b[0m, \u001b[38;5;34m512\u001b[0m)   │    \u001b[38;5;34m14,714,688\u001b[0m │\n",
       "│ (\u001b[38;5;33mTimeDistributed\u001b[0m)               │                        │               │\n",
       "├─────────────────────────────────┼────────────────────────┼───────────────┤\n",
       "│ time_distributed_pooling        │ (\u001b[38;5;45mNone\u001b[0m, \u001b[38;5;34m5\u001b[0m, \u001b[38;5;34m512\u001b[0m)         │             \u001b[38;5;34m0\u001b[0m │\n",
       "│ (\u001b[38;5;33mTimeDistributed\u001b[0m)               │                        │               │\n",
       "├─────────────────────────────────┼────────────────────────┼───────────────┤\n",
       "│ lstm_vgg19 (\u001b[38;5;33mGRU\u001b[0m)                │ (\u001b[38;5;45mNone\u001b[0m, \u001b[38;5;34m256\u001b[0m)            │       \u001b[38;5;34m591,360\u001b[0m │\n",
       "├─────────────────────────────────┼────────────────────────┼───────────────┤\n",
       "│ batch_normalization_vgg19       │ (\u001b[38;5;45mNone\u001b[0m, \u001b[38;5;34m256\u001b[0m)            │         \u001b[38;5;34m1,024\u001b[0m │\n",
       "│ (\u001b[38;5;33mBatchNormalization\u001b[0m)            │                        │               │\n",
       "├─────────────────────────────────┼────────────────────────┼───────────────┤\n",
       "│ dropout_lstm_vgg19 (\u001b[38;5;33mDropout\u001b[0m)    │ (\u001b[38;5;45mNone\u001b[0m, \u001b[38;5;34m256\u001b[0m)            │             \u001b[38;5;34m0\u001b[0m │\n",
       "├─────────────────────────────────┼────────────────────────┼───────────────┤\n",
       "│ dense_vgg19_1 (\u001b[38;5;33mDense\u001b[0m)           │ (\u001b[38;5;45mNone\u001b[0m, \u001b[38;5;34m512\u001b[0m)            │       \u001b[38;5;34m131,584\u001b[0m │\n",
       "├─────────────────────────────────┼────────────────────────┼───────────────┤\n",
       "│ dropout_dense_vgg19_1 (\u001b[38;5;33mDropout\u001b[0m) │ (\u001b[38;5;45mNone\u001b[0m, \u001b[38;5;34m512\u001b[0m)            │             \u001b[38;5;34m0\u001b[0m │\n",
       "├─────────────────────────────────┼────────────────────────┼───────────────┤\n",
       "│ dense_vgg19_2 (\u001b[38;5;33mDense\u001b[0m)           │ (\u001b[38;5;45mNone\u001b[0m, \u001b[38;5;34m128\u001b[0m)            │        \u001b[38;5;34m65,664\u001b[0m │\n",
       "├─────────────────────────────────┼────────────────────────┼───────────────┤\n",
       "│ dropout_dense_vgg19_2 (\u001b[38;5;33mDropout\u001b[0m) │ (\u001b[38;5;45mNone\u001b[0m, \u001b[38;5;34m128\u001b[0m)            │             \u001b[38;5;34m0\u001b[0m │\n",
       "├─────────────────────────────────┼────────────────────────┼───────────────┤\n",
       "│ output_vgg19 (\u001b[38;5;33mDense\u001b[0m)            │ (\u001b[38;5;45mNone\u001b[0m, \u001b[38;5;34m16\u001b[0m)             │         \u001b[38;5;34m2,064\u001b[0m │\n",
       "└─────────────────────────────────┴────────────────────────┴───────────────┘\n"
      ]
     },
     "metadata": {},
     "output_type": "display_data"
    },
    {
     "data": {
      "text/html": [
       "<pre style=\"white-space:pre;overflow-x:auto;line-height:normal;font-family:Menlo,'DejaVu Sans Mono',consolas,'Courier New',monospace\"><span style=\"font-weight: bold\"> Total params: </span><span style=\"color: #00af00; text-decoration-color: #00af00\">15,506,384</span> (59.15 MB)\n",
       "</pre>\n"
      ],
      "text/plain": [
       "\u001b[1m Total params: \u001b[0m\u001b[38;5;34m15,506,384\u001b[0m (59.15 MB)\n"
      ]
     },
     "metadata": {},
     "output_type": "display_data"
    },
    {
     "data": {
      "text/html": [
       "<pre style=\"white-space:pre;overflow-x:auto;line-height:normal;font-family:Menlo,'DejaVu Sans Mono',consolas,'Courier New',monospace\"><span style=\"font-weight: bold\"> Trainable params: </span><span style=\"color: #00af00; text-decoration-color: #00af00\">791,184</span> (3.02 MB)\n",
       "</pre>\n"
      ],
      "text/plain": [
       "\u001b[1m Trainable params: \u001b[0m\u001b[38;5;34m791,184\u001b[0m (3.02 MB)\n"
      ]
     },
     "metadata": {},
     "output_type": "display_data"
    },
    {
     "data": {
      "text/html": [
       "<pre style=\"white-space:pre;overflow-x:auto;line-height:normal;font-family:Menlo,'DejaVu Sans Mono',consolas,'Courier New',monospace\"><span style=\"font-weight: bold\"> Non-trainable params: </span><span style=\"color: #00af00; text-decoration-color: #00af00\">14,715,200</span> (56.13 MB)\n",
       "</pre>\n"
      ],
      "text/plain": [
       "\u001b[1m Non-trainable params: \u001b[0m\u001b[38;5;34m14,715,200\u001b[0m (56.13 MB)\n"
      ]
     },
     "metadata": {},
     "output_type": "display_data"
    },
    {
     "name": "stdout",
     "output_type": "stream",
     "text": [
      "VGG19+LSTM Model Created Successfully!\n",
      "Initial training started for VGG19+LSTM model with 1638 videos of 16 classes with 410 videos for validation...\n",
      "Epoch 1/30\n",
      "\u001b[1m69/69\u001b[0m \u001b[32m━━━━━━━━━━━━━━━━━━━━\u001b[0m\u001b[37m\u001b[0m \u001b[1m27s\u001b[0m 296ms/step - accuracy: 0.0742 - loss: 12.8906 - val_accuracy: 0.0585 - val_loss: 8.9807 - learning_rate: 0.0010\n",
      "Epoch 2/30\n",
      "\u001b[1m69/69\u001b[0m \u001b[32m━━━━━━━━━━━━━━━━━━━━\u001b[0m\u001b[37m\u001b[0m \u001b[1m20s\u001b[0m 290ms/step - accuracy: 0.0976 - loss: 8.6169 - val_accuracy: 0.0902 - val_loss: 7.5246 - learning_rate: 0.0010\n",
      "Epoch 3/30\n",
      "\u001b[1m69/69\u001b[0m \u001b[32m━━━━━━━━━━━━━━━━━━━━\u001b[0m\u001b[37m\u001b[0m \u001b[1m19s\u001b[0m 280ms/step - accuracy: 0.1429 - loss: 7.1589 - val_accuracy: 0.1878 - val_loss: 6.4396 - learning_rate: 0.0010\n",
      "Epoch 4/30\n",
      "\u001b[1m69/69\u001b[0m \u001b[32m━━━━━━━━━━━━━━━━━━━━\u001b[0m\u001b[37m\u001b[0m \u001b[1m19s\u001b[0m 274ms/step - accuracy: 0.2044 - loss: 5.9992 - val_accuracy: 0.0902 - val_loss: 5.6580 - learning_rate: 0.0010\n",
      "Epoch 5/30\n",
      "\u001b[1m69/69\u001b[0m \u001b[32m━━━━━━━━━━━━━━━━━━━━\u001b[0m\u001b[37m\u001b[0m \u001b[1m19s\u001b[0m 276ms/step - accuracy: 0.2409 - loss: 5.1231 - val_accuracy: 0.1561 - val_loss: 4.9388 - learning_rate: 0.0010\n",
      "Epoch 6/30\n",
      "\u001b[1m69/69\u001b[0m \u001b[32m━━━━━━━━━━━━━━━━━━━━\u001b[0m\u001b[37m\u001b[0m \u001b[1m19s\u001b[0m 279ms/step - accuracy: 0.3086 - loss: 4.4028 - val_accuracy: 0.2024 - val_loss: 4.3461 - learning_rate: 0.0010\n",
      "Epoch 7/30\n",
      "\u001b[1m69/69\u001b[0m \u001b[32m━━━━━━━━━━━━━━━━━━━━\u001b[0m\u001b[37m\u001b[0m \u001b[1m19s\u001b[0m 279ms/step - accuracy: 0.3120 - loss: 3.8915 - val_accuracy: 0.2756 - val_loss: 3.7914 - learning_rate: 0.0010\n",
      "Epoch 8/30\n",
      "\u001b[1m69/69\u001b[0m \u001b[32m━━━━━━━━━━━━━━━━━━━━\u001b[0m\u001b[37m\u001b[0m \u001b[1m19s\u001b[0m 278ms/step - accuracy: 0.3739 - loss: 3.4202 - val_accuracy: 0.2585 - val_loss: 3.8918 - learning_rate: 0.0010\n",
      "Epoch 9/30\n",
      "\u001b[1m69/69\u001b[0m \u001b[32m━━━━━━━━━━━━━━━━━━━━\u001b[0m\u001b[37m\u001b[0m \u001b[1m19s\u001b[0m 278ms/step - accuracy: 0.4158 - loss: 3.0326 - val_accuracy: 0.2439 - val_loss: 4.0553 - learning_rate: 0.0010\n",
      "Epoch 10/30\n",
      "\u001b[1m69/69\u001b[0m \u001b[32m━━━━━━━━━━━━━━━━━━━━\u001b[0m\u001b[37m\u001b[0m \u001b[1m19s\u001b[0m 278ms/step - accuracy: 0.4540 - loss: 2.7205 - val_accuracy: 0.3146 - val_loss: 3.1734 - learning_rate: 0.0010\n",
      "Epoch 11/30\n",
      "\u001b[1m69/69\u001b[0m \u001b[32m━━━━━━━━━━━━━━━━━━━━\u001b[0m\u001b[37m\u001b[0m \u001b[1m19s\u001b[0m 277ms/step - accuracy: 0.4686 - loss: 2.5159 - val_accuracy: 0.2049 - val_loss: 7.3131 - learning_rate: 0.0010\n",
      "Epoch 12/30\n",
      "\u001b[1m69/69\u001b[0m \u001b[32m━━━━━━━━━━━━━━━━━━━━\u001b[0m\u001b[37m\u001b[0m \u001b[1m19s\u001b[0m 277ms/step - accuracy: 0.5018 - loss: 2.3604 - val_accuracy: 0.1585 - val_loss: 7.6273 - learning_rate: 0.0010\n",
      "Epoch 13/30\n",
      "\u001b[1m69/69\u001b[0m \u001b[32m━━━━━━━━━━━━━━━━━━━━\u001b[0m\u001b[37m\u001b[0m \u001b[1m19s\u001b[0m 277ms/step - accuracy: 0.5143 - loss: 2.2872 - val_accuracy: 0.2585 - val_loss: 3.5868 - learning_rate: 0.0010\n",
      "Epoch 14/30\n",
      "\u001b[1m69/69\u001b[0m \u001b[32m━━━━━━━━━━━━━━━━━━━━\u001b[0m\u001b[37m\u001b[0m \u001b[1m19s\u001b[0m 278ms/step - accuracy: 0.5701 - loss: 2.0984 - val_accuracy: 0.4634 - val_loss: 2.4381 - learning_rate: 5.0000e-04\n",
      "Epoch 15/30\n",
      "\u001b[1m69/69\u001b[0m \u001b[32m━━━━━━━━━━━━━━━━━━━━\u001b[0m\u001b[37m\u001b[0m \u001b[1m19s\u001b[0m 277ms/step - accuracy: 0.5871 - loss: 1.9289 - val_accuracy: 0.3512 - val_loss: 2.8921 - learning_rate: 5.0000e-04\n",
      "Epoch 16/30\n",
      "\u001b[1m69/69\u001b[0m \u001b[32m━━━━━━━━━━━━━━━━━━━━\u001b[0m\u001b[37m\u001b[0m \u001b[1m19s\u001b[0m 277ms/step - accuracy: 0.6207 - loss: 1.7639 - val_accuracy: 0.4902 - val_loss: 2.2002 - learning_rate: 5.0000e-04\n",
      "Epoch 17/30\n",
      "\u001b[1m69/69\u001b[0m \u001b[32m━━━━━━━━━━━━━━━━━━━━\u001b[0m\u001b[37m\u001b[0m \u001b[1m19s\u001b[0m 277ms/step - accuracy: 0.6400 - loss: 1.7207 - val_accuracy: 0.3659 - val_loss: 2.7909 - learning_rate: 5.0000e-04\n",
      "Epoch 18/30\n",
      "\u001b[1m69/69\u001b[0m \u001b[32m━━━━━━━━━━━━━━━━━━━━\u001b[0m\u001b[37m\u001b[0m \u001b[1m19s\u001b[0m 277ms/step - accuracy: 0.6410 - loss: 1.6920 - val_accuracy: 0.4220 - val_loss: 2.4060 - learning_rate: 5.0000e-04\n",
      "Epoch 19/30\n",
      "\u001b[1m69/69\u001b[0m \u001b[32m━━━━━━━━━━━━━━━━━━━━\u001b[0m\u001b[37m\u001b[0m \u001b[1m19s\u001b[0m 277ms/step - accuracy: 0.6518 - loss: 1.6489 - val_accuracy: 0.4049 - val_loss: 3.0765 - learning_rate: 5.0000e-04\n",
      "Epoch 20/30\n",
      "\u001b[1m69/69\u001b[0m \u001b[32m━━━━━━━━━━━━━━━━━━━━\u001b[0m\u001b[37m\u001b[0m \u001b[1m19s\u001b[0m 277ms/step - accuracy: 0.6842 - loss: 1.5484 - val_accuracy: 0.4561 - val_loss: 2.1530 - learning_rate: 2.5000e-04\n",
      "Epoch 21/30\n",
      "\u001b[1m69/69\u001b[0m \u001b[32m━━━━━━━━━━━━━━━━━━━━\u001b[0m\u001b[37m\u001b[0m \u001b[1m19s\u001b[0m 278ms/step - accuracy: 0.6978 - loss: 1.4452 - val_accuracy: 0.5122 - val_loss: 2.0855 - learning_rate: 2.5000e-04\n",
      "Epoch 22/30\n",
      "\u001b[1m69/69\u001b[0m \u001b[32m━━━━━━━━━━━━━━━━━━━━\u001b[0m\u001b[37m\u001b[0m \u001b[1m19s\u001b[0m 277ms/step - accuracy: 0.7183 - loss: 1.4191 - val_accuracy: 0.4976 - val_loss: 2.3529 - learning_rate: 2.5000e-04\n",
      "Epoch 23/30\n",
      "\u001b[1m69/69\u001b[0m \u001b[32m━━━━━━━━━━━━━━━━━━━━\u001b[0m\u001b[37m\u001b[0m \u001b[1m19s\u001b[0m 277ms/step - accuracy: 0.7214 - loss: 1.4074 - val_accuracy: 0.4317 - val_loss: 2.8152 - learning_rate: 2.5000e-04\n",
      "Epoch 24/30\n",
      "\u001b[1m69/69\u001b[0m \u001b[32m━━━━━━━━━━━━━━━━━━━━\u001b[0m\u001b[37m\u001b[0m \u001b[1m19s\u001b[0m 277ms/step - accuracy: 0.7224 - loss: 1.3864 - val_accuracy: 0.5341 - val_loss: 2.0458 - learning_rate: 2.5000e-04\n",
      "Epoch 25/30\n",
      "\u001b[1m69/69\u001b[0m \u001b[32m━━━━━━━━━━━━━━━━━━━━\u001b[0m\u001b[37m\u001b[0m \u001b[1m19s\u001b[0m 278ms/step - accuracy: 0.7472 - loss: 1.3181 - val_accuracy: 0.5780 - val_loss: 1.8067 - learning_rate: 2.5000e-04\n",
      "Epoch 26/30\n",
      "\u001b[1m69/69\u001b[0m \u001b[32m━━━━━━━━━━━━━━━━━━━━\u001b[0m\u001b[37m\u001b[0m \u001b[1m19s\u001b[0m 277ms/step - accuracy: 0.7475 - loss: 1.2822 - val_accuracy: 0.5317 - val_loss: 1.9446 - learning_rate: 2.5000e-04\n",
      "Epoch 27/30\n",
      "\u001b[1m69/69\u001b[0m \u001b[32m━━━━━━━━━━━━━━━━━━━━\u001b[0m\u001b[37m\u001b[0m \u001b[1m19s\u001b[0m 277ms/step - accuracy: 0.7530 - loss: 1.2438 - val_accuracy: 0.5024 - val_loss: 2.2847 - learning_rate: 2.5000e-04\n",
      "Epoch 28/30\n",
      "\u001b[1m69/69\u001b[0m \u001b[32m━━━━━━━━━━━━━━━━━━━━\u001b[0m\u001b[37m\u001b[0m \u001b[1m19s\u001b[0m 277ms/step - accuracy: 0.7486 - loss: 1.2682 - val_accuracy: 0.5146 - val_loss: 2.3369 - learning_rate: 2.5000e-04\n",
      "Epoch 29/30\n",
      "\u001b[1m69/69\u001b[0m \u001b[32m━━━━━━━━━━━━━━━━━━━━\u001b[0m\u001b[37m\u001b[0m \u001b[1m19s\u001b[0m 278ms/step - accuracy: 0.7624 - loss: 1.1801 - val_accuracy: 0.6195 - val_loss: 1.6912 - learning_rate: 1.2500e-04\n",
      "Epoch 30/30\n",
      "\u001b[1m69/69\u001b[0m \u001b[32m━━━━━━━━━━━━━━━━━━━━\u001b[0m\u001b[37m\u001b[0m \u001b[1m19s\u001b[0m 278ms/step - accuracy: 0.7872 - loss: 1.1454 - val_accuracy: 0.6146 - val_loss: 1.6697 - learning_rate: 1.2500e-04\n",
      "\n",
      "Fine-tuning started for VGG19+LSTM model with 1638 videos of 16 classes with 410 videos for validation...\n",
      "Epoch 1/30\n",
      "\u001b[1m69/69\u001b[0m \u001b[32m━━━━━━━━━━━━━━━━━━━━\u001b[0m\u001b[37m\u001b[0m \u001b[1m41s\u001b[0m 472ms/step - accuracy: 0.4326 - loss: 3.0679 - val_accuracy: 0.1341 - val_loss: 15.4973 - learning_rate: 1.0000e-04\n",
      "Epoch 2/30\n",
      "\u001b[1m69/69\u001b[0m \u001b[32m━━━━━━━━━━━━━━━━━━━━\u001b[0m\u001b[37m\u001b[0m \u001b[1m31s\u001b[0m 446ms/step - accuracy: 0.6747 - loss: 1.4231 - val_accuracy: 0.4537 - val_loss: 3.2378 - learning_rate: 1.0000e-04\n",
      "Epoch 3/30\n",
      "\u001b[1m69/69\u001b[0m \u001b[32m━━━━━━━━━━━━━━━━━━━━\u001b[0m\u001b[37m\u001b[0m \u001b[1m30s\u001b[0m 436ms/step - accuracy: 0.7901 - loss: 1.0970 - val_accuracy: 0.5341 - val_loss: 2.2839 - learning_rate: 1.0000e-04\n",
      "Epoch 4/30\n",
      "\u001b[1m69/69\u001b[0m \u001b[32m━━━━━━━━━━━━━━━━━━━━\u001b[0m\u001b[37m\u001b[0m \u001b[1m31s\u001b[0m 444ms/step - accuracy: 0.8460 - loss: 0.9367 - val_accuracy: 0.8000 - val_loss: 1.0411 - learning_rate: 1.0000e-04\n",
      "Epoch 5/30\n",
      "\u001b[1m69/69\u001b[0m \u001b[32m━━━━━━━━━━━━━━━━━━━━\u001b[0m\u001b[37m\u001b[0m \u001b[1m30s\u001b[0m 440ms/step - accuracy: 0.8574 - loss: 0.8561 - val_accuracy: 0.5488 - val_loss: 2.1329 - learning_rate: 1.0000e-04\n",
      "Epoch 6/30\n",
      "\u001b[1m69/69\u001b[0m \u001b[32m━━━━━━━━━━━━━━━━━━━━\u001b[0m\u001b[37m\u001b[0m \u001b[1m30s\u001b[0m 439ms/step - accuracy: 0.9174 - loss: 0.7574 - val_accuracy: 0.7927 - val_loss: 1.1074 - learning_rate: 1.0000e-04\n",
      "Epoch 7/30\n",
      "\u001b[1m69/69\u001b[0m \u001b[32m━━━━━━━━━━━━━━━━━━━━\u001b[0m\u001b[37m\u001b[0m \u001b[1m30s\u001b[0m 440ms/step - accuracy: 0.9393 - loss: 0.6698 - val_accuracy: 0.8024 - val_loss: 0.9997 - learning_rate: 1.0000e-04\n",
      "Epoch 8/30\n",
      "\u001b[1m69/69\u001b[0m \u001b[32m━━━━━━━━━━━━━━━━━━━━\u001b[0m\u001b[37m\u001b[0m \u001b[1m30s\u001b[0m 440ms/step - accuracy: 0.9487 - loss: 0.6326 - val_accuracy: 0.9220 - val_loss: 0.6626 - learning_rate: 1.0000e-04\n",
      "Epoch 9/30\n",
      "\u001b[1m69/69\u001b[0m \u001b[32m━━━━━━━━━━━━━━━━━━━━\u001b[0m\u001b[37m\u001b[0m \u001b[1m30s\u001b[0m 441ms/step - accuracy: 0.9693 - loss: 0.5777 - val_accuracy: 0.9122 - val_loss: 0.6505 - learning_rate: 1.0000e-04\n",
      "Epoch 10/30\n",
      "\u001b[1m69/69\u001b[0m \u001b[32m━━━━━━━━━━━━━━━━━━━━\u001b[0m\u001b[37m\u001b[0m \u001b[1m30s\u001b[0m 441ms/step - accuracy: 0.9681 - loss: 0.5431 - val_accuracy: 0.9317 - val_loss: 0.5920 - learning_rate: 1.0000e-04\n",
      "Epoch 11/30\n",
      "\u001b[1m69/69\u001b[0m \u001b[32m━━━━━━━━━━━━━━━━━━━━\u001b[0m\u001b[37m\u001b[0m \u001b[1m30s\u001b[0m 442ms/step - accuracy: 0.9851 - loss: 0.4989 - val_accuracy: 0.9463 - val_loss: 0.5527 - learning_rate: 1.0000e-04\n",
      "Epoch 12/30\n",
      "\u001b[1m69/69\u001b[0m \u001b[32m━━━━━━━━━━━━━━━━━━━━\u001b[0m\u001b[37m\u001b[0m \u001b[1m31s\u001b[0m 442ms/step - accuracy: 0.9770 - loss: 0.4987 - val_accuracy: 0.8366 - val_loss: 0.8692 - learning_rate: 1.0000e-04\n",
      "Epoch 13/30\n",
      "\u001b[1m69/69\u001b[0m \u001b[32m━━━━━━━━━━━━━━━━━━━━\u001b[0m\u001b[37m\u001b[0m \u001b[1m30s\u001b[0m 442ms/step - accuracy: 0.9887 - loss: 0.4621 - val_accuracy: 0.9756 - val_loss: 0.4954 - learning_rate: 1.0000e-04\n",
      "Epoch 14/30\n",
      "\u001b[1m69/69\u001b[0m \u001b[32m━━━━━━━━━━━━━━━━━━━━\u001b[0m\u001b[37m\u001b[0m \u001b[1m30s\u001b[0m 441ms/step - accuracy: 0.9912 - loss: 0.4345 - val_accuracy: 0.9756 - val_loss: 0.4407 - learning_rate: 1.0000e-04\n",
      "Epoch 15/30\n",
      "\u001b[1m69/69\u001b[0m \u001b[32m━━━━━━━━━━━━━━━━━━━━\u001b[0m\u001b[37m\u001b[0m \u001b[1m30s\u001b[0m 441ms/step - accuracy: 0.9958 - loss: 0.4088 - val_accuracy: 0.9902 - val_loss: 0.4017 - learning_rate: 1.0000e-04\n",
      "Epoch 16/30\n",
      "\u001b[1m69/69\u001b[0m \u001b[32m━━━━━━━━━━━━━━━━━━━━\u001b[0m\u001b[37m\u001b[0m \u001b[1m30s\u001b[0m 439ms/step - accuracy: 0.9952 - loss: 0.4038 - val_accuracy: 0.9415 - val_loss: 0.5022 - learning_rate: 1.0000e-04\n",
      "Epoch 17/30\n",
      "\u001b[1m69/69\u001b[0m \u001b[32m━━━━━━━━━━━━━━━━━━━━\u001b[0m\u001b[37m\u001b[0m \u001b[1m30s\u001b[0m 439ms/step - accuracy: 0.9989 - loss: 0.3837 - val_accuracy: 0.9634 - val_loss: 0.4288 - learning_rate: 1.0000e-04\n",
      "Epoch 18/30\n",
      "\u001b[1m69/69\u001b[0m \u001b[32m━━━━━━━━━━━━━━━━━━━━\u001b[0m\u001b[37m\u001b[0m \u001b[1m30s\u001b[0m 439ms/step - accuracy: 0.9828 - loss: 0.4213 - val_accuracy: 0.9341 - val_loss: 0.5287 - learning_rate: 1.0000e-04\n",
      "Epoch 19/30\n",
      "\u001b[1m69/69\u001b[0m \u001b[32m━━━━━━━━━━━━━━━━━━━━\u001b[0m\u001b[37m\u001b[0m \u001b[1m30s\u001b[0m 439ms/step - accuracy: 0.9870 - loss: 0.3995 - val_accuracy: 0.9902 - val_loss: 0.3670 - learning_rate: 5.0000e-05\n",
      "Epoch 20/30\n",
      "\u001b[1m69/69\u001b[0m \u001b[32m━━━━━━━━━━━━━━━━━━━━\u001b[0m\u001b[37m\u001b[0m \u001b[1m30s\u001b[0m 439ms/step - accuracy: 0.9984 - loss: 0.3541 - val_accuracy: 0.9829 - val_loss: 0.3720 - learning_rate: 5.0000e-05\n",
      "Epoch 21/30\n",
      "\u001b[1m69/69\u001b[0m \u001b[32m━━━━━━━━━━━━━━━━━━━━\u001b[0m\u001b[37m\u001b[0m \u001b[1m30s\u001b[0m 440ms/step - accuracy: 0.9992 - loss: 0.3442 - val_accuracy: 0.9902 - val_loss: 0.3528 - learning_rate: 5.0000e-05\n",
      "Epoch 22/30\n",
      "\u001b[1m69/69\u001b[0m \u001b[32m━━━━━━━━━━━━━━━━━━━━\u001b[0m\u001b[37m\u001b[0m \u001b[1m30s\u001b[0m 441ms/step - accuracy: 0.9997 - loss: 0.3342 - val_accuracy: 0.9902 - val_loss: 0.3511 - learning_rate: 5.0000e-05\n",
      "Epoch 23/30\n",
      "\u001b[1m69/69\u001b[0m \u001b[32m━━━━━━━━━━━━━━━━━━━━\u001b[0m\u001b[37m\u001b[0m \u001b[1m30s\u001b[0m 439ms/step - accuracy: 0.9991 - loss: 0.3303 - val_accuracy: 0.9829 - val_loss: 0.3629 - learning_rate: 5.0000e-05\n",
      "Epoch 24/30\n",
      "\u001b[1m69/69\u001b[0m \u001b[32m━━━━━━━━━━━━━━━━━━━━\u001b[0m\u001b[37m\u001b[0m \u001b[1m30s\u001b[0m 440ms/step - accuracy: 0.9974 - loss: 0.3295 - val_accuracy: 0.9805 - val_loss: 0.3454 - learning_rate: 5.0000e-05\n",
      "Epoch 25/30\n",
      "\u001b[1m69/69\u001b[0m \u001b[32m━━━━━━━━━━━━━━━━━━━━\u001b[0m\u001b[37m\u001b[0m \u001b[1m30s\u001b[0m 440ms/step - accuracy: 0.9978 - loss: 0.3252 - val_accuracy: 0.9902 - val_loss: 0.3285 - learning_rate: 5.0000e-05\n",
      "Epoch 26/30\n",
      "\u001b[1m69/69\u001b[0m \u001b[32m━━━━━━━━━━━━━━━━━━━━\u001b[0m\u001b[37m\u001b[0m \u001b[1m30s\u001b[0m 439ms/step - accuracy: 0.9994 - loss: 0.3147 - val_accuracy: 0.9878 - val_loss: 0.3258 - learning_rate: 5.0000e-05\n",
      "Epoch 27/30\n",
      "\u001b[1m69/69\u001b[0m \u001b[32m━━━━━━━━━━━━━━━━━━━━\u001b[0m\u001b[37m\u001b[0m \u001b[1m30s\u001b[0m 439ms/step - accuracy: 0.9997 - loss: 0.3065 - val_accuracy: 0.9902 - val_loss: 0.3188 - learning_rate: 5.0000e-05\n",
      "Epoch 28/30\n",
      "\u001b[1m69/69\u001b[0m \u001b[32m━━━━━━━━━━━━━━━━━━━━\u001b[0m\u001b[37m\u001b[0m \u001b[1m30s\u001b[0m 439ms/step - accuracy: 1.0000 - loss: 0.3042 - val_accuracy: 0.9927 - val_loss: 0.3114 - learning_rate: 5.0000e-05\n",
      "Epoch 29/30\n",
      "\u001b[1m69/69\u001b[0m \u001b[32m━━━━━━━━━━━━━━━━━━━━\u001b[0m\u001b[37m\u001b[0m \u001b[1m30s\u001b[0m 440ms/step - accuracy: 0.9992 - loss: 0.2970 - val_accuracy: 0.9951 - val_loss: 0.2976 - learning_rate: 5.0000e-05\n",
      "Epoch 30/30\n",
      "\u001b[1m69/69\u001b[0m \u001b[32m━━━━━━━━━━━━━━━━━━━━\u001b[0m\u001b[37m\u001b[0m \u001b[1m30s\u001b[0m 441ms/step - accuracy: 1.0000 - loss: 0.2935 - val_accuracy: 0.9927 - val_loss: 0.2872 - learning_rate: 5.0000e-05\n",
      "test_gen batch videos shape: (24, 5, 128, 128, 3)\n",
      "test_gen batch labels shape: (24, 16)\n",
      "\u001b[1m22/22\u001b[0m \u001b[32m━━━━━━━━━━━━━━━━━━━━\u001b[0m\u001b[37m\u001b[0m \u001b[1m5s\u001b[0m 216ms/step - accuracy: 0.9921 - loss: 0.2818\n",
      "VGG19+LSTM Test Loss: 0.2804\n",
      "VGG19+LSTM Test Accuracy: 99.61%\n"
     ]
    }
   ],
   "source": [
    "# Clear memory before creating the new model\n",
    "gc.collect()\n",
    "tf.keras.backend.clear_session()\n",
    "print(\"Memory cleared before creating VGG19+LSTM model\")\n",
    "\n",
    "# Print TensorFlow version\n",
    "print(f\"TensorFlow version: {tf.__version__}\")\n",
    "\n",
    "\n",
    "# Pre-load VGG19 weights\n",
    "print(\"Pre-loading VGG19 weights...\")\n",
    "try:\n",
    "    base_model = VGG16(weights='imagenet', include_top=False, input_shape=(IMAGE_HEIGHT, IMAGE_WIDTH, 3))\n",
    "    print(\"VGG19 weights loaded successfully!\")\n",
    "except Exception as e:\n",
    "    print(f\"Failed to load VGG19 weights: {str(e)}\")\n",
    "\n",
    "\n",
    "# Define function to create VGG19+LSTM model\n",
    "def create_vgg19_gru_model(sequence_length, image_height, image_width, classes_list=None, dropout_rate=0.5, base_model=None):\n",
    "   \n",
    "    \n",
    "    print(\"Creating VGG19+LSTM model with parameters:\")\n",
    "    print(f\"sequence_length: {sequence_length}, image_height: {image_height}, image_width: {image_width}, classes_list length: {len(classes_list) if classes_list is not None else None}, dropout_rate: {dropout_rate}\")\n",
    "    \n",
    "    if classes_list is None:\n",
    "        raise ValueError(\"classes_list must be provided to define the output layer size\")\n",
    "    if base_model is None:\n",
    "        raise ValueError(\"base_model must be provided to avoid re-downloading weights\")\n",
    "\n",
    "    try:\n",
    "        # Use the pre-loaded base model\n",
    "        # Freeze the base model for initial training\n",
    "        base_model.trainable = False\n",
    "\n",
    "        # Define the Sequential model\n",
    "        model = Sequential([\n",
    "            # TimeDistributed VGG19 model\n",
    "            TimeDistributed(\n",
    "                base_model,\n",
    "                input_shape=(sequence_length, image_height, image_width, 3),\n",
    "                name=\"time_distributed_vgg19\"\n",
    "            ),\n",
    "            # TimeDistributed GlobalAveragePooling2D\n",
    "            TimeDistributed(GlobalAveragePooling2D(), name=\"time_distributed_pooling\"),\n",
    "            # LSTM layer with 512 units\n",
    "            GRU(256, activation=\"tanh\", return_sequences=False, kernel_regularizer=l2(0.01), name=\"lstm_vgg19\"),\n",
    "            BatchNormalization(name=\"batch_normalization_vgg19\"),\n",
    "            # Dropout after LSTM\n",
    "            Dropout(dropout_rate, name=\"dropout_lstm_vgg19\"),\n",
    "            # Dense layer with 512 units\n",
    "            Dense(512, activation=\"relu\", kernel_regularizer=l2(0.01), name=\"dense_vgg19_1\"),\n",
    "            # Dropout after first Dense\n",
    "            Dropout(dropout_rate, name=\"dropout_dense_vgg19_1\"),\n",
    "            # Dense layer with 128 units\n",
    "            Dense(128, activation=\"relu\", kernel_regularizer=l2(0.01), name=\"dense_vgg19_2\"),\n",
    "            # Dropout after second Dense\n",
    "            Dropout(dropout_rate, name=\"dropout_dense_vgg19_2\"),\n",
    "            # Output Dense layer with softmax activation\n",
    "            Dense(len(classes_list), activation=\"softmax\", name=\"output_vgg19\")\n",
    "        ])\n",
    "\n",
    "        # Print model summary\n",
    "        print(\"VGG19+LSTM model architecture created successfully!\")\n",
    "        model.summary()\n",
    "\n",
    "        return model\n",
    "\n",
    "    except Exception as e:\n",
    "        print(f\"Error creating VGG19+LSTM model: {str(e)}\")\n",
    "        import traceback\n",
    "        traceback.print_exc()\n",
    "        return None\n",
    "\n",
    "\n",
    "# Create the VGG19+LSTM model using the pre-loaded base model\n",
    "vgg19_gru_model = create_vgg19_gru_model(\n",
    "    sequence_length=SEQUENCE_LENGTH,\n",
    "    image_height=IMAGE_HEIGHT,\n",
    "    image_width=IMAGE_WIDTH,\n",
    "    classes_list=CLASSES_LIST,\n",
    "    dropout_rate=DROPOUT_RATE,\n",
    "    base_model=base_model\n",
    ")\n",
    "\n",
    "# Check if vgg19_gru_model was created successfully\n",
    "if vgg19_gru_model is None:\n",
    "    raise ValueError(\"Failed to create VGG19+LSTM model. Check error messages above.\")\n",
    "else:\n",
    "    print(\"VGG19+LSTM Model Created Successfully!\")\n",
    "\n",
    "# Ensure labels_test is one-hot encoded\n",
    "if len(labels_test.shape) == 1:\n",
    "    print(\"Converting labels_test to one-hot encoded format...\")\n",
    "    labels_test = to_categorical(labels_test, num_classes=NO_OF_CLASSES)\n",
    "    print(f\"New labels_test shape: {labels_test.shape}\")\n",
    "\n",
    "# Compile the model for initial training\n",
    "early_stopping_callback = EarlyStopping(monitor='val_loss', patience=7, mode='min', restore_best_weights=True)\n",
    "lr_scheduler = ReduceLROnPlateau(monitor='val_loss', factor=0.5, patience=3, min_lr=1e-6)\n",
    "\n",
    "vgg19_gru_model.compile(\n",
    "    loss='categorical_crossentropy',\n",
    "    optimizer=tf.keras.optimizers.Adam(learning_rate=0.001),  # Higher learning rate for initial training\n",
    "    metrics=['accuracy']\n",
    ")\n",
    "\n",
    "# Initial training with frozen base model\n",
    "print(f\"Initial training started for VGG19+LSTM model with {len(train_gen.videos)} videos of {NO_OF_CLASSES} classes with {len(val_gen.videos)} videos for validation...\")\n",
    "try:\n",
    "    initial_vgg19_gru_model_history = vgg19_gru_model.fit(\n",
    "        train_gen.as_dataset(),\n",
    "        validation_data=val_gen.as_dataset(),\n",
    "        epochs=EPOCHS,\n",
    "        class_weight=class_weights,\n",
    "        callbacks=[early_stopping_callback, lr_scheduler]\n",
    "    )\n",
    "except Exception as e:\n",
    "    print(f\"Error during initial model training: {str(e)}\")\n",
    "    import traceback\n",
    "    traceback.print_exc()\n",
    "\n",
    "# Unfreeze some layers for fine-tuning\n",
    "base_model.trainable = True\n",
    "# Freeze all layers except the last 8 layers (consistent with previous VGG19 code)\n",
    "for layer in base_model.layers[:-8]:\n",
    "    layer.trainable = False\n",
    "\n",
    "# Recompile the model with a lower learning rate for fine-tuning\n",
    "vgg19_gru_model.compile(\n",
    "    loss='categorical_crossentropy',\n",
    "    optimizer=tf.keras.optimizers.Adam(learning_rate=0.0001),  # Lower learning rate for fine-tuning\n",
    "    metrics=['accuracy']\n",
    ")\n",
    "\n",
    "# Fine-tune the model\n",
    "print(f\"\\nFine-tuning started for VGG19+LSTM model with {len(train_gen.videos)} videos of {NO_OF_CLASSES} classes with {len(val_gen.videos)} videos for validation...\")\n",
    "try:\n",
    "    fine_tune_vgg19_gru_model_history = vgg19_gru_model.fit(\n",
    "        train_gen.as_dataset(),\n",
    "        validation_data=val_gen.as_dataset(),\n",
    "        epochs=EPOCHS,\n",
    "        class_weight=class_weights,\n",
    "        callbacks=[early_stopping_callback, lr_scheduler]\n",
    "    )\n",
    "except Exception as e:\n",
    "    print(f\"Error during fine-tuning: {str(e)}\")\n",
    "    import traceback\n",
    "    traceback.print_exc()\n",
    "\n",
    "\n",
    "\n",
    "videos, labels = test_gen[0]\n",
    "print(f\"test_gen batch videos shape: {videos.shape}\")\n",
    "print(f\"test_gen batch labels shape: {labels.shape}\")\n",
    "loss, accuracy = vgg19_gru_model.evaluate(test_gen.as_dataset())\n",
    "print(f'VGG19+LSTM Test Loss: {loss:.4f}')\n",
    "print(f'VGG19+LSTM Test Accuracy: {accuracy * 100:.2f}%')"
   ]
  },
  {
   "cell_type": "markdown",
   "id": "218a4159",
   "metadata": {
    "papermill": {
     "duration": 0.382789,
     "end_time": "2025-07-14T05:57:50.526433",
     "exception": false,
     "start_time": "2025-07-14T05:57:50.143644",
     "status": "completed"
    },
    "tags": []
   },
   "source": [
    "## Xception + GRU"
   ]
  },
  {
   "cell_type": "code",
   "execution_count": 45,
   "id": "1be50adf",
   "metadata": {
    "execution": {
     "iopub.execute_input": "2025-07-14T05:57:51.332486Z",
     "iopub.status.busy": "2025-07-14T05:57:51.332213Z",
     "iopub.status.idle": "2025-07-14T06:19:28.451050Z",
     "shell.execute_reply": "2025-07-14T06:19:28.450424Z"
    },
    "papermill": {
     "duration": 1297.495639,
     "end_time": "2025-07-14T06:19:28.452120",
     "exception": false,
     "start_time": "2025-07-14T05:57:50.956481",
     "status": "completed"
    },
    "tags": []
   },
   "outputs": [
    {
     "name": "stdout",
     "output_type": "stream",
     "text": [
      "Memory cleared before creating VGG19+LSTM model\n",
      "TensorFlow version: 2.18.0\n",
      "Pre-loading VGG19 weights...\n",
      "Downloading data from https://storage.googleapis.com/tensorflow/keras-applications/xception/xception_weights_tf_dim_ordering_tf_kernels_notop.h5\n",
      "\u001b[1m83683744/83683744\u001b[0m \u001b[32m━━━━━━━━━━━━━━━━━━━━\u001b[0m\u001b[37m\u001b[0m \u001b[1m0s\u001b[0m 0us/step\n",
      "VGG19 weights loaded successfully!\n",
      "Creating VGG19+LSTM model with parameters:\n",
      "sequence_length: 5, image_height: 128, image_width: 128, classes_list length: 16, dropout_rate: 0.5\n",
      "VGG19+LSTM model architecture created successfully!\n"
     ]
    },
    {
     "data": {
      "text/html": [
       "<pre style=\"white-space:pre;overflow-x:auto;line-height:normal;font-family:Menlo,'DejaVu Sans Mono',consolas,'Courier New',monospace\"><span style=\"font-weight: bold\">Model: \"sequential\"</span>\n",
       "</pre>\n"
      ],
      "text/plain": [
       "\u001b[1mModel: \"sequential\"\u001b[0m\n"
      ]
     },
     "metadata": {},
     "output_type": "display_data"
    },
    {
     "data": {
      "text/html": [
       "<pre style=\"white-space:pre;overflow-x:auto;line-height:normal;font-family:Menlo,'DejaVu Sans Mono',consolas,'Courier New',monospace\">┏━━━━━━━━━━━━━━━━━━━━━━━━━━━━━━━━━┳━━━━━━━━━━━━━━━━━━━━━━━━┳━━━━━━━━━━━━━━━┓\n",
       "┃<span style=\"font-weight: bold\"> Layer (type)                    </span>┃<span style=\"font-weight: bold\"> Output Shape           </span>┃<span style=\"font-weight: bold\">       Param # </span>┃\n",
       "┡━━━━━━━━━━━━━━━━━━━━━━━━━━━━━━━━━╇━━━━━━━━━━━━━━━━━━━━━━━━╇━━━━━━━━━━━━━━━┩\n",
       "│ time_distributed_vgg19          │ (<span style=\"color: #00d7ff; text-decoration-color: #00d7ff\">None</span>, <span style=\"color: #00af00; text-decoration-color: #00af00\">5</span>, <span style=\"color: #00af00; text-decoration-color: #00af00\">4</span>, <span style=\"color: #00af00; text-decoration-color: #00af00\">4</span>, <span style=\"color: #00af00; text-decoration-color: #00af00\">2048</span>)  │    <span style=\"color: #00af00; text-decoration-color: #00af00\">20,861,480</span> │\n",
       "│ (<span style=\"color: #0087ff; text-decoration-color: #0087ff\">TimeDistributed</span>)               │                        │               │\n",
       "├─────────────────────────────────┼────────────────────────┼───────────────┤\n",
       "│ time_distributed_pooling        │ (<span style=\"color: #00d7ff; text-decoration-color: #00d7ff\">None</span>, <span style=\"color: #00af00; text-decoration-color: #00af00\">5</span>, <span style=\"color: #00af00; text-decoration-color: #00af00\">2048</span>)        │             <span style=\"color: #00af00; text-decoration-color: #00af00\">0</span> │\n",
       "│ (<span style=\"color: #0087ff; text-decoration-color: #0087ff\">TimeDistributed</span>)               │                        │               │\n",
       "├─────────────────────────────────┼────────────────────────┼───────────────┤\n",
       "│ lstm_vgg19 (<span style=\"color: #0087ff; text-decoration-color: #0087ff\">GRU</span>)                │ (<span style=\"color: #00d7ff; text-decoration-color: #00d7ff\">None</span>, <span style=\"color: #00af00; text-decoration-color: #00af00\">256</span>)            │     <span style=\"color: #00af00; text-decoration-color: #00af00\">1,771,008</span> │\n",
       "├─────────────────────────────────┼────────────────────────┼───────────────┤\n",
       "│ batch_normalization_vgg19       │ (<span style=\"color: #00d7ff; text-decoration-color: #00d7ff\">None</span>, <span style=\"color: #00af00; text-decoration-color: #00af00\">256</span>)            │         <span style=\"color: #00af00; text-decoration-color: #00af00\">1,024</span> │\n",
       "│ (<span style=\"color: #0087ff; text-decoration-color: #0087ff\">BatchNormalization</span>)            │                        │               │\n",
       "├─────────────────────────────────┼────────────────────────┼───────────────┤\n",
       "│ dropout_lstm_vgg19 (<span style=\"color: #0087ff; text-decoration-color: #0087ff\">Dropout</span>)    │ (<span style=\"color: #00d7ff; text-decoration-color: #00d7ff\">None</span>, <span style=\"color: #00af00; text-decoration-color: #00af00\">256</span>)            │             <span style=\"color: #00af00; text-decoration-color: #00af00\">0</span> │\n",
       "├─────────────────────────────────┼────────────────────────┼───────────────┤\n",
       "│ dense_vgg19_1 (<span style=\"color: #0087ff; text-decoration-color: #0087ff\">Dense</span>)           │ (<span style=\"color: #00d7ff; text-decoration-color: #00d7ff\">None</span>, <span style=\"color: #00af00; text-decoration-color: #00af00\">512</span>)            │       <span style=\"color: #00af00; text-decoration-color: #00af00\">131,584</span> │\n",
       "├─────────────────────────────────┼────────────────────────┼───────────────┤\n",
       "│ dropout_dense_vgg19_1 (<span style=\"color: #0087ff; text-decoration-color: #0087ff\">Dropout</span>) │ (<span style=\"color: #00d7ff; text-decoration-color: #00d7ff\">None</span>, <span style=\"color: #00af00; text-decoration-color: #00af00\">512</span>)            │             <span style=\"color: #00af00; text-decoration-color: #00af00\">0</span> │\n",
       "├─────────────────────────────────┼────────────────────────┼───────────────┤\n",
       "│ dense_vgg19_2 (<span style=\"color: #0087ff; text-decoration-color: #0087ff\">Dense</span>)           │ (<span style=\"color: #00d7ff; text-decoration-color: #00d7ff\">None</span>, <span style=\"color: #00af00; text-decoration-color: #00af00\">128</span>)            │        <span style=\"color: #00af00; text-decoration-color: #00af00\">65,664</span> │\n",
       "├─────────────────────────────────┼────────────────────────┼───────────────┤\n",
       "│ dropout_dense_vgg19_2 (<span style=\"color: #0087ff; text-decoration-color: #0087ff\">Dropout</span>) │ (<span style=\"color: #00d7ff; text-decoration-color: #00d7ff\">None</span>, <span style=\"color: #00af00; text-decoration-color: #00af00\">128</span>)            │             <span style=\"color: #00af00; text-decoration-color: #00af00\">0</span> │\n",
       "├─────────────────────────────────┼────────────────────────┼───────────────┤\n",
       "│ output_vgg19 (<span style=\"color: #0087ff; text-decoration-color: #0087ff\">Dense</span>)            │ (<span style=\"color: #00d7ff; text-decoration-color: #00d7ff\">None</span>, <span style=\"color: #00af00; text-decoration-color: #00af00\">16</span>)             │         <span style=\"color: #00af00; text-decoration-color: #00af00\">2,064</span> │\n",
       "└─────────────────────────────────┴────────────────────────┴───────────────┘\n",
       "</pre>\n"
      ],
      "text/plain": [
       "┏━━━━━━━━━━━━━━━━━━━━━━━━━━━━━━━━━┳━━━━━━━━━━━━━━━━━━━━━━━━┳━━━━━━━━━━━━━━━┓\n",
       "┃\u001b[1m \u001b[0m\u001b[1mLayer (type)                   \u001b[0m\u001b[1m \u001b[0m┃\u001b[1m \u001b[0m\u001b[1mOutput Shape          \u001b[0m\u001b[1m \u001b[0m┃\u001b[1m \u001b[0m\u001b[1m      Param #\u001b[0m\u001b[1m \u001b[0m┃\n",
       "┡━━━━━━━━━━━━━━━━━━━━━━━━━━━━━━━━━╇━━━━━━━━━━━━━━━━━━━━━━━━╇━━━━━━━━━━━━━━━┩\n",
       "│ time_distributed_vgg19          │ (\u001b[38;5;45mNone\u001b[0m, \u001b[38;5;34m5\u001b[0m, \u001b[38;5;34m4\u001b[0m, \u001b[38;5;34m4\u001b[0m, \u001b[38;5;34m2048\u001b[0m)  │    \u001b[38;5;34m20,861,480\u001b[0m │\n",
       "│ (\u001b[38;5;33mTimeDistributed\u001b[0m)               │                        │               │\n",
       "├─────────────────────────────────┼────────────────────────┼───────────────┤\n",
       "│ time_distributed_pooling        │ (\u001b[38;5;45mNone\u001b[0m, \u001b[38;5;34m5\u001b[0m, \u001b[38;5;34m2048\u001b[0m)        │             \u001b[38;5;34m0\u001b[0m │\n",
       "│ (\u001b[38;5;33mTimeDistributed\u001b[0m)               │                        │               │\n",
       "├─────────────────────────────────┼────────────────────────┼───────────────┤\n",
       "│ lstm_vgg19 (\u001b[38;5;33mGRU\u001b[0m)                │ (\u001b[38;5;45mNone\u001b[0m, \u001b[38;5;34m256\u001b[0m)            │     \u001b[38;5;34m1,771,008\u001b[0m │\n",
       "├─────────────────────────────────┼────────────────────────┼───────────────┤\n",
       "│ batch_normalization_vgg19       │ (\u001b[38;5;45mNone\u001b[0m, \u001b[38;5;34m256\u001b[0m)            │         \u001b[38;5;34m1,024\u001b[0m │\n",
       "│ (\u001b[38;5;33mBatchNormalization\u001b[0m)            │                        │               │\n",
       "├─────────────────────────────────┼────────────────────────┼───────────────┤\n",
       "│ dropout_lstm_vgg19 (\u001b[38;5;33mDropout\u001b[0m)    │ (\u001b[38;5;45mNone\u001b[0m, \u001b[38;5;34m256\u001b[0m)            │             \u001b[38;5;34m0\u001b[0m │\n",
       "├─────────────────────────────────┼────────────────────────┼───────────────┤\n",
       "│ dense_vgg19_1 (\u001b[38;5;33mDense\u001b[0m)           │ (\u001b[38;5;45mNone\u001b[0m, \u001b[38;5;34m512\u001b[0m)            │       \u001b[38;5;34m131,584\u001b[0m │\n",
       "├─────────────────────────────────┼────────────────────────┼───────────────┤\n",
       "│ dropout_dense_vgg19_1 (\u001b[38;5;33mDropout\u001b[0m) │ (\u001b[38;5;45mNone\u001b[0m, \u001b[38;5;34m512\u001b[0m)            │             \u001b[38;5;34m0\u001b[0m │\n",
       "├─────────────────────────────────┼────────────────────────┼───────────────┤\n",
       "│ dense_vgg19_2 (\u001b[38;5;33mDense\u001b[0m)           │ (\u001b[38;5;45mNone\u001b[0m, \u001b[38;5;34m128\u001b[0m)            │        \u001b[38;5;34m65,664\u001b[0m │\n",
       "├─────────────────────────────────┼────────────────────────┼───────────────┤\n",
       "│ dropout_dense_vgg19_2 (\u001b[38;5;33mDropout\u001b[0m) │ (\u001b[38;5;45mNone\u001b[0m, \u001b[38;5;34m128\u001b[0m)            │             \u001b[38;5;34m0\u001b[0m │\n",
       "├─────────────────────────────────┼────────────────────────┼───────────────┤\n",
       "│ output_vgg19 (\u001b[38;5;33mDense\u001b[0m)            │ (\u001b[38;5;45mNone\u001b[0m, \u001b[38;5;34m16\u001b[0m)             │         \u001b[38;5;34m2,064\u001b[0m │\n",
       "└─────────────────────────────────┴────────────────────────┴───────────────┘\n"
      ]
     },
     "metadata": {},
     "output_type": "display_data"
    },
    {
     "data": {
      "text/html": [
       "<pre style=\"white-space:pre;overflow-x:auto;line-height:normal;font-family:Menlo,'DejaVu Sans Mono',consolas,'Courier New',monospace\"><span style=\"font-weight: bold\"> Total params: </span><span style=\"color: #00af00; text-decoration-color: #00af00\">22,832,824</span> (87.10 MB)\n",
       "</pre>\n"
      ],
      "text/plain": [
       "\u001b[1m Total params: \u001b[0m\u001b[38;5;34m22,832,824\u001b[0m (87.10 MB)\n"
      ]
     },
     "metadata": {},
     "output_type": "display_data"
    },
    {
     "data": {
      "text/html": [
       "<pre style=\"white-space:pre;overflow-x:auto;line-height:normal;font-family:Menlo,'DejaVu Sans Mono',consolas,'Courier New',monospace\"><span style=\"font-weight: bold\"> Trainable params: </span><span style=\"color: #00af00; text-decoration-color: #00af00\">1,970,832</span> (7.52 MB)\n",
       "</pre>\n"
      ],
      "text/plain": [
       "\u001b[1m Trainable params: \u001b[0m\u001b[38;5;34m1,970,832\u001b[0m (7.52 MB)\n"
      ]
     },
     "metadata": {},
     "output_type": "display_data"
    },
    {
     "data": {
      "text/html": [
       "<pre style=\"white-space:pre;overflow-x:auto;line-height:normal;font-family:Menlo,'DejaVu Sans Mono',consolas,'Courier New',monospace\"><span style=\"font-weight: bold\"> Non-trainable params: </span><span style=\"color: #00af00; text-decoration-color: #00af00\">20,861,992</span> (79.58 MB)\n",
       "</pre>\n"
      ],
      "text/plain": [
       "\u001b[1m Non-trainable params: \u001b[0m\u001b[38;5;34m20,861,992\u001b[0m (79.58 MB)\n"
      ]
     },
     "metadata": {},
     "output_type": "display_data"
    },
    {
     "name": "stdout",
     "output_type": "stream",
     "text": [
      "VGG19+LSTM Model Created Successfully!\n",
      "Initial training started for VGG19+LSTM model with 1638 videos of 16 classes with 410 videos for validation...\n",
      "Epoch 1/30\n",
      "\u001b[1m69/69\u001b[0m \u001b[32m━━━━━━━━━━━━━━━━━━━━\u001b[0m\u001b[37m\u001b[0m \u001b[1m52s\u001b[0m 375ms/step - accuracy: 0.0771 - loss: 16.7324 - val_accuracy: 0.1073 - val_loss: 10.8827 - learning_rate: 0.0010\n",
      "Epoch 2/30\n",
      "\u001b[1m69/69\u001b[0m \u001b[32m━━━━━━━━━━━━━━━━━━━━\u001b[0m\u001b[37m\u001b[0m \u001b[1m20s\u001b[0m 285ms/step - accuracy: 0.0911 - loss: 10.3031 - val_accuracy: 0.1293 - val_loss: 8.6596 - learning_rate: 0.0010\n",
      "Epoch 3/30\n",
      "\u001b[1m69/69\u001b[0m \u001b[32m━━━━━━━━━━━━━━━━━━━━\u001b[0m\u001b[37m\u001b[0m \u001b[1m19s\u001b[0m 275ms/step - accuracy: 0.1114 - loss: 8.2499 - val_accuracy: 0.1659 - val_loss: 7.1645 - learning_rate: 0.0010\n",
      "Epoch 4/30\n",
      "\u001b[1m69/69\u001b[0m \u001b[32m━━━━━━━━━━━━━━━━━━━━\u001b[0m\u001b[37m\u001b[0m \u001b[1m18s\u001b[0m 267ms/step - accuracy: 0.1542 - loss: 6.8240 - val_accuracy: 0.1780 - val_loss: 6.0784 - learning_rate: 0.0010\n",
      "Epoch 5/30\n",
      "\u001b[1m69/69\u001b[0m \u001b[32m━━━━━━━━━━━━━━━━━━━━\u001b[0m\u001b[37m\u001b[0m \u001b[1m18s\u001b[0m 267ms/step - accuracy: 0.2050 - loss: 5.7882 - val_accuracy: 0.2390 - val_loss: 5.1834 - learning_rate: 0.0010\n",
      "Epoch 6/30\n",
      "\u001b[1m69/69\u001b[0m \u001b[32m━━━━━━━━━━━━━━━━━━━━\u001b[0m\u001b[37m\u001b[0m \u001b[1m19s\u001b[0m 272ms/step - accuracy: 0.2689 - loss: 4.9561 - val_accuracy: 0.2317 - val_loss: 4.6944 - learning_rate: 0.0010\n",
      "Epoch 7/30\n",
      "\u001b[1m69/69\u001b[0m \u001b[32m━━━━━━━━━━━━━━━━━━━━\u001b[0m\u001b[37m\u001b[0m \u001b[1m19s\u001b[0m 273ms/step - accuracy: 0.3018 - loss: 4.3743 - val_accuracy: 0.3439 - val_loss: 3.9999 - learning_rate: 0.0010\n",
      "Epoch 8/30\n",
      "\u001b[1m69/69\u001b[0m \u001b[32m━━━━━━━━━━━━━━━━━━━━\u001b[0m\u001b[37m\u001b[0m \u001b[1m19s\u001b[0m 271ms/step - accuracy: 0.3563 - loss: 3.8719 - val_accuracy: 0.3488 - val_loss: 3.6945 - learning_rate: 0.0010\n",
      "Epoch 9/30\n",
      "\u001b[1m69/69\u001b[0m \u001b[32m━━━━━━━━━━━━━━━━━━━━\u001b[0m\u001b[37m\u001b[0m \u001b[1m19s\u001b[0m 272ms/step - accuracy: 0.3556 - loss: 3.5011 - val_accuracy: 0.3415 - val_loss: 3.4614 - learning_rate: 0.0010\n",
      "Epoch 10/30\n",
      "\u001b[1m69/69\u001b[0m \u001b[32m━━━━━━━━━━━━━━━━━━━━\u001b[0m\u001b[37m\u001b[0m \u001b[1m19s\u001b[0m 269ms/step - accuracy: 0.3770 - loss: 3.2355 - val_accuracy: 0.2732 - val_loss: 3.6130 - learning_rate: 0.0010\n",
      "Epoch 11/30\n",
      "\u001b[1m69/69\u001b[0m \u001b[32m━━━━━━━━━━━━━━━━━━━━\u001b[0m\u001b[37m\u001b[0m \u001b[1m19s\u001b[0m 271ms/step - accuracy: 0.4123 - loss: 3.0534 - val_accuracy: 0.2585 - val_loss: 3.3881 - learning_rate: 0.0010\n",
      "Epoch 12/30\n",
      "\u001b[1m69/69\u001b[0m \u001b[32m━━━━━━━━━━━━━━━━━━━━\u001b[0m\u001b[37m\u001b[0m \u001b[1m19s\u001b[0m 271ms/step - accuracy: 0.4218 - loss: 2.7956 - val_accuracy: 0.3439 - val_loss: 3.1792 - learning_rate: 0.0010\n",
      "Epoch 13/30\n",
      "\u001b[1m69/69\u001b[0m \u001b[32m━━━━━━━━━━━━━━━━━━━━\u001b[0m\u001b[37m\u001b[0m \u001b[1m19s\u001b[0m 269ms/step - accuracy: 0.4532 - loss: 2.7266 - val_accuracy: 0.2902 - val_loss: 3.2742 - learning_rate: 0.0010\n",
      "Epoch 14/30\n",
      "\u001b[1m69/69\u001b[0m \u001b[32m━━━━━━━━━━━━━━━━━━━━\u001b[0m\u001b[37m\u001b[0m \u001b[1m19s\u001b[0m 272ms/step - accuracy: 0.4534 - loss: 2.6278 - val_accuracy: 0.3732 - val_loss: 2.9148 - learning_rate: 0.0010\n",
      "Epoch 15/30\n",
      "\u001b[1m69/69\u001b[0m \u001b[32m━━━━━━━━━━━━━━━━━━━━\u001b[0m\u001b[37m\u001b[0m \u001b[1m19s\u001b[0m 272ms/step - accuracy: 0.4434 - loss: 2.6479 - val_accuracy: 0.3585 - val_loss: 2.9136 - learning_rate: 0.0010\n",
      "Epoch 16/30\n",
      "\u001b[1m69/69\u001b[0m \u001b[32m━━━━━━━━━━━━━━━━━━━━\u001b[0m\u001b[37m\u001b[0m \u001b[1m19s\u001b[0m 271ms/step - accuracy: 0.4820 - loss: 2.5846 - val_accuracy: 0.3488 - val_loss: 3.0336 - learning_rate: 0.0010\n",
      "Epoch 17/30\n",
      "\u001b[1m69/69\u001b[0m \u001b[32m━━━━━━━━━━━━━━━━━━━━\u001b[0m\u001b[37m\u001b[0m \u001b[1m19s\u001b[0m 272ms/step - accuracy: 0.4905 - loss: 2.4846 - val_accuracy: 0.3585 - val_loss: 2.9175 - learning_rate: 0.0010\n",
      "Epoch 18/30\n",
      "\u001b[1m69/69\u001b[0m \u001b[32m━━━━━━━━━━━━━━━━━━━━\u001b[0m\u001b[37m\u001b[0m \u001b[1m19s\u001b[0m 271ms/step - accuracy: 0.4943 - loss: 2.4465 - val_accuracy: 0.3561 - val_loss: 3.0445 - learning_rate: 0.0010\n",
      "Epoch 19/30\n",
      "\u001b[1m69/69\u001b[0m \u001b[32m━━━━━━━━━━━━━━━━━━━━\u001b[0m\u001b[37m\u001b[0m \u001b[1m19s\u001b[0m 271ms/step - accuracy: 0.5247 - loss: 2.3237 - val_accuracy: 0.3561 - val_loss: 3.1077 - learning_rate: 5.0000e-04\n",
      "Epoch 20/30\n",
      "\u001b[1m69/69\u001b[0m \u001b[32m━━━━━━━━━━━━━━━━━━━━\u001b[0m\u001b[37m\u001b[0m \u001b[1m19s\u001b[0m 270ms/step - accuracy: 0.5606 - loss: 2.1220 - val_accuracy: 0.3634 - val_loss: 2.9145 - learning_rate: 5.0000e-04\n",
      "Epoch 21/30\n",
      "\u001b[1m69/69\u001b[0m \u001b[32m━━━━━━━━━━━━━━━━━━━━\u001b[0m\u001b[37m\u001b[0m \u001b[1m19s\u001b[0m 271ms/step - accuracy: 0.5832 - loss: 2.0258 - val_accuracy: 0.4000 - val_loss: 2.7193 - learning_rate: 5.0000e-04\n",
      "Epoch 22/30\n",
      "\u001b[1m69/69\u001b[0m \u001b[32m━━━━━━━━━━━━━━━━━━━━\u001b[0m\u001b[37m\u001b[0m \u001b[1m19s\u001b[0m 269ms/step - accuracy: 0.5936 - loss: 1.9278 - val_accuracy: 0.3415 - val_loss: 2.9933 - learning_rate: 5.0000e-04\n",
      "Epoch 23/30\n",
      "\u001b[1m69/69\u001b[0m \u001b[32m━━━━━━━━━━━━━━━━━━━━\u001b[0m\u001b[37m\u001b[0m \u001b[1m19s\u001b[0m 269ms/step - accuracy: 0.6050 - loss: 1.8596 - val_accuracy: 0.4146 - val_loss: 2.8109 - learning_rate: 5.0000e-04\n",
      "Epoch 24/30\n",
      "\u001b[1m69/69\u001b[0m \u001b[32m━━━━━━━━━━━━━━━━━━━━\u001b[0m\u001b[37m\u001b[0m \u001b[1m19s\u001b[0m 271ms/step - accuracy: 0.6216 - loss: 1.7959 - val_accuracy: 0.4195 - val_loss: 2.5580 - learning_rate: 5.0000e-04\n",
      "Epoch 25/30\n",
      "\u001b[1m69/69\u001b[0m \u001b[32m━━━━━━━━━━━━━━━━━━━━\u001b[0m\u001b[37m\u001b[0m \u001b[1m19s\u001b[0m 269ms/step - accuracy: 0.6312 - loss: 1.7832 - val_accuracy: 0.4366 - val_loss: 2.6006 - learning_rate: 5.0000e-04\n",
      "Epoch 26/30\n",
      "\u001b[1m69/69\u001b[0m \u001b[32m━━━━━━━━━━━━━━━━━━━━\u001b[0m\u001b[37m\u001b[0m \u001b[1m19s\u001b[0m 269ms/step - accuracy: 0.6292 - loss: 1.8163 - val_accuracy: 0.4195 - val_loss: 2.5632 - learning_rate: 5.0000e-04\n",
      "Epoch 27/30\n",
      "\u001b[1m69/69\u001b[0m \u001b[32m━━━━━━━━━━━━━━━━━━━━\u001b[0m\u001b[37m\u001b[0m \u001b[1m19s\u001b[0m 269ms/step - accuracy: 0.6760 - loss: 1.6387 - val_accuracy: 0.4195 - val_loss: 2.6199 - learning_rate: 5.0000e-04\n",
      "Epoch 28/30\n",
      "\u001b[1m69/69\u001b[0m \u001b[32m━━━━━━━━━━━━━━━━━━━━\u001b[0m\u001b[37m\u001b[0m \u001b[1m19s\u001b[0m 270ms/step - accuracy: 0.7078 - loss: 1.5748 - val_accuracy: 0.4537 - val_loss: 2.5170 - learning_rate: 2.5000e-04\n",
      "Epoch 29/30\n",
      "\u001b[1m69/69\u001b[0m \u001b[32m━━━━━━━━━━━━━━━━━━━━\u001b[0m\u001b[37m\u001b[0m \u001b[1m18s\u001b[0m 268ms/step - accuracy: 0.6891 - loss: 1.5276 - val_accuracy: 0.4341 - val_loss: 2.5647 - learning_rate: 2.5000e-04\n",
      "Epoch 30/30\n",
      "\u001b[1m69/69\u001b[0m \u001b[32m━━━━━━━━━━━━━━━━━━━━\u001b[0m\u001b[37m\u001b[0m \u001b[1m19s\u001b[0m 271ms/step - accuracy: 0.7475 - loss: 1.4011 - val_accuracy: 0.4585 - val_loss: 2.4968 - learning_rate: 2.5000e-04\n",
      "\n",
      "Fine-tuning started for VGG19+LSTM model with 1638 videos of 16 classes with 410 videos for validation...\n",
      "Epoch 1/30\n",
      "\u001b[1m69/69\u001b[0m \u001b[32m━━━━━━━━━━━━━━━━━━━━\u001b[0m\u001b[37m\u001b[0m \u001b[1m59s\u001b[0m 422ms/step - accuracy: 0.4554 - loss: 2.5906 - val_accuracy: 0.4537 - val_loss: 2.3435 - learning_rate: 1.0000e-04\n",
      "Epoch 2/30\n",
      "\u001b[1m69/69\u001b[0m \u001b[32m━━━━━━━━━━━━━━━━━━━━\u001b[0m\u001b[37m\u001b[0m \u001b[1m23s\u001b[0m 334ms/step - accuracy: 0.6626 - loss: 1.5931 - val_accuracy: 0.5098 - val_loss: 2.1296 - learning_rate: 1.0000e-04\n",
      "Epoch 3/30\n",
      "\u001b[1m69/69\u001b[0m \u001b[32m━━━━━━━━━━━━━━━━━━━━\u001b[0m\u001b[37m\u001b[0m \u001b[1m22s\u001b[0m 319ms/step - accuracy: 0.7348 - loss: 1.3709 - val_accuracy: 0.5220 - val_loss: 2.0581 - learning_rate: 1.0000e-04\n",
      "Epoch 4/30\n",
      "\u001b[1m69/69\u001b[0m \u001b[32m━━━━━━━━━━━━━━━━━━━━\u001b[0m\u001b[37m\u001b[0m \u001b[1m22s\u001b[0m 313ms/step - accuracy: 0.7984 - loss: 1.2230 - val_accuracy: 0.5195 - val_loss: 2.0694 - learning_rate: 1.0000e-04\n",
      "Epoch 5/30\n",
      "\u001b[1m69/69\u001b[0m \u001b[32m━━━━━━━━━━━━━━━━━━━━\u001b[0m\u001b[37m\u001b[0m \u001b[1m22s\u001b[0m 317ms/step - accuracy: 0.8379 - loss: 1.1070 - val_accuracy: 0.5171 - val_loss: 2.0251 - learning_rate: 1.0000e-04\n",
      "Epoch 6/30\n",
      "\u001b[1m69/69\u001b[0m \u001b[32m━━━━━━━━━━━━━━━━━━━━\u001b[0m\u001b[37m\u001b[0m \u001b[1m22s\u001b[0m 321ms/step - accuracy: 0.8771 - loss: 1.0015 - val_accuracy: 0.5659 - val_loss: 2.0592 - learning_rate: 1.0000e-04\n",
      "Epoch 7/30\n",
      "\u001b[1m69/69\u001b[0m \u001b[32m━━━━━━━━━━━━━━━━━━━━\u001b[0m\u001b[37m\u001b[0m \u001b[1m22s\u001b[0m 317ms/step - accuracy: 0.8819 - loss: 0.9555 - val_accuracy: 0.5220 - val_loss: 2.1180 - learning_rate: 1.0000e-04\n",
      "Epoch 8/30\n",
      "\u001b[1m69/69\u001b[0m \u001b[32m━━━━━━━━━━━━━━━━━━━━\u001b[0m\u001b[37m\u001b[0m \u001b[1m22s\u001b[0m 317ms/step - accuracy: 0.9291 - loss: 0.8702 - val_accuracy: 0.5732 - val_loss: 1.9369 - learning_rate: 1.0000e-04\n",
      "Epoch 9/30\n",
      "\u001b[1m69/69\u001b[0m \u001b[32m━━━━━━━━━━━━━━━━━━━━\u001b[0m\u001b[37m\u001b[0m \u001b[1m22s\u001b[0m 318ms/step - accuracy: 0.9254 - loss: 0.8159 - val_accuracy: 0.5854 - val_loss: 1.8977 - learning_rate: 1.0000e-04\n",
      "Epoch 10/30\n",
      "\u001b[1m69/69\u001b[0m \u001b[32m━━━━━━━━━━━━━━━━━━━━\u001b[0m\u001b[37m\u001b[0m \u001b[1m22s\u001b[0m 319ms/step - accuracy: 0.9592 - loss: 0.7374 - val_accuracy: 0.5439 - val_loss: 2.0577 - learning_rate: 1.0000e-04\n",
      "Epoch 11/30\n",
      "\u001b[1m69/69\u001b[0m \u001b[32m━━━━━━━━━━━━━━━━━━━━\u001b[0m\u001b[37m\u001b[0m \u001b[1m22s\u001b[0m 318ms/step - accuracy: 0.9649 - loss: 0.7117 - val_accuracy: 0.5537 - val_loss: 1.9576 - learning_rate: 1.0000e-04\n",
      "Epoch 12/30\n",
      "\u001b[1m69/69\u001b[0m \u001b[32m━━━━━━━━━━━━━━━━━━━━\u001b[0m\u001b[37m\u001b[0m \u001b[1m22s\u001b[0m 317ms/step - accuracy: 0.9652 - loss: 0.6624 - val_accuracy: 0.5463 - val_loss: 2.0028 - learning_rate: 1.0000e-04\n",
      "Epoch 13/30\n",
      "\u001b[1m69/69\u001b[0m \u001b[32m━━━━━━━━━━━━━━━━━━━━\u001b[0m\u001b[37m\u001b[0m \u001b[1m22s\u001b[0m 320ms/step - accuracy: 0.9687 - loss: 0.6520 - val_accuracy: 0.5707 - val_loss: 1.8848 - learning_rate: 5.0000e-05\n",
      "Epoch 14/30\n",
      "\u001b[1m69/69\u001b[0m \u001b[32m━━━━━━━━━━━━━━━━━━━━\u001b[0m\u001b[37m\u001b[0m \u001b[1m22s\u001b[0m 318ms/step - accuracy: 0.9859 - loss: 0.5990 - val_accuracy: 0.5707 - val_loss: 1.8773 - learning_rate: 5.0000e-05\n",
      "Epoch 15/30\n",
      "\u001b[1m69/69\u001b[0m \u001b[32m━━━━━━━━━━━━━━━━━━━━\u001b[0m\u001b[37m\u001b[0m \u001b[1m22s\u001b[0m 319ms/step - accuracy: 0.9874 - loss: 0.5794 - val_accuracy: 0.5683 - val_loss: 1.8754 - learning_rate: 5.0000e-05\n",
      "Epoch 16/30\n",
      "\u001b[1m69/69\u001b[0m \u001b[32m━━━━━━━━━━━━━━━━━━━━\u001b[0m\u001b[37m\u001b[0m \u001b[1m22s\u001b[0m 317ms/step - accuracy: 0.9931 - loss: 0.5637 - val_accuracy: 0.5805 - val_loss: 1.8883 - learning_rate: 5.0000e-05\n",
      "Epoch 17/30\n",
      "\u001b[1m69/69\u001b[0m \u001b[32m━━━━━━━━━━━━━━━━━━━━\u001b[0m\u001b[37m\u001b[0m \u001b[1m22s\u001b[0m 318ms/step - accuracy: 0.9952 - loss: 0.5507 - val_accuracy: 0.5683 - val_loss: 1.8521 - learning_rate: 5.0000e-05\n",
      "Epoch 18/30\n",
      "\u001b[1m69/69\u001b[0m \u001b[32m━━━━━━━━━━━━━━━━━━━━\u001b[0m\u001b[37m\u001b[0m \u001b[1m22s\u001b[0m 317ms/step - accuracy: 0.9971 - loss: 0.5387 - val_accuracy: 0.5854 - val_loss: 1.8369 - learning_rate: 5.0000e-05\n",
      "Epoch 19/30\n",
      "\u001b[1m69/69\u001b[0m \u001b[32m━━━━━━━━━━━━━━━━━━━━\u001b[0m\u001b[37m\u001b[0m \u001b[1m22s\u001b[0m 316ms/step - accuracy: 0.9943 - loss: 0.5239 - val_accuracy: 0.5732 - val_loss: 1.8604 - learning_rate: 5.0000e-05\n",
      "Epoch 20/30\n",
      "\u001b[1m69/69\u001b[0m \u001b[32m━━━━━━━━━━━━━━━━━━━━\u001b[0m\u001b[37m\u001b[0m \u001b[1m22s\u001b[0m 318ms/step - accuracy: 0.9949 - loss: 0.5106 - val_accuracy: 0.5780 - val_loss: 1.8882 - learning_rate: 5.0000e-05\n",
      "Epoch 21/30\n",
      "\u001b[1m69/69\u001b[0m \u001b[32m━━━━━━━━━━━━━━━━━━━━\u001b[0m\u001b[37m\u001b[0m \u001b[1m22s\u001b[0m 317ms/step - accuracy: 0.9957 - loss: 0.5015 - val_accuracy: 0.5878 - val_loss: 1.8438 - learning_rate: 5.0000e-05\n",
      "Epoch 22/30\n",
      "\u001b[1m69/69\u001b[0m \u001b[32m━━━━━━━━━━━━━━━━━━━━\u001b[0m\u001b[37m\u001b[0m \u001b[1m22s\u001b[0m 319ms/step - accuracy: 0.9950 - loss: 0.4892 - val_accuracy: 0.5854 - val_loss: 1.8363 - learning_rate: 2.5000e-05\n",
      "Epoch 23/30\n",
      "\u001b[1m69/69\u001b[0m \u001b[32m━━━━━━━━━━━━━━━━━━━━\u001b[0m\u001b[37m\u001b[0m \u001b[1m22s\u001b[0m 319ms/step - accuracy: 0.9986 - loss: 0.4784 - val_accuracy: 0.5805 - val_loss: 1.8122 - learning_rate: 2.5000e-05\n",
      "Epoch 24/30\n",
      "\u001b[1m69/69\u001b[0m \u001b[32m━━━━━━━━━━━━━━━━━━━━\u001b[0m\u001b[37m\u001b[0m \u001b[1m22s\u001b[0m 317ms/step - accuracy: 0.9971 - loss: 0.4750 - val_accuracy: 0.5829 - val_loss: 1.8376 - learning_rate: 2.5000e-05\n",
      "Epoch 25/30\n",
      "\u001b[1m69/69\u001b[0m \u001b[32m━━━━━━━━━━━━━━━━━━━━\u001b[0m\u001b[37m\u001b[0m \u001b[1m22s\u001b[0m 317ms/step - accuracy: 0.9956 - loss: 0.4680 - val_accuracy: 0.5854 - val_loss: 1.8148 - learning_rate: 2.5000e-05\n",
      "Epoch 26/30\n",
      "\u001b[1m69/69\u001b[0m \u001b[32m━━━━━━━━━━━━━━━━━━━━\u001b[0m\u001b[37m\u001b[0m \u001b[1m22s\u001b[0m 318ms/step - accuracy: 0.9980 - loss: 0.4660 - val_accuracy: 0.5756 - val_loss: 1.8339 - learning_rate: 2.5000e-05\n",
      "Epoch 27/30\n",
      "\u001b[1m69/69\u001b[0m \u001b[32m━━━━━━━━━━━━━━━━━━━━\u001b[0m\u001b[37m\u001b[0m \u001b[1m22s\u001b[0m 316ms/step - accuracy: 0.9985 - loss: 0.4604 - val_accuracy: 0.5854 - val_loss: 1.8161 - learning_rate: 1.2500e-05\n",
      "Epoch 28/30\n",
      "\u001b[1m69/69\u001b[0m \u001b[32m━━━━━━━━━━━━━━━━━━━━\u001b[0m\u001b[37m\u001b[0m \u001b[1m22s\u001b[0m 315ms/step - accuracy: 0.9951 - loss: 0.4589 - val_accuracy: 0.5756 - val_loss: 1.8306 - learning_rate: 1.2500e-05\n",
      "Epoch 29/30\n",
      "\u001b[1m69/69\u001b[0m \u001b[32m━━━━━━━━━━━━━━━━━━━━\u001b[0m\u001b[37m\u001b[0m \u001b[1m22s\u001b[0m 316ms/step - accuracy: 0.9986 - loss: 0.4566 - val_accuracy: 0.5829 - val_loss: 1.8252 - learning_rate: 1.2500e-05\n",
      "Epoch 30/30\n",
      "\u001b[1m69/69\u001b[0m \u001b[32m━━━━━━━━━━━━━━━━━━━━\u001b[0m\u001b[37m\u001b[0m \u001b[1m22s\u001b[0m 318ms/step - accuracy: 0.9970 - loss: 0.4472 - val_accuracy: 0.5732 - val_loss: 1.8055 - learning_rate: 6.2500e-06\n",
      "test_gen batch videos shape: (24, 5, 128, 128, 3)\n",
      "test_gen batch labels shape: (24, 16)\n",
      "\u001b[1m22/22\u001b[0m \u001b[32m━━━━━━━━━━━━━━━━━━━━\u001b[0m\u001b[37m\u001b[0m \u001b[1m5s\u001b[0m 221ms/step - accuracy: 0.6642 - loss: 1.5640\n",
      "VGG19+LSTM Test Loss: 1.6559\n",
      "VGG19+LSTM Test Accuracy: 64.26%\n"
     ]
    }
   ],
   "source": [
    "# Clear memory before creating the new model\n",
    "gc.collect()\n",
    "tf.keras.backend.clear_session()\n",
    "print(\"Memory cleared before creating VGG19+LSTM model\")\n",
    "\n",
    "# Print TensorFlow version\n",
    "print(f\"TensorFlow version: {tf.__version__}\")\n",
    "\n",
    "\n",
    "# Pre-load VGG19 weights\n",
    "print(\"Pre-loading VGG19 weights...\")\n",
    "try:\n",
    "    base_model = Xception(weights='imagenet', include_top=False, input_shape=(IMAGE_HEIGHT, IMAGE_WIDTH, 3))\n",
    "    print(\"VGG19 weights loaded successfully!\")\n",
    "except Exception as e:\n",
    "    print(f\"Failed to load VGG19 weights: {str(e)}\")\n",
    "\n",
    "\n",
    "# Define function to create VGG19+LSTM model\n",
    "def create_model(sequence_length, image_height, image_width, classes_list=None, dropout_rate=0.5, base_model=None):\n",
    "   \n",
    "    \n",
    "    print(\"Creating VGG19+LSTM model with parameters:\")\n",
    "    print(f\"sequence_length: {sequence_length}, image_height: {image_height}, image_width: {image_width}, classes_list length: {len(classes_list) if classes_list is not None else None}, dropout_rate: {dropout_rate}\")\n",
    "    \n",
    "    if classes_list is None:\n",
    "        raise ValueError(\"classes_list must be provided to define the output layer size\")\n",
    "    if base_model is None:\n",
    "        raise ValueError(\"base_model must be provided to avoid re-downloading weights\")\n",
    "\n",
    "    try:\n",
    "        # Use the pre-loaded base model\n",
    "        # Freeze the base model for initial training\n",
    "        base_model.trainable = False\n",
    "\n",
    "        # Define the Sequential model\n",
    "        model = Sequential([\n",
    "            # TimeDistributed VGG19 model\n",
    "            TimeDistributed(\n",
    "                base_model,\n",
    "                input_shape=(sequence_length, image_height, image_width, 3),\n",
    "                name=\"time_distributed_vgg19\"\n",
    "            ),\n",
    "            # TimeDistributed GlobalAveragePooling2D\n",
    "            TimeDistributed(GlobalAveragePooling2D(), name=\"time_distributed_pooling\"),\n",
    "            # LSTM layer with 512 units\n",
    "            GRU(256, activation=\"tanh\", return_sequences=False, kernel_regularizer=l2(0.01), name=\"lstm_vgg19\"),\n",
    "            BatchNormalization(name=\"batch_normalization_vgg19\"),\n",
    "            # Dropout after LSTM\n",
    "            Dropout(dropout_rate, name=\"dropout_lstm_vgg19\"),\n",
    "            # Dense layer with 512 units\n",
    "            Dense(512, activation=\"relu\", kernel_regularizer=l2(0.01), name=\"dense_vgg19_1\"),\n",
    "            # Dropout after first Dense\n",
    "            Dropout(dropout_rate, name=\"dropout_dense_vgg19_1\"),\n",
    "            # Dense layer with 128 units\n",
    "            Dense(128, activation=\"relu\", kernel_regularizer=l2(0.01), name=\"dense_vgg19_2\"),\n",
    "            # Dropout after second Dense\n",
    "            Dropout(dropout_rate, name=\"dropout_dense_vgg19_2\"),\n",
    "            # Output Dense layer with softmax activation\n",
    "            Dense(len(classes_list), activation=\"softmax\", name=\"output_vgg19\")\n",
    "        ])\n",
    "\n",
    "        # Print model summary\n",
    "        print(\"VGG19+LSTM model architecture created successfully!\")\n",
    "        model.summary()\n",
    "\n",
    "        return model\n",
    "\n",
    "    except Exception as e:\n",
    "        print(f\"Error creating VGG19+LSTM model: {str(e)}\")\n",
    "        import traceback\n",
    "        traceback.print_exc()\n",
    "        return None\n",
    "\n",
    "\n",
    "# Create the VGG19+LSTM model using the pre-loaded base model\n",
    "xception_gru_model = create_model(\n",
    "    sequence_length=SEQUENCE_LENGTH,\n",
    "    image_height=IMAGE_HEIGHT,\n",
    "    image_width=IMAGE_WIDTH,\n",
    "    classes_list=CLASSES_LIST,\n",
    "    dropout_rate=DROPOUT_RATE,\n",
    "    base_model=base_model\n",
    ")\n",
    "\n",
    "# Check if xception_gru_model was created successfully\n",
    "if xception_gru_model is None:\n",
    "    raise ValueError(\"Failed to create VGG19+LSTM model. Check error messages above.\")\n",
    "else:\n",
    "    print(\"VGG19+LSTM Model Created Successfully!\")\n",
    "\n",
    "# Ensure labels_test is one-hot encoded\n",
    "if len(labels_test.shape) == 1:\n",
    "    print(\"Converting labels_test to one-hot encoded format...\")\n",
    "    labels_test = to_categorical(labels_test, num_classes=NO_OF_CLASSES)\n",
    "    print(f\"New labels_test shape: {labels_test.shape}\")\n",
    "\n",
    "# Compile the model for initial training\n",
    "early_stopping_callback = EarlyStopping(monitor='val_loss', patience=7, mode='min', restore_best_weights=True)\n",
    "lr_scheduler = ReduceLROnPlateau(monitor='val_loss', factor=0.5, patience=3, min_lr=1e-6)\n",
    "\n",
    "xception_gru_model.compile(\n",
    "    loss='categorical_crossentropy',\n",
    "    optimizer=tf.keras.optimizers.Adam(learning_rate=0.001),  # Higher learning rate for initial training\n",
    "    metrics=['accuracy']\n",
    ")\n",
    "\n",
    "# Initial training with frozen base model\n",
    "print(f\"Initial training started for VGG19+LSTM model with {len(train_gen.videos)} videos of {NO_OF_CLASSES} classes with {len(val_gen.videos)} videos for validation...\")\n",
    "try:\n",
    "    initial_xception_gru_model_history = xception_gru_model.fit(\n",
    "        train_gen.as_dataset(),\n",
    "        validation_data=val_gen.as_dataset(),\n",
    "        epochs=EPOCHS,\n",
    "        class_weight=class_weights,\n",
    "        callbacks=[early_stopping_callback, lr_scheduler]\n",
    "    )\n",
    "except Exception as e:\n",
    "    print(f\"Error during initial model training: {str(e)}\")\n",
    "    import traceback\n",
    "    traceback.print_exc()\n",
    "\n",
    "# Unfreeze some layers for fine-tuning\n",
    "base_model.trainable = True\n",
    "# Freeze all layers except the last 8 layers (consistent with previous VGG19 code)\n",
    "for layer in base_model.layers[:-8]:\n",
    "    layer.trainable = False\n",
    "\n",
    "# Recompile the model with a lower learning rate for fine-tuning\n",
    "xception_gru_model.compile(\n",
    "    loss='categorical_crossentropy',\n",
    "    optimizer=tf.keras.optimizers.Adam(learning_rate=0.0001),  # Lower learning rate for fine-tuning\n",
    "    metrics=['accuracy']\n",
    ")\n",
    "\n",
    "# Fine-tune the model\n",
    "print(f\"\\nFine-tuning started for VGG19+LSTM model with {len(train_gen.videos)} videos of {NO_OF_CLASSES} classes with {len(val_gen.videos)} videos for validation...\")\n",
    "try:\n",
    "    fine_tune_xception_gru_model_history = xception_gru_model.fit(\n",
    "        train_gen.as_dataset(),\n",
    "        validation_data=val_gen.as_dataset(),\n",
    "        epochs=EPOCHS,\n",
    "        class_weight=class_weights,\n",
    "        callbacks=[early_stopping_callback, lr_scheduler]\n",
    "    )\n",
    "except Exception as e:\n",
    "    print(f\"Error during fine-tuning: {str(e)}\")\n",
    "    import traceback\n",
    "    traceback.print_exc()\n",
    "\n",
    "\n",
    "\n",
    "videos, labels = test_gen[0]\n",
    "print(f\"test_gen batch videos shape: {videos.shape}\")\n",
    "print(f\"test_gen batch labels shape: {labels.shape}\")\n",
    "loss, accuracy = xception_gru_model.evaluate(test_gen.as_dataset())\n",
    "print(f'VGG19+LSTM Test Loss: {loss:.4f}')\n",
    "print(f'VGG19+LSTM Test Accuracy: {accuracy * 100:.2f}%')"
   ]
  },
  {
   "cell_type": "markdown",
   "id": "da1124e7",
   "metadata": {
    "papermill": {
     "duration": 0.605778,
     "end_time": "2025-07-14T06:19:29.617402",
     "exception": false,
     "start_time": "2025-07-14T06:19:29.011624",
     "status": "completed"
    },
    "tags": []
   },
   "source": [
    "## ResNet50 + GRU"
   ]
  },
  {
   "cell_type": "code",
   "execution_count": 46,
   "id": "3be9ea93",
   "metadata": {
    "execution": {
     "iopub.execute_input": "2025-07-14T06:19:30.808673Z",
     "iopub.status.busy": "2025-07-14T06:19:30.808426Z",
     "iopub.status.idle": "2025-07-14T06:33:58.485268Z",
     "shell.execute_reply": "2025-07-14T06:33:58.484549Z"
    },
    "papermill": {
     "duration": 868.241208,
     "end_time": "2025-07-14T06:33:58.486470",
     "exception": false,
     "start_time": "2025-07-14T06:19:30.245262",
     "status": "completed"
    },
    "tags": []
   },
   "outputs": [
    {
     "name": "stdout",
     "output_type": "stream",
     "text": [
      "Memory cleared before creating VGG19+LSTM model\n",
      "TensorFlow version: 2.18.0\n",
      "Pre-loading VGG19 weights...\n",
      "Downloading data from https://storage.googleapis.com/tensorflow/keras-applications/resnet/resnet50_weights_tf_dim_ordering_tf_kernels_notop.h5\n",
      "\u001b[1m94765736/94765736\u001b[0m \u001b[32m━━━━━━━━━━━━━━━━━━━━\u001b[0m\u001b[37m\u001b[0m \u001b[1m0s\u001b[0m 0us/step\n",
      "VGG19 weights loaded successfully!\n",
      "Creating VGG19+LSTM model with parameters:\n",
      "sequence_length: 5, image_height: 128, image_width: 128, classes_list length: 16, dropout_rate: 0.5\n",
      "VGG19+LSTM model architecture created successfully!\n"
     ]
    },
    {
     "data": {
      "text/html": [
       "<pre style=\"white-space:pre;overflow-x:auto;line-height:normal;font-family:Menlo,'DejaVu Sans Mono',consolas,'Courier New',monospace\"><span style=\"font-weight: bold\">Model: \"sequential\"</span>\n",
       "</pre>\n"
      ],
      "text/plain": [
       "\u001b[1mModel: \"sequential\"\u001b[0m\n"
      ]
     },
     "metadata": {},
     "output_type": "display_data"
    },
    {
     "data": {
      "text/html": [
       "<pre style=\"white-space:pre;overflow-x:auto;line-height:normal;font-family:Menlo,'DejaVu Sans Mono',consolas,'Courier New',monospace\">┏━━━━━━━━━━━━━━━━━━━━━━━━━━━━━━━━━┳━━━━━━━━━━━━━━━━━━━━━━━━┳━━━━━━━━━━━━━━━┓\n",
       "┃<span style=\"font-weight: bold\"> Layer (type)                    </span>┃<span style=\"font-weight: bold\"> Output Shape           </span>┃<span style=\"font-weight: bold\">       Param # </span>┃\n",
       "┡━━━━━━━━━━━━━━━━━━━━━━━━━━━━━━━━━╇━━━━━━━━━━━━━━━━━━━━━━━━╇━━━━━━━━━━━━━━━┩\n",
       "│ time_distributed_vgg19          │ (<span style=\"color: #00d7ff; text-decoration-color: #00d7ff\">None</span>, <span style=\"color: #00af00; text-decoration-color: #00af00\">5</span>, <span style=\"color: #00af00; text-decoration-color: #00af00\">4</span>, <span style=\"color: #00af00; text-decoration-color: #00af00\">4</span>, <span style=\"color: #00af00; text-decoration-color: #00af00\">2048</span>)  │    <span style=\"color: #00af00; text-decoration-color: #00af00\">23,587,712</span> │\n",
       "│ (<span style=\"color: #0087ff; text-decoration-color: #0087ff\">TimeDistributed</span>)               │                        │               │\n",
       "├─────────────────────────────────┼────────────────────────┼───────────────┤\n",
       "│ time_distributed_pooling        │ (<span style=\"color: #00d7ff; text-decoration-color: #00d7ff\">None</span>, <span style=\"color: #00af00; text-decoration-color: #00af00\">5</span>, <span style=\"color: #00af00; text-decoration-color: #00af00\">2048</span>)        │             <span style=\"color: #00af00; text-decoration-color: #00af00\">0</span> │\n",
       "│ (<span style=\"color: #0087ff; text-decoration-color: #0087ff\">TimeDistributed</span>)               │                        │               │\n",
       "├─────────────────────────────────┼────────────────────────┼───────────────┤\n",
       "│ lstm_vgg19 (<span style=\"color: #0087ff; text-decoration-color: #0087ff\">GRU</span>)                │ (<span style=\"color: #00d7ff; text-decoration-color: #00d7ff\">None</span>, <span style=\"color: #00af00; text-decoration-color: #00af00\">256</span>)            │     <span style=\"color: #00af00; text-decoration-color: #00af00\">1,771,008</span> │\n",
       "├─────────────────────────────────┼────────────────────────┼───────────────┤\n",
       "│ batch_normalization_vgg19       │ (<span style=\"color: #00d7ff; text-decoration-color: #00d7ff\">None</span>, <span style=\"color: #00af00; text-decoration-color: #00af00\">256</span>)            │         <span style=\"color: #00af00; text-decoration-color: #00af00\">1,024</span> │\n",
       "│ (<span style=\"color: #0087ff; text-decoration-color: #0087ff\">BatchNormalization</span>)            │                        │               │\n",
       "├─────────────────────────────────┼────────────────────────┼───────────────┤\n",
       "│ dropout_lstm_vgg19 (<span style=\"color: #0087ff; text-decoration-color: #0087ff\">Dropout</span>)    │ (<span style=\"color: #00d7ff; text-decoration-color: #00d7ff\">None</span>, <span style=\"color: #00af00; text-decoration-color: #00af00\">256</span>)            │             <span style=\"color: #00af00; text-decoration-color: #00af00\">0</span> │\n",
       "├─────────────────────────────────┼────────────────────────┼───────────────┤\n",
       "│ dense_vgg19_1 (<span style=\"color: #0087ff; text-decoration-color: #0087ff\">Dense</span>)           │ (<span style=\"color: #00d7ff; text-decoration-color: #00d7ff\">None</span>, <span style=\"color: #00af00; text-decoration-color: #00af00\">512</span>)            │       <span style=\"color: #00af00; text-decoration-color: #00af00\">131,584</span> │\n",
       "├─────────────────────────────────┼────────────────────────┼───────────────┤\n",
       "│ dropout_dense_vgg19_1 (<span style=\"color: #0087ff; text-decoration-color: #0087ff\">Dropout</span>) │ (<span style=\"color: #00d7ff; text-decoration-color: #00d7ff\">None</span>, <span style=\"color: #00af00; text-decoration-color: #00af00\">512</span>)            │             <span style=\"color: #00af00; text-decoration-color: #00af00\">0</span> │\n",
       "├─────────────────────────────────┼────────────────────────┼───────────────┤\n",
       "│ dense_vgg19_2 (<span style=\"color: #0087ff; text-decoration-color: #0087ff\">Dense</span>)           │ (<span style=\"color: #00d7ff; text-decoration-color: #00d7ff\">None</span>, <span style=\"color: #00af00; text-decoration-color: #00af00\">128</span>)            │        <span style=\"color: #00af00; text-decoration-color: #00af00\">65,664</span> │\n",
       "├─────────────────────────────────┼────────────────────────┼───────────────┤\n",
       "│ dropout_dense_vgg19_2 (<span style=\"color: #0087ff; text-decoration-color: #0087ff\">Dropout</span>) │ (<span style=\"color: #00d7ff; text-decoration-color: #00d7ff\">None</span>, <span style=\"color: #00af00; text-decoration-color: #00af00\">128</span>)            │             <span style=\"color: #00af00; text-decoration-color: #00af00\">0</span> │\n",
       "├─────────────────────────────────┼────────────────────────┼───────────────┤\n",
       "│ output_vgg19 (<span style=\"color: #0087ff; text-decoration-color: #0087ff\">Dense</span>)            │ (<span style=\"color: #00d7ff; text-decoration-color: #00d7ff\">None</span>, <span style=\"color: #00af00; text-decoration-color: #00af00\">16</span>)             │         <span style=\"color: #00af00; text-decoration-color: #00af00\">2,064</span> │\n",
       "└─────────────────────────────────┴────────────────────────┴───────────────┘\n",
       "</pre>\n"
      ],
      "text/plain": [
       "┏━━━━━━━━━━━━━━━━━━━━━━━━━━━━━━━━━┳━━━━━━━━━━━━━━━━━━━━━━━━┳━━━━━━━━━━━━━━━┓\n",
       "┃\u001b[1m \u001b[0m\u001b[1mLayer (type)                   \u001b[0m\u001b[1m \u001b[0m┃\u001b[1m \u001b[0m\u001b[1mOutput Shape          \u001b[0m\u001b[1m \u001b[0m┃\u001b[1m \u001b[0m\u001b[1m      Param #\u001b[0m\u001b[1m \u001b[0m┃\n",
       "┡━━━━━━━━━━━━━━━━━━━━━━━━━━━━━━━━━╇━━━━━━━━━━━━━━━━━━━━━━━━╇━━━━━━━━━━━━━━━┩\n",
       "│ time_distributed_vgg19          │ (\u001b[38;5;45mNone\u001b[0m, \u001b[38;5;34m5\u001b[0m, \u001b[38;5;34m4\u001b[0m, \u001b[38;5;34m4\u001b[0m, \u001b[38;5;34m2048\u001b[0m)  │    \u001b[38;5;34m23,587,712\u001b[0m │\n",
       "│ (\u001b[38;5;33mTimeDistributed\u001b[0m)               │                        │               │\n",
       "├─────────────────────────────────┼────────────────────────┼───────────────┤\n",
       "│ time_distributed_pooling        │ (\u001b[38;5;45mNone\u001b[0m, \u001b[38;5;34m5\u001b[0m, \u001b[38;5;34m2048\u001b[0m)        │             \u001b[38;5;34m0\u001b[0m │\n",
       "│ (\u001b[38;5;33mTimeDistributed\u001b[0m)               │                        │               │\n",
       "├─────────────────────────────────┼────────────────────────┼───────────────┤\n",
       "│ lstm_vgg19 (\u001b[38;5;33mGRU\u001b[0m)                │ (\u001b[38;5;45mNone\u001b[0m, \u001b[38;5;34m256\u001b[0m)            │     \u001b[38;5;34m1,771,008\u001b[0m │\n",
       "├─────────────────────────────────┼────────────────────────┼───────────────┤\n",
       "│ batch_normalization_vgg19       │ (\u001b[38;5;45mNone\u001b[0m, \u001b[38;5;34m256\u001b[0m)            │         \u001b[38;5;34m1,024\u001b[0m │\n",
       "│ (\u001b[38;5;33mBatchNormalization\u001b[0m)            │                        │               │\n",
       "├─────────────────────────────────┼────────────────────────┼───────────────┤\n",
       "│ dropout_lstm_vgg19 (\u001b[38;5;33mDropout\u001b[0m)    │ (\u001b[38;5;45mNone\u001b[0m, \u001b[38;5;34m256\u001b[0m)            │             \u001b[38;5;34m0\u001b[0m │\n",
       "├─────────────────────────────────┼────────────────────────┼───────────────┤\n",
       "│ dense_vgg19_1 (\u001b[38;5;33mDense\u001b[0m)           │ (\u001b[38;5;45mNone\u001b[0m, \u001b[38;5;34m512\u001b[0m)            │       \u001b[38;5;34m131,584\u001b[0m │\n",
       "├─────────────────────────────────┼────────────────────────┼───────────────┤\n",
       "│ dropout_dense_vgg19_1 (\u001b[38;5;33mDropout\u001b[0m) │ (\u001b[38;5;45mNone\u001b[0m, \u001b[38;5;34m512\u001b[0m)            │             \u001b[38;5;34m0\u001b[0m │\n",
       "├─────────────────────────────────┼────────────────────────┼───────────────┤\n",
       "│ dense_vgg19_2 (\u001b[38;5;33mDense\u001b[0m)           │ (\u001b[38;5;45mNone\u001b[0m, \u001b[38;5;34m128\u001b[0m)            │        \u001b[38;5;34m65,664\u001b[0m │\n",
       "├─────────────────────────────────┼────────────────────────┼───────────────┤\n",
       "│ dropout_dense_vgg19_2 (\u001b[38;5;33mDropout\u001b[0m) │ (\u001b[38;5;45mNone\u001b[0m, \u001b[38;5;34m128\u001b[0m)            │             \u001b[38;5;34m0\u001b[0m │\n",
       "├─────────────────────────────────┼────────────────────────┼───────────────┤\n",
       "│ output_vgg19 (\u001b[38;5;33mDense\u001b[0m)            │ (\u001b[38;5;45mNone\u001b[0m, \u001b[38;5;34m16\u001b[0m)             │         \u001b[38;5;34m2,064\u001b[0m │\n",
       "└─────────────────────────────────┴────────────────────────┴───────────────┘\n"
      ]
     },
     "metadata": {},
     "output_type": "display_data"
    },
    {
     "data": {
      "text/html": [
       "<pre style=\"white-space:pre;overflow-x:auto;line-height:normal;font-family:Menlo,'DejaVu Sans Mono',consolas,'Courier New',monospace\"><span style=\"font-weight: bold\"> Total params: </span><span style=\"color: #00af00; text-decoration-color: #00af00\">25,559,056</span> (97.50 MB)\n",
       "</pre>\n"
      ],
      "text/plain": [
       "\u001b[1m Total params: \u001b[0m\u001b[38;5;34m25,559,056\u001b[0m (97.50 MB)\n"
      ]
     },
     "metadata": {},
     "output_type": "display_data"
    },
    {
     "data": {
      "text/html": [
       "<pre style=\"white-space:pre;overflow-x:auto;line-height:normal;font-family:Menlo,'DejaVu Sans Mono',consolas,'Courier New',monospace\"><span style=\"font-weight: bold\"> Trainable params: </span><span style=\"color: #00af00; text-decoration-color: #00af00\">1,970,832</span> (7.52 MB)\n",
       "</pre>\n"
      ],
      "text/plain": [
       "\u001b[1m Trainable params: \u001b[0m\u001b[38;5;34m1,970,832\u001b[0m (7.52 MB)\n"
      ]
     },
     "metadata": {},
     "output_type": "display_data"
    },
    {
     "data": {
      "text/html": [
       "<pre style=\"white-space:pre;overflow-x:auto;line-height:normal;font-family:Menlo,'DejaVu Sans Mono',consolas,'Courier New',monospace\"><span style=\"font-weight: bold\"> Non-trainable params: </span><span style=\"color: #00af00; text-decoration-color: #00af00\">23,588,224</span> (89.98 MB)\n",
       "</pre>\n"
      ],
      "text/plain": [
       "\u001b[1m Non-trainable params: \u001b[0m\u001b[38;5;34m23,588,224\u001b[0m (89.98 MB)\n"
      ]
     },
     "metadata": {},
     "output_type": "display_data"
    },
    {
     "name": "stdout",
     "output_type": "stream",
     "text": [
      "VGG19+LSTM Model Created Successfully!\n",
      "Initial training started for VGG19+LSTM model with 1638 videos of 16 classes with 410 videos for validation...\n",
      "Epoch 1/30\n",
      "\u001b[1m69/69\u001b[0m \u001b[32m━━━━━━━━━━━━━━━━━━━━\u001b[0m\u001b[37m\u001b[0m \u001b[1m72s\u001b[0m 429ms/step - accuracy: 0.0604 - loss: 13.3153 - val_accuracy: 0.0488 - val_loss: 7.2546 - learning_rate: 0.0010\n",
      "Epoch 2/30\n",
      "\u001b[1m69/69\u001b[0m \u001b[32m━━━━━━━━━━━━━━━━━━━━\u001b[0m\u001b[37m\u001b[0m \u001b[1m17s\u001b[0m 242ms/step - accuracy: 0.1243 - loss: 6.8382 - val_accuracy: 0.0780 - val_loss: 5.8675 - learning_rate: 0.0010\n",
      "Epoch 3/30\n",
      "\u001b[1m69/69\u001b[0m \u001b[32m━━━━━━━━━━━━━━━━━━━━\u001b[0m\u001b[37m\u001b[0m \u001b[1m17s\u001b[0m 242ms/step - accuracy: 0.1399 - loss: 5.5061 - val_accuracy: 0.0780 - val_loss: 4.8917 - learning_rate: 0.0010\n",
      "Epoch 4/30\n",
      "\u001b[1m69/69\u001b[0m \u001b[32m━━━━━━━━━━━━━━━━━━━━\u001b[0m\u001b[37m\u001b[0m \u001b[1m16s\u001b[0m 237ms/step - accuracy: 0.1677 - loss: 4.5089 - val_accuracy: 0.0878 - val_loss: 4.2178 - learning_rate: 0.0010\n",
      "Epoch 5/30\n",
      "\u001b[1m69/69\u001b[0m \u001b[32m━━━━━━━━━━━━━━━━━━━━\u001b[0m\u001b[37m\u001b[0m \u001b[1m16s\u001b[0m 232ms/step - accuracy: 0.2183 - loss: 3.7998 - val_accuracy: 0.0659 - val_loss: 4.6933 - learning_rate: 0.0010\n",
      "Epoch 6/30\n",
      "\u001b[1m69/69\u001b[0m \u001b[32m━━━━━━━━━━━━━━━━━━━━\u001b[0m\u001b[37m\u001b[0m \u001b[1m16s\u001b[0m 236ms/step - accuracy: 0.2500 - loss: 3.3006 - val_accuracy: 0.0878 - val_loss: 3.6629 - learning_rate: 0.0010\n",
      "Epoch 7/30\n",
      "\u001b[1m69/69\u001b[0m \u001b[32m━━━━━━━━━━━━━━━━━━━━\u001b[0m\u001b[37m\u001b[0m \u001b[1m16s\u001b[0m 235ms/step - accuracy: 0.2744 - loss: 2.9799 - val_accuracy: 0.0951 - val_loss: 3.9780 - learning_rate: 0.0010\n",
      "Epoch 8/30\n",
      "\u001b[1m69/69\u001b[0m \u001b[32m━━━━━━━━━━━━━━━━━━━━\u001b[0m\u001b[37m\u001b[0m \u001b[1m16s\u001b[0m 237ms/step - accuracy: 0.2964 - loss: 2.7874 - val_accuracy: 0.0732 - val_loss: 7.3417 - learning_rate: 0.0010\n",
      "Epoch 9/30\n",
      "\u001b[1m69/69\u001b[0m \u001b[32m━━━━━━━━━━━━━━━━━━━━\u001b[0m\u001b[37m\u001b[0m \u001b[1m16s\u001b[0m 235ms/step - accuracy: 0.3296 - loss: 2.6417 - val_accuracy: 0.1659 - val_loss: 4.5809 - learning_rate: 0.0010\n",
      "Epoch 10/30\n",
      "\u001b[1m69/69\u001b[0m \u001b[32m━━━━━━━━━━━━━━━━━━━━\u001b[0m\u001b[37m\u001b[0m \u001b[1m16s\u001b[0m 236ms/step - accuracy: 0.3324 - loss: 2.4779 - val_accuracy: 0.1683 - val_loss: 4.0731 - learning_rate: 5.0000e-04\n",
      "Epoch 11/30\n",
      "\u001b[1m69/69\u001b[0m \u001b[32m━━━━━━━━━━━━━━━━━━━━\u001b[0m\u001b[37m\u001b[0m \u001b[1m16s\u001b[0m 234ms/step - accuracy: 0.3720 - loss: 2.3784 - val_accuracy: 0.1268 - val_loss: 5.5184 - learning_rate: 5.0000e-04\n",
      "Epoch 12/30\n",
      "\u001b[1m69/69\u001b[0m \u001b[32m━━━━━━━━━━━━━━━━━━━━\u001b[0m\u001b[37m\u001b[0m \u001b[1m16s\u001b[0m 234ms/step - accuracy: 0.3929 - loss: 2.3064 - val_accuracy: 0.1585 - val_loss: 4.4734 - learning_rate: 5.0000e-04\n",
      "Epoch 13/30\n",
      "\u001b[1m69/69\u001b[0m \u001b[32m━━━━━━━━━━━━━━━━━━━━\u001b[0m\u001b[37m\u001b[0m \u001b[1m16s\u001b[0m 234ms/step - accuracy: 0.3970 - loss: 2.2309 - val_accuracy: 0.0951 - val_loss: 8.2736 - learning_rate: 2.5000e-04\n",
      "\n",
      "Fine-tuning started for VGG19+LSTM model with 1638 videos of 16 classes with 410 videos for validation...\n",
      "Epoch 1/30\n",
      "\u001b[1m69/69\u001b[0m \u001b[32m━━━━━━━━━━━━━━━━━━━━\u001b[0m\u001b[37m\u001b[0m \u001b[1m77s\u001b[0m 443ms/step - accuracy: 0.2604 - loss: 3.1439 - val_accuracy: 0.1268 - val_loss: 3.7047 - learning_rate: 1.0000e-04\n",
      "Epoch 2/30\n",
      "\u001b[1m69/69\u001b[0m \u001b[32m━━━━━━━━━━━━━━━━━━━━\u001b[0m\u001b[37m\u001b[0m \u001b[1m18s\u001b[0m 265ms/step - accuracy: 0.3144 - loss: 2.8673 - val_accuracy: 0.2537 - val_loss: 3.0875 - learning_rate: 1.0000e-04\n",
      "Epoch 3/30\n",
      "\u001b[1m69/69\u001b[0m \u001b[32m━━━━━━━━━━━━━━━━━━━━\u001b[0m\u001b[37m\u001b[0m \u001b[1m18s\u001b[0m 264ms/step - accuracy: 0.3560 - loss: 2.7321 - val_accuracy: 0.2098 - val_loss: 3.1974 - learning_rate: 1.0000e-04\n",
      "Epoch 4/30\n",
      "\u001b[1m69/69\u001b[0m \u001b[32m━━━━━━━━━━━━━━━━━━━━\u001b[0m\u001b[37m\u001b[0m \u001b[1m18s\u001b[0m 260ms/step - accuracy: 0.3552 - loss: 2.7186 - val_accuracy: 0.3561 - val_loss: 2.7290 - learning_rate: 1.0000e-04\n",
      "Epoch 5/30\n",
      "\u001b[1m69/69\u001b[0m \u001b[32m━━━━━━━━━━━━━━━━━━━━\u001b[0m\u001b[37m\u001b[0m \u001b[1m18s\u001b[0m 256ms/step - accuracy: 0.3604 - loss: 2.5979 - val_accuracy: 0.3537 - val_loss: 2.6573 - learning_rate: 1.0000e-04\n",
      "Epoch 6/30\n",
      "\u001b[1m69/69\u001b[0m \u001b[32m━━━━━━━━━━━━━━━━━━━━\u001b[0m\u001b[37m\u001b[0m \u001b[1m18s\u001b[0m 256ms/step - accuracy: 0.3844 - loss: 2.5622 - val_accuracy: 0.3171 - val_loss: 2.7641 - learning_rate: 1.0000e-04\n",
      "Epoch 7/30\n",
      "\u001b[1m69/69\u001b[0m \u001b[32m━━━━━━━━━━━━━━━━━━━━\u001b[0m\u001b[37m\u001b[0m \u001b[1m18s\u001b[0m 257ms/step - accuracy: 0.3827 - loss: 2.4782 - val_accuracy: 0.3488 - val_loss: 2.6764 - learning_rate: 1.0000e-04\n",
      "Epoch 8/30\n",
      "\u001b[1m69/69\u001b[0m \u001b[32m━━━━━━━━━━━━━━━━━━━━\u001b[0m\u001b[37m\u001b[0m \u001b[1m18s\u001b[0m 260ms/step - accuracy: 0.4089 - loss: 2.4252 - val_accuracy: 0.3439 - val_loss: 2.5006 - learning_rate: 1.0000e-04\n",
      "Epoch 9/30\n",
      "\u001b[1m69/69\u001b[0m \u001b[32m━━━━━━━━━━━━━━━━━━━━\u001b[0m\u001b[37m\u001b[0m \u001b[1m18s\u001b[0m 255ms/step - accuracy: 0.4336 - loss: 2.3139 - val_accuracy: 0.2683 - val_loss: 3.1053 - learning_rate: 1.0000e-04\n",
      "Epoch 10/30\n",
      "\u001b[1m69/69\u001b[0m \u001b[32m━━━━━━━━━━━━━━━━━━━━\u001b[0m\u001b[37m\u001b[0m \u001b[1m18s\u001b[0m 256ms/step - accuracy: 0.4356 - loss: 2.2979 - val_accuracy: 0.2293 - val_loss: 3.0895 - learning_rate: 1.0000e-04\n",
      "Epoch 11/30\n",
      "\u001b[1m69/69\u001b[0m \u001b[32m━━━━━━━━━━━━━━━━━━━━\u001b[0m\u001b[37m\u001b[0m \u001b[1m18s\u001b[0m 257ms/step - accuracy: 0.4432 - loss: 2.2591 - val_accuracy: 0.2732 - val_loss: 3.1906 - learning_rate: 1.0000e-04\n",
      "Epoch 12/30\n",
      "\u001b[1m69/69\u001b[0m \u001b[32m━━━━━━━━━━━━━━━━━━━━\u001b[0m\u001b[37m\u001b[0m \u001b[1m18s\u001b[0m 258ms/step - accuracy: 0.4762 - loss: 2.1683 - val_accuracy: 0.3439 - val_loss: 2.6846 - learning_rate: 5.0000e-05\n",
      "Epoch 13/30\n",
      "\u001b[1m69/69\u001b[0m \u001b[32m━━━━━━━━━━━━━━━━━━━━\u001b[0m\u001b[37m\u001b[0m \u001b[1m18s\u001b[0m 259ms/step - accuracy: 0.4933 - loss: 2.1064 - val_accuracy: 0.3659 - val_loss: 2.4263 - learning_rate: 5.0000e-05\n",
      "Epoch 14/30\n",
      "\u001b[1m69/69\u001b[0m \u001b[32m━━━━━━━━━━━━━━━━━━━━\u001b[0m\u001b[37m\u001b[0m \u001b[1m18s\u001b[0m 256ms/step - accuracy: 0.5134 - loss: 2.0468 - val_accuracy: 0.3537 - val_loss: 2.7761 - learning_rate: 5.0000e-05\n",
      "Epoch 15/30\n",
      "\u001b[1m69/69\u001b[0m \u001b[32m━━━━━━━━━━━━━━━━━━━━\u001b[0m\u001b[37m\u001b[0m \u001b[1m18s\u001b[0m 256ms/step - accuracy: 0.5030 - loss: 2.0714 - val_accuracy: 0.3878 - val_loss: 2.4290 - learning_rate: 5.0000e-05\n",
      "Epoch 16/30\n",
      "\u001b[1m69/69\u001b[0m \u001b[32m━━━━━━━━━━━━━━━━━━━━\u001b[0m\u001b[37m\u001b[0m \u001b[1m18s\u001b[0m 255ms/step - accuracy: 0.5255 - loss: 1.9875 - val_accuracy: 0.3585 - val_loss: 2.8724 - learning_rate: 5.0000e-05\n",
      "Epoch 17/30\n",
      "\u001b[1m69/69\u001b[0m \u001b[32m━━━━━━━━━━━━━━━━━━━━\u001b[0m\u001b[37m\u001b[0m \u001b[1m18s\u001b[0m 257ms/step - accuracy: 0.5245 - loss: 1.9505 - val_accuracy: 0.4293 - val_loss: 2.4295 - learning_rate: 2.5000e-05\n",
      "Epoch 18/30\n",
      "\u001b[1m69/69\u001b[0m \u001b[32m━━━━━━━━━━━━━━━━━━━━\u001b[0m\u001b[37m\u001b[0m \u001b[1m18s\u001b[0m 257ms/step - accuracy: 0.5485 - loss: 1.9063 - val_accuracy: 0.4000 - val_loss: 2.4591 - learning_rate: 2.5000e-05\n",
      "Epoch 19/30\n",
      "\u001b[1m69/69\u001b[0m \u001b[32m━━━━━━━━━━━━━━━━━━━━\u001b[0m\u001b[37m\u001b[0m \u001b[1m18s\u001b[0m 257ms/step - accuracy: 0.5709 - loss: 1.8815 - val_accuracy: 0.2780 - val_loss: 3.3478 - learning_rate: 2.5000e-05\n",
      "Epoch 20/30\n",
      "\u001b[1m69/69\u001b[0m \u001b[32m━━━━━━━━━━━━━━━━━━━━\u001b[0m\u001b[37m\u001b[0m \u001b[1m18s\u001b[0m 259ms/step - accuracy: 0.5459 - loss: 1.8734 - val_accuracy: 0.4146 - val_loss: 2.3731 - learning_rate: 1.2500e-05\n",
      "Epoch 21/30\n",
      "\u001b[1m69/69\u001b[0m \u001b[32m━━━━━━━━━━━━━━━━━━━━\u001b[0m\u001b[37m\u001b[0m \u001b[1m18s\u001b[0m 259ms/step - accuracy: 0.5714 - loss: 1.8267 - val_accuracy: 0.4878 - val_loss: 2.0683 - learning_rate: 1.2500e-05\n",
      "Epoch 22/30\n",
      "\u001b[1m69/69\u001b[0m \u001b[32m━━━━━━━━━━━━━━━━━━━━\u001b[0m\u001b[37m\u001b[0m \u001b[1m18s\u001b[0m 256ms/step - accuracy: 0.5702 - loss: 1.7823 - val_accuracy: 0.4366 - val_loss: 2.2680 - learning_rate: 1.2500e-05\n",
      "Epoch 23/30\n",
      "\u001b[1m69/69\u001b[0m \u001b[32m━━━━━━━━━━━━━━━━━━━━\u001b[0m\u001b[37m\u001b[0m \u001b[1m18s\u001b[0m 255ms/step - accuracy: 0.6090 - loss: 1.7651 - val_accuracy: 0.4707 - val_loss: 2.1558 - learning_rate: 1.2500e-05\n",
      "Epoch 24/30\n",
      "\u001b[1m69/69\u001b[0m \u001b[32m━━━━━━━━━━━━━━━━━━━━\u001b[0m\u001b[37m\u001b[0m \u001b[1m18s\u001b[0m 258ms/step - accuracy: 0.5849 - loss: 1.7875 - val_accuracy: 0.4902 - val_loss: 2.0146 - learning_rate: 1.2500e-05\n",
      "Epoch 25/30\n",
      "\u001b[1m69/69\u001b[0m \u001b[32m━━━━━━━━━━━━━━━━━━━━\u001b[0m\u001b[37m\u001b[0m \u001b[1m18s\u001b[0m 255ms/step - accuracy: 0.5817 - loss: 1.7654 - val_accuracy: 0.4463 - val_loss: 2.1631 - learning_rate: 1.2500e-05\n",
      "Epoch 26/30\n",
      "\u001b[1m69/69\u001b[0m \u001b[32m━━━━━━━━━━━━━━━━━━━━\u001b[0m\u001b[37m\u001b[0m \u001b[1m18s\u001b[0m 255ms/step - accuracy: 0.6173 - loss: 1.7151 - val_accuracy: 0.4829 - val_loss: 2.1016 - learning_rate: 1.2500e-05\n",
      "Epoch 27/30\n",
      "\u001b[1m69/69\u001b[0m \u001b[32m━━━━━━━━━━━━━━━━━━━━\u001b[0m\u001b[37m\u001b[0m \u001b[1m18s\u001b[0m 255ms/step - accuracy: 0.6230 - loss: 1.7113 - val_accuracy: 0.4171 - val_loss: 2.3378 - learning_rate: 1.2500e-05\n",
      "Epoch 28/30\n",
      "\u001b[1m69/69\u001b[0m \u001b[32m━━━━━━━━━━━━━━━━━━━━\u001b[0m\u001b[37m\u001b[0m \u001b[1m18s\u001b[0m 258ms/step - accuracy: 0.6110 - loss: 1.7048 - val_accuracy: 0.5341 - val_loss: 1.9540 - learning_rate: 6.2500e-06\n",
      "Epoch 29/30\n",
      "\u001b[1m69/69\u001b[0m \u001b[32m━━━━━━━━━━━━━━━━━━━━\u001b[0m\u001b[37m\u001b[0m \u001b[1m18s\u001b[0m 257ms/step - accuracy: 0.6281 - loss: 1.6904 - val_accuracy: 0.4780 - val_loss: 2.0017 - learning_rate: 6.2500e-06\n",
      "Epoch 30/30\n",
      "\u001b[1m69/69\u001b[0m \u001b[32m━━━━━━━━━━━━━━━━━━━━\u001b[0m\u001b[37m\u001b[0m \u001b[1m18s\u001b[0m 258ms/step - accuracy: 0.6313 - loss: 1.6651 - val_accuracy: 0.5220 - val_loss: 1.9350 - learning_rate: 6.2500e-06\n",
      "test_gen batch videos shape: (24, 5, 128, 128, 3)\n",
      "test_gen batch labels shape: (24, 16)\n",
      "\u001b[1m22/22\u001b[0m \u001b[32m━━━━━━━━━━━━━━━━━━━━\u001b[0m\u001b[37m\u001b[0m \u001b[1m4s\u001b[0m 196ms/step - accuracy: 0.5353 - loss: 1.8970\n",
      "VGG19+LSTM Test Loss: 1.8574\n",
      "VGG19+LSTM Test Accuracy: 54.49%\n"
     ]
    }
   ],
   "source": [
    "# Clear memory before creating the new model\n",
    "gc.collect()\n",
    "tf.keras.backend.clear_session()\n",
    "print(\"Memory cleared before creating VGG19+LSTM model\")\n",
    "\n",
    "# Print TensorFlow version\n",
    "print(f\"TensorFlow version: {tf.__version__}\")\n",
    "\n",
    "\n",
    "# Pre-load VGG19 weights\n",
    "print(\"Pre-loading VGG19 weights...\")\n",
    "try:\n",
    "    base_model = ResNet50(weights='imagenet', include_top=False, input_shape=(IMAGE_HEIGHT, IMAGE_WIDTH, 3))\n",
    "    print(\"VGG19 weights loaded successfully!\")\n",
    "except Exception as e:\n",
    "    print(f\"Failed to load VGG19 weights: {str(e)}\")\n",
    "\n",
    "\n",
    "# Define function to create VGG19+LSTM model\n",
    "def create_model(sequence_length, image_height, image_width, classes_list=None, dropout_rate=0.5, base_model=None):\n",
    "   \n",
    "    \n",
    "    print(\"Creating VGG19+LSTM model with parameters:\")\n",
    "    print(f\"sequence_length: {sequence_length}, image_height: {image_height}, image_width: {image_width}, classes_list length: {len(classes_list) if classes_list is not None else None}, dropout_rate: {dropout_rate}\")\n",
    "    \n",
    "    if classes_list is None:\n",
    "        raise ValueError(\"classes_list must be provided to define the output layer size\")\n",
    "    if base_model is None:\n",
    "        raise ValueError(\"base_model must be provided to avoid re-downloading weights\")\n",
    "\n",
    "    try:\n",
    "        # Use the pre-loaded base model\n",
    "        # Freeze the base model for initial training\n",
    "        base_model.trainable = False\n",
    "\n",
    "        # Define the Sequential model\n",
    "        model = Sequential([\n",
    "            # TimeDistributed VGG19 model\n",
    "            TimeDistributed(\n",
    "                base_model,\n",
    "                input_shape=(sequence_length, image_height, image_width, 3),\n",
    "                name=\"time_distributed_vgg19\"\n",
    "            ),\n",
    "            # TimeDistributed GlobalAveragePooling2D\n",
    "            TimeDistributed(GlobalAveragePooling2D(), name=\"time_distributed_pooling\"),\n",
    "            # LSTM layer with 512 units\n",
    "            GRU(256, activation=\"tanh\", return_sequences=False, kernel_regularizer=l2(0.01), name=\"lstm_vgg19\"),\n",
    "            BatchNormalization(name=\"batch_normalization_vgg19\"),\n",
    "            # Dropout after LSTM\n",
    "            Dropout(dropout_rate, name=\"dropout_lstm_vgg19\"),\n",
    "            # Dense layer with 512 units\n",
    "            Dense(512, activation=\"relu\", kernel_regularizer=l2(0.01), name=\"dense_vgg19_1\"),\n",
    "            # Dropout after first Dense\n",
    "            Dropout(dropout_rate, name=\"dropout_dense_vgg19_1\"),\n",
    "            # Dense layer with 128 units\n",
    "            Dense(128, activation=\"relu\", kernel_regularizer=l2(0.01), name=\"dense_vgg19_2\"),\n",
    "            # Dropout after second Dense\n",
    "            Dropout(dropout_rate, name=\"dropout_dense_vgg19_2\"),\n",
    "            # Output Dense layer with softmax activation\n",
    "            Dense(len(classes_list), activation=\"softmax\", name=\"output_vgg19\")\n",
    "        ])\n",
    "\n",
    "        # Print model summary\n",
    "        print(\"VGG19+LSTM model architecture created successfully!\")\n",
    "        model.summary()\n",
    "\n",
    "        return model\n",
    "\n",
    "    except Exception as e:\n",
    "        print(f\"Error creating VGG19+LSTM model: {str(e)}\")\n",
    "        import traceback\n",
    "        traceback.print_exc()\n",
    "        return None\n",
    "\n",
    "\n",
    "# Create the VGG19+LSTM model using the pre-loaded base model\n",
    "resnet50_gru_model = create_model(\n",
    "    sequence_length=SEQUENCE_LENGTH,\n",
    "    image_height=IMAGE_HEIGHT,\n",
    "    image_width=IMAGE_WIDTH,\n",
    "    classes_list=CLASSES_LIST,\n",
    "    dropout_rate=DROPOUT_RATE,\n",
    "    base_model=base_model\n",
    ")\n",
    "\n",
    "# Check if resnet50_gru_model was created successfully\n",
    "if resnet50_gru_model is None:\n",
    "    raise ValueError(\"Failed to create VGG19+LSTM model. Check error messages above.\")\n",
    "else:\n",
    "    print(\"VGG19+LSTM Model Created Successfully!\")\n",
    "\n",
    "# Ensure labels_test is one-hot encoded\n",
    "if len(labels_test.shape) == 1:\n",
    "    print(\"Converting labels_test to one-hot encoded format...\")\n",
    "    labels_test = to_categorical(labels_test, num_classes=NO_OF_CLASSES)\n",
    "    print(f\"New labels_test shape: {labels_test.shape}\")\n",
    "\n",
    "# Compile the model for initial training\n",
    "early_stopping_callback = EarlyStopping(monitor='val_loss', patience=7, mode='min', restore_best_weights=True)\n",
    "lr_scheduler = ReduceLROnPlateau(monitor='val_loss', factor=0.5, patience=3, min_lr=1e-6)\n",
    "\n",
    "resnet50_gru_model.compile(\n",
    "    loss='categorical_crossentropy',\n",
    "    optimizer=tf.keras.optimizers.Adam(learning_rate=0.001),  # Higher learning rate for initial training\n",
    "    metrics=['accuracy']\n",
    ")\n",
    "\n",
    "# Initial training with frozen base model\n",
    "print(f\"Initial training started for VGG19+LSTM model with {len(train_gen.videos)} videos of {NO_OF_CLASSES} classes with {len(val_gen.videos)} videos for validation...\")\n",
    "try:\n",
    "    initial_resnet50_gru_model_history = resnet50_gru_model.fit(\n",
    "        train_gen.as_dataset(),\n",
    "        validation_data=val_gen.as_dataset(),\n",
    "        epochs=EPOCHS,\n",
    "        class_weight=class_weights,\n",
    "        callbacks=[early_stopping_callback, lr_scheduler]\n",
    "    )\n",
    "except Exception as e:\n",
    "    print(f\"Error during initial model training: {str(e)}\")\n",
    "    import traceback\n",
    "    traceback.print_exc()\n",
    "\n",
    "# Unfreeze some layers for fine-tuning\n",
    "base_model.trainable = True\n",
    "# Freeze all layers except the last 8 layers (consistent with previous VGG19 code)\n",
    "for layer in base_model.layers[:-8]:\n",
    "    layer.trainable = False\n",
    "\n",
    "# Recompile the model with a lower learning rate for fine-tuning\n",
    "resnet50_gru_model.compile(\n",
    "    loss='categorical_crossentropy',\n",
    "    optimizer=tf.keras.optimizers.Adam(learning_rate=0.0001),  # Lower learning rate for fine-tuning\n",
    "    metrics=['accuracy']\n",
    ")\n",
    "\n",
    "# Fine-tune the model\n",
    "print(f\"\\nFine-tuning started for VGG19+LSTM model with {len(train_gen.videos)} videos of {NO_OF_CLASSES} classes with {len(val_gen.videos)} videos for validation...\")\n",
    "try:\n",
    "    fine_tune_resnet50_gru_model_history = resnet50_gru_model.fit(\n",
    "        train_gen.as_dataset(),\n",
    "        validation_data=val_gen.as_dataset(),\n",
    "        epochs=EPOCHS,\n",
    "        class_weight=class_weights,\n",
    "        callbacks=[early_stopping_callback, lr_scheduler]\n",
    "    )\n",
    "except Exception as e:\n",
    "    print(f\"Error during fine-tuning: {str(e)}\")\n",
    "    import traceback\n",
    "    traceback.print_exc()\n",
    "\n",
    "\n",
    "\n",
    "videos, labels = test_gen[0]\n",
    "print(f\"test_gen batch videos shape: {videos.shape}\")\n",
    "print(f\"test_gen batch labels shape: {labels.shape}\")\n",
    "loss, accuracy = resnet50_gru_model.evaluate(test_gen.as_dataset())\n",
    "print(f'VGG19+LSTM Test Loss: {loss:.4f}')\n",
    "print(f'VGG19+LSTM Test Accuracy: {accuracy * 100:.2f}%')"
   ]
  },
  {
   "cell_type": "markdown",
   "id": "fb1bab2c",
   "metadata": {
    "papermill": {
     "duration": 0.823615,
     "end_time": "2025-07-14T06:34:00.002840",
     "exception": false,
     "start_time": "2025-07-14T06:33:59.179225",
     "status": "completed"
    },
    "tags": []
   },
   "source": [
    "## InceptionV3 + LSTM"
   ]
  },
  {
   "cell_type": "code",
   "execution_count": 47,
   "id": "bf5f2c8c",
   "metadata": {
    "execution": {
     "iopub.execute_input": "2025-07-14T06:34:01.466968Z",
     "iopub.status.busy": "2025-07-14T06:34:01.466673Z",
     "iopub.status.idle": "2025-07-14T06:34:03.569917Z",
     "shell.execute_reply": "2025-07-14T06:34:03.569058Z"
    },
    "papermill": {
     "duration": 2.862269,
     "end_time": "2025-07-14T06:34:03.571236",
     "exception": false,
     "start_time": "2025-07-14T06:34:00.708967",
     "status": "completed"
    },
    "tags": []
   },
   "outputs": [
    {
     "name": "stdout",
     "output_type": "stream",
     "text": [
      "Pre-loading VGG19 weights...\n",
      "Downloading data from https://storage.googleapis.com/tensorflow/keras-applications/inception_v3/inception_v3_weights_tf_dim_ordering_tf_kernels_notop.h5\n",
      "\u001b[1m87910968/87910968\u001b[0m \u001b[32m━━━━━━━━━━━━━━━━━━━━\u001b[0m\u001b[37m\u001b[0m \u001b[1m0s\u001b[0m 0us/step\n",
      "VGG19 weights loaded successfully!\n"
     ]
    }
   ],
   "source": [
    "\n",
    "# Pre-load VGG19 weights\n",
    "print(\"Pre-loading VGG19 weights...\")\n",
    "try:\n",
    "    base_model = InceptionV3(weights='imagenet', include_top=False, input_shape=(IMAGE_HEIGHT, IMAGE_WIDTH, 3))\n",
    "    print(\"VGG19 weights loaded successfully!\")\n",
    "except Exception as e:\n",
    "    print(f\"Failed to load VGG19 weights: {str(e)}\")\n"
   ]
  },
  {
   "cell_type": "code",
   "execution_count": 48,
   "id": "5ae312bb",
   "metadata": {
    "execution": {
     "iopub.execute_input": "2025-07-14T06:34:05.023470Z",
     "iopub.status.busy": "2025-07-14T06:34:05.023177Z",
     "iopub.status.idle": "2025-07-14T06:46:53.279483Z",
     "shell.execute_reply": "2025-07-14T06:46:53.278675Z"
    },
    "papermill": {
     "duration": 768.940289,
     "end_time": "2025-07-14T06:46:53.280662",
     "exception": false,
     "start_time": "2025-07-14T06:34:04.340373",
     "status": "completed"
    },
    "tags": []
   },
   "outputs": [
    {
     "name": "stdout",
     "output_type": "stream",
     "text": [
      "Memory cleared before creating VGG19+LSTM model\n",
      "TensorFlow version: 2.18.0\n",
      "Pre-loading VGG19 weights...\n",
      "VGG19 weights loaded successfully!\n",
      "Creating VGG19+LSTM model with parameters:\n",
      "sequence_length: 5, image_height: 128, image_width: 128, classes_list length: 16, dropout_rate: 0.5\n",
      "VGG19+LSTM model architecture created successfully!\n"
     ]
    },
    {
     "data": {
      "text/html": [
       "<pre style=\"white-space:pre;overflow-x:auto;line-height:normal;font-family:Menlo,'DejaVu Sans Mono',consolas,'Courier New',monospace\"><span style=\"font-weight: bold\">Model: \"sequential\"</span>\n",
       "</pre>\n"
      ],
      "text/plain": [
       "\u001b[1mModel: \"sequential\"\u001b[0m\n"
      ]
     },
     "metadata": {},
     "output_type": "display_data"
    },
    {
     "data": {
      "text/html": [
       "<pre style=\"white-space:pre;overflow-x:auto;line-height:normal;font-family:Menlo,'DejaVu Sans Mono',consolas,'Courier New',monospace\">┏━━━━━━━━━━━━━━━━━━━━━━━━━━━━━━━━━┳━━━━━━━━━━━━━━━━━━━━━━━━┳━━━━━━━━━━━━━━━┓\n",
       "┃<span style=\"font-weight: bold\"> Layer (type)                    </span>┃<span style=\"font-weight: bold\"> Output Shape           </span>┃<span style=\"font-weight: bold\">       Param # </span>┃\n",
       "┡━━━━━━━━━━━━━━━━━━━━━━━━━━━━━━━━━╇━━━━━━━━━━━━━━━━━━━━━━━━╇━━━━━━━━━━━━━━━┩\n",
       "│ time_distributed_vgg19          │ (<span style=\"color: #00d7ff; text-decoration-color: #00d7ff\">None</span>, <span style=\"color: #00af00; text-decoration-color: #00af00\">5</span>, <span style=\"color: #00af00; text-decoration-color: #00af00\">2</span>, <span style=\"color: #00af00; text-decoration-color: #00af00\">2</span>, <span style=\"color: #00af00; text-decoration-color: #00af00\">2048</span>)  │    <span style=\"color: #00af00; text-decoration-color: #00af00\">21,802,784</span> │\n",
       "│ (<span style=\"color: #0087ff; text-decoration-color: #0087ff\">TimeDistributed</span>)               │                        │               │\n",
       "├─────────────────────────────────┼────────────────────────┼───────────────┤\n",
       "│ time_distributed_pooling        │ (<span style=\"color: #00d7ff; text-decoration-color: #00d7ff\">None</span>, <span style=\"color: #00af00; text-decoration-color: #00af00\">5</span>, <span style=\"color: #00af00; text-decoration-color: #00af00\">2048</span>)        │             <span style=\"color: #00af00; text-decoration-color: #00af00\">0</span> │\n",
       "│ (<span style=\"color: #0087ff; text-decoration-color: #0087ff\">TimeDistributed</span>)               │                        │               │\n",
       "├─────────────────────────────────┼────────────────────────┼───────────────┤\n",
       "│ lstm_vgg19 (<span style=\"color: #0087ff; text-decoration-color: #0087ff\">LSTM</span>)               │ (<span style=\"color: #00d7ff; text-decoration-color: #00d7ff\">None</span>, <span style=\"color: #00af00; text-decoration-color: #00af00\">512</span>)            │     <span style=\"color: #00af00; text-decoration-color: #00af00\">5,244,928</span> │\n",
       "├─────────────────────────────────┼────────────────────────┼───────────────┤\n",
       "│ batch_normalization_vgg19       │ (<span style=\"color: #00d7ff; text-decoration-color: #00d7ff\">None</span>, <span style=\"color: #00af00; text-decoration-color: #00af00\">512</span>)            │         <span style=\"color: #00af00; text-decoration-color: #00af00\">2,048</span> │\n",
       "│ (<span style=\"color: #0087ff; text-decoration-color: #0087ff\">BatchNormalization</span>)            │                        │               │\n",
       "├─────────────────────────────────┼────────────────────────┼───────────────┤\n",
       "│ dropout_lstm_vgg19 (<span style=\"color: #0087ff; text-decoration-color: #0087ff\">Dropout</span>)    │ (<span style=\"color: #00d7ff; text-decoration-color: #00d7ff\">None</span>, <span style=\"color: #00af00; text-decoration-color: #00af00\">512</span>)            │             <span style=\"color: #00af00; text-decoration-color: #00af00\">0</span> │\n",
       "├─────────────────────────────────┼────────────────────────┼───────────────┤\n",
       "│ dense_vgg19_1 (<span style=\"color: #0087ff; text-decoration-color: #0087ff\">Dense</span>)           │ (<span style=\"color: #00d7ff; text-decoration-color: #00d7ff\">None</span>, <span style=\"color: #00af00; text-decoration-color: #00af00\">512</span>)            │       <span style=\"color: #00af00; text-decoration-color: #00af00\">262,656</span> │\n",
       "├─────────────────────────────────┼────────────────────────┼───────────────┤\n",
       "│ dropout_dense_vgg19_1 (<span style=\"color: #0087ff; text-decoration-color: #0087ff\">Dropout</span>) │ (<span style=\"color: #00d7ff; text-decoration-color: #00d7ff\">None</span>, <span style=\"color: #00af00; text-decoration-color: #00af00\">512</span>)            │             <span style=\"color: #00af00; text-decoration-color: #00af00\">0</span> │\n",
       "├─────────────────────────────────┼────────────────────────┼───────────────┤\n",
       "│ dense_vgg19_2 (<span style=\"color: #0087ff; text-decoration-color: #0087ff\">Dense</span>)           │ (<span style=\"color: #00d7ff; text-decoration-color: #00d7ff\">None</span>, <span style=\"color: #00af00; text-decoration-color: #00af00\">128</span>)            │        <span style=\"color: #00af00; text-decoration-color: #00af00\">65,664</span> │\n",
       "├─────────────────────────────────┼────────────────────────┼───────────────┤\n",
       "│ dropout_dense_vgg19_2 (<span style=\"color: #0087ff; text-decoration-color: #0087ff\">Dropout</span>) │ (<span style=\"color: #00d7ff; text-decoration-color: #00d7ff\">None</span>, <span style=\"color: #00af00; text-decoration-color: #00af00\">128</span>)            │             <span style=\"color: #00af00; text-decoration-color: #00af00\">0</span> │\n",
       "├─────────────────────────────────┼────────────────────────┼───────────────┤\n",
       "│ output_vgg19 (<span style=\"color: #0087ff; text-decoration-color: #0087ff\">Dense</span>)            │ (<span style=\"color: #00d7ff; text-decoration-color: #00d7ff\">None</span>, <span style=\"color: #00af00; text-decoration-color: #00af00\">16</span>)             │         <span style=\"color: #00af00; text-decoration-color: #00af00\">2,064</span> │\n",
       "└─────────────────────────────────┴────────────────────────┴───────────────┘\n",
       "</pre>\n"
      ],
      "text/plain": [
       "┏━━━━━━━━━━━━━━━━━━━━━━━━━━━━━━━━━┳━━━━━━━━━━━━━━━━━━━━━━━━┳━━━━━━━━━━━━━━━┓\n",
       "┃\u001b[1m \u001b[0m\u001b[1mLayer (type)                   \u001b[0m\u001b[1m \u001b[0m┃\u001b[1m \u001b[0m\u001b[1mOutput Shape          \u001b[0m\u001b[1m \u001b[0m┃\u001b[1m \u001b[0m\u001b[1m      Param #\u001b[0m\u001b[1m \u001b[0m┃\n",
       "┡━━━━━━━━━━━━━━━━━━━━━━━━━━━━━━━━━╇━━━━━━━━━━━━━━━━━━━━━━━━╇━━━━━━━━━━━━━━━┩\n",
       "│ time_distributed_vgg19          │ (\u001b[38;5;45mNone\u001b[0m, \u001b[38;5;34m5\u001b[0m, \u001b[38;5;34m2\u001b[0m, \u001b[38;5;34m2\u001b[0m, \u001b[38;5;34m2048\u001b[0m)  │    \u001b[38;5;34m21,802,784\u001b[0m │\n",
       "│ (\u001b[38;5;33mTimeDistributed\u001b[0m)               │                        │               │\n",
       "├─────────────────────────────────┼────────────────────────┼───────────────┤\n",
       "│ time_distributed_pooling        │ (\u001b[38;5;45mNone\u001b[0m, \u001b[38;5;34m5\u001b[0m, \u001b[38;5;34m2048\u001b[0m)        │             \u001b[38;5;34m0\u001b[0m │\n",
       "│ (\u001b[38;5;33mTimeDistributed\u001b[0m)               │                        │               │\n",
       "├─────────────────────────────────┼────────────────────────┼───────────────┤\n",
       "│ lstm_vgg19 (\u001b[38;5;33mLSTM\u001b[0m)               │ (\u001b[38;5;45mNone\u001b[0m, \u001b[38;5;34m512\u001b[0m)            │     \u001b[38;5;34m5,244,928\u001b[0m │\n",
       "├─────────────────────────────────┼────────────────────────┼───────────────┤\n",
       "│ batch_normalization_vgg19       │ (\u001b[38;5;45mNone\u001b[0m, \u001b[38;5;34m512\u001b[0m)            │         \u001b[38;5;34m2,048\u001b[0m │\n",
       "│ (\u001b[38;5;33mBatchNormalization\u001b[0m)            │                        │               │\n",
       "├─────────────────────────────────┼────────────────────────┼───────────────┤\n",
       "│ dropout_lstm_vgg19 (\u001b[38;5;33mDropout\u001b[0m)    │ (\u001b[38;5;45mNone\u001b[0m, \u001b[38;5;34m512\u001b[0m)            │             \u001b[38;5;34m0\u001b[0m │\n",
       "├─────────────────────────────────┼────────────────────────┼───────────────┤\n",
       "│ dense_vgg19_1 (\u001b[38;5;33mDense\u001b[0m)           │ (\u001b[38;5;45mNone\u001b[0m, \u001b[38;5;34m512\u001b[0m)            │       \u001b[38;5;34m262,656\u001b[0m │\n",
       "├─────────────────────────────────┼────────────────────────┼───────────────┤\n",
       "│ dropout_dense_vgg19_1 (\u001b[38;5;33mDropout\u001b[0m) │ (\u001b[38;5;45mNone\u001b[0m, \u001b[38;5;34m512\u001b[0m)            │             \u001b[38;5;34m0\u001b[0m │\n",
       "├─────────────────────────────────┼────────────────────────┼───────────────┤\n",
       "│ dense_vgg19_2 (\u001b[38;5;33mDense\u001b[0m)           │ (\u001b[38;5;45mNone\u001b[0m, \u001b[38;5;34m128\u001b[0m)            │        \u001b[38;5;34m65,664\u001b[0m │\n",
       "├─────────────────────────────────┼────────────────────────┼───────────────┤\n",
       "│ dropout_dense_vgg19_2 (\u001b[38;5;33mDropout\u001b[0m) │ (\u001b[38;5;45mNone\u001b[0m, \u001b[38;5;34m128\u001b[0m)            │             \u001b[38;5;34m0\u001b[0m │\n",
       "├─────────────────────────────────┼────────────────────────┼───────────────┤\n",
       "│ output_vgg19 (\u001b[38;5;33mDense\u001b[0m)            │ (\u001b[38;5;45mNone\u001b[0m, \u001b[38;5;34m16\u001b[0m)             │         \u001b[38;5;34m2,064\u001b[0m │\n",
       "└─────────────────────────────────┴────────────────────────┴───────────────┘\n"
      ]
     },
     "metadata": {},
     "output_type": "display_data"
    },
    {
     "data": {
      "text/html": [
       "<pre style=\"white-space:pre;overflow-x:auto;line-height:normal;font-family:Menlo,'DejaVu Sans Mono',consolas,'Courier New',monospace\"><span style=\"font-weight: bold\"> Total params: </span><span style=\"color: #00af00; text-decoration-color: #00af00\">27,380,144</span> (104.45 MB)\n",
       "</pre>\n"
      ],
      "text/plain": [
       "\u001b[1m Total params: \u001b[0m\u001b[38;5;34m27,380,144\u001b[0m (104.45 MB)\n"
      ]
     },
     "metadata": {},
     "output_type": "display_data"
    },
    {
     "data": {
      "text/html": [
       "<pre style=\"white-space:pre;overflow-x:auto;line-height:normal;font-family:Menlo,'DejaVu Sans Mono',consolas,'Courier New',monospace\"><span style=\"font-weight: bold\"> Trainable params: </span><span style=\"color: #00af00; text-decoration-color: #00af00\">5,576,336</span> (21.27 MB)\n",
       "</pre>\n"
      ],
      "text/plain": [
       "\u001b[1m Trainable params: \u001b[0m\u001b[38;5;34m5,576,336\u001b[0m (21.27 MB)\n"
      ]
     },
     "metadata": {},
     "output_type": "display_data"
    },
    {
     "data": {
      "text/html": [
       "<pre style=\"white-space:pre;overflow-x:auto;line-height:normal;font-family:Menlo,'DejaVu Sans Mono',consolas,'Courier New',monospace\"><span style=\"font-weight: bold\"> Non-trainable params: </span><span style=\"color: #00af00; text-decoration-color: #00af00\">21,803,808</span> (83.17 MB)\n",
       "</pre>\n"
      ],
      "text/plain": [
       "\u001b[1m Non-trainable params: \u001b[0m\u001b[38;5;34m21,803,808\u001b[0m (83.17 MB)\n"
      ]
     },
     "metadata": {},
     "output_type": "display_data"
    },
    {
     "name": "stdout",
     "output_type": "stream",
     "text": [
      "VGG19+LSTM Model Created Successfully!\n",
      "Initial training started for VGG19+LSTM model with 1638 videos of 16 classes with 410 videos for validation...\n",
      "Epoch 1/30\n",
      "\u001b[1m69/69\u001b[0m \u001b[32m━━━━━━━━━━━━━━━━━━━━\u001b[0m\u001b[37m\u001b[0m \u001b[1m75s\u001b[0m 398ms/step - accuracy: 0.0695 - loss: 27.8812 - val_accuracy: 0.0927 - val_loss: 17.9896 - learning_rate: 0.0010\n",
      "Epoch 2/30\n",
      "\u001b[1m69/69\u001b[0m \u001b[32m━━━━━━━━━━━━━━━━━━━━\u001b[0m\u001b[37m\u001b[0m \u001b[1m12s\u001b[0m 171ms/step - accuracy: 0.0860 - loss: 16.2575 - val_accuracy: 0.1317 - val_loss: 12.0991 - learning_rate: 0.0010\n",
      "Epoch 3/30\n",
      "\u001b[1m69/69\u001b[0m \u001b[32m━━━━━━━━━━━━━━━━━━━━\u001b[0m\u001b[37m\u001b[0m \u001b[1m12s\u001b[0m 173ms/step - accuracy: 0.1044 - loss: 11.1724 - val_accuracy: 0.0976 - val_loss: 8.9273 - learning_rate: 0.0010\n",
      "Epoch 4/30\n",
      "\u001b[1m69/69\u001b[0m \u001b[32m━━━━━━━━━━━━━━━━━━━━\u001b[0m\u001b[37m\u001b[0m \u001b[1m12s\u001b[0m 173ms/step - accuracy: 0.1387 - loss: 8.3349 - val_accuracy: 0.1122 - val_loss: 7.0515 - learning_rate: 0.0010\n",
      "Epoch 5/30\n",
      "\u001b[1m69/69\u001b[0m \u001b[32m━━━━━━━━━━━━━━━━━━━━\u001b[0m\u001b[37m\u001b[0m \u001b[1m12s\u001b[0m 172ms/step - accuracy: 0.1456 - loss: 6.6809 - val_accuracy: 0.1268 - val_loss: 5.8880 - learning_rate: 0.0010\n",
      "Epoch 6/30\n",
      "\u001b[1m69/69\u001b[0m \u001b[32m━━━━━━━━━━━━━━━━━━━━\u001b[0m\u001b[37m\u001b[0m \u001b[1m12s\u001b[0m 168ms/step - accuracy: 0.2012 - loss: 5.5146 - val_accuracy: 0.1244 - val_loss: 5.1497 - learning_rate: 0.0010\n",
      "Epoch 7/30\n",
      "\u001b[1m69/69\u001b[0m \u001b[32m━━━━━━━━━━━━━━━━━━━━\u001b[0m\u001b[37m\u001b[0m \u001b[1m12s\u001b[0m 169ms/step - accuracy: 0.2256 - loss: 4.8221 - val_accuracy: 0.1610 - val_loss: 4.8221 - learning_rate: 0.0010\n",
      "Epoch 8/30\n",
      "\u001b[1m69/69\u001b[0m \u001b[32m━━━━━━━━━━━━━━━━━━━━\u001b[0m\u001b[37m\u001b[0m \u001b[1m12s\u001b[0m 169ms/step - accuracy: 0.2470 - loss: 4.4120 - val_accuracy: 0.1171 - val_loss: 4.7755 - learning_rate: 0.0010\n",
      "Epoch 9/30\n",
      "\u001b[1m69/69\u001b[0m \u001b[32m━━━━━━━━━━━━━━━━━━━━\u001b[0m\u001b[37m\u001b[0m \u001b[1m12s\u001b[0m 169ms/step - accuracy: 0.2329 - loss: 4.1525 - val_accuracy: 0.1220 - val_loss: 4.6887 - learning_rate: 0.0010\n",
      "Epoch 10/30\n",
      "\u001b[1m69/69\u001b[0m \u001b[32m━━━━━━━━━━━━━━━━━━━━\u001b[0m\u001b[37m\u001b[0m \u001b[1m12s\u001b[0m 169ms/step - accuracy: 0.2227 - loss: 4.0555 - val_accuracy: 0.1366 - val_loss: 4.7359 - learning_rate: 0.0010\n",
      "Epoch 11/30\n",
      "\u001b[1m69/69\u001b[0m \u001b[32m━━━━━━━━━━━━━━━━━━━━\u001b[0m\u001b[37m\u001b[0m \u001b[1m12s\u001b[0m 170ms/step - accuracy: 0.2464 - loss: 3.8673 - val_accuracy: 0.1610 - val_loss: 4.1177 - learning_rate: 0.0010\n",
      "Epoch 12/30\n",
      "\u001b[1m69/69\u001b[0m \u001b[32m━━━━━━━━━━━━━━━━━━━━\u001b[0m\u001b[37m\u001b[0m \u001b[1m11s\u001b[0m 167ms/step - accuracy: 0.2763 - loss: 3.7161 - val_accuracy: 0.1366 - val_loss: 4.3112 - learning_rate: 0.0010\n",
      "Epoch 13/30\n",
      "\u001b[1m69/69\u001b[0m \u001b[32m━━━━━━━━━━━━━━━━━━━━\u001b[0m\u001b[37m\u001b[0m \u001b[1m12s\u001b[0m 168ms/step - accuracy: 0.2660 - loss: 3.7229 - val_accuracy: 0.1463 - val_loss: 4.2312 - learning_rate: 0.0010\n",
      "Epoch 14/30\n",
      "\u001b[1m69/69\u001b[0m \u001b[32m━━━━━━━━━━━━━━━━━━━━\u001b[0m\u001b[37m\u001b[0m \u001b[1m12s\u001b[0m 167ms/step - accuracy: 0.2863 - loss: 3.5176 - val_accuracy: 0.1122 - val_loss: 4.5315 - learning_rate: 0.0010\n",
      "Epoch 15/30\n",
      "\u001b[1m69/69\u001b[0m \u001b[32m━━━━━━━━━━━━━━━━━━━━\u001b[0m\u001b[37m\u001b[0m \u001b[1m12s\u001b[0m 169ms/step - accuracy: 0.2938 - loss: 3.4250 - val_accuracy: 0.2488 - val_loss: 3.4787 - learning_rate: 5.0000e-04\n",
      "Epoch 16/30\n",
      "\u001b[1m69/69\u001b[0m \u001b[32m━━━━━━━━━━━━━━━━━━━━\u001b[0m\u001b[37m\u001b[0m \u001b[1m12s\u001b[0m 168ms/step - accuracy: 0.3407 - loss: 3.0528 - val_accuracy: 0.1317 - val_loss: 3.6760 - learning_rate: 5.0000e-04\n",
      "Epoch 17/30\n",
      "\u001b[1m69/69\u001b[0m \u001b[32m━━━━━━━━━━━━━━━━━━━━\u001b[0m\u001b[37m\u001b[0m \u001b[1m12s\u001b[0m 170ms/step - accuracy: 0.3548 - loss: 2.9192 - val_accuracy: 0.3195 - val_loss: 3.0068 - learning_rate: 5.0000e-04\n",
      "Epoch 18/30\n",
      "\u001b[1m69/69\u001b[0m \u001b[32m━━━━━━━━━━━━━━━━━━━━\u001b[0m\u001b[37m\u001b[0m \u001b[1m12s\u001b[0m 168ms/step - accuracy: 0.3680 - loss: 2.8717 - val_accuracy: 0.2537 - val_loss: 3.4961 - learning_rate: 5.0000e-04\n",
      "Epoch 19/30\n",
      "\u001b[1m69/69\u001b[0m \u001b[32m━━━━━━━━━━━━━━━━━━━━\u001b[0m\u001b[37m\u001b[0m \u001b[1m11s\u001b[0m 166ms/step - accuracy: 0.3948 - loss: 2.6895 - val_accuracy: 0.1902 - val_loss: 3.8143 - learning_rate: 5.0000e-04\n",
      "Epoch 20/30\n",
      "\u001b[1m69/69\u001b[0m \u001b[32m━━━━━━━━━━━━━━━━━━━━\u001b[0m\u001b[37m\u001b[0m \u001b[1m12s\u001b[0m 169ms/step - accuracy: 0.4030 - loss: 2.6736 - val_accuracy: 0.3171 - val_loss: 2.9340 - learning_rate: 5.0000e-04\n",
      "Epoch 21/30\n",
      "\u001b[1m69/69\u001b[0m \u001b[32m━━━━━━━━━━━━━━━━━━━━\u001b[0m\u001b[37m\u001b[0m \u001b[1m12s\u001b[0m 171ms/step - accuracy: 0.4153 - loss: 2.5875 - val_accuracy: 0.2561 - val_loss: 3.5168 - learning_rate: 5.0000e-04\n",
      "Epoch 22/30\n",
      "\u001b[1m69/69\u001b[0m \u001b[32m━━━━━━━━━━━━━━━━━━━━\u001b[0m\u001b[37m\u001b[0m \u001b[1m12s\u001b[0m 168ms/step - accuracy: 0.4359 - loss: 2.5388 - val_accuracy: 0.2805 - val_loss: 3.2181 - learning_rate: 5.0000e-04\n",
      "Epoch 23/30\n",
      "\u001b[1m69/69\u001b[0m \u001b[32m━━━━━━━━━━━━━━━━━━━━\u001b[0m\u001b[37m\u001b[0m \u001b[1m11s\u001b[0m 167ms/step - accuracy: 0.4289 - loss: 2.5677 - val_accuracy: 0.2024 - val_loss: 3.8118 - learning_rate: 5.0000e-04\n",
      "Epoch 24/30\n",
      "\u001b[1m69/69\u001b[0m \u001b[32m━━━━━━━━━━━━━━━━━━━━\u001b[0m\u001b[37m\u001b[0m \u001b[1m12s\u001b[0m 169ms/step - accuracy: 0.4494 - loss: 2.5146 - val_accuracy: 0.3488 - val_loss: 2.8226 - learning_rate: 2.5000e-04\n",
      "Epoch 25/30\n",
      "\u001b[1m69/69\u001b[0m \u001b[32m━━━━━━━━━━━━━━━━━━━━\u001b[0m\u001b[37m\u001b[0m \u001b[1m12s\u001b[0m 169ms/step - accuracy: 0.4895 - loss: 2.2510 - val_accuracy: 0.4000 - val_loss: 2.5202 - learning_rate: 2.5000e-04\n",
      "Epoch 26/30\n",
      "\u001b[1m69/69\u001b[0m \u001b[32m━━━━━━━━━━━━━━━━━━━━\u001b[0m\u001b[37m\u001b[0m \u001b[1m12s\u001b[0m 170ms/step - accuracy: 0.5344 - loss: 2.1321 - val_accuracy: 0.4268 - val_loss: 2.4723 - learning_rate: 2.5000e-04\n",
      "Epoch 27/30\n",
      "\u001b[1m69/69\u001b[0m \u001b[32m━━━━━━━━━━━━━━━━━━━━\u001b[0m\u001b[37m\u001b[0m \u001b[1m12s\u001b[0m 169ms/step - accuracy: 0.5497 - loss: 2.0405 - val_accuracy: 0.4220 - val_loss: 2.4148 - learning_rate: 2.5000e-04\n",
      "Epoch 28/30\n",
      "\u001b[1m69/69\u001b[0m \u001b[32m━━━━━━━━━━━━━━━━━━━━\u001b[0m\u001b[37m\u001b[0m \u001b[1m12s\u001b[0m 167ms/step - accuracy: 0.5472 - loss: 2.0025 - val_accuracy: 0.3805 - val_loss: 2.5403 - learning_rate: 2.5000e-04\n",
      "Epoch 29/30\n",
      "\u001b[1m69/69\u001b[0m \u001b[32m━━━━━━━━━━━━━━━━━━━━\u001b[0m\u001b[37m\u001b[0m \u001b[1m12s\u001b[0m 168ms/step - accuracy: 0.5437 - loss: 1.9744 - val_accuracy: 0.4049 - val_loss: 2.4892 - learning_rate: 2.5000e-04\n",
      "Epoch 30/30\n",
      "\u001b[1m69/69\u001b[0m \u001b[32m━━━━━━━━━━━━━━━━━━━━\u001b[0m\u001b[37m\u001b[0m \u001b[1m12s\u001b[0m 167ms/step - accuracy: 0.5543 - loss: 1.9249 - val_accuracy: 0.4146 - val_loss: 2.4294 - learning_rate: 2.5000e-04\n",
      "\n",
      "Fine-tuning started for VGG19+LSTM model with 1638 videos of 16 classes with 410 videos for validation...\n",
      "Epoch 1/30\n",
      "\u001b[1m69/69\u001b[0m \u001b[32m━━━━━━━━━━━━━━━━━━━━\u001b[0m\u001b[37m\u001b[0m \u001b[1m77s\u001b[0m 410ms/step - accuracy: 0.5544 - loss: 1.9945 - val_accuracy: 0.4317 - val_loss: 2.3104 - learning_rate: 1.0000e-04\n",
      "Epoch 2/30\n",
      "\u001b[1m69/69\u001b[0m \u001b[32m━━━━━━━━━━━━━━━━━━━━\u001b[0m\u001b[37m\u001b[0m \u001b[1m12s\u001b[0m 172ms/step - accuracy: 0.6033 - loss: 1.7663 - val_accuracy: 0.4463 - val_loss: 2.1564 - learning_rate: 1.0000e-04\n",
      "Epoch 3/30\n",
      "\u001b[1m69/69\u001b[0m \u001b[32m━━━━━━━━━━━━━━━━━━━━\u001b[0m\u001b[37m\u001b[0m \u001b[1m12s\u001b[0m 175ms/step - accuracy: 0.6075 - loss: 1.7191 - val_accuracy: 0.4537 - val_loss: 2.1358 - learning_rate: 1.0000e-04\n",
      "Epoch 4/30\n",
      "\u001b[1m69/69\u001b[0m \u001b[32m━━━━━━━━━━━━━━━━━━━━\u001b[0m\u001b[37m\u001b[0m \u001b[1m12s\u001b[0m 174ms/step - accuracy: 0.6205 - loss: 1.6598 - val_accuracy: 0.4634 - val_loss: 2.1096 - learning_rate: 1.0000e-04\n",
      "Epoch 5/30\n",
      "\u001b[1m69/69\u001b[0m \u001b[32m━━━━━━━━━━━━━━━━━━━━\u001b[0m\u001b[37m\u001b[0m \u001b[1m12s\u001b[0m 168ms/step - accuracy: 0.6280 - loss: 1.6088 - val_accuracy: 0.4561 - val_loss: 2.1173 - learning_rate: 1.0000e-04\n",
      "Epoch 6/30\n",
      "\u001b[1m69/69\u001b[0m \u001b[32m━━━━━━━━━━━━━━━━━━━━\u001b[0m\u001b[37m\u001b[0m \u001b[1m11s\u001b[0m 167ms/step - accuracy: 0.6618 - loss: 1.5617 - val_accuracy: 0.4610 - val_loss: 2.1555 - learning_rate: 1.0000e-04\n",
      "Epoch 7/30\n",
      "\u001b[1m69/69\u001b[0m \u001b[32m━━━━━━━━━━━━━━━━━━━━\u001b[0m\u001b[37m\u001b[0m \u001b[1m12s\u001b[0m 169ms/step - accuracy: 0.6730 - loss: 1.5170 - val_accuracy: 0.4341 - val_loss: 2.1012 - learning_rate: 1.0000e-04\n",
      "Epoch 8/30\n",
      "\u001b[1m69/69\u001b[0m \u001b[32m━━━━━━━━━━━━━━━━━━━━\u001b[0m\u001b[37m\u001b[0m \u001b[1m12s\u001b[0m 167ms/step - accuracy: 0.6945 - loss: 1.4749 - val_accuracy: 0.4439 - val_loss: 2.2058 - learning_rate: 1.0000e-04\n",
      "Epoch 9/30\n",
      "\u001b[1m69/69\u001b[0m \u001b[32m━━━━━━━━━━━━━━━━━━━━\u001b[0m\u001b[37m\u001b[0m \u001b[1m12s\u001b[0m 170ms/step - accuracy: 0.6894 - loss: 1.4541 - val_accuracy: 0.4902 - val_loss: 2.0711 - learning_rate: 1.0000e-04\n",
      "Epoch 10/30\n",
      "\u001b[1m69/69\u001b[0m \u001b[32m━━━━━━━━━━━━━━━━━━━━\u001b[0m\u001b[37m\u001b[0m \u001b[1m12s\u001b[0m 170ms/step - accuracy: 0.6990 - loss: 1.4179 - val_accuracy: 0.4683 - val_loss: 2.1909 - learning_rate: 1.0000e-04\n",
      "Epoch 11/30\n",
      "\u001b[1m69/69\u001b[0m \u001b[32m━━━━━━━━━━━━━━━━━━━━\u001b[0m\u001b[37m\u001b[0m \u001b[1m12s\u001b[0m 169ms/step - accuracy: 0.6904 - loss: 1.4024 - val_accuracy: 0.4585 - val_loss: 2.0987 - learning_rate: 1.0000e-04\n",
      "Epoch 12/30\n",
      "\u001b[1m69/69\u001b[0m \u001b[32m━━━━━━━━━━━━━━━━━━━━\u001b[0m\u001b[37m\u001b[0m \u001b[1m12s\u001b[0m 169ms/step - accuracy: 0.7056 - loss: 1.3539 - val_accuracy: 0.4659 - val_loss: 2.1582 - learning_rate: 1.0000e-04\n",
      "Epoch 13/30\n",
      "\u001b[1m69/69\u001b[0m \u001b[32m━━━━━━━━━━━━━━━━━━━━\u001b[0m\u001b[37m\u001b[0m \u001b[1m12s\u001b[0m 171ms/step - accuracy: 0.7519 - loss: 1.3113 - val_accuracy: 0.4976 - val_loss: 2.0703 - learning_rate: 5.0000e-05\n",
      "Epoch 14/30\n",
      "\u001b[1m69/69\u001b[0m \u001b[32m━━━━━━━━━━━━━━━━━━━━\u001b[0m\u001b[37m\u001b[0m \u001b[1m12s\u001b[0m 169ms/step - accuracy: 0.7563 - loss: 1.2472 - val_accuracy: 0.4902 - val_loss: 2.0673 - learning_rate: 5.0000e-05\n",
      "Epoch 15/30\n",
      "\u001b[1m69/69\u001b[0m \u001b[32m━━━━━━━━━━━━━━━━━━━━\u001b[0m\u001b[37m\u001b[0m \u001b[1m12s\u001b[0m 171ms/step - accuracy: 0.7795 - loss: 1.2051 - val_accuracy: 0.4854 - val_loss: 2.0484 - learning_rate: 5.0000e-05\n",
      "Epoch 16/30\n",
      "\u001b[1m69/69\u001b[0m \u001b[32m━━━━━━━━━━━━━━━━━━━━\u001b[0m\u001b[37m\u001b[0m \u001b[1m12s\u001b[0m 169ms/step - accuracy: 0.7888 - loss: 1.1509 - val_accuracy: 0.4780 - val_loss: 2.0948 - learning_rate: 5.0000e-05\n",
      "Epoch 17/30\n",
      "\u001b[1m69/69\u001b[0m \u001b[32m━━━━━━━━━━━━━━━━━━━━\u001b[0m\u001b[37m\u001b[0m \u001b[1m12s\u001b[0m 171ms/step - accuracy: 0.7874 - loss: 1.1609 - val_accuracy: 0.4902 - val_loss: 1.9914 - learning_rate: 5.0000e-05\n",
      "Epoch 18/30\n",
      "\u001b[1m69/69\u001b[0m \u001b[32m━━━━━━━━━━━━━━━━━━━━\u001b[0m\u001b[37m\u001b[0m \u001b[1m12s\u001b[0m 169ms/step - accuracy: 0.8128 - loss: 1.1253 - val_accuracy: 0.4634 - val_loss: 2.0585 - learning_rate: 5.0000e-05\n",
      "Epoch 19/30\n",
      "\u001b[1m69/69\u001b[0m \u001b[32m━━━━━━━━━━━━━━━━━━━━\u001b[0m\u001b[37m\u001b[0m \u001b[1m12s\u001b[0m 168ms/step - accuracy: 0.8176 - loss: 1.1079 - val_accuracy: 0.4951 - val_loss: 2.1280 - learning_rate: 5.0000e-05\n",
      "Epoch 20/30\n",
      "\u001b[1m69/69\u001b[0m \u001b[32m━━━━━━━━━━━━━━━━━━━━\u001b[0m\u001b[37m\u001b[0m \u001b[1m12s\u001b[0m 170ms/step - accuracy: 0.8157 - loss: 1.1069 - val_accuracy: 0.4805 - val_loss: 2.1206 - learning_rate: 5.0000e-05\n",
      "Epoch 21/30\n",
      "\u001b[1m69/69\u001b[0m \u001b[32m━━━━━━━━━━━━━━━━━━━━\u001b[0m\u001b[37m\u001b[0m \u001b[1m12s\u001b[0m 168ms/step - accuracy: 0.8297 - loss: 1.0481 - val_accuracy: 0.4902 - val_loss: 2.0677 - learning_rate: 2.5000e-05\n",
      "Epoch 22/30\n",
      "\u001b[1m69/69\u001b[0m \u001b[32m━━━━━━━━━━━━━━━━━━━━\u001b[0m\u001b[37m\u001b[0m \u001b[1m12s\u001b[0m 167ms/step - accuracy: 0.8472 - loss: 1.0074 - val_accuracy: 0.4878 - val_loss: 2.0752 - learning_rate: 2.5000e-05\n",
      "Epoch 23/30\n",
      "\u001b[1m69/69\u001b[0m \u001b[32m━━━━━━━━━━━━━━━━━━━━\u001b[0m\u001b[37m\u001b[0m \u001b[1m12s\u001b[0m 170ms/step - accuracy: 0.8501 - loss: 0.9968 - val_accuracy: 0.5122 - val_loss: 2.0331 - learning_rate: 2.5000e-05\n",
      "Epoch 24/30\n",
      "\u001b[1m69/69\u001b[0m \u001b[32m━━━━━━━━━━━━━━━━━━━━\u001b[0m\u001b[37m\u001b[0m \u001b[1m11s\u001b[0m 167ms/step - accuracy: 0.8659 - loss: 0.9660 - val_accuracy: 0.5073 - val_loss: 2.0226 - learning_rate: 1.2500e-05\n",
      "test_gen batch videos shape: (24, 5, 128, 128, 3)\n",
      "test_gen batch labels shape: (24, 16)\n",
      "\u001b[1m22/22\u001b[0m \u001b[32m━━━━━━━━━━━━━━━━━━━━\u001b[0m\u001b[37m\u001b[0m \u001b[1m3s\u001b[0m 153ms/step - accuracy: 0.5447 - loss: 1.9356\n",
      "VGG19+LSTM Test Loss: 1.9813\n",
      "VGG19+LSTM Test Accuracy: 52.73%\n"
     ]
    }
   ],
   "source": [
    "# Inception\n",
    "gc.collect()\n",
    "tf.keras.backend.clear_session()\n",
    "print(\"Memory cleared before creating VGG19+LSTM model\")\n",
    "\n",
    "# Print TensorFlow version\n",
    "print(f\"TensorFlow version: {tf.__version__}\")\n",
    "\n",
    "\n",
    "# Pre-load VGG19 weights\n",
    "print(\"Pre-loading VGG19 weights...\")\n",
    "try:\n",
    "    base_model = InceptionV3(weights='imagenet', include_top=False, input_shape=(IMAGE_HEIGHT, IMAGE_WIDTH, 3))\n",
    "    print(\"VGG19 weights loaded successfully!\")\n",
    "except Exception as e:\n",
    "    print(f\"Failed to load VGG19 weights: {str(e)}\")\n",
    "\n",
    "\n",
    "# Define function to create VGG19+LSTM model\n",
    "def create_model(sequence_length, image_height, image_width, classes_list=None, dropout_rate=0.5, base_model=None):\n",
    "   \n",
    "    \n",
    "    print(\"Creating VGG19+LSTM model with parameters:\")\n",
    "    print(f\"sequence_length: {sequence_length}, image_height: {image_height}, image_width: {image_width}, classes_list length: {len(classes_list) if classes_list is not None else None}, dropout_rate: {dropout_rate}\")\n",
    "    \n",
    "    if classes_list is None:\n",
    "        raise ValueError(\"classes_list must be provided to define the output layer size\")\n",
    "    if base_model is None:\n",
    "        raise ValueError(\"base_model must be provided to avoid re-downloading weights\")\n",
    "\n",
    "    try:\n",
    "        # Use the pre-loaded base model\n",
    "        # Freeze the base model for initial training\n",
    "        base_model.trainable = False\n",
    "\n",
    "        # Define the Sequential model\n",
    "        model = Sequential([\n",
    "            # TimeDistributed VGG19 model\n",
    "            TimeDistributed(\n",
    "                base_model,\n",
    "                input_shape=(sequence_length, image_height, image_width, 3),\n",
    "                name=\"time_distributed_vgg19\"\n",
    "            ),\n",
    "            # TimeDistributed GlobalAveragePooling2D\n",
    "            TimeDistributed(GlobalAveragePooling2D(), name=\"time_distributed_pooling\"),\n",
    "            # LSTM layer with 512 units\n",
    "            LSTM(512, activation=\"tanh\", return_sequences=False, kernel_regularizer=l2(0.01), name=\"lstm_vgg19\"),\n",
    "            BatchNormalization(name=\"batch_normalization_vgg19\"),\n",
    "            # Dropout after LSTM\n",
    "            Dropout(dropout_rate, name=\"dropout_lstm_vgg19\"),\n",
    "            # Dense layer with 512 units\n",
    "            Dense(512, activation=\"relu\", kernel_regularizer=l2(0.01), name=\"dense_vgg19_1\"),\n",
    "            # Dropout after first Dense\n",
    "            Dropout(dropout_rate, name=\"dropout_dense_vgg19_1\"),\n",
    "            # Dense layer with 128 units\n",
    "            Dense(128, activation=\"relu\", kernel_regularizer=l2(0.01), name=\"dense_vgg19_2\"),\n",
    "            # Dropout after second Dense\n",
    "            Dropout(dropout_rate, name=\"dropout_dense_vgg19_2\"),\n",
    "            # Output Dense layer with softmax activation\n",
    "            Dense(len(classes_list), activation=\"softmax\", name=\"output_vgg19\")\n",
    "        ])\n",
    "\n",
    "        # Print model summary\n",
    "        print(\"VGG19+LSTM model architecture created successfully!\")\n",
    "        model.summary()\n",
    "\n",
    "        return model\n",
    "\n",
    "    except Exception as e:\n",
    "        print(f\"Error creating VGG19+LSTM model: {str(e)}\")\n",
    "        import traceback\n",
    "        traceback.print_exc()\n",
    "        return None\n",
    "\n",
    "\n",
    "# Create the VGG19+LSTM model using the pre-loaded base model\n",
    "inception_gru_model = create_model(\n",
    "    sequence_length=SEQUENCE_LENGTH,\n",
    "    image_height=IMAGE_HEIGHT,\n",
    "    image_width=IMAGE_WIDTH,\n",
    "    classes_list=CLASSES_LIST,\n",
    "    dropout_rate=DROPOUT_RATE,\n",
    "    base_model=base_model\n",
    ")\n",
    "\n",
    "# Check if inception_gru_model was created successfully\n",
    "if inception_gru_model is None:\n",
    "    raise ValueError(\"Failed to create VGG19+LSTM model. Check error messages above.\")\n",
    "else:\n",
    "    print(\"VGG19+LSTM Model Created Successfully!\")\n",
    "\n",
    "# Ensure labels_test is one-hot encoded\n",
    "if len(labels_test.shape) == 1:\n",
    "    print(\"Converting labels_test to one-hot encoded format...\")\n",
    "    labels_test = to_categorical(labels_test, num_classes=NO_OF_CLASSES)\n",
    "    print(f\"New labels_test shape: {labels_test.shape}\")\n",
    "\n",
    "# Compile the model for initial training\n",
    "early_stopping_callback = EarlyStopping(monitor='val_loss', patience=7, mode='min', restore_best_weights=True)\n",
    "lr_scheduler = ReduceLROnPlateau(monitor='val_loss', factor=0.5, patience=3, min_lr=1e-6)\n",
    "\n",
    "inception_gru_model.compile(\n",
    "    loss='categorical_crossentropy',\n",
    "    optimizer=tf.keras.optimizers.Adam(learning_rate=0.001),  # Higher learning rate for initial training\n",
    "    metrics=['accuracy']\n",
    ")\n",
    "\n",
    "# Initial training with frozen base model\n",
    "print(f\"Initial training started for VGG19+LSTM model with {len(train_gen.videos)} videos of {NO_OF_CLASSES} classes with {len(val_gen.videos)} videos for validation...\")\n",
    "try:\n",
    "    initial_inception_gru_model_history = inception_gru_model.fit(\n",
    "        train_gen.as_dataset(),\n",
    "        validation_data=val_gen.as_dataset(),\n",
    "        epochs=EPOCHS,\n",
    "        class_weight=class_weights,\n",
    "        callbacks=[early_stopping_callback, lr_scheduler]\n",
    "    )\n",
    "except Exception as e:\n",
    "    print(f\"Error during initial model training: {str(e)}\")\n",
    "    import traceback\n",
    "    traceback.print_exc()\n",
    "\n",
    "# Unfreeze some layers for fine-tuning\n",
    "base_model.trainable = True\n",
    "# Freeze all layers except the last 8 layers (consistent with previous VGG19 code)\n",
    "for layer in base_model.layers[:-8]:\n",
    "    layer.trainable = False\n",
    "\n",
    "# Recompile the model with a lower learning rate for fine-tuning\n",
    "inception_gru_model.compile(\n",
    "    loss='categorical_crossentropy',\n",
    "    optimizer=tf.keras.optimizers.Adam(learning_rate=0.0001),  # Lower learning rate for fine-tuning\n",
    "    metrics=['accuracy']\n",
    ")\n",
    "\n",
    "# Fine-tune the model\n",
    "print(f\"\\nFine-tuning started for VGG19+LSTM model with {len(train_gen.videos)} videos of {NO_OF_CLASSES} classes with {len(val_gen.videos)} videos for validation...\")\n",
    "try:\n",
    "    fine_tune_inception_gru_model_history = inception_gru_model.fit(\n",
    "        train_gen.as_dataset(),\n",
    "        validation_data=val_gen.as_dataset(),\n",
    "        epochs=EPOCHS,\n",
    "        class_weight=class_weights,\n",
    "        callbacks=[early_stopping_callback, lr_scheduler]\n",
    "    )\n",
    "except Exception as e:\n",
    "    print(f\"Error during fine-tuning: {str(e)}\")\n",
    "    import traceback\n",
    "    traceback.print_exc()\n",
    "\n",
    "\n",
    "\n",
    "videos, labels = test_gen[0]\n",
    "print(f\"test_gen batch videos shape: {videos.shape}\")\n",
    "print(f\"test_gen batch labels shape: {labels.shape}\")\n",
    "loss, accuracy = inception_gru_model.evaluate(test_gen.as_dataset())\n",
    "print(f'VGG19+LSTM Test Loss: {loss:.4f}')\n",
    "print(f'VGG19+LSTM Test Accuracy: {accuracy * 100:.2f}%')"
   ]
  },
  {
   "cell_type": "markdown",
   "id": "4a2154d3",
   "metadata": {
    "papermill": {
     "duration": 0.856638,
     "end_time": "2025-07-14T06:46:55.063561",
     "exception": false,
     "start_time": "2025-07-14T06:46:54.206923",
     "status": "completed"
    },
    "tags": []
   },
   "source": [
    "## MobileNetV2 + LSTM"
   ]
  },
  {
   "cell_type": "code",
   "execution_count": 49,
   "id": "a6c4044b",
   "metadata": {
    "execution": {
     "iopub.execute_input": "2025-07-14T06:46:56.952665Z",
     "iopub.status.busy": "2025-07-14T06:46:56.952414Z",
     "iopub.status.idle": "2025-07-14T06:55:56.403994Z",
     "shell.execute_reply": "2025-07-14T06:55:56.403272Z"
    },
    "papermill": {
     "duration": 540.411328,
     "end_time": "2025-07-14T06:55:56.405078",
     "exception": false,
     "start_time": "2025-07-14T06:46:55.993750",
     "status": "completed"
    },
    "tags": []
   },
   "outputs": [
    {
     "name": "stdout",
     "output_type": "stream",
     "text": [
      "Memory cleared before creating VGG19+LSTM model\n",
      "TensorFlow version: 2.18.0\n",
      "Pre-loading VGG19 weights...\n",
      "Downloading data from https://storage.googleapis.com/tensorflow/keras-applications/mobilenet_v2/mobilenet_v2_weights_tf_dim_ordering_tf_kernels_1.0_128_no_top.h5\n",
      "\u001b[1m9406464/9406464\u001b[0m \u001b[32m━━━━━━━━━━━━━━━━━━━━\u001b[0m\u001b[37m\u001b[0m \u001b[1m0s\u001b[0m 0us/step\n",
      "VGG19 weights loaded successfully!\n",
      "Creating VGG19+LSTM model with parameters:\n",
      "sequence_length: 5, image_height: 128, image_width: 128, classes_list length: 16, dropout_rate: 0.5\n",
      "VGG19+LSTM model architecture created successfully!\n"
     ]
    },
    {
     "data": {
      "text/html": [
       "<pre style=\"white-space:pre;overflow-x:auto;line-height:normal;font-family:Menlo,'DejaVu Sans Mono',consolas,'Courier New',monospace\"><span style=\"font-weight: bold\">Model: \"sequential\"</span>\n",
       "</pre>\n"
      ],
      "text/plain": [
       "\u001b[1mModel: \"sequential\"\u001b[0m\n"
      ]
     },
     "metadata": {},
     "output_type": "display_data"
    },
    {
     "data": {
      "text/html": [
       "<pre style=\"white-space:pre;overflow-x:auto;line-height:normal;font-family:Menlo,'DejaVu Sans Mono',consolas,'Courier New',monospace\">┏━━━━━━━━━━━━━━━━━━━━━━━━━━━━━━━━━┳━━━━━━━━━━━━━━━━━━━━━━━━┳━━━━━━━━━━━━━━━┓\n",
       "┃<span style=\"font-weight: bold\"> Layer (type)                    </span>┃<span style=\"font-weight: bold\"> Output Shape           </span>┃<span style=\"font-weight: bold\">       Param # </span>┃\n",
       "┡━━━━━━━━━━━━━━━━━━━━━━━━━━━━━━━━━╇━━━━━━━━━━━━━━━━━━━━━━━━╇━━━━━━━━━━━━━━━┩\n",
       "│ time_distributed_vgg19          │ (<span style=\"color: #00d7ff; text-decoration-color: #00d7ff\">None</span>, <span style=\"color: #00af00; text-decoration-color: #00af00\">5</span>, <span style=\"color: #00af00; text-decoration-color: #00af00\">4</span>, <span style=\"color: #00af00; text-decoration-color: #00af00\">4</span>, <span style=\"color: #00af00; text-decoration-color: #00af00\">1280</span>)  │     <span style=\"color: #00af00; text-decoration-color: #00af00\">2,257,984</span> │\n",
       "│ (<span style=\"color: #0087ff; text-decoration-color: #0087ff\">TimeDistributed</span>)               │                        │               │\n",
       "├─────────────────────────────────┼────────────────────────┼───────────────┤\n",
       "│ time_distributed_pooling        │ (<span style=\"color: #00d7ff; text-decoration-color: #00d7ff\">None</span>, <span style=\"color: #00af00; text-decoration-color: #00af00\">5</span>, <span style=\"color: #00af00; text-decoration-color: #00af00\">1280</span>)        │             <span style=\"color: #00af00; text-decoration-color: #00af00\">0</span> │\n",
       "│ (<span style=\"color: #0087ff; text-decoration-color: #0087ff\">TimeDistributed</span>)               │                        │               │\n",
       "├─────────────────────────────────┼────────────────────────┼───────────────┤\n",
       "│ lstm_vgg19 (<span style=\"color: #0087ff; text-decoration-color: #0087ff\">LSTM</span>)               │ (<span style=\"color: #00d7ff; text-decoration-color: #00d7ff\">None</span>, <span style=\"color: #00af00; text-decoration-color: #00af00\">512</span>)            │     <span style=\"color: #00af00; text-decoration-color: #00af00\">3,672,064</span> │\n",
       "├─────────────────────────────────┼────────────────────────┼───────────────┤\n",
       "│ batch_normalization_vgg19       │ (<span style=\"color: #00d7ff; text-decoration-color: #00d7ff\">None</span>, <span style=\"color: #00af00; text-decoration-color: #00af00\">512</span>)            │         <span style=\"color: #00af00; text-decoration-color: #00af00\">2,048</span> │\n",
       "│ (<span style=\"color: #0087ff; text-decoration-color: #0087ff\">BatchNormalization</span>)            │                        │               │\n",
       "├─────────────────────────────────┼────────────────────────┼───────────────┤\n",
       "│ dropout_lstm_vgg19 (<span style=\"color: #0087ff; text-decoration-color: #0087ff\">Dropout</span>)    │ (<span style=\"color: #00d7ff; text-decoration-color: #00d7ff\">None</span>, <span style=\"color: #00af00; text-decoration-color: #00af00\">512</span>)            │             <span style=\"color: #00af00; text-decoration-color: #00af00\">0</span> │\n",
       "├─────────────────────────────────┼────────────────────────┼───────────────┤\n",
       "│ dense_vgg19_1 (<span style=\"color: #0087ff; text-decoration-color: #0087ff\">Dense</span>)           │ (<span style=\"color: #00d7ff; text-decoration-color: #00d7ff\">None</span>, <span style=\"color: #00af00; text-decoration-color: #00af00\">512</span>)            │       <span style=\"color: #00af00; text-decoration-color: #00af00\">262,656</span> │\n",
       "├─────────────────────────────────┼────────────────────────┼───────────────┤\n",
       "│ dropout_dense_vgg19_1 (<span style=\"color: #0087ff; text-decoration-color: #0087ff\">Dropout</span>) │ (<span style=\"color: #00d7ff; text-decoration-color: #00d7ff\">None</span>, <span style=\"color: #00af00; text-decoration-color: #00af00\">512</span>)            │             <span style=\"color: #00af00; text-decoration-color: #00af00\">0</span> │\n",
       "├─────────────────────────────────┼────────────────────────┼───────────────┤\n",
       "│ dense_vgg19_2 (<span style=\"color: #0087ff; text-decoration-color: #0087ff\">Dense</span>)           │ (<span style=\"color: #00d7ff; text-decoration-color: #00d7ff\">None</span>, <span style=\"color: #00af00; text-decoration-color: #00af00\">128</span>)            │        <span style=\"color: #00af00; text-decoration-color: #00af00\">65,664</span> │\n",
       "├─────────────────────────────────┼────────────────────────┼───────────────┤\n",
       "│ dropout_dense_vgg19_2 (<span style=\"color: #0087ff; text-decoration-color: #0087ff\">Dropout</span>) │ (<span style=\"color: #00d7ff; text-decoration-color: #00d7ff\">None</span>, <span style=\"color: #00af00; text-decoration-color: #00af00\">128</span>)            │             <span style=\"color: #00af00; text-decoration-color: #00af00\">0</span> │\n",
       "├─────────────────────────────────┼────────────────────────┼───────────────┤\n",
       "│ output_vgg19 (<span style=\"color: #0087ff; text-decoration-color: #0087ff\">Dense</span>)            │ (<span style=\"color: #00d7ff; text-decoration-color: #00d7ff\">None</span>, <span style=\"color: #00af00; text-decoration-color: #00af00\">16</span>)             │         <span style=\"color: #00af00; text-decoration-color: #00af00\">2,064</span> │\n",
       "└─────────────────────────────────┴────────────────────────┴───────────────┘\n",
       "</pre>\n"
      ],
      "text/plain": [
       "┏━━━━━━━━━━━━━━━━━━━━━━━━━━━━━━━━━┳━━━━━━━━━━━━━━━━━━━━━━━━┳━━━━━━━━━━━━━━━┓\n",
       "┃\u001b[1m \u001b[0m\u001b[1mLayer (type)                   \u001b[0m\u001b[1m \u001b[0m┃\u001b[1m \u001b[0m\u001b[1mOutput Shape          \u001b[0m\u001b[1m \u001b[0m┃\u001b[1m \u001b[0m\u001b[1m      Param #\u001b[0m\u001b[1m \u001b[0m┃\n",
       "┡━━━━━━━━━━━━━━━━━━━━━━━━━━━━━━━━━╇━━━━━━━━━━━━━━━━━━━━━━━━╇━━━━━━━━━━━━━━━┩\n",
       "│ time_distributed_vgg19          │ (\u001b[38;5;45mNone\u001b[0m, \u001b[38;5;34m5\u001b[0m, \u001b[38;5;34m4\u001b[0m, \u001b[38;5;34m4\u001b[0m, \u001b[38;5;34m1280\u001b[0m)  │     \u001b[38;5;34m2,257,984\u001b[0m │\n",
       "│ (\u001b[38;5;33mTimeDistributed\u001b[0m)               │                        │               │\n",
       "├─────────────────────────────────┼────────────────────────┼───────────────┤\n",
       "│ time_distributed_pooling        │ (\u001b[38;5;45mNone\u001b[0m, \u001b[38;5;34m5\u001b[0m, \u001b[38;5;34m1280\u001b[0m)        │             \u001b[38;5;34m0\u001b[0m │\n",
       "│ (\u001b[38;5;33mTimeDistributed\u001b[0m)               │                        │               │\n",
       "├─────────────────────────────────┼────────────────────────┼───────────────┤\n",
       "│ lstm_vgg19 (\u001b[38;5;33mLSTM\u001b[0m)               │ (\u001b[38;5;45mNone\u001b[0m, \u001b[38;5;34m512\u001b[0m)            │     \u001b[38;5;34m3,672,064\u001b[0m │\n",
       "├─────────────────────────────────┼────────────────────────┼───────────────┤\n",
       "│ batch_normalization_vgg19       │ (\u001b[38;5;45mNone\u001b[0m, \u001b[38;5;34m512\u001b[0m)            │         \u001b[38;5;34m2,048\u001b[0m │\n",
       "│ (\u001b[38;5;33mBatchNormalization\u001b[0m)            │                        │               │\n",
       "├─────────────────────────────────┼────────────────────────┼───────────────┤\n",
       "│ dropout_lstm_vgg19 (\u001b[38;5;33mDropout\u001b[0m)    │ (\u001b[38;5;45mNone\u001b[0m, \u001b[38;5;34m512\u001b[0m)            │             \u001b[38;5;34m0\u001b[0m │\n",
       "├─────────────────────────────────┼────────────────────────┼───────────────┤\n",
       "│ dense_vgg19_1 (\u001b[38;5;33mDense\u001b[0m)           │ (\u001b[38;5;45mNone\u001b[0m, \u001b[38;5;34m512\u001b[0m)            │       \u001b[38;5;34m262,656\u001b[0m │\n",
       "├─────────────────────────────────┼────────────────────────┼───────────────┤\n",
       "│ dropout_dense_vgg19_1 (\u001b[38;5;33mDropout\u001b[0m) │ (\u001b[38;5;45mNone\u001b[0m, \u001b[38;5;34m512\u001b[0m)            │             \u001b[38;5;34m0\u001b[0m │\n",
       "├─────────────────────────────────┼────────────────────────┼───────────────┤\n",
       "│ dense_vgg19_2 (\u001b[38;5;33mDense\u001b[0m)           │ (\u001b[38;5;45mNone\u001b[0m, \u001b[38;5;34m128\u001b[0m)            │        \u001b[38;5;34m65,664\u001b[0m │\n",
       "├─────────────────────────────────┼────────────────────────┼───────────────┤\n",
       "│ dropout_dense_vgg19_2 (\u001b[38;5;33mDropout\u001b[0m) │ (\u001b[38;5;45mNone\u001b[0m, \u001b[38;5;34m128\u001b[0m)            │             \u001b[38;5;34m0\u001b[0m │\n",
       "├─────────────────────────────────┼────────────────────────┼───────────────┤\n",
       "│ output_vgg19 (\u001b[38;5;33mDense\u001b[0m)            │ (\u001b[38;5;45mNone\u001b[0m, \u001b[38;5;34m16\u001b[0m)             │         \u001b[38;5;34m2,064\u001b[0m │\n",
       "└─────────────────────────────────┴────────────────────────┴───────────────┘\n"
      ]
     },
     "metadata": {},
     "output_type": "display_data"
    },
    {
     "data": {
      "text/html": [
       "<pre style=\"white-space:pre;overflow-x:auto;line-height:normal;font-family:Menlo,'DejaVu Sans Mono',consolas,'Courier New',monospace\"><span style=\"font-weight: bold\"> Total params: </span><span style=\"color: #00af00; text-decoration-color: #00af00\">6,262,480</span> (23.89 MB)\n",
       "</pre>\n"
      ],
      "text/plain": [
       "\u001b[1m Total params: \u001b[0m\u001b[38;5;34m6,262,480\u001b[0m (23.89 MB)\n"
      ]
     },
     "metadata": {},
     "output_type": "display_data"
    },
    {
     "data": {
      "text/html": [
       "<pre style=\"white-space:pre;overflow-x:auto;line-height:normal;font-family:Menlo,'DejaVu Sans Mono',consolas,'Courier New',monospace\"><span style=\"font-weight: bold\"> Trainable params: </span><span style=\"color: #00af00; text-decoration-color: #00af00\">4,003,472</span> (15.27 MB)\n",
       "</pre>\n"
      ],
      "text/plain": [
       "\u001b[1m Trainable params: \u001b[0m\u001b[38;5;34m4,003,472\u001b[0m (15.27 MB)\n"
      ]
     },
     "metadata": {},
     "output_type": "display_data"
    },
    {
     "data": {
      "text/html": [
       "<pre style=\"white-space:pre;overflow-x:auto;line-height:normal;font-family:Menlo,'DejaVu Sans Mono',consolas,'Courier New',monospace\"><span style=\"font-weight: bold\"> Non-trainable params: </span><span style=\"color: #00af00; text-decoration-color: #00af00\">2,259,008</span> (8.62 MB)\n",
       "</pre>\n"
      ],
      "text/plain": [
       "\u001b[1m Non-trainable params: \u001b[0m\u001b[38;5;34m2,259,008\u001b[0m (8.62 MB)\n"
      ]
     },
     "metadata": {},
     "output_type": "display_data"
    },
    {
     "name": "stdout",
     "output_type": "stream",
     "text": [
      "VGG19+LSTM Model Created Successfully!\n",
      "Initial training started for VGG19+LSTM model with 1638 videos of 16 classes with 410 videos for validation...\n",
      "Epoch 1/30\n",
      "\u001b[1m69/69\u001b[0m \u001b[32m━━━━━━━━━━━━━━━━━━━━\u001b[0m\u001b[37m\u001b[0m \u001b[1m42s\u001b[0m 206ms/step - accuracy: 0.0623 - loss: 23.8359 - val_accuracy: 0.1024 - val_loss: 16.1181 - learning_rate: 0.0010\n",
      "Epoch 2/30\n",
      "\u001b[1m69/69\u001b[0m \u001b[32m━━━━━━━━━━━━━━━━━━━━\u001b[0m\u001b[37m\u001b[0m \u001b[1m7s\u001b[0m 101ms/step - accuracy: 0.1006 - loss: 14.9348 - val_accuracy: 0.1171 - val_loss: 11.7669 - learning_rate: 0.0010\n",
      "Epoch 3/30\n",
      "\u001b[1m69/69\u001b[0m \u001b[32m━━━━━━━━━━━━━━━━━━━━\u001b[0m\u001b[37m\u001b[0m \u001b[1m7s\u001b[0m 102ms/step - accuracy: 0.1320 - loss: 11.0386 - val_accuracy: 0.1659 - val_loss: 9.1982 - learning_rate: 0.0010\n",
      "Epoch 4/30\n",
      "\u001b[1m69/69\u001b[0m \u001b[32m━━━━━━━━━━━━━━━━━━━━\u001b[0m\u001b[37m\u001b[0m \u001b[1m7s\u001b[0m 104ms/step - accuracy: 0.1741 - loss: 8.6690 - val_accuracy: 0.1854 - val_loss: 7.4926 - learning_rate: 0.0010\n",
      "Epoch 5/30\n",
      "\u001b[1m69/69\u001b[0m \u001b[32m━━━━━━━━━━━━━━━━━━━━\u001b[0m\u001b[37m\u001b[0m \u001b[1m7s\u001b[0m 105ms/step - accuracy: 0.2321 - loss: 7.0096 - val_accuracy: 0.2634 - val_loss: 6.1635 - learning_rate: 0.0010\n",
      "Epoch 6/30\n",
      "\u001b[1m69/69\u001b[0m \u001b[32m━━━━━━━━━━━━━━━━━━━━\u001b[0m\u001b[37m\u001b[0m \u001b[1m7s\u001b[0m 104ms/step - accuracy: 0.2744 - loss: 5.8219 - val_accuracy: 0.3366 - val_loss: 5.1504 - learning_rate: 0.0010\n",
      "Epoch 7/30\n",
      "\u001b[1m69/69\u001b[0m \u001b[32m━━━━━━━━━━━━━━━━━━━━\u001b[0m\u001b[37m\u001b[0m \u001b[1m7s\u001b[0m 102ms/step - accuracy: 0.3390 - loss: 4.9054 - val_accuracy: 0.2268 - val_loss: 4.7412 - learning_rate: 0.0010\n",
      "Epoch 8/30\n",
      "\u001b[1m69/69\u001b[0m \u001b[32m━━━━━━━━━━━━━━━━━━━━\u001b[0m\u001b[37m\u001b[0m \u001b[1m7s\u001b[0m 101ms/step - accuracy: 0.3812 - loss: 4.3504 - val_accuracy: 0.3854 - val_loss: 3.9346 - learning_rate: 0.0010\n",
      "Epoch 9/30\n",
      "\u001b[1m69/69\u001b[0m \u001b[32m━━━━━━━━━━━━━━━━━━━━\u001b[0m\u001b[37m\u001b[0m \u001b[1m7s\u001b[0m 103ms/step - accuracy: 0.4187 - loss: 3.8091 - val_accuracy: 0.4024 - val_loss: 3.5800 - learning_rate: 0.0010\n",
      "Epoch 10/30\n",
      "\u001b[1m69/69\u001b[0m \u001b[32m━━━━━━━━━━━━━━━━━━━━\u001b[0m\u001b[37m\u001b[0m \u001b[1m7s\u001b[0m 100ms/step - accuracy: 0.4299 - loss: 3.4128 - val_accuracy: 0.4634 - val_loss: 3.1846 - learning_rate: 0.0010\n",
      "Epoch 11/30\n",
      "\u001b[1m69/69\u001b[0m \u001b[32m━━━━━━━━━━━━━━━━━━━━\u001b[0m\u001b[37m\u001b[0m \u001b[1m7s\u001b[0m 102ms/step - accuracy: 0.4859 - loss: 3.0623 - val_accuracy: 0.4146 - val_loss: 3.1312 - learning_rate: 0.0010\n",
      "Epoch 12/30\n",
      "\u001b[1m69/69\u001b[0m \u001b[32m━━━━━━━━━━━━━━━━━━━━\u001b[0m\u001b[37m\u001b[0m \u001b[1m7s\u001b[0m 100ms/step - accuracy: 0.4993 - loss: 2.9099 - val_accuracy: 0.3854 - val_loss: 3.4834 - learning_rate: 0.0010\n",
      "Epoch 13/30\n",
      "\u001b[1m69/69\u001b[0m \u001b[32m━━━━━━━━━━━━━━━━━━━━\u001b[0m\u001b[37m\u001b[0m \u001b[1m7s\u001b[0m 101ms/step - accuracy: 0.5064 - loss: 2.7552 - val_accuracy: 0.4049 - val_loss: 2.9465 - learning_rate: 0.0010\n",
      "Epoch 14/30\n",
      "\u001b[1m69/69\u001b[0m \u001b[32m━━━━━━━━━━━━━━━━━━━━\u001b[0m\u001b[37m\u001b[0m \u001b[1m7s\u001b[0m 102ms/step - accuracy: 0.5410 - loss: 2.5645 - val_accuracy: 0.4098 - val_loss: 2.8983 - learning_rate: 0.0010\n",
      "Epoch 15/30\n",
      "\u001b[1m69/69\u001b[0m \u001b[32m━━━━━━━━━━━━━━━━━━━━\u001b[0m\u001b[37m\u001b[0m \u001b[1m7s\u001b[0m 103ms/step - accuracy: 0.5271 - loss: 2.5440 - val_accuracy: 0.4780 - val_loss: 2.5818 - learning_rate: 0.0010\n",
      "Epoch 16/30\n",
      "\u001b[1m69/69\u001b[0m \u001b[32m━━━━━━━━━━━━━━━━━━━━\u001b[0m\u001b[37m\u001b[0m \u001b[1m7s\u001b[0m 101ms/step - accuracy: 0.5719 - loss: 2.3120 - val_accuracy: 0.4220 - val_loss: 2.9161 - learning_rate: 0.0010\n",
      "Epoch 17/30\n",
      "\u001b[1m69/69\u001b[0m \u001b[32m━━━━━━━━━━━━━━━━━━━━\u001b[0m\u001b[37m\u001b[0m \u001b[1m7s\u001b[0m 100ms/step - accuracy: 0.5751 - loss: 2.2914 - val_accuracy: 0.3585 - val_loss: 3.0689 - learning_rate: 0.0010\n",
      "Epoch 18/30\n",
      "\u001b[1m69/69\u001b[0m \u001b[32m━━━━━━━━━━━━━━━━━━━━\u001b[0m\u001b[37m\u001b[0m \u001b[1m7s\u001b[0m 103ms/step - accuracy: 0.5438 - loss: 2.3537 - val_accuracy: 0.4195 - val_loss: 3.0175 - learning_rate: 0.0010\n",
      "Epoch 19/30\n",
      "\u001b[1m69/69\u001b[0m \u001b[32m━━━━━━━━━━━━━━━━━━━━\u001b[0m\u001b[37m\u001b[0m \u001b[1m7s\u001b[0m 103ms/step - accuracy: 0.6291 - loss: 2.0783 - val_accuracy: 0.4780 - val_loss: 2.4707 - learning_rate: 5.0000e-04\n",
      "Epoch 20/30\n",
      "\u001b[1m69/69\u001b[0m \u001b[32m━━━━━━━━━━━━━━━━━━━━\u001b[0m\u001b[37m\u001b[0m \u001b[1m7s\u001b[0m 102ms/step - accuracy: 0.6646 - loss: 1.8575 - val_accuracy: 0.5073 - val_loss: 2.2558 - learning_rate: 5.0000e-04\n",
      "Epoch 21/30\n",
      "\u001b[1m69/69\u001b[0m \u001b[32m━━━━━━━━━━━━━━━━━━━━\u001b[0m\u001b[37m\u001b[0m \u001b[1m7s\u001b[0m 100ms/step - accuracy: 0.6771 - loss: 1.7322 - val_accuracy: 0.5098 - val_loss: 2.2890 - learning_rate: 5.0000e-04\n",
      "Epoch 22/30\n",
      "\u001b[1m69/69\u001b[0m \u001b[32m━━━━━━━━━━━━━━━━━━━━\u001b[0m\u001b[37m\u001b[0m \u001b[1m7s\u001b[0m 102ms/step - accuracy: 0.6920 - loss: 1.6649 - val_accuracy: 0.5171 - val_loss: 2.1318 - learning_rate: 5.0000e-04\n",
      "Epoch 23/30\n",
      "\u001b[1m69/69\u001b[0m \u001b[32m━━━━━━━━━━━━━━━━━━━━\u001b[0m\u001b[37m\u001b[0m \u001b[1m7s\u001b[0m 101ms/step - accuracy: 0.7377 - loss: 1.5391 - val_accuracy: 0.3976 - val_loss: 2.7668 - learning_rate: 5.0000e-04\n",
      "Epoch 24/30\n",
      "\u001b[1m69/69\u001b[0m \u001b[32m━━━━━━━━━━━━━━━━━━━━\u001b[0m\u001b[37m\u001b[0m \u001b[1m7s\u001b[0m 101ms/step - accuracy: 0.6992 - loss: 1.6102 - val_accuracy: 0.4805 - val_loss: 2.4901 - learning_rate: 5.0000e-04\n",
      "Epoch 25/30\n",
      "\u001b[1m69/69\u001b[0m \u001b[32m━━━━━━━━━━━━━━━━━━━━\u001b[0m\u001b[37m\u001b[0m \u001b[1m7s\u001b[0m 100ms/step - accuracy: 0.7427 - loss: 1.5159 - val_accuracy: 0.5195 - val_loss: 2.2399 - learning_rate: 5.0000e-04\n",
      "Epoch 26/30\n",
      "\u001b[1m69/69\u001b[0m \u001b[32m━━━━━━━━━━━━━━━━━━━━\u001b[0m\u001b[37m\u001b[0m \u001b[1m7s\u001b[0m 103ms/step - accuracy: 0.7611 - loss: 1.4355 - val_accuracy: 0.6244 - val_loss: 1.7332 - learning_rate: 2.5000e-04\n",
      "Epoch 27/30\n",
      "\u001b[1m69/69\u001b[0m \u001b[32m━━━━━━━━━━━━━━━━━━━━\u001b[0m\u001b[37m\u001b[0m \u001b[1m7s\u001b[0m 102ms/step - accuracy: 0.7994 - loss: 1.2868 - val_accuracy: 0.6390 - val_loss: 1.7797 - learning_rate: 2.5000e-04\n",
      "Epoch 28/30\n",
      "\u001b[1m69/69\u001b[0m \u001b[32m━━━━━━━━━━━━━━━━━━━━\u001b[0m\u001b[37m\u001b[0m \u001b[1m7s\u001b[0m 100ms/step - accuracy: 0.8304 - loss: 1.1782 - val_accuracy: 0.5561 - val_loss: 2.0924 - learning_rate: 2.5000e-04\n",
      "Epoch 29/30\n",
      "\u001b[1m69/69\u001b[0m \u001b[32m━━━━━━━━━━━━━━━━━━━━\u001b[0m\u001b[37m\u001b[0m \u001b[1m7s\u001b[0m 100ms/step - accuracy: 0.8104 - loss: 1.2237 - val_accuracy: 0.6049 - val_loss: 1.8260 - learning_rate: 2.5000e-04\n",
      "Epoch 30/30\n",
      "\u001b[1m69/69\u001b[0m \u001b[32m━━━━━━━━━━━━━━━━━━━━\u001b[0m\u001b[37m\u001b[0m \u001b[1m7s\u001b[0m 103ms/step - accuracy: 0.8510 - loss: 1.1101 - val_accuracy: 0.6512 - val_loss: 1.5520 - learning_rate: 1.2500e-04\n",
      "\n",
      "Fine-tuning started for VGG19+LSTM model with 1638 videos of 16 classes with 410 videos for validation...\n",
      "Epoch 1/30\n",
      "\u001b[1m69/69\u001b[0m \u001b[32m━━━━━━━━━━━━━━━━━━━━\u001b[0m\u001b[37m\u001b[0m \u001b[1m48s\u001b[0m 215ms/step - accuracy: 0.6126 - loss: 1.9758 - val_accuracy: 0.4732 - val_loss: 2.5358 - learning_rate: 1.0000e-04\n",
      "Epoch 2/30\n",
      "\u001b[1m69/69\u001b[0m \u001b[32m━━━━━━━━━━━━━━━━━━━━\u001b[0m\u001b[37m\u001b[0m \u001b[1m8s\u001b[0m 118ms/step - accuracy: 0.8157 - loss: 1.2008 - val_accuracy: 0.4585 - val_loss: 2.5015 - learning_rate: 1.0000e-04\n",
      "Epoch 3/30\n",
      "\u001b[1m69/69\u001b[0m \u001b[32m━━━━━━━━━━━━━━━━━━━━\u001b[0m\u001b[37m\u001b[0m \u001b[1m8s\u001b[0m 120ms/step - accuracy: 0.8512 - loss: 1.0692 - val_accuracy: 0.5902 - val_loss: 1.9065 - learning_rate: 1.0000e-04\n",
      "Epoch 4/30\n",
      "\u001b[1m69/69\u001b[0m \u001b[32m━━━━━━━━━━━━━━━━━━━━\u001b[0m\u001b[37m\u001b[0m \u001b[1m8s\u001b[0m 122ms/step - accuracy: 0.9050 - loss: 0.9543 - val_accuracy: 0.6098 - val_loss: 1.8510 - learning_rate: 1.0000e-04\n",
      "Epoch 5/30\n",
      "\u001b[1m69/69\u001b[0m \u001b[32m━━━━━━━━━━━━━━━━━━━━\u001b[0m\u001b[37m\u001b[0m \u001b[1m8s\u001b[0m 120ms/step - accuracy: 0.9136 - loss: 0.8931 - val_accuracy: 0.6390 - val_loss: 1.6696 - learning_rate: 1.0000e-04\n",
      "Epoch 6/30\n",
      "\u001b[1m69/69\u001b[0m \u001b[32m━━━━━━━━━━━━━━━━━━━━\u001b[0m\u001b[37m\u001b[0m \u001b[1m8s\u001b[0m 118ms/step - accuracy: 0.9281 - loss: 0.8396 - val_accuracy: 0.6463 - val_loss: 1.7076 - learning_rate: 1.0000e-04\n",
      "Epoch 7/30\n",
      "\u001b[1m69/69\u001b[0m \u001b[32m━━━━━━━━━━━━━━━━━━━━\u001b[0m\u001b[37m\u001b[0m \u001b[1m8s\u001b[0m 118ms/step - accuracy: 0.9431 - loss: 0.7867 - val_accuracy: 0.6561 - val_loss: 1.6001 - learning_rate: 1.0000e-04\n",
      "Epoch 8/30\n",
      "\u001b[1m69/69\u001b[0m \u001b[32m━━━━━━━━━━━━━━━━━━━━\u001b[0m\u001b[37m\u001b[0m \u001b[1m8s\u001b[0m 118ms/step - accuracy: 0.9480 - loss: 0.7669 - val_accuracy: 0.6512 - val_loss: 1.6482 - learning_rate: 1.0000e-04\n",
      "Epoch 9/30\n",
      "\u001b[1m69/69\u001b[0m \u001b[32m━━━━━━━━━━━━━━━━━━━━\u001b[0m\u001b[37m\u001b[0m \u001b[1m8s\u001b[0m 116ms/step - accuracy: 0.9488 - loss: 0.7279 - val_accuracy: 0.6610 - val_loss: 1.6585 - learning_rate: 1.0000e-04\n",
      "Epoch 10/30\n",
      "\u001b[1m69/69\u001b[0m \u001b[32m━━━━━━━━━━━━━━━━━━━━\u001b[0m\u001b[37m\u001b[0m \u001b[1m8s\u001b[0m 116ms/step - accuracy: 0.9599 - loss: 0.7040 - val_accuracy: 0.6537 - val_loss: 1.6688 - learning_rate: 1.0000e-04\n",
      "Epoch 11/30\n",
      "\u001b[1m69/69\u001b[0m \u001b[32m━━━━━━━━━━━━━━━━━━━━\u001b[0m\u001b[37m\u001b[0m \u001b[1m8s\u001b[0m 117ms/step - accuracy: 0.9802 - loss: 0.6471 - val_accuracy: 0.6829 - val_loss: 1.4575 - learning_rate: 5.0000e-05\n",
      "Epoch 12/30\n",
      "\u001b[1m69/69\u001b[0m \u001b[32m━━━━━━━━━━━━━━━━━━━━\u001b[0m\u001b[37m\u001b[0m \u001b[1m8s\u001b[0m 118ms/step - accuracy: 0.9894 - loss: 0.5978 - val_accuracy: 0.7122 - val_loss: 1.4267 - learning_rate: 5.0000e-05\n",
      "Epoch 13/30\n",
      "\u001b[1m69/69\u001b[0m \u001b[32m━━━━━━━━━━━━━━━━━━━━\u001b[0m\u001b[37m\u001b[0m \u001b[1m8s\u001b[0m 118ms/step - accuracy: 0.9890 - loss: 0.5913 - val_accuracy: 0.7171 - val_loss: 1.4012 - learning_rate: 5.0000e-05\n",
      "Epoch 14/30\n",
      "\u001b[1m69/69\u001b[0m \u001b[32m━━━━━━━━━━━━━━━━━━━━\u001b[0m\u001b[37m\u001b[0m \u001b[1m8s\u001b[0m 119ms/step - accuracy: 0.9872 - loss: 0.5808 - val_accuracy: 0.7293 - val_loss: 1.3684 - learning_rate: 5.0000e-05\n",
      "Epoch 15/30\n",
      "\u001b[1m69/69\u001b[0m \u001b[32m━━━━━━━━━━━━━━━━━━━━\u001b[0m\u001b[37m\u001b[0m \u001b[1m8s\u001b[0m 117ms/step - accuracy: 0.9891 - loss: 0.5618 - val_accuracy: 0.7024 - val_loss: 1.3738 - learning_rate: 5.0000e-05\n",
      "Epoch 16/30\n",
      "\u001b[1m69/69\u001b[0m \u001b[32m━━━━━━━━━━━━━━━━━━━━\u001b[0m\u001b[37m\u001b[0m \u001b[1m8s\u001b[0m 119ms/step - accuracy: 0.9909 - loss: 0.5448 - val_accuracy: 0.7122 - val_loss: 1.3837 - learning_rate: 5.0000e-05\n",
      "Epoch 17/30\n",
      "\u001b[1m69/69\u001b[0m \u001b[32m━━━━━━━━━━━━━━━━━━━━\u001b[0m\u001b[37m\u001b[0m \u001b[1m8s\u001b[0m 117ms/step - accuracy: 0.9954 - loss: 0.5255 - val_accuracy: 0.7049 - val_loss: 1.3815 - learning_rate: 5.0000e-05\n",
      "Epoch 18/30\n",
      "\u001b[1m69/69\u001b[0m \u001b[32m━━━━━━━━━━━━━━━━━━━━\u001b[0m\u001b[37m\u001b[0m \u001b[1m8s\u001b[0m 118ms/step - accuracy: 0.9955 - loss: 0.5162 - val_accuracy: 0.7268 - val_loss: 1.3412 - learning_rate: 2.5000e-05\n",
      "Epoch 19/30\n",
      "\u001b[1m69/69\u001b[0m \u001b[32m━━━━━━━━━━━━━━━━━━━━\u001b[0m\u001b[37m\u001b[0m \u001b[1m8s\u001b[0m 118ms/step - accuracy: 0.9968 - loss: 0.5042 - val_accuracy: 0.7195 - val_loss: 1.3385 - learning_rate: 2.5000e-05\n",
      "Epoch 20/30\n",
      "\u001b[1m69/69\u001b[0m \u001b[32m━━━━━━━━━━━━━━━━━━━━\u001b[0m\u001b[37m\u001b[0m \u001b[1m8s\u001b[0m 120ms/step - accuracy: 0.9968 - loss: 0.5028 - val_accuracy: 0.7195 - val_loss: 1.3342 - learning_rate: 2.5000e-05\n",
      "Epoch 21/30\n",
      "\u001b[1m69/69\u001b[0m \u001b[32m━━━━━━━━━━━━━━━━━━━━\u001b[0m\u001b[37m\u001b[0m \u001b[1m8s\u001b[0m 118ms/step - accuracy: 0.9957 - loss: 0.4935 - val_accuracy: 0.7220 - val_loss: 1.3480 - learning_rate: 2.5000e-05\n",
      "Epoch 22/30\n",
      "\u001b[1m69/69\u001b[0m \u001b[32m━━━━━━━━━━━━━━━━━━━━\u001b[0m\u001b[37m\u001b[0m \u001b[1m8s\u001b[0m 118ms/step - accuracy: 0.9953 - loss: 0.4865 - val_accuracy: 0.7195 - val_loss: 1.3294 - learning_rate: 2.5000e-05\n",
      "Epoch 23/30\n",
      "\u001b[1m69/69\u001b[0m \u001b[32m━━━━━━━━━━━━━━━━━━━━\u001b[0m\u001b[37m\u001b[0m \u001b[1m8s\u001b[0m 117ms/step - accuracy: 0.9989 - loss: 0.4801 - val_accuracy: 0.7195 - val_loss: 1.3539 - learning_rate: 2.5000e-05\n",
      "Epoch 24/30\n",
      "\u001b[1m69/69\u001b[0m \u001b[32m━━━━━━━━━━━━━━━━━━━━\u001b[0m\u001b[37m\u001b[0m \u001b[1m8s\u001b[0m 118ms/step - accuracy: 0.9989 - loss: 0.4722 - val_accuracy: 0.7000 - val_loss: 1.3715 - learning_rate: 2.5000e-05\n",
      "Epoch 25/30\n",
      "\u001b[1m69/69\u001b[0m \u001b[32m━━━━━━━━━━━━━━━━━━━━\u001b[0m\u001b[37m\u001b[0m \u001b[1m8s\u001b[0m 117ms/step - accuracy: 0.9950 - loss: 0.4731 - val_accuracy: 0.7171 - val_loss: 1.3330 - learning_rate: 2.5000e-05\n",
      "Epoch 26/30\n",
      "\u001b[1m69/69\u001b[0m \u001b[32m━━━━━━━━━━━━━━━━━━━━\u001b[0m\u001b[37m\u001b[0m \u001b[1m8s\u001b[0m 118ms/step - accuracy: 0.9977 - loss: 0.4581 - val_accuracy: 0.7146 - val_loss: 1.3120 - learning_rate: 1.2500e-05\n",
      "Epoch 27/30\n",
      "\u001b[1m69/69\u001b[0m \u001b[32m━━━━━━━━━━━━━━━━━━━━\u001b[0m\u001b[37m\u001b[0m \u001b[1m8s\u001b[0m 117ms/step - accuracy: 0.9958 - loss: 0.4585 - val_accuracy: 0.7098 - val_loss: 1.3191 - learning_rate: 1.2500e-05\n",
      "Epoch 28/30\n",
      "\u001b[1m69/69\u001b[0m \u001b[32m━━━━━━━━━━━━━━━━━━━━\u001b[0m\u001b[37m\u001b[0m \u001b[1m8s\u001b[0m 119ms/step - accuracy: 0.9980 - loss: 0.4516 - val_accuracy: 0.7195 - val_loss: 1.3031 - learning_rate: 1.2500e-05\n",
      "Epoch 29/30\n",
      "\u001b[1m69/69\u001b[0m \u001b[32m━━━━━━━━━━━━━━━━━━━━\u001b[0m\u001b[37m\u001b[0m \u001b[1m8s\u001b[0m 118ms/step - accuracy: 0.9969 - loss: 0.4518 - val_accuracy: 0.7244 - val_loss: 1.3106 - learning_rate: 1.2500e-05\n",
      "Epoch 30/30\n",
      "\u001b[1m69/69\u001b[0m \u001b[32m━━━━━━━━━━━━━━━━━━━━\u001b[0m\u001b[37m\u001b[0m \u001b[1m8s\u001b[0m 117ms/step - accuracy: 0.9992 - loss: 0.4425 - val_accuracy: 0.7268 - val_loss: 1.3041 - learning_rate: 1.2500e-05\n",
      "test_gen batch videos shape: (24, 5, 128, 128, 3)\n",
      "test_gen batch labels shape: (24, 16)\n",
      "\u001b[1m22/22\u001b[0m \u001b[32m━━━━━━━━━━━━━━━━━━━━\u001b[0m\u001b[37m\u001b[0m \u001b[1m2s\u001b[0m 87ms/step - accuracy: 0.7683 - loss: 1.1735\n",
      "VGG19+LSTM Test Loss: 1.2384\n",
      "VGG19+LSTM Test Accuracy: 74.80%\n"
     ]
    }
   ],
   "source": [
    "# Inception\n",
    "gc.collect()\n",
    "tf.keras.backend.clear_session()\n",
    "print(\"Memory cleared before creating VGG19+LSTM model\")\n",
    "\n",
    "# Print TensorFlow version\n",
    "print(f\"TensorFlow version: {tf.__version__}\")\n",
    "\n",
    "\n",
    "# Pre-load VGG19 weights\n",
    "print(\"Pre-loading VGG19 weights...\")\n",
    "try:\n",
    "    base_model = MobileNetV2(weights='imagenet', include_top=False, input_shape=(IMAGE_HEIGHT, IMAGE_WIDTH, 3))\n",
    "    print(\"VGG19 weights loaded successfully!\")\n",
    "except Exception as e:\n",
    "    print(f\"Failed to load VGG19 weights: {str(e)}\")\n",
    "\n",
    "\n",
    "# Define function to create VGG19+LSTM model\n",
    "def create_model(sequence_length, image_height, image_width, classes_list=None, dropout_rate=0.5, base_model=None):\n",
    "   \n",
    "    \n",
    "    print(\"Creating VGG19+LSTM model with parameters:\")\n",
    "    print(f\"sequence_length: {sequence_length}, image_height: {image_height}, image_width: {image_width}, classes_list length: {len(classes_list) if classes_list is not None else None}, dropout_rate: {dropout_rate}\")\n",
    "    \n",
    "    if classes_list is None:\n",
    "        raise ValueError(\"classes_list must be provided to define the output layer size\")\n",
    "    if base_model is None:\n",
    "        raise ValueError(\"base_model must be provided to avoid re-downloading weights\")\n",
    "\n",
    "    try:\n",
    "        # Use the pre-loaded base model\n",
    "        # Freeze the base model for initial training\n",
    "        base_model.trainable = False\n",
    "\n",
    "        # Define the Sequential model\n",
    "        model = Sequential([\n",
    "            # TimeDistributed VGG19 model\n",
    "            TimeDistributed(\n",
    "                base_model,\n",
    "                input_shape=(sequence_length, image_height, image_width, 3),\n",
    "                name=\"time_distributed_vgg19\"\n",
    "            ),\n",
    "            # TimeDistributed GlobalAveragePooling2D\n",
    "            TimeDistributed(GlobalAveragePooling2D(), name=\"time_distributed_pooling\"),\n",
    "            # LSTM layer with 512 units\n",
    "            LSTM(512, activation=\"tanh\", return_sequences=False, kernel_regularizer=l2(0.01), name=\"lstm_vgg19\"),\n",
    "            BatchNormalization(name=\"batch_normalization_vgg19\"),\n",
    "            # Dropout after LSTM\n",
    "            Dropout(dropout_rate, name=\"dropout_lstm_vgg19\"),\n",
    "            # Dense layer with 512 units\n",
    "            Dense(512, activation=\"relu\", kernel_regularizer=l2(0.01), name=\"dense_vgg19_1\"),\n",
    "            # Dropout after first Dense\n",
    "            Dropout(dropout_rate, name=\"dropout_dense_vgg19_1\"),\n",
    "            # Dense layer with 128 units\n",
    "            Dense(128, activation=\"relu\", kernel_regularizer=l2(0.01), name=\"dense_vgg19_2\"),\n",
    "            # Dropout after second Dense\n",
    "            Dropout(dropout_rate, name=\"dropout_dense_vgg19_2\"),\n",
    "            # Output Dense layer with softmax activation\n",
    "            Dense(len(classes_list), activation=\"softmax\", name=\"output_vgg19\")\n",
    "        ])\n",
    "\n",
    "        # Print model summary\n",
    "        print(\"VGG19+LSTM model architecture created successfully!\")\n",
    "        model.summary()\n",
    "\n",
    "        return model\n",
    "\n",
    "    except Exception as e:\n",
    "        print(f\"Error creating VGG19+LSTM model: {str(e)}\")\n",
    "        import traceback\n",
    "        traceback.print_exc()\n",
    "        return None\n",
    "\n",
    "\n",
    "# Create the VGG19+LSTM model using the pre-loaded base model\n",
    "mobilenet_lstm_model = create_model(\n",
    "    sequence_length=SEQUENCE_LENGTH,\n",
    "    image_height=IMAGE_HEIGHT,\n",
    "    image_width=IMAGE_WIDTH,\n",
    "    classes_list=CLASSES_LIST,\n",
    "    dropout_rate=DROPOUT_RATE,\n",
    "    base_model=base_model\n",
    ")\n",
    "\n",
    "# Check if mobilenet_lstm_model was created successfully\n",
    "if mobilenet_lstm_model is None:\n",
    "    raise ValueError(\"Failed to create VGG19+LSTM model. Check error messages above.\")\n",
    "else:\n",
    "    print(\"VGG19+LSTM Model Created Successfully!\")\n",
    "\n",
    "# Ensure labels_test is one-hot encoded\n",
    "if len(labels_test.shape) == 1:\n",
    "    print(\"Converting labels_test to one-hot encoded format...\")\n",
    "    labels_test = to_categorical(labels_test, num_classes=NO_OF_CLASSES)\n",
    "    print(f\"New labels_test shape: {labels_test.shape}\")\n",
    "\n",
    "# Compile the model for initial training\n",
    "early_stopping_callback = EarlyStopping(monitor='val_loss', patience=7, mode='min', restore_best_weights=True)\n",
    "lr_scheduler = ReduceLROnPlateau(monitor='val_loss', factor=0.5, patience=3, min_lr=1e-6)\n",
    "\n",
    "mobilenet_lstm_model.compile(\n",
    "    loss='categorical_crossentropy',\n",
    "    optimizer=tf.keras.optimizers.Adam(learning_rate=0.001),  # Higher learning rate for initial training\n",
    "    metrics=['accuracy']\n",
    ")\n",
    "\n",
    "# Initial training with frozen base model\n",
    "print(f\"Initial training started for VGG19+LSTM model with {len(train_gen.videos)} videos of {NO_OF_CLASSES} classes with {len(val_gen.videos)} videos for validation...\")\n",
    "try:\n",
    "    initial_mobilenet_lstm_model_history = mobilenet_lstm_model.fit(\n",
    "        train_gen.as_dataset(),\n",
    "        validation_data=val_gen.as_dataset(),\n",
    "        epochs=EPOCHS,\n",
    "        class_weight=class_weights,\n",
    "        callbacks=[early_stopping_callback, lr_scheduler]\n",
    "    )\n",
    "except Exception as e:\n",
    "    print(f\"Error during initial model training: {str(e)}\")\n",
    "    import traceback\n",
    "    traceback.print_exc()\n",
    "\n",
    "# Unfreeze some layers for fine-tuning\n",
    "base_model.trainable = True\n",
    "# Freeze all layers except the last 8 layers (consistent with previous VGG19 code)\n",
    "for layer in base_model.layers[:-8]:\n",
    "    layer.trainable = False\n",
    "\n",
    "# Recompile the model with a lower learning rate for fine-tuning\n",
    "mobilenet_lstm_model.compile(\n",
    "    loss='categorical_crossentropy',\n",
    "    optimizer=tf.keras.optimizers.Adam(learning_rate=0.0001),  # Lower learning rate for fine-tuning\n",
    "    metrics=['accuracy']\n",
    ")\n",
    "\n",
    "# Fine-tune the model\n",
    "print(f\"\\nFine-tuning started for VGG19+LSTM model with {len(train_gen.videos)} videos of {NO_OF_CLASSES} classes with {len(val_gen.videos)} videos for validation...\")\n",
    "try:\n",
    "    fine_tune_mobilenet_lstm_model_history = mobilenet_lstm_model.fit(\n",
    "        train_gen.as_dataset(),\n",
    "        validation_data=val_gen.as_dataset(),\n",
    "        epochs=EPOCHS,\n",
    "        class_weight=class_weights,\n",
    "        callbacks=[early_stopping_callback, lr_scheduler]\n",
    "    )\n",
    "except Exception as e:\n",
    "    print(f\"Error during fine-tuning: {str(e)}\")\n",
    "    import traceback\n",
    "    traceback.print_exc()\n",
    "\n",
    "\n",
    "\n",
    "videos, labels = test_gen[0]\n",
    "print(f\"test_gen batch videos shape: {videos.shape}\")\n",
    "print(f\"test_gen batch labels shape: {labels.shape}\")\n",
    "loss, accuracy = mobilenet_lstm_model.evaluate(test_gen.as_dataset())\n",
    "print(f'VGG19+LSTM Test Loss: {loss:.4f}')\n",
    "print(f'VGG19+LSTM Test Accuracy: {accuracy * 100:.2f}%')"
   ]
  },
  {
   "cell_type": "markdown",
   "id": "6467591f",
   "metadata": {
    "papermill": {
     "duration": 1.105128,
     "end_time": "2025-07-14T06:55:58.611252",
     "exception": false,
     "start_time": "2025-07-14T06:55:57.506124",
     "status": "completed"
    },
    "tags": []
   },
   "source": [
    "## InceptionResNetV2 + Bi LSTM"
   ]
  },
  {
   "cell_type": "code",
   "execution_count": 50,
   "id": "19e01b9a",
   "metadata": {
    "execution": {
     "iopub.execute_input": "2025-07-14T06:56:00.814435Z",
     "iopub.status.busy": "2025-07-14T06:56:00.814128Z",
     "iopub.status.idle": "2025-07-14T07:27:33.827907Z",
     "shell.execute_reply": "2025-07-14T07:27:33.827089Z"
    },
    "papermill": {
     "duration": 1894.05026,
     "end_time": "2025-07-14T07:27:33.829022",
     "exception": false,
     "start_time": "2025-07-14T06:55:59.778762",
     "status": "completed"
    },
    "tags": []
   },
   "outputs": [
    {
     "name": "stdout",
     "output_type": "stream",
     "text": [
      "Memory cleared before creating VGG19+LSTM model\n",
      "TensorFlow version: 2.18.0\n",
      "Pre-loading VGG19 weights...\n",
      "Downloading data from https://storage.googleapis.com/tensorflow/keras-applications/inception_resnet_v2/inception_resnet_v2_weights_tf_dim_ordering_tf_kernels_notop.h5\n",
      "\u001b[1m219055592/219055592\u001b[0m \u001b[32m━━━━━━━━━━━━━━━━━━━━\u001b[0m\u001b[37m\u001b[0m \u001b[1m1s\u001b[0m 0us/step\n",
      "VGG19 weights loaded successfully!\n",
      "Creating VGG19+LSTM model with parameters:\n",
      "sequence_length: 5, image_height: 128, image_width: 128, classes_list length: 16, dropout_rate: 0.5\n",
      "VGG19+LSTM model architecture created successfully!\n"
     ]
    },
    {
     "data": {
      "text/html": [
       "<pre style=\"white-space:pre;overflow-x:auto;line-height:normal;font-family:Menlo,'DejaVu Sans Mono',consolas,'Courier New',monospace\"><span style=\"font-weight: bold\">Model: \"sequential\"</span>\n",
       "</pre>\n"
      ],
      "text/plain": [
       "\u001b[1mModel: \"sequential\"\u001b[0m\n"
      ]
     },
     "metadata": {},
     "output_type": "display_data"
    },
    {
     "data": {
      "text/html": [
       "<pre style=\"white-space:pre;overflow-x:auto;line-height:normal;font-family:Menlo,'DejaVu Sans Mono',consolas,'Courier New',monospace\">┏━━━━━━━━━━━━━━━━━━━━━━━━━━━━━━━━━┳━━━━━━━━━━━━━━━━━━━━━━━━┳━━━━━━━━━━━━━━━┓\n",
       "┃<span style=\"font-weight: bold\"> Layer (type)                    </span>┃<span style=\"font-weight: bold\"> Output Shape           </span>┃<span style=\"font-weight: bold\">       Param # </span>┃\n",
       "┡━━━━━━━━━━━━━━━━━━━━━━━━━━━━━━━━━╇━━━━━━━━━━━━━━━━━━━━━━━━╇━━━━━━━━━━━━━━━┩\n",
       "│ time_distributed_vgg19          │ (<span style=\"color: #00d7ff; text-decoration-color: #00d7ff\">None</span>, <span style=\"color: #00af00; text-decoration-color: #00af00\">5</span>, <span style=\"color: #00af00; text-decoration-color: #00af00\">2</span>, <span style=\"color: #00af00; text-decoration-color: #00af00\">2</span>, <span style=\"color: #00af00; text-decoration-color: #00af00\">1536</span>)  │    <span style=\"color: #00af00; text-decoration-color: #00af00\">54,336,736</span> │\n",
       "│ (<span style=\"color: #0087ff; text-decoration-color: #0087ff\">TimeDistributed</span>)               │                        │               │\n",
       "├─────────────────────────────────┼────────────────────────┼───────────────┤\n",
       "│ time_distributed_pooling        │ (<span style=\"color: #00d7ff; text-decoration-color: #00d7ff\">None</span>, <span style=\"color: #00af00; text-decoration-color: #00af00\">5</span>, <span style=\"color: #00af00; text-decoration-color: #00af00\">1536</span>)        │             <span style=\"color: #00af00; text-decoration-color: #00af00\">0</span> │\n",
       "│ (<span style=\"color: #0087ff; text-decoration-color: #0087ff\">TimeDistributed</span>)               │                        │               │\n",
       "├─────────────────────────────────┼────────────────────────┼───────────────┤\n",
       "│ bidirectional (<span style=\"color: #0087ff; text-decoration-color: #0087ff\">Bidirectional</span>)   │ (<span style=\"color: #00d7ff; text-decoration-color: #00d7ff\">None</span>, <span style=\"color: #00af00; text-decoration-color: #00af00\">512</span>)            │     <span style=\"color: #00af00; text-decoration-color: #00af00\">3,672,064</span> │\n",
       "├─────────────────────────────────┼────────────────────────┼───────────────┤\n",
       "│ batch_normalization_vgg19       │ (<span style=\"color: #00d7ff; text-decoration-color: #00d7ff\">None</span>, <span style=\"color: #00af00; text-decoration-color: #00af00\">512</span>)            │         <span style=\"color: #00af00; text-decoration-color: #00af00\">2,048</span> │\n",
       "│ (<span style=\"color: #0087ff; text-decoration-color: #0087ff\">BatchNormalization</span>)            │                        │               │\n",
       "├─────────────────────────────────┼────────────────────────┼───────────────┤\n",
       "│ dropout_lstm_vgg19 (<span style=\"color: #0087ff; text-decoration-color: #0087ff\">Dropout</span>)    │ (<span style=\"color: #00d7ff; text-decoration-color: #00d7ff\">None</span>, <span style=\"color: #00af00; text-decoration-color: #00af00\">512</span>)            │             <span style=\"color: #00af00; text-decoration-color: #00af00\">0</span> │\n",
       "├─────────────────────────────────┼────────────────────────┼───────────────┤\n",
       "│ dense_vgg19_1 (<span style=\"color: #0087ff; text-decoration-color: #0087ff\">Dense</span>)           │ (<span style=\"color: #00d7ff; text-decoration-color: #00d7ff\">None</span>, <span style=\"color: #00af00; text-decoration-color: #00af00\">512</span>)            │       <span style=\"color: #00af00; text-decoration-color: #00af00\">262,656</span> │\n",
       "├─────────────────────────────────┼────────────────────────┼───────────────┤\n",
       "│ dropout_dense_vgg19_1 (<span style=\"color: #0087ff; text-decoration-color: #0087ff\">Dropout</span>) │ (<span style=\"color: #00d7ff; text-decoration-color: #00d7ff\">None</span>, <span style=\"color: #00af00; text-decoration-color: #00af00\">512</span>)            │             <span style=\"color: #00af00; text-decoration-color: #00af00\">0</span> │\n",
       "├─────────────────────────────────┼────────────────────────┼───────────────┤\n",
       "│ dense_vgg19_2 (<span style=\"color: #0087ff; text-decoration-color: #0087ff\">Dense</span>)           │ (<span style=\"color: #00d7ff; text-decoration-color: #00d7ff\">None</span>, <span style=\"color: #00af00; text-decoration-color: #00af00\">128</span>)            │        <span style=\"color: #00af00; text-decoration-color: #00af00\">65,664</span> │\n",
       "├─────────────────────────────────┼────────────────────────┼───────────────┤\n",
       "│ dropout_dense_vgg19_2 (<span style=\"color: #0087ff; text-decoration-color: #0087ff\">Dropout</span>) │ (<span style=\"color: #00d7ff; text-decoration-color: #00d7ff\">None</span>, <span style=\"color: #00af00; text-decoration-color: #00af00\">128</span>)            │             <span style=\"color: #00af00; text-decoration-color: #00af00\">0</span> │\n",
       "├─────────────────────────────────┼────────────────────────┼───────────────┤\n",
       "│ output_vgg19 (<span style=\"color: #0087ff; text-decoration-color: #0087ff\">Dense</span>)            │ (<span style=\"color: #00d7ff; text-decoration-color: #00d7ff\">None</span>, <span style=\"color: #00af00; text-decoration-color: #00af00\">16</span>)             │         <span style=\"color: #00af00; text-decoration-color: #00af00\">2,064</span> │\n",
       "└─────────────────────────────────┴────────────────────────┴───────────────┘\n",
       "</pre>\n"
      ],
      "text/plain": [
       "┏━━━━━━━━━━━━━━━━━━━━━━━━━━━━━━━━━┳━━━━━━━━━━━━━━━━━━━━━━━━┳━━━━━━━━━━━━━━━┓\n",
       "┃\u001b[1m \u001b[0m\u001b[1mLayer (type)                   \u001b[0m\u001b[1m \u001b[0m┃\u001b[1m \u001b[0m\u001b[1mOutput Shape          \u001b[0m\u001b[1m \u001b[0m┃\u001b[1m \u001b[0m\u001b[1m      Param #\u001b[0m\u001b[1m \u001b[0m┃\n",
       "┡━━━━━━━━━━━━━━━━━━━━━━━━━━━━━━━━━╇━━━━━━━━━━━━━━━━━━━━━━━━╇━━━━━━━━━━━━━━━┩\n",
       "│ time_distributed_vgg19          │ (\u001b[38;5;45mNone\u001b[0m, \u001b[38;5;34m5\u001b[0m, \u001b[38;5;34m2\u001b[0m, \u001b[38;5;34m2\u001b[0m, \u001b[38;5;34m1536\u001b[0m)  │    \u001b[38;5;34m54,336,736\u001b[0m │\n",
       "│ (\u001b[38;5;33mTimeDistributed\u001b[0m)               │                        │               │\n",
       "├─────────────────────────────────┼────────────────────────┼───────────────┤\n",
       "│ time_distributed_pooling        │ (\u001b[38;5;45mNone\u001b[0m, \u001b[38;5;34m5\u001b[0m, \u001b[38;5;34m1536\u001b[0m)        │             \u001b[38;5;34m0\u001b[0m │\n",
       "│ (\u001b[38;5;33mTimeDistributed\u001b[0m)               │                        │               │\n",
       "├─────────────────────────────────┼────────────────────────┼───────────────┤\n",
       "│ bidirectional (\u001b[38;5;33mBidirectional\u001b[0m)   │ (\u001b[38;5;45mNone\u001b[0m, \u001b[38;5;34m512\u001b[0m)            │     \u001b[38;5;34m3,672,064\u001b[0m │\n",
       "├─────────────────────────────────┼────────────────────────┼───────────────┤\n",
       "│ batch_normalization_vgg19       │ (\u001b[38;5;45mNone\u001b[0m, \u001b[38;5;34m512\u001b[0m)            │         \u001b[38;5;34m2,048\u001b[0m │\n",
       "│ (\u001b[38;5;33mBatchNormalization\u001b[0m)            │                        │               │\n",
       "├─────────────────────────────────┼────────────────────────┼───────────────┤\n",
       "│ dropout_lstm_vgg19 (\u001b[38;5;33mDropout\u001b[0m)    │ (\u001b[38;5;45mNone\u001b[0m, \u001b[38;5;34m512\u001b[0m)            │             \u001b[38;5;34m0\u001b[0m │\n",
       "├─────────────────────────────────┼────────────────────────┼───────────────┤\n",
       "│ dense_vgg19_1 (\u001b[38;5;33mDense\u001b[0m)           │ (\u001b[38;5;45mNone\u001b[0m, \u001b[38;5;34m512\u001b[0m)            │       \u001b[38;5;34m262,656\u001b[0m │\n",
       "├─────────────────────────────────┼────────────────────────┼───────────────┤\n",
       "│ dropout_dense_vgg19_1 (\u001b[38;5;33mDropout\u001b[0m) │ (\u001b[38;5;45mNone\u001b[0m, \u001b[38;5;34m512\u001b[0m)            │             \u001b[38;5;34m0\u001b[0m │\n",
       "├─────────────────────────────────┼────────────────────────┼───────────────┤\n",
       "│ dense_vgg19_2 (\u001b[38;5;33mDense\u001b[0m)           │ (\u001b[38;5;45mNone\u001b[0m, \u001b[38;5;34m128\u001b[0m)            │        \u001b[38;5;34m65,664\u001b[0m │\n",
       "├─────────────────────────────────┼────────────────────────┼───────────────┤\n",
       "│ dropout_dense_vgg19_2 (\u001b[38;5;33mDropout\u001b[0m) │ (\u001b[38;5;45mNone\u001b[0m, \u001b[38;5;34m128\u001b[0m)            │             \u001b[38;5;34m0\u001b[0m │\n",
       "├─────────────────────────────────┼────────────────────────┼───────────────┤\n",
       "│ output_vgg19 (\u001b[38;5;33mDense\u001b[0m)            │ (\u001b[38;5;45mNone\u001b[0m, \u001b[38;5;34m16\u001b[0m)             │         \u001b[38;5;34m2,064\u001b[0m │\n",
       "└─────────────────────────────────┴────────────────────────┴───────────────┘\n"
      ]
     },
     "metadata": {},
     "output_type": "display_data"
    },
    {
     "data": {
      "text/html": [
       "<pre style=\"white-space:pre;overflow-x:auto;line-height:normal;font-family:Menlo,'DejaVu Sans Mono',consolas,'Courier New',monospace\"><span style=\"font-weight: bold\"> Total params: </span><span style=\"color: #00af00; text-decoration-color: #00af00\">58,341,232</span> (222.55 MB)\n",
       "</pre>\n"
      ],
      "text/plain": [
       "\u001b[1m Total params: \u001b[0m\u001b[38;5;34m58,341,232\u001b[0m (222.55 MB)\n"
      ]
     },
     "metadata": {},
     "output_type": "display_data"
    },
    {
     "data": {
      "text/html": [
       "<pre style=\"white-space:pre;overflow-x:auto;line-height:normal;font-family:Menlo,'DejaVu Sans Mono',consolas,'Courier New',monospace\"><span style=\"font-weight: bold\"> Trainable params: </span><span style=\"color: #00af00; text-decoration-color: #00af00\">4,003,472</span> (15.27 MB)\n",
       "</pre>\n"
      ],
      "text/plain": [
       "\u001b[1m Trainable params: \u001b[0m\u001b[38;5;34m4,003,472\u001b[0m (15.27 MB)\n"
      ]
     },
     "metadata": {},
     "output_type": "display_data"
    },
    {
     "data": {
      "text/html": [
       "<pre style=\"white-space:pre;overflow-x:auto;line-height:normal;font-family:Menlo,'DejaVu Sans Mono',consolas,'Courier New',monospace\"><span style=\"font-weight: bold\"> Non-trainable params: </span><span style=\"color: #00af00; text-decoration-color: #00af00\">54,337,760</span> (207.28 MB)\n",
       "</pre>\n"
      ],
      "text/plain": [
       "\u001b[1m Non-trainable params: \u001b[0m\u001b[38;5;34m54,337,760\u001b[0m (207.28 MB)\n"
      ]
     },
     "metadata": {},
     "output_type": "display_data"
    },
    {
     "name": "stdout",
     "output_type": "stream",
     "text": [
      "VGG19+LSTM Model Created Successfully!\n",
      "Initial training started for VGG19+LSTM model with 1638 videos of 16 classes with 410 videos for validation...\n",
      "Epoch 1/30\n",
      "\u001b[1m69/69\u001b[0m \u001b[32m━━━━━━━━━━━━━━━━━━━━\u001b[0m\u001b[37m\u001b[0m \u001b[1m183s\u001b[0m 976ms/step - accuracy: 0.0628 - loss: 30.9995 - val_accuracy: 0.0927 - val_loss: 19.4080 - learning_rate: 0.0010\n",
      "Epoch 2/30\n",
      "\u001b[1m69/69\u001b[0m \u001b[32m━━━━━━━━━━━━━━━━━━━━\u001b[0m\u001b[37m\u001b[0m \u001b[1m26s\u001b[0m 382ms/step - accuracy: 0.0956 - loss: 17.5208 - val_accuracy: 0.1951 - val_loss: 12.9744 - learning_rate: 0.0010\n",
      "Epoch 3/30\n",
      "\u001b[1m69/69\u001b[0m \u001b[32m━━━━━━━━━━━━━━━━━━━━\u001b[0m\u001b[37m\u001b[0m \u001b[1m26s\u001b[0m 373ms/step - accuracy: 0.1190 - loss: 12.0074 - val_accuracy: 0.1854 - val_loss: 9.6021 - learning_rate: 0.0010\n",
      "Epoch 4/30\n",
      "\u001b[1m69/69\u001b[0m \u001b[32m━━━━━━━━━━━━━━━━━━━━\u001b[0m\u001b[37m\u001b[0m \u001b[1m25s\u001b[0m 370ms/step - accuracy: 0.1571 - loss: 8.9864 - val_accuracy: 0.1829 - val_loss: 7.5411 - learning_rate: 0.0010\n",
      "Epoch 5/30\n",
      "\u001b[1m69/69\u001b[0m \u001b[32m━━━━━━━━━━━━━━━━━━━━\u001b[0m\u001b[37m\u001b[0m \u001b[1m26s\u001b[0m 375ms/step - accuracy: 0.2030 - loss: 7.0890 - val_accuracy: 0.2415 - val_loss: 6.2200 - learning_rate: 0.0010\n",
      "Epoch 6/30\n",
      "\u001b[1m69/69\u001b[0m \u001b[32m━━━━━━━━━━━━━━━━━━━━\u001b[0m\u001b[37m\u001b[0m \u001b[1m26s\u001b[0m 373ms/step - accuracy: 0.2322 - loss: 5.8748 - val_accuracy: 0.2317 - val_loss: 5.2634 - learning_rate: 0.0010\n",
      "Epoch 7/30\n",
      "\u001b[1m69/69\u001b[0m \u001b[32m━━━━━━━━━━━━━━━━━━━━\u001b[0m\u001b[37m\u001b[0m \u001b[1m26s\u001b[0m 372ms/step - accuracy: 0.2671 - loss: 5.0322 - val_accuracy: 0.3146 - val_loss: 4.5791 - learning_rate: 0.0010\n",
      "Epoch 8/30\n",
      "\u001b[1m69/69\u001b[0m \u001b[32m━━━━━━━━━━━━━━━━━━━━\u001b[0m\u001b[37m\u001b[0m \u001b[1m26s\u001b[0m 372ms/step - accuracy: 0.2912 - loss: 4.4781 - val_accuracy: 0.2561 - val_loss: 4.3276 - learning_rate: 0.0010\n",
      "Epoch 9/30\n",
      "\u001b[1m69/69\u001b[0m \u001b[32m━━━━━━━━━━━━━━━━━━━━\u001b[0m\u001b[37m\u001b[0m \u001b[1m26s\u001b[0m 374ms/step - accuracy: 0.3112 - loss: 4.0747 - val_accuracy: 0.2537 - val_loss: 3.9723 - learning_rate: 0.0010\n",
      "Epoch 10/30\n",
      "\u001b[1m69/69\u001b[0m \u001b[32m━━━━━━━━━━━━━━━━━━━━\u001b[0m\u001b[37m\u001b[0m \u001b[1m26s\u001b[0m 373ms/step - accuracy: 0.3170 - loss: 3.7649 - val_accuracy: 0.2659 - val_loss: 3.8720 - learning_rate: 0.0010\n",
      "Epoch 11/30\n",
      "\u001b[1m69/69\u001b[0m \u001b[32m━━━━━━━━━━━━━━━━━━━━\u001b[0m\u001b[37m\u001b[0m \u001b[1m26s\u001b[0m 374ms/step - accuracy: 0.3169 - loss: 3.6599 - val_accuracy: 0.2634 - val_loss: 3.8376 - learning_rate: 0.0010\n",
      "Epoch 12/30\n",
      "\u001b[1m69/69\u001b[0m \u001b[32m━━━━━━━━━━━━━━━━━━━━\u001b[0m\u001b[37m\u001b[0m \u001b[1m26s\u001b[0m 373ms/step - accuracy: 0.3207 - loss: 3.4770 - val_accuracy: 0.2659 - val_loss: 3.5276 - learning_rate: 0.0010\n",
      "Epoch 13/30\n",
      "\u001b[1m69/69\u001b[0m \u001b[32m━━━━━━━━━━━━━━━━━━━━\u001b[0m\u001b[37m\u001b[0m \u001b[1m25s\u001b[0m 370ms/step - accuracy: 0.3447 - loss: 3.4145 - val_accuracy: 0.1659 - val_loss: 4.4109 - learning_rate: 0.0010\n",
      "Epoch 14/30\n",
      "\u001b[1m69/69\u001b[0m \u001b[32m━━━━━━━━━━━━━━━━━━━━\u001b[0m\u001b[37m\u001b[0m \u001b[1m25s\u001b[0m 369ms/step - accuracy: 0.3292 - loss: 3.3307 - val_accuracy: 0.2171 - val_loss: 3.6541 - learning_rate: 0.0010\n",
      "Epoch 15/30\n",
      "\u001b[1m69/69\u001b[0m \u001b[32m━━━━━━━━━━━━━━━━━━━━\u001b[0m\u001b[37m\u001b[0m \u001b[1m26s\u001b[0m 374ms/step - accuracy: 0.3620 - loss: 3.2408 - val_accuracy: 0.3341 - val_loss: 3.2117 - learning_rate: 0.0010\n",
      "Epoch 16/30\n",
      "\u001b[1m69/69\u001b[0m \u001b[32m━━━━━━━━━━━━━━━━━━━━\u001b[0m\u001b[37m\u001b[0m \u001b[1m25s\u001b[0m 368ms/step - accuracy: 0.3541 - loss: 3.2055 - val_accuracy: 0.2902 - val_loss: 3.2759 - learning_rate: 0.0010\n",
      "Epoch 17/30\n",
      "\u001b[1m69/69\u001b[0m \u001b[32m━━━━━━━━━━━━━━━━━━━━\u001b[0m\u001b[37m\u001b[0m \u001b[1m25s\u001b[0m 368ms/step - accuracy: 0.3489 - loss: 3.1661 - val_accuracy: 0.2634 - val_loss: 3.5046 - learning_rate: 0.0010\n",
      "Epoch 18/30\n",
      "\u001b[1m69/69\u001b[0m \u001b[32m━━━━━━━━━━━━━━━━━━━━\u001b[0m\u001b[37m\u001b[0m \u001b[1m25s\u001b[0m 368ms/step - accuracy: 0.3535 - loss: 3.1042 - val_accuracy: 0.1732 - val_loss: 4.0395 - learning_rate: 0.0010\n",
      "Epoch 19/30\n",
      "\u001b[1m69/69\u001b[0m \u001b[32m━━━━━━━━━━━━━━━━━━━━\u001b[0m\u001b[37m\u001b[0m \u001b[1m25s\u001b[0m 368ms/step - accuracy: 0.3665 - loss: 3.0803 - val_accuracy: 0.2976 - val_loss: 3.2127 - learning_rate: 5.0000e-04\n",
      "Epoch 20/30\n",
      "\u001b[1m69/69\u001b[0m \u001b[32m━━━━━━━━━━━━━━━━━━━━\u001b[0m\u001b[37m\u001b[0m \u001b[1m26s\u001b[0m 375ms/step - accuracy: 0.4267 - loss: 2.6990 - val_accuracy: 0.3610 - val_loss: 2.8102 - learning_rate: 5.0000e-04\n",
      "Epoch 21/30\n",
      "\u001b[1m69/69\u001b[0m \u001b[32m━━━━━━━━━━━━━━━━━━━━\u001b[0m\u001b[37m\u001b[0m \u001b[1m26s\u001b[0m 372ms/step - accuracy: 0.4527 - loss: 2.5278 - val_accuracy: 0.3439 - val_loss: 2.7694 - learning_rate: 5.0000e-04\n",
      "Epoch 22/30\n",
      "\u001b[1m69/69\u001b[0m \u001b[32m━━━━━━━━━━━━━━━━━━━━\u001b[0m\u001b[37m\u001b[0m \u001b[1m26s\u001b[0m 375ms/step - accuracy: 0.4384 - loss: 2.5402 - val_accuracy: 0.3634 - val_loss: 2.6912 - learning_rate: 5.0000e-04\n",
      "Epoch 23/30\n",
      "\u001b[1m69/69\u001b[0m \u001b[32m━━━━━━━━━━━━━━━━━━━━\u001b[0m\u001b[37m\u001b[0m \u001b[1m26s\u001b[0m 374ms/step - accuracy: 0.4598 - loss: 2.4662 - val_accuracy: 0.4146 - val_loss: 2.5400 - learning_rate: 5.0000e-04\n",
      "Epoch 24/30\n",
      "\u001b[1m69/69\u001b[0m \u001b[32m━━━━━━━━━━━━━━━━━━━━\u001b[0m\u001b[37m\u001b[0m \u001b[1m25s\u001b[0m 368ms/step - accuracy: 0.4644 - loss: 2.3430 - val_accuracy: 0.3878 - val_loss: 2.5871 - learning_rate: 5.0000e-04\n",
      "Epoch 25/30\n",
      "\u001b[1m69/69\u001b[0m \u001b[32m━━━━━━━━━━━━━━━━━━━━\u001b[0m\u001b[37m\u001b[0m \u001b[1m25s\u001b[0m 368ms/step - accuracy: 0.4631 - loss: 2.3548 - val_accuracy: 0.3683 - val_loss: 2.7756 - learning_rate: 5.0000e-04\n",
      "Epoch 26/30\n",
      "\u001b[1m69/69\u001b[0m \u001b[32m━━━━━━━━━━━━━━━━━━━━\u001b[0m\u001b[37m\u001b[0m \u001b[1m25s\u001b[0m 368ms/step - accuracy: 0.4860 - loss: 2.3540 - val_accuracy: 0.3634 - val_loss: 2.6778 - learning_rate: 5.0000e-04\n",
      "Epoch 27/30\n",
      "\u001b[1m69/69\u001b[0m \u001b[32m━━━━━━━━━━━━━━━━━━━━\u001b[0m\u001b[37m\u001b[0m \u001b[1m26s\u001b[0m 373ms/step - accuracy: 0.4835 - loss: 2.2514 - val_accuracy: 0.4463 - val_loss: 2.3151 - learning_rate: 2.5000e-04\n",
      "Epoch 28/30\n",
      "\u001b[1m69/69\u001b[0m \u001b[32m━━━━━━━━━━━━━━━━━━━━\u001b[0m\u001b[37m\u001b[0m \u001b[1m26s\u001b[0m 374ms/step - accuracy: 0.5142 - loss: 2.1174 - val_accuracy: 0.4244 - val_loss: 2.3068 - learning_rate: 2.5000e-04\n",
      "Epoch 29/30\n",
      "\u001b[1m69/69\u001b[0m \u001b[32m━━━━━━━━━━━━━━━━━━━━\u001b[0m\u001b[37m\u001b[0m \u001b[1m26s\u001b[0m 373ms/step - accuracy: 0.5657 - loss: 1.9590 - val_accuracy: 0.4732 - val_loss: 2.1235 - learning_rate: 2.5000e-04\n",
      "Epoch 30/30\n",
      "\u001b[1m69/69\u001b[0m \u001b[32m━━━━━━━━━━━━━━━━━━━━\u001b[0m\u001b[37m\u001b[0m \u001b[1m25s\u001b[0m 368ms/step - accuracy: 0.5597 - loss: 1.9218 - val_accuracy: 0.4585 - val_loss: 2.2144 - learning_rate: 2.5000e-04\n",
      "\n",
      "Fine-tuning started for VGG19+LSTM model with 1638 videos of 16 classes with 410 videos for validation...\n",
      "Epoch 1/30\n",
      "\u001b[1m69/69\u001b[0m \u001b[32m━━━━━━━━━━━━━━━━━━━━\u001b[0m\u001b[37m\u001b[0m \u001b[1m187s\u001b[0m 992ms/step - accuracy: 0.5204 - loss: 2.1638 - val_accuracy: 0.3756 - val_loss: 2.5617 - learning_rate: 1.0000e-04\n",
      "Epoch 2/30\n",
      "\u001b[1m69/69\u001b[0m \u001b[32m━━━━━━━━━━━━━━━━━━━━\u001b[0m\u001b[37m\u001b[0m \u001b[1m27s\u001b[0m 394ms/step - accuracy: 0.6003 - loss: 1.7926 - val_accuracy: 0.5244 - val_loss: 2.0390 - learning_rate: 1.0000e-04\n",
      "Epoch 3/30\n",
      "\u001b[1m69/69\u001b[0m \u001b[32m━━━━━━━━━━━━━━━━━━━━\u001b[0m\u001b[37m\u001b[0m \u001b[1m26s\u001b[0m 384ms/step - accuracy: 0.6344 - loss: 1.6944 - val_accuracy: 0.5537 - val_loss: 1.8800 - learning_rate: 1.0000e-04\n",
      "Epoch 4/30\n",
      "\u001b[1m69/69\u001b[0m \u001b[32m━━━━━━━━━━━━━━━━━━━━\u001b[0m\u001b[37m\u001b[0m \u001b[1m26s\u001b[0m 375ms/step - accuracy: 0.6730 - loss: 1.5744 - val_accuracy: 0.5537 - val_loss: 1.9416 - learning_rate: 1.0000e-04\n",
      "Epoch 5/30\n",
      "\u001b[1m69/69\u001b[0m \u001b[32m━━━━━━━━━━━━━━━━━━━━\u001b[0m\u001b[37m\u001b[0m \u001b[1m27s\u001b[0m 386ms/step - accuracy: 0.6782 - loss: 1.5243 - val_accuracy: 0.5780 - val_loss: 1.7529 - learning_rate: 1.0000e-04\n",
      "Epoch 6/30\n",
      "\u001b[1m69/69\u001b[0m \u001b[32m━━━━━━━━━━━━━━━━━━━━\u001b[0m\u001b[37m\u001b[0m \u001b[1m26s\u001b[0m 380ms/step - accuracy: 0.7228 - loss: 1.3720 - val_accuracy: 0.5878 - val_loss: 1.7946 - learning_rate: 1.0000e-04\n",
      "Epoch 7/30\n",
      "\u001b[1m69/69\u001b[0m \u001b[32m━━━━━━━━━━━━━━━━━━━━\u001b[0m\u001b[37m\u001b[0m \u001b[1m26s\u001b[0m 383ms/step - accuracy: 0.7399 - loss: 1.3176 - val_accuracy: 0.5780 - val_loss: 1.7217 - learning_rate: 1.0000e-04\n",
      "Epoch 8/30\n",
      "\u001b[1m69/69\u001b[0m \u001b[32m━━━━━━━━━━━━━━━━━━━━\u001b[0m\u001b[37m\u001b[0m \u001b[1m26s\u001b[0m 380ms/step - accuracy: 0.7722 - loss: 1.2464 - val_accuracy: 0.6146 - val_loss: 1.7228 - learning_rate: 1.0000e-04\n",
      "Epoch 9/30\n",
      "\u001b[1m69/69\u001b[0m \u001b[32m━━━━━━━━━━━━━━━━━━━━\u001b[0m\u001b[37m\u001b[0m \u001b[1m26s\u001b[0m 380ms/step - accuracy: 0.7930 - loss: 1.1612 - val_accuracy: 0.5976 - val_loss: 1.8155 - learning_rate: 1.0000e-04\n",
      "Epoch 10/30\n",
      "\u001b[1m69/69\u001b[0m \u001b[32m━━━━━━━━━━━━━━━━━━━━\u001b[0m\u001b[37m\u001b[0m \u001b[1m26s\u001b[0m 385ms/step - accuracy: 0.8039 - loss: 1.0989 - val_accuracy: 0.6024 - val_loss: 1.6824 - learning_rate: 1.0000e-04\n",
      "Epoch 11/30\n",
      "\u001b[1m69/69\u001b[0m \u001b[32m━━━━━━━━━━━━━━━━━━━━\u001b[0m\u001b[37m\u001b[0m \u001b[1m26s\u001b[0m 384ms/step - accuracy: 0.8240 - loss: 1.0692 - val_accuracy: 0.6317 - val_loss: 1.6755 - learning_rate: 1.0000e-04\n",
      "Epoch 12/30\n",
      "\u001b[1m69/69\u001b[0m \u001b[32m━━━━━━━━━━━━━━━━━━━━\u001b[0m\u001b[37m\u001b[0m \u001b[1m26s\u001b[0m 378ms/step - accuracy: 0.8265 - loss: 1.0043 - val_accuracy: 0.5854 - val_loss: 1.9309 - learning_rate: 1.0000e-04\n",
      "Epoch 13/30\n",
      "\u001b[1m69/69\u001b[0m \u001b[32m━━━━━━━━━━━━━━━━━━━━\u001b[0m\u001b[37m\u001b[0m \u001b[1m26s\u001b[0m 378ms/step - accuracy: 0.8415 - loss: 1.0157 - val_accuracy: 0.6220 - val_loss: 1.7314 - learning_rate: 1.0000e-04\n",
      "Epoch 14/30\n",
      "\u001b[1m69/69\u001b[0m \u001b[32m━━━━━━━━━━━━━━━━━━━━\u001b[0m\u001b[37m\u001b[0m \u001b[1m26s\u001b[0m 379ms/step - accuracy: 0.8486 - loss: 0.9626 - val_accuracy: 0.6073 - val_loss: 1.7834 - learning_rate: 1.0000e-04\n",
      "Epoch 15/30\n",
      "\u001b[1m69/69\u001b[0m \u001b[32m━━━━━━━━━━━━━━━━━━━━\u001b[0m\u001b[37m\u001b[0m \u001b[1m26s\u001b[0m 383ms/step - accuracy: 0.8817 - loss: 0.8953 - val_accuracy: 0.6610 - val_loss: 1.5244 - learning_rate: 5.0000e-05\n",
      "Epoch 16/30\n",
      "\u001b[1m69/69\u001b[0m \u001b[32m━━━━━━━━━━━━━━━━━━━━\u001b[0m\u001b[37m\u001b[0m \u001b[1m26s\u001b[0m 379ms/step - accuracy: 0.9072 - loss: 0.8099 - val_accuracy: 0.6561 - val_loss: 1.5507 - learning_rate: 5.0000e-05\n",
      "Epoch 17/30\n",
      "\u001b[1m69/69\u001b[0m \u001b[32m━━━━━━━━━━━━━━━━━━━━\u001b[0m\u001b[37m\u001b[0m \u001b[1m26s\u001b[0m 385ms/step - accuracy: 0.9259 - loss: 0.7548 - val_accuracy: 0.6854 - val_loss: 1.5068 - learning_rate: 5.0000e-05\n",
      "Epoch 18/30\n",
      "\u001b[1m69/69\u001b[0m \u001b[32m━━━━━━━━━━━━━━━━━━━━\u001b[0m\u001b[37m\u001b[0m \u001b[1m26s\u001b[0m 383ms/step - accuracy: 0.9663 - loss: 0.6996 - val_accuracy: 0.6732 - val_loss: 1.5034 - learning_rate: 5.0000e-05\n",
      "Epoch 19/30\n",
      "\u001b[1m69/69\u001b[0m \u001b[32m━━━━━━━━━━━━━━━━━━━━\u001b[0m\u001b[37m\u001b[0m \u001b[1m26s\u001b[0m 378ms/step - accuracy: 0.9582 - loss: 0.6854 - val_accuracy: 0.6756 - val_loss: 1.5165 - learning_rate: 5.0000e-05\n",
      "Epoch 20/30\n",
      "\u001b[1m69/69\u001b[0m \u001b[32m━━━━━━━━━━━━━━━━━━━━\u001b[0m\u001b[37m\u001b[0m \u001b[1m26s\u001b[0m 378ms/step - accuracy: 0.9651 - loss: 0.6594 - val_accuracy: 0.6268 - val_loss: 1.6365 - learning_rate: 5.0000e-05\n",
      "Epoch 21/30\n",
      "\u001b[1m69/69\u001b[0m \u001b[32m━━━━━━━━━━━━━━━━━━━━\u001b[0m\u001b[37m\u001b[0m \u001b[1m26s\u001b[0m 383ms/step - accuracy: 0.9624 - loss: 0.6539 - val_accuracy: 0.6780 - val_loss: 1.4901 - learning_rate: 5.0000e-05\n",
      "Epoch 22/30\n",
      "\u001b[1m69/69\u001b[0m \u001b[32m━━━━━━━━━━━━━━━━━━━━\u001b[0m\u001b[37m\u001b[0m \u001b[1m26s\u001b[0m 377ms/step - accuracy: 0.9767 - loss: 0.6098 - val_accuracy: 0.6707 - val_loss: 1.5099 - learning_rate: 5.0000e-05\n",
      "Epoch 23/30\n",
      "\u001b[1m69/69\u001b[0m \u001b[32m━━━━━━━━━━━━━━━━━━━━\u001b[0m\u001b[37m\u001b[0m \u001b[1m26s\u001b[0m 380ms/step - accuracy: 0.9770 - loss: 0.5954 - val_accuracy: 0.6707 - val_loss: 1.5257 - learning_rate: 5.0000e-05\n",
      "Epoch 24/30\n",
      "\u001b[1m69/69\u001b[0m \u001b[32m━━━━━━━━━━━━━━━━━━━━\u001b[0m\u001b[37m\u001b[0m \u001b[1m26s\u001b[0m 384ms/step - accuracy: 0.9692 - loss: 0.5977 - val_accuracy: 0.6951 - val_loss: 1.4720 - learning_rate: 5.0000e-05\n",
      "Epoch 25/30\n",
      "\u001b[1m69/69\u001b[0m \u001b[32m━━━━━━━━━━━━━━━━━━━━\u001b[0m\u001b[37m\u001b[0m \u001b[1m26s\u001b[0m 378ms/step - accuracy: 0.9816 - loss: 0.5599 - val_accuracy: 0.6659 - val_loss: 1.5209 - learning_rate: 5.0000e-05\n",
      "Epoch 26/30\n",
      "\u001b[1m69/69\u001b[0m \u001b[32m━━━━━━━━━━━━━━━━━━━━\u001b[0m\u001b[37m\u001b[0m \u001b[1m26s\u001b[0m 378ms/step - accuracy: 0.9819 - loss: 0.5596 - val_accuracy: 0.6805 - val_loss: 1.4983 - learning_rate: 5.0000e-05\n",
      "Epoch 27/30\n",
      "\u001b[1m69/69\u001b[0m \u001b[32m━━━━━━━━━━━━━━━━━━━━\u001b[0m\u001b[37m\u001b[0m \u001b[1m26s\u001b[0m 378ms/step - accuracy: 0.9736 - loss: 0.5584 - val_accuracy: 0.6927 - val_loss: 1.5313 - learning_rate: 5.0000e-05\n",
      "Epoch 28/30\n",
      "\u001b[1m69/69\u001b[0m \u001b[32m━━━━━━━━━━━━━━━━━━━━\u001b[0m\u001b[37m\u001b[0m \u001b[1m27s\u001b[0m 385ms/step - accuracy: 0.9842 - loss: 0.5341 - val_accuracy: 0.6976 - val_loss: 1.4620 - learning_rate: 2.5000e-05\n",
      "Epoch 29/30\n",
      "\u001b[1m69/69\u001b[0m \u001b[32m━━━━━━━━━━━━━━━━━━━━\u001b[0m\u001b[37m\u001b[0m \u001b[1m26s\u001b[0m 379ms/step - accuracy: 0.9930 - loss: 0.5047 - val_accuracy: 0.6927 - val_loss: 1.4890 - learning_rate: 2.5000e-05\n",
      "Epoch 30/30\n",
      "\u001b[1m69/69\u001b[0m \u001b[32m━━━━━━━━━━━━━━━━━━━━\u001b[0m\u001b[37m\u001b[0m \u001b[1m26s\u001b[0m 379ms/step - accuracy: 0.9895 - loss: 0.5053 - val_accuracy: 0.6951 - val_loss: 1.4755 - learning_rate: 2.5000e-05\n",
      "test_gen batch videos shape: (24, 5, 128, 128, 3)\n",
      "test_gen batch labels shape: (24, 16)\n",
      "\u001b[1m22/22\u001b[0m \u001b[32m━━━━━━━━━━━━━━━━━━━━\u001b[0m\u001b[37m\u001b[0m \u001b[1m7s\u001b[0m 299ms/step - accuracy: 0.6844 - loss: 1.4914\n",
      "VGG19+LSTM Test Loss: 1.5069\n",
      "VGG19+LSTM Test Accuracy: 67.58%\n"
     ]
    }
   ],
   "source": [
    "# Inception\n",
    "gc.collect()\n",
    "tf.keras.backend.clear_session()\n",
    "print(\"Memory cleared before creating VGG19+LSTM model\")\n",
    "\n",
    "# Print TensorFlow version\n",
    "print(f\"TensorFlow version: {tf.__version__}\")\n",
    "\n",
    "\n",
    "# Pre-load VGG19 weights\n",
    "print(\"Pre-loading VGG19 weights...\")\n",
    "try:\n",
    "    base_model = InceptionResNetV2(weights='imagenet', include_top=False, input_shape=(IMAGE_HEIGHT, IMAGE_WIDTH, 3))\n",
    "    print(\"VGG19 weights loaded successfully!\")\n",
    "except Exception as e:\n",
    "    print(f\"Failed to load VGG19 weights: {str(e)}\")\n",
    "\n",
    "\n",
    "# Define function to create VGG19+LSTM model\n",
    "def create_model(sequence_length, image_height, image_width, classes_list=None, dropout_rate=0.5, base_model=None):\n",
    "   \n",
    "    \n",
    "    print(\"Creating VGG19+LSTM model with parameters:\")\n",
    "    print(f\"sequence_length: {sequence_length}, image_height: {image_height}, image_width: {image_width}, classes_list length: {len(classes_list) if classes_list is not None else None}, dropout_rate: {dropout_rate}\")\n",
    "    \n",
    "    if classes_list is None:\n",
    "        raise ValueError(\"classes_list must be provided to define the output layer size\")\n",
    "    if base_model is None:\n",
    "        raise ValueError(\"base_model must be provided to avoid re-downloading weights\")\n",
    "\n",
    "    try:\n",
    "        # Use the pre-loaded base model\n",
    "        # Freeze the base model for initial training\n",
    "        base_model.trainable = False\n",
    "\n",
    "        # Define the Sequential model\n",
    "        model = Sequential([\n",
    "            # TimeDistributed VGG19 model\n",
    "            TimeDistributed(\n",
    "                base_model,\n",
    "                input_shape=(sequence_length, image_height, image_width, 3),\n",
    "                name=\"time_distributed_vgg19\"\n",
    "            ),\n",
    "            # TimeDistributed GlobalAveragePooling2D\n",
    "            TimeDistributed(GlobalAveragePooling2D(), name=\"time_distributed_pooling\"),\n",
    "            # LSTM layer with 512 units\n",
    "            Bidirectional(LSTM(256, activation=\"tanh\", return_sequences=False, kernel_regularizer=l2(0.01), name=\"lstm_vgg19\")),\n",
    "            BatchNormalization(name=\"batch_normalization_vgg19\"),\n",
    "            # Dropout after LSTM\n",
    "            Dropout(dropout_rate, name=\"dropout_lstm_vgg19\"),\n",
    "            # Dense layer with 512 units\n",
    "            Dense(512, activation=\"relu\", kernel_regularizer=l2(0.01), name=\"dense_vgg19_1\"),\n",
    "            # Dropout after first Dense\n",
    "            Dropout(dropout_rate, name=\"dropout_dense_vgg19_1\"),\n",
    "            # Dense layer with 128 units\n",
    "            Dense(128, activation=\"relu\", kernel_regularizer=l2(0.01), name=\"dense_vgg19_2\"),\n",
    "            # Dropout after second Dense\n",
    "            Dropout(dropout_rate, name=\"dropout_dense_vgg19_2\"),\n",
    "            # Output Dense layer with softmax activation\n",
    "            Dense(len(classes_list), activation=\"softmax\", name=\"output_vgg19\")\n",
    "        ])\n",
    "\n",
    "        # Print model summary\n",
    "        print(\"VGG19+LSTM model architecture created successfully!\")\n",
    "        model.summary()\n",
    "\n",
    "        return model\n",
    "\n",
    "    except Exception as e:\n",
    "        print(f\"Error creating VGG19+LSTM model: {str(e)}\")\n",
    "        import traceback\n",
    "        traceback.print_exc()\n",
    "        return None\n",
    "\n",
    "\n",
    "# Create the VGG19+LSTM model using the pre-loaded base model\n",
    "inception_resnet_v2_model = create_model(\n",
    "    sequence_length=SEQUENCE_LENGTH,\n",
    "    image_height=IMAGE_HEIGHT,\n",
    "    image_width=IMAGE_WIDTH,\n",
    "    classes_list=CLASSES_LIST,\n",
    "    dropout_rate=DROPOUT_RATE,\n",
    "    base_model=base_model\n",
    ")\n",
    "\n",
    "# Check if inception_resnet_v2_model was created successfully\n",
    "if inception_resnet_v2_model is None:\n",
    "    raise ValueError(\"Failed to create VGG19+LSTM model. Check error messages above.\")\n",
    "else:\n",
    "    print(\"VGG19+LSTM Model Created Successfully!\")\n",
    "\n",
    "# Ensure labels_test is one-hot encoded\n",
    "if len(labels_test.shape) == 1:\n",
    "    print(\"Converting labels_test to one-hot encoded format...\")\n",
    "    labels_test = to_categorical(labels_test, num_classes=NO_OF_CLASSES)\n",
    "    print(f\"New labels_test shape: {labels_test.shape}\")\n",
    "\n",
    "# Compile the model for initial training\n",
    "early_stopping_callback = EarlyStopping(monitor='val_loss', patience=7, mode='min', restore_best_weights=True)\n",
    "lr_scheduler = ReduceLROnPlateau(monitor='val_loss', factor=0.5, patience=3, min_lr=1e-6)\n",
    "\n",
    "inception_resnet_v2_model.compile(\n",
    "    loss='categorical_crossentropy',\n",
    "    optimizer=tf.keras.optimizers.Adam(learning_rate=0.001),  # Higher learning rate for initial training\n",
    "    metrics=['accuracy']\n",
    ")\n",
    "\n",
    "# Initial training with frozen base model\n",
    "print(f\"Initial training started for VGG19+LSTM model with {len(train_gen.videos)} videos of {NO_OF_CLASSES} classes with {len(val_gen.videos)} videos for validation...\")\n",
    "try:\n",
    "    initial_inception_resnet_v2_model_history = inception_resnet_v2_model.fit(\n",
    "        train_gen.as_dataset(),\n",
    "        validation_data=val_gen.as_dataset(),\n",
    "        epochs=EPOCHS,\n",
    "        class_weight=class_weights,\n",
    "        callbacks=[early_stopping_callback, lr_scheduler]\n",
    "    )\n",
    "except Exception as e:\n",
    "    print(f\"Error during initial model training: {str(e)}\")\n",
    "    import traceback\n",
    "    traceback.print_exc()\n",
    "\n",
    "# Unfreeze some layers for fine-tuning\n",
    "base_model.trainable = True\n",
    "# Freeze all layers except the last 8 layers (consistent with previous VGG19 code)\n",
    "for layer in base_model.layers[:-8]:\n",
    "    layer.trainable = False\n",
    "\n",
    "# Recompile the model with a lower learning rate for fine-tuning\n",
    "inception_resnet_v2_model.compile(\n",
    "    loss='categorical_crossentropy',\n",
    "    optimizer=tf.keras.optimizers.Adam(learning_rate=0.0001),  # Lower learning rate for fine-tuning\n",
    "    metrics=['accuracy']\n",
    ")\n",
    "\n",
    "# Fine-tune the model\n",
    "print(f\"\\nFine-tuning started for VGG19+LSTM model with {len(train_gen.videos)} videos of {NO_OF_CLASSES} classes with {len(val_gen.videos)} videos for validation...\")\n",
    "try:\n",
    "    fine_tune_inception_resnet_v2_model_history = inception_resnet_v2_model.fit(\n",
    "        train_gen.as_dataset(),\n",
    "        validation_data=val_gen.as_dataset(),\n",
    "        epochs=EPOCHS,\n",
    "        class_weight=class_weights,\n",
    "        callbacks=[early_stopping_callback, lr_scheduler]\n",
    "    )\n",
    "except Exception as e:\n",
    "    print(f\"Error during fine-tuning: {str(e)}\")\n",
    "    import traceback\n",
    "    traceback.print_exc()\n",
    "\n",
    "\n",
    "\n",
    "videos, labels = test_gen[0]\n",
    "print(f\"test_gen batch videos shape: {videos.shape}\")\n",
    "print(f\"test_gen batch labels shape: {labels.shape}\")\n",
    "loss, accuracy = inception_resnet_v2_model.evaluate(test_gen.as_dataset())\n",
    "print(f'VGG19+LSTM Test Loss: {loss:.4f}')\n",
    "print(f'VGG19+LSTM Test Accuracy: {accuracy * 100:.2f}%')"
   ]
  },
  {
   "cell_type": "markdown",
   "id": "ccd30d73",
   "metadata": {
    "papermill": {
     "duration": 1.301345,
     "end_time": "2025-07-14T07:27:36.345132",
     "exception": false,
     "start_time": "2025-07-14T07:27:35.043787",
     "status": "completed"
    },
    "tags": []
   },
   "source": [
    "# Graph Curve"
   ]
  },
  {
   "cell_type": "code",
   "execution_count": 51,
   "id": "99c8d0f2",
   "metadata": {
    "execution": {
     "iopub.execute_input": "2025-07-14T07:27:38.943529Z",
     "iopub.status.busy": "2025-07-14T07:27:38.942968Z",
     "iopub.status.idle": "2025-07-14T07:27:38.946764Z",
     "shell.execute_reply": "2025-07-14T07:27:38.946226Z"
    },
    "papermill": {
     "duration": 1.303705,
     "end_time": "2025-07-14T07:27:38.947765",
     "exception": false,
     "start_time": "2025-07-14T07:27:37.644060",
     "status": "completed"
    },
    "tags": []
   },
   "outputs": [],
   "source": [
    "histories = [ fine_tune_inception_resnet_v2_model_history,\n",
    "             fine_tune_mobilenet_lstm_model_history,\n",
    "             fine_tune_inception_gru_model_history,\n",
    "             fine_tune_resnet50_gru_model_history,\n",
    "             fine_tune_xception_gru_model_history,\n",
    "             fine_tune_vgg19_gru_model_history,\n",
    "             fine_tune_vgg16_gru_model_history]\n",
    "labels = [\"InceptionResNetV2 + Bi-LSTM\", \n",
    "          \"MobileNetV2 + LSTM\", \n",
    "          \"InceptionV3 + LSTM\", \n",
    "          \"ResNet50 + GRU\", \n",
    "          \"Xception + GRU\", \n",
    "          \"VGG19 + GRU\",\n",
    "          \"VGG16 + GRU\"\n",
    "         ]"
   ]
  },
  {
   "cell_type": "code",
   "execution_count": 52,
   "id": "eadfb186",
   "metadata": {
    "execution": {
     "iopub.execute_input": "2025-07-14T07:27:41.484112Z",
     "iopub.status.busy": "2025-07-14T07:27:41.483659Z",
     "iopub.status.idle": "2025-07-14T07:27:41.488722Z",
     "shell.execute_reply": "2025-07-14T07:27:41.488190Z"
    },
    "papermill": {
     "duration": 1.229903,
     "end_time": "2025-07-14T07:27:41.489832",
     "exception": false,
     "start_time": "2025-07-14T07:27:40.259929",
     "status": "completed"
    },
    "tags": []
   },
   "outputs": [],
   "source": [
    "import matplotlib.pyplot as plt\n",
    "\n",
    "def plot(histories, labels, name=\"accuracy\"):\n",
    "    beingsaved = plt.figure(figsize=(10, 8))\n",
    "\n",
    "    combined = zip(histories, labels)\n",
    "    \n",
    "    for history, label in combined:\n",
    "        value = history.history[name]        \n",
    "        plt.plot(value, label=label)\n",
    "    \n",
    "    plt.xlabel('Epoch')\n",
    "    plt.ylabel(name.capitalize())\n",
    "    plt.legend()\n",
    "    \n",
    "    # Remove gap from the y-axis\n",
    "    plt.gca().margins(x=0)\n",
    "    \n",
    "    beingsaved.savefig(f'{name.capitalize()}.png', format='png', dpi=600, bbox_inches=\"tight\")\n",
    "    plt.show()\n"
   ]
  },
  {
   "cell_type": "markdown",
   "id": "6dd7198c",
   "metadata": {
    "papermill": {
     "duration": 1.34864,
     "end_time": "2025-07-14T07:27:44.138286",
     "exception": false,
     "start_time": "2025-07-14T07:27:42.789646",
     "status": "completed"
    },
    "tags": []
   },
   "source": [
    "## Accuracy"
   ]
  },
  {
   "cell_type": "code",
   "execution_count": 53,
   "id": "03ac1224",
   "metadata": {
    "execution": {
     "iopub.execute_input": "2025-07-14T07:27:46.652361Z",
     "iopub.status.busy": "2025-07-14T07:27:46.652090Z",
     "iopub.status.idle": "2025-07-14T07:27:48.589347Z",
     "shell.execute_reply": "2025-07-14T07:27:48.588601Z"
    },
    "papermill": {
     "duration": 3.155605,
     "end_time": "2025-07-14T07:27:48.590678",
     "exception": false,
     "start_time": "2025-07-14T07:27:45.435073",
     "status": "completed"
    },
    "tags": []
   },
   "outputs": [
    {
     "data": {
      "image/png": "[encoded data removed]",
      "text/plain": [
       "<Figure size 1000x800 with 1 Axes>"
      ]
     },
     "metadata": {},
     "output_type": "display_data"
    }
   ],
   "source": [
    "plot(histories=histories, \n",
    "     labels=labels, \n",
    "     name=\"accuracy\")"
   ]
  },
  {
   "cell_type": "markdown",
   "id": "c01bd5e7",
   "metadata": {
    "papermill": {
     "duration": 1.298812,
     "end_time": "2025-07-14T07:27:51.176588",
     "exception": false,
     "start_time": "2025-07-14T07:27:49.877776",
     "status": "completed"
    },
    "tags": []
   },
   "source": [
    "## Loss"
   ]
  },
  {
   "cell_type": "code",
   "execution_count": 54,
   "id": "283f437e",
   "metadata": {
    "execution": {
     "iopub.execute_input": "2025-07-14T07:27:53.922741Z",
     "iopub.status.busy": "2025-07-14T07:27:53.922457Z",
     "iopub.status.idle": "2025-07-14T07:27:55.586612Z",
     "shell.execute_reply": "2025-07-14T07:27:55.585944Z"
    },
    "papermill": {
     "duration": 3.074084,
     "end_time": "2025-07-14T07:27:55.588513",
     "exception": false,
     "start_time": "2025-07-14T07:27:52.514429",
     "status": "completed"
    },
    "tags": []
   },
   "outputs": [
    {
     "data": {
      "image/png": "[encoded data removed]",
      "text/plain": [
       "<Figure size 1000x800 with 1 Axes>"
      ]
     },
     "metadata": {},
     "output_type": "display_data"
    }
   ],
   "source": [
    "plot(histories=histories, \n",
    "     labels=labels, \n",
    "     name=\"loss\")"
   ]
  },
  {
   "cell_type": "markdown",
   "id": "7110cf0e",
   "metadata": {
    "papermill": {
     "duration": 1.296142,
     "end_time": "2025-07-14T07:27:58.176679",
     "exception": false,
     "start_time": "2025-07-14T07:27:56.880537",
     "status": "completed"
    },
    "tags": []
   },
   "source": [
    "## Validation Accuracy"
   ]
  },
  {
   "cell_type": "code",
   "execution_count": 55,
   "id": "c3d50bea",
   "metadata": {
    "execution": {
     "iopub.execute_input": "2025-07-14T07:28:00.709695Z",
     "iopub.status.busy": "2025-07-14T07:28:00.709425Z",
     "iopub.status.idle": "2025-07-14T07:28:02.411499Z",
     "shell.execute_reply": "2025-07-14T07:28:02.410824Z"
    },
    "papermill": {
     "duration": 2.919129,
     "end_time": "2025-07-14T07:28:02.413793",
     "exception": false,
     "start_time": "2025-07-14T07:27:59.494664",
     "status": "completed"
    },
    "tags": []
   },
   "outputs": [
    {
     "data": {
      "image/png": "[encoded data removed]",
      "text/plain": [
       "<Figure size 1000x800 with 1 Axes>"
      ]
     },
     "metadata": {},
     "output_type": "display_data"
    }
   ],
   "source": [
    "plot(histories=histories, \n",
    "     labels=labels, \n",
    "     name=\"val_accuracy\")"
   ]
  },
  {
   "cell_type": "markdown",
   "id": "858ff4cd",
   "metadata": {
    "papermill": {
     "duration": 1.306239,
     "end_time": "2025-07-14T07:28:05.039862",
     "exception": false,
     "start_time": "2025-07-14T07:28:03.733623",
     "status": "completed"
    },
    "tags": []
   },
   "source": [
    "## Validation Loss"
   ]
  },
  {
   "cell_type": "code",
   "execution_count": 56,
   "id": "ab31ddf2",
   "metadata": {
    "execution": {
     "iopub.execute_input": "2025-07-14T07:28:07.633629Z",
     "iopub.status.busy": "2025-07-14T07:28:07.633351Z",
     "iopub.status.idle": "2025-07-14T07:28:09.296497Z",
     "shell.execute_reply": "2025-07-14T07:28:09.295841Z"
    },
    "papermill": {
     "duration": 2.959832,
     "end_time": "2025-07-14T07:28:09.298215",
     "exception": false,
     "start_time": "2025-07-14T07:28:06.338383",
     "status": "completed"
    },
    "tags": []
   },
   "outputs": [
    {
     "data": {
      "image/png": "[encoded data removed]",
      "text/plain": [
       "<Figure size 1000x800 with 1 Axes>"
      ]
     },
     "metadata": {},
     "output_type": "display_data"
    }
   ],
   "source": [
    "plot(histories=histories, \n",
    "     labels=labels, \n",
    "     name=\"val_loss\")"
   ]
  }
 ],
 "metadata": {
  "kaggle": {
   "accelerator": "nvidiaTeslaT4",
   "dataSources": [
    {
     "datasetId": 1357563,
     "sourceId": 2256095,
     "sourceType": "datasetVersion"
    },
    {
     "datasetId": 7763484,
     "sourceId": 12338519,
     "sourceType": "datasetVersion"
    },
    {
     "datasetId": 7801555,
     "sourceId": 12373067,
     "sourceType": "datasetVersion"
    },
    {
     "datasetId": 7801884,
     "sourceId": 12373562,
     "sourceType": "datasetVersion"
    },
    {
     "datasetId": 7818195,
     "sourceId": 12397892,
     "sourceType": "datasetVersion"
    }
   ],
   "dockerImageVersionId": 31090,
   "isGpuEnabled": true,
   "isInternetEnabled": true,
   "language": "python",
   "sourceType": "notebook"
  },
  "kernelspec": {
   "display_name": "Python 3",
   "language": "python",
   "name": "python3"
  },
  "language_info": {
   "codemirror_mode": {
    "name": "ipython",
    "version": 3
   },
   "file_extension": ".py",
   "mimetype": "text/x-python",
   "name": "python",
   "nbconvert_exporter": "python",
   "pygments_lexer": "ipython3",
   "version": "3.11.13"
  },
  "papermill": {
   "default_parameters": {},
   "duration": 8593.606914,
   "end_time": "2025-07-14T07:28:13.977416",
   "environment_variables": {},
   "exception": null,
   "input_path": "__notebook__.ipynb",
   "output_path": "__notebook__.ipynb",
   "parameters": {},
   "start_time": "2025-07-14T05:05:00.370502",
   "version": "2.6.0"
  }
 },
 "nbformat": 4,
 "nbformat_minor": 5
}
